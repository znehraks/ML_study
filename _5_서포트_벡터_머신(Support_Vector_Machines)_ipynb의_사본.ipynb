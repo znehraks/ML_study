{
  "nbformat": 4,
  "nbformat_minor": 0,
  "metadata": {
    "colab": {
      "name": "_5 서포트 벡터 머신(Support Vector Machines).ipynb의 사본",
      "provenance": [],
      "collapsed_sections": [],
      "toc_visible": true,
      "include_colab_link": true
    },
    "kernelspec": {
      "name": "python3",
      "display_name": "Python 3"
    }
  },
  "cells": [
    {
      "cell_type": "markdown",
      "metadata": {
        "id": "view-in-github",
        "colab_type": "text"
      },
      "source": [
        "<a href=\"https://colab.research.google.com/github/znehraks/ML_study/blob/main/_5_%EC%84%9C%ED%8F%AC%ED%8A%B8_%EB%B2%A1%ED%84%B0_%EB%A8%B8%EC%8B%A0(Support_Vector_Machines)_ipynb%EC%9D%98_%EC%82%AC%EB%B3%B8.ipynb\" target=\"_parent\"><img src=\"https://colab.research.google.com/assets/colab-badge.svg\" alt=\"Open In Colab\"/></a>"
      ]
    },
    {
      "cell_type": "markdown",
      "metadata": {
        "id": "g63soNOvFUSa"
      },
      "source": [
        "# 서포트 벡터 머신(Support Vector Machines)"
      ]
    },
    {
      "cell_type": "markdown",
      "metadata": {
        "id": "Rrbp02Mk5CDA"
      },
      "source": [
        "* 회귀, 분류, 이상치 탐지 등에 사용되는 지도학습 방법\n",
        "* 클래스 사이의 경계에 위치한 데이터 포인트를 서포트 벡터(support vector)라고 함\n",
        "* 각 지지 벡터가 클래스 사이의 결정 경계를 구분하는데 얼마나 중요한지를 학습\n",
        "* 각 지지 벡터 사이의 마진이 가장 큰 방향으로 학습\n",
        "* 지지 벡터 까지의 거리와 지지 벡터의 중요도를 기반으로 예측을 수행\n",
        "\n",
        "![support vector machine](https://upload.wikimedia.org/wikipedia/commons/thumb/2/20/Svm_separating_hyperplanes.png/220px-Svm_separating_hyperplanes.png)\n",
        "\n",
        "* H3은 두 클래스의 점들을 제대로 분류하고 있지 않음\n",
        "* H1과 H2는 두 클래스의 점들을 분류하는데, H2가 H1보다 더 큰 마진을 갖고 분류하는 것을 확인할 수 있음"
      ]
    },
    {
      "cell_type": "code",
      "metadata": {
        "id": "zBilnkAn4_U3"
      },
      "source": [
        "import multiprocessing\n",
        "import pandas as pd\n",
        "import numpy as np\n",
        "import matplotlib.pyplot as plt\n",
        "plt.style.use(['seaborn-whitegrid'])"
      ],
      "execution_count": 1,
      "outputs": []
    },
    {
      "cell_type": "code",
      "metadata": {
        "id": "1YRJRPy6hTe0"
      },
      "source": [
        "from sklearn.svm import SVR,SVC\n",
        "from sklearn.datasets import load_boston, load_diabetes\n",
        "from sklearn.datasets import load_breast_cancer, load_iris, load_wine\n",
        "from sklearn.pipeline import make_pipeline, Pipeline\n",
        "from sklearn.model_selection import train_test_split, cross_validate, GridSearchCV\n",
        "from sklearn.preprocessing import StandardScaler, MinMaxScaler\n",
        "from sklearn.manifold import TSNE"
      ],
      "execution_count": 3,
      "outputs": []
    },
    {
      "cell_type": "markdown",
      "metadata": {
        "id": "UxS0mPsCh4l0"
      },
      "source": [
        "## SVM을 이용한 회귀 모델과 분류 모델"
      ]
    },
    {
      "cell_type": "markdown",
      "metadata": {
        "id": "NTtcx3p8wtNX"
      },
      "source": [
        "### SVM을 사용한 회귀 모델 (SVR)"
      ]
    },
    {
      "cell_type": "code",
      "metadata": {
        "id": "sCrhSrMf5BqB",
        "colab": {
          "base_uri": "https://localhost:8080/"
        },
        "outputId": "651cf957-bf34-4cbe-ebec-7310ac261a74"
      },
      "source": [
        "X, y= load_boston(return_X_y=True)\n",
        "X_train, X_test, y_train, y_test = train_test_split(X, y, random_state=123)\n",
        "\n",
        "model = SVR()\n",
        "model.fit(X_train, y_train)\n",
        "\n",
        "print(\"학습 데이터 점수: {}\".format(model.score(X_train, y_train)))\n",
        "print(\"평가 데이터 점수: {}\".format(model.score(X_test, y_test)))"
      ],
      "execution_count": 4,
      "outputs": [
        {
          "output_type": "stream",
          "text": [
            "학습 데이터 점수: 0.2177283706374875\n",
            "평가 데이터 점수: 0.13544178468518187\n"
          ],
          "name": "stdout"
        }
      ]
    },
    {
      "cell_type": "markdown",
      "metadata": {
        "id": "CQraX6MzwvtE"
      },
      "source": [
        "### SVM을 사용한 분류 모델 (SVC)"
      ]
    },
    {
      "cell_type": "code",
      "metadata": {
        "id": "bnh5fS8gFbtK",
        "colab": {
          "base_uri": "https://localhost:8080/"
        },
        "outputId": "740ed909-37ce-4a4b-b15b-a2de64f9eea3"
      },
      "source": [
        "X, y= load_breast_cancer(return_X_y=True)\n",
        "X_train, X_test, y_train, y_test = train_test_split(X, y, random_state=123)\n",
        "\n",
        "model = SVC()\n",
        "model.fit(X_train, y_train)\n",
        "\n",
        "print(\"학습 데이터 점수: {}\".format(model.score(X_train, y_train)))\n",
        "print(\"평가 데이터 점수: {}\".format(model.score(X_test, y_test)))"
      ],
      "execution_count": 5,
      "outputs": [
        {
          "output_type": "stream",
          "text": [
            "학습 데이터 점수: 0.9014084507042254\n",
            "평가 데이터 점수: 0.9230769230769231\n"
          ],
          "name": "stdout"
        }
      ]
    },
    {
      "cell_type": "markdown",
      "metadata": {
        "id": "zgd_dvKrGeFh"
      },
      "source": [
        "## 커널 기법\n",
        "\n",
        "* 입력 데이터를 고차원 공간에 사상해서 비선형 특징을 학습할 수 있도록 확장하는 방법\n",
        "* scikit-learn에서는 Linear, Polynomial, RBF(Radial Basis Function)등 다양한 커널 기법을 지원\n",
        "\n",
        "![kernel trick](https://scikit-learn.org/stable/_images/sphx_glr_plot_iris_svc_0011.png)"
      ]
    },
    {
      "cell_type": "code",
      "metadata": {
        "id": "Azq1UJtZF8sU",
        "colab": {
          "base_uri": "https://localhost:8080/"
        },
        "outputId": "0e4be6fb-891c-4cb0-be46-cc8445838928"
      },
      "source": [
        "X, y =load_boston(return_X_y=True)\n",
        "X_train, X_test, y_train, y_test = train_test_split(X,y,random_state=123)\n",
        "\n",
        "linear_svr = SVR(kernel='linear')\n",
        "linear_svr.fit(X_train, y_train)\n",
        "\n",
        "print(\"Linear SVR 학습 데이터 점수: {}\".format(linear_svr.score(X_train, y_train)))\n",
        "print(\"Linear SVR 평가 데이터 점수: {}\".format(linear_svr.score(X_test, y_test)))\n",
        "\n",
        "polynomial_svr = SVR(kernel='poly')\n",
        "polynomial_svr.fit(X_train, y_train)\n",
        "\n",
        "print(\"Polynomial SVR 학습 데이터 점수: {}\".format(polynomial_svr.score(X_train, y_train)))\n",
        "print(\"Polynomial SVR 평가 데이터 점수: {}\".format(polynomial_svr.score(X_test, y_test)))\n",
        "\n",
        "rbf_svr = SVR(kernel='rbf')\n",
        "rbf_svr.fit(X_train, y_train)\n",
        "\n",
        "print(\"RBF SVR 학습 데이터 점수: {}\".format(rbf_svr.score(X_train, y_train)))\n",
        "print(\"RBF SVR 평가 데이터 점수: {}\".format(rbf_svr.score(X_test, y_test)))"
      ],
      "execution_count": 26,
      "outputs": [
        {
          "output_type": "stream",
          "text": [
            "Linear SVR 학습 데이터 점수: 0.715506620496448\n",
            "Linear SVR 평가 데이터 점수: 0.6380398541506058\n",
            "Polynomial SVR 학습 데이터 점수: 0.2024454261446289\n",
            "Polynomial SVR 평가 데이터 점수: 0.133668450367462\n",
            "RBF SVR 학습 데이터 점수: 0.2177283706374875\n",
            "RBF SVR 평가 데이터 점수: 0.13544178468518187\n"
          ],
          "name": "stdout"
        }
      ]
    },
    {
      "cell_type": "code",
      "metadata": {
        "id": "KuvRIzarJO0H",
        "colab": {
          "base_uri": "https://localhost:8080/"
        },
        "outputId": "4c406bdf-23de-47bb-b920-a6c5207ab9e3"
      },
      "source": [
        "X, y =load_breast_cancer(return_X_y=True)\n",
        "X_train, X_test, y_train, y_test = train_test_split(X,y,random_state=123)\n",
        "\n",
        "linear_svc = SVC(kernel='linear')\n",
        "linear_svc.fit(X_train, y_train)\n",
        "\n",
        "print(\"Linear SVC 학습 데이터 점수: {}\".format(linear_svc.score(X_train, y_train)))\n",
        "print(\"Linear SVC 평가 데이터 점수: {}\".format(linear_svc.score(X_test, y_test)))\n",
        "\n",
        "polynomial_svc = SVC(kernel='poly')\n",
        "polynomial_svc.fit(X_train, y_train)\n",
        "\n",
        "print(\"Polynomial SVC 학습 데이터 점수: {}\".format(polynomial_svc.score(X_train, y_train)))\n",
        "print(\"Polynomial SVC 평가 데이터 점수: {}\".format(polynomial_svc.score(X_test, y_test)))\n",
        "\n",
        "rbf_svc = SVC(kernel='rbf')\n",
        "rbf_svc.fit(X_train, y_train)\n",
        "\n",
        "print(\"RBF SVC 학습 데이터 점수: {}\".format(rbf_svc.score(X_train, y_train)))\n",
        "print(\"RBF SVC 평가 데이터 점수: {}\".format(rbf_svc.score(X_test, y_test)))"
      ],
      "execution_count": 27,
      "outputs": [
        {
          "output_type": "stream",
          "text": [
            "Linear SVC 학습 데이터 점수: 0.960093896713615\n",
            "Linear SVC 평가 데이터 점수: 0.986013986013986\n",
            "Polynomial SVC 학습 데이터 점수: 0.9014084507042254\n",
            "Polynomial SVC 평가 데이터 점수: 0.9230769230769231\n",
            "RBF SVC 학습 데이터 점수: 0.9014084507042254\n",
            "RBF SVC 평가 데이터 점수: 0.9230769230769231\n"
          ],
          "name": "stdout"
        }
      ]
    },
    {
      "cell_type": "markdown",
      "metadata": {
        "id": "ysbUu5o3Lm2V"
      },
      "source": [
        "## 매개변수 튜닝\n",
        "\n",
        "* SVM은 사용하는 커널에 따라 다양한 매개변수 설정 가능\n",
        "* 매개변수를 변경하면서 성능변화를 관찰"
      ]
    },
    {
      "cell_type": "code",
      "metadata": {
        "id": "JyCxM4abOZyO"
      },
      "source": [
        "X, y =load_breast_cancer(return_X_y=True)\n",
        "X_train, X_test, y_train, y_test = train_test_split(X,y,random_state=123)"
      ],
      "execution_count": 13,
      "outputs": []
    },
    {
      "cell_type": "code",
      "metadata": {
        "id": "QN4BSxiaJspb",
        "colab": {
          "base_uri": "https://localhost:8080/"
        },
        "outputId": "ebb2821e-e9fc-4b41-8c91-ea88c3e0973c"
      },
      "source": [
        "polynomial_svc = SVC(kernel='poly', degree=2, C=0.1, gamma='auto')\n",
        "polynomial_svc.fit(X_train, y_train)\n",
        "\n",
        "print(\"kernel = poly, degree={}, C={}, gamma={}\".format(2, 0.1, 'auto'))\n",
        "\n",
        "print(\"Polynomial SVC 학습 데이터 점수: {}\".format(polynomial_svc.score(X_train, y_train)))\n",
        "print(\"Polynomial SVC 평가 데이터 점수: {}\".format(polynomial_svc.score(X_test, y_test)))"
      ],
      "execution_count": 28,
      "outputs": [
        {
          "output_type": "stream",
          "text": [
            "kernel = poly, degree=2, C=0.1, gamma=auto\n",
            "Polynomial SVC 학습 데이터 점수: 0.9835680751173709\n",
            "Polynomial SVC 평가 데이터 점수: 0.993006993006993\n"
          ],
          "name": "stdout"
        }
      ]
    },
    {
      "cell_type": "code",
      "metadata": {
        "id": "P7hOhO1oOvVC",
        "colab": {
          "base_uri": "https://localhost:8080/"
        },
        "outputId": "5f5a61b8-bc9e-403f-c02f-2af0f847ce38"
      },
      "source": [
        "rbf_svc = SVC(kernel='rbf', C=2.0, gamma='scale')\n",
        "rbf_svc.fit(X_train, y_train)\n",
        "\n",
        "print(\"kernel = poly,  C={}, gamma={}\".format(2.0, 'auto'))\n",
        "\n",
        "print(\"RBF SVC 학습 데이터 점수: {}\".format(rbf_svc.score(X_train, y_train)))\n",
        "print(\"RBF SVC 평가 데이터 점수: {}\".format(rbf_svc.score(X_test, y_test)))"
      ],
      "execution_count": 29,
      "outputs": [
        {
          "output_type": "stream",
          "text": [
            "kernel = poly,  C=2.0, gamma=auto\n",
            "RBF SVC 학습 데이터 점수: 0.9154929577464789\n",
            "RBF SVC 평가 데이터 점수: 0.9370629370629371\n"
          ],
          "name": "stdout"
        }
      ]
    },
    {
      "cell_type": "markdown",
      "metadata": {
        "id": "aEQL8h8WU0An"
      },
      "source": [
        "## 데이터 전처리\n",
        "\n",
        "* SVM은 입력 데이터가 정규화 되어야 좋은 성능을 보임\n",
        "* 주로 모든 특성 값을 [0, 1] 범위로 맞추는 방법을 사용\n",
        "* scikit-learn의 StandardScaler 또는 MinMaxScaler를 사용해 정규화"
      ]
    },
    {
      "cell_type": "code",
      "metadata": {
        "id": "RujhqUOsVU73"
      },
      "source": [
        "X, y =load_breast_cancer(return_X_y=True)\n",
        "X_train, X_test, y_train, y_test = train_test_split(X,y,random_state=123)"
      ],
      "execution_count": 24,
      "outputs": []
    },
    {
      "cell_type": "code",
      "metadata": {
        "id": "DWau9A6UWds4",
        "colab": {
          "base_uri": "https://localhost:8080/"
        },
        "outputId": "713acd68-6999-4813-91f8-ed968cb667da"
      },
      "source": [
        "model = SVC()\n",
        "model.fit(X_train, y_train)\n",
        "\n",
        "print(\"SVC 학습 데이터 점수: {}\".format(model.score(X_train, y_train)))\n",
        "print(\"SVC 평가 데이터 점수: {}\".format(model.score(X_test, y_test)))"
      ],
      "execution_count": 30,
      "outputs": [
        {
          "output_type": "stream",
          "text": [
            "SVC 학습 데이터 점수: 0.9014084507042254\n",
            "SVC 평가 데이터 점수: 0.9230769230769231\n"
          ],
          "name": "stdout"
        }
      ]
    },
    {
      "cell_type": "code",
      "metadata": {
        "id": "y_ScHENS0ssY"
      },
      "source": [
        "scaler = StandardScaler()\n",
        "X_train = scaler.fit_transform(X_train)\n",
        "X_test = scaler.transform(X_test)"
      ],
      "execution_count": 32,
      "outputs": []
    },
    {
      "cell_type": "code",
      "metadata": {
        "id": "R2_4R6JE0ssi",
        "colab": {
          "base_uri": "https://localhost:8080/"
        },
        "outputId": "fdab6e69-5151-4f2d-9ec0-ff9781459841"
      },
      "source": [
        "model = SVC()\n",
        "model.fit(X_train, y_train)\n",
        "\n",
        "print(\"SVC 학습 데이터 점수: {}\".format(model.score(X_train, y_train)))\n",
        "print(\"SVC 평가 데이터 점수: {}\".format(model.score(X_test, y_test)))"
      ],
      "execution_count": 33,
      "outputs": [
        {
          "output_type": "stream",
          "text": [
            "SVC 학습 데이터 점수: 0.9835680751173709\n",
            "SVC 평가 데이터 점수: 0.986013986013986\n"
          ],
          "name": "stdout"
        }
      ]
    },
    {
      "cell_type": "code",
      "metadata": {
        "id": "_EVkj33WVQOu"
      },
      "source": [
        "scaler = MinMaxScaler()\n",
        "X_train = scaler.fit_transform(X_train)\n",
        "X_test = scaler.transform(X_test)"
      ],
      "execution_count": 34,
      "outputs": []
    },
    {
      "cell_type": "code",
      "metadata": {
        "id": "D7Kj3q_bVmeN",
        "colab": {
          "base_uri": "https://localhost:8080/"
        },
        "outputId": "0f205d5d-94d6-4144-a8ec-2e876859f109"
      },
      "source": [
        "model = SVC()\n",
        "model.fit(X_train, y_train)\n",
        "\n",
        "print(\"SVC 학습 데이터 점수: {}\".format(model.score(X_train, y_train)))\n",
        "print(\"SVC 평가 데이터 점수: {}\".format(model.score(X_test, y_test)))"
      ],
      "execution_count": 35,
      "outputs": [
        {
          "output_type": "stream",
          "text": [
            "SVC 학습 데이터 점수: 0.9812206572769953\n",
            "SVC 평가 데이터 점수: 0.986013986013986\n"
          ],
          "name": "stdout"
        }
      ]
    },
    {
      "cell_type": "markdown",
      "metadata": {
        "id": "zLjtZC7gYr7R"
      },
      "source": [
        "## Linear SVR"
      ]
    },
    {
      "cell_type": "markdown",
      "metadata": {
        "id": "tbZicmjAZBZp"
      },
      "source": [
        "### 보스턴 주택 가격"
      ]
    },
    {
      "cell_type": "code",
      "metadata": {
        "id": "X39InXCSYuPf"
      },
      "source": [
        "X, y = load_boston(return_X_y=True)\n",
        "X_train, X_test, y_train, y_test = train_test_split(X,y,test_size=0.2)"
      ],
      "execution_count": 36,
      "outputs": []
    },
    {
      "cell_type": "code",
      "metadata": {
        "id": "I1TKwSKhdLaU"
      },
      "source": [
        "scaler = StandardScaler()\n",
        "scaler.fit(X_train)\n",
        "X_train = scaler.transform(X_train)\n",
        "X_test = scaler.transform(X_test)"
      ],
      "execution_count": 37,
      "outputs": []
    },
    {
      "cell_type": "code",
      "metadata": {
        "id": "deIvkeKRZqTU",
        "colab": {
          "base_uri": "https://localhost:8080/"
        },
        "outputId": "a1255232-16d2-4782-8570-67f09be9ea86"
      },
      "source": [
        "model = SVR(kernel='linear')\n",
        "model.fit(X_train, y_train)"
      ],
      "execution_count": 38,
      "outputs": [
        {
          "output_type": "execute_result",
          "data": {
            "text/plain": [
              "SVR(C=1.0, cache_size=200, coef0=0.0, degree=3, epsilon=0.1, gamma='scale',\n",
              "    kernel='linear', max_iter=-1, shrinking=True, tol=0.001, verbose=False)"
            ]
          },
          "metadata": {
            "tags": []
          },
          "execution_count": 38
        }
      ]
    },
    {
      "cell_type": "code",
      "metadata": {
        "id": "zEknoMb5aRBt",
        "colab": {
          "base_uri": "https://localhost:8080/"
        },
        "outputId": "fd5d2019-f7f3-46b8-e497-99179df4158a"
      },
      "source": [
        "print(\"학습 데이터 점수: {}\".format(model.score(X_train, y_train)))\n",
        "print(\"평가 데이터 점수: {}\".format(model.score(X_test, y_test)))"
      ],
      "execution_count": 40,
      "outputs": [
        {
          "output_type": "stream",
          "text": [
            "학습 데이터 점수: 0.7205189778457418\n",
            "평가 데이터 점수: 0.630824891370958\n"
          ],
          "name": "stdout"
        }
      ]
    },
    {
      "cell_type": "code",
      "metadata": {
        "id": "S3ipWjbFiete",
        "colab": {
          "base_uri": "https://localhost:8080/",
          "height": 280
        },
        "outputId": "ef3542d4-0546-4212-9efc-b700ec0425cd"
      },
      "source": [
        "X_comp = TSNE(n_components=1).fit_transform(X)\n",
        "plt.scatter(X_comp, y)"
      ],
      "execution_count": 41,
      "outputs": [
        {
          "output_type": "execute_result",
          "data": {
            "text/plain": [
              "<matplotlib.collections.PathCollection at 0x7f116cfdfe50>"
            ]
          },
          "metadata": {
            "tags": []
          },
          "execution_count": 41
        },
        {
          "output_type": "display_data",
          "data": {
            "image/png": "[encoded data removed]",
            "text/plain": [
              "<Figure size 432x288 with 1 Axes>"
            ]
          },
          "metadata": {
            "tags": [],
            "needs_background": "light"
          }
        }
      ]
    },
    {
      "cell_type": "code",
      "metadata": {
        "id": "IqLc69hojcIr",
        "colab": {
          "base_uri": "https://localhost:8080/",
          "height": 280
        },
        "outputId": "0a156a5e-73e7-402f-e93d-df60261383d3"
      },
      "source": [
        "model.fit(X_comp, y)\n",
        "predict = model.predict(X_comp)\n",
        "plt.scatter(X_comp, y)\n",
        "plt.scatter(X_comp, predict, color='r')"
      ],
      "execution_count": 43,
      "outputs": [
        {
          "output_type": "execute_result",
          "data": {
            "text/plain": [
              "<matplotlib.collections.PathCollection at 0x7f116cdf5bd0>"
            ]
          },
          "metadata": {
            "tags": []
          },
          "execution_count": 43
        },
        {
          "output_type": "display_data",
          "data": {
            "image/png": "[encoded data removed]",
            "text/plain": [
              "<Figure size 432x288 with 1 Axes>"
            ]
          },
          "metadata": {
            "tags": [],
            "needs_background": "light"
          }
        }
      ]
    },
    {
      "cell_type": "code",
      "metadata": {
        "id": "YzGeXLmZbGY7",
        "colab": {
          "base_uri": "https://localhost:8080/"
        },
        "outputId": "ceaf20c8-bad7-466d-c138-825e8c434c4f"
      },
      "source": [
        "estimator = make_pipeline(StandardScaler(), SVR(kernel='linear'))\n",
        "\n",
        "cross_validate(\n",
        "    estimator=estimator,\n",
        "    X=X, y=y,\n",
        "    cv=5,\n",
        "    n_jobs = multiprocessing.cpu_count(),\n",
        "    verbose=True\n",
        ")"
      ],
      "execution_count": 44,
      "outputs": [
        {
          "output_type": "stream",
          "text": [
            "[Parallel(n_jobs=2)]: Using backend LokyBackend with 2 concurrent workers.\n",
            "[Parallel(n_jobs=2)]: Done   5 out of   5 | elapsed:    1.1s finished\n"
          ],
          "name": "stderr"
        },
        {
          "output_type": "execute_result",
          "data": {
            "text/plain": [
              "{'fit_time': array([0.02902365, 0.02849221, 0.02658796, 0.02640748, 0.02543044]),\n",
              " 'score_time': array([0.0023129 , 0.0021956 , 0.00211287, 0.00215006, 0.00136089]),\n",
              " 'test_score': array([0.76908568, 0.72180141, 0.56428426, 0.14083339, 0.07810211])}"
            ]
          },
          "metadata": {
            "tags": []
          },
          "execution_count": 44
        }
      ]
    },
    {
      "cell_type": "code",
      "metadata": {
        "id": "Hfo2Z6T5jo73",
        "colab": {
          "base_uri": "https://localhost:8080/"
        },
        "outputId": "93b24601-7bec-4171-bd0b-b4ee5bc0eb53"
      },
      "source": [
        "pipe = Pipeline([('scaler', StandardScaler()),\n",
        "                 ('model', SVR(kernel='linear'))])\n",
        "\n",
        "param_grid = [{'model__gamma': ['scale', 'auto'],\n",
        "               'model__C' : [1.0,0.1,0.01],\n",
        "               'model__epsilon': [1.0,0.1,0.01]}]\n",
        "\n",
        "gs = GridSearchCV(\n",
        "    estimator=pipe,\n",
        "    param_grid = param_grid,\n",
        "    n_jobs = multiprocessing.cpu_count(),\n",
        "    cv=5,\n",
        "    verbose=True\n",
        ")\n",
        "\n",
        "gs.fit(X,y)"
      ],
      "execution_count": 46,
      "outputs": [
        {
          "output_type": "stream",
          "text": [
            "Fitting 5 folds for each of 18 candidates, totalling 90 fits\n"
          ],
          "name": "stdout"
        },
        {
          "output_type": "stream",
          "text": [
            "[Parallel(n_jobs=2)]: Using backend LokyBackend with 2 concurrent workers.\n",
            "[Parallel(n_jobs=2)]: Done  90 out of  90 | elapsed:    1.1s finished\n"
          ],
          "name": "stderr"
        },
        {
          "output_type": "execute_result",
          "data": {
            "text/plain": [
              "GridSearchCV(cv=5, error_score=nan,\n",
              "             estimator=Pipeline(memory=None,\n",
              "                                steps=[('scaler',\n",
              "                                        StandardScaler(copy=True,\n",
              "                                                       with_mean=True,\n",
              "                                                       with_std=True)),\n",
              "                                       ('model',\n",
              "                                        SVR(C=1.0, cache_size=200, coef0=0.0,\n",
              "                                            degree=3, epsilon=0.1,\n",
              "                                            gamma='scale', kernel='linear',\n",
              "                                            max_iter=-1, shrinking=True,\n",
              "                                            tol=0.001, verbose=False))],\n",
              "                                verbose=False),\n",
              "             iid='deprecated', n_jobs=2,\n",
              "             param_grid=[{'model__C': [1.0, 0.1, 0.01],\n",
              "                          'model__epsilon': [1.0, 0.1, 0.01],\n",
              "                          'model__gamma': ['scale', 'auto']}],\n",
              "             pre_dispatch='2*n_jobs', refit=True, return_train_score=False,\n",
              "             scoring=None, verbose=True)"
            ]
          },
          "metadata": {
            "tags": []
          },
          "execution_count": 46
        }
      ]
    },
    {
      "cell_type": "code",
      "metadata": {
        "id": "G1BG0w50iUNF",
        "colab": {
          "base_uri": "https://localhost:8080/"
        },
        "outputId": "f007ecf3-28ed-42b0-b3c9-58ec663f48dc"
      },
      "source": [
        "gs.best_estimator_"
      ],
      "execution_count": 47,
      "outputs": [
        {
          "output_type": "execute_result",
          "data": {
            "text/plain": [
              "Pipeline(memory=None,\n",
              "         steps=[('scaler',\n",
              "                 StandardScaler(copy=True, with_mean=True, with_std=True)),\n",
              "                ('model',\n",
              "                 SVR(C=0.1, cache_size=200, coef0=0.0, degree=3, epsilon=1.0,\n",
              "                     gamma='scale', kernel='linear', max_iter=-1,\n",
              "                     shrinking=True, tol=0.001, verbose=False))],\n",
              "         verbose=False)"
            ]
          },
          "metadata": {
            "tags": []
          },
          "execution_count": 47
        }
      ]
    },
    {
      "cell_type": "markdown",
      "metadata": {
        "id": "Tlmsj9sHlB_i"
      },
      "source": [
        "### 당뇨병"
      ]
    },
    {
      "cell_type": "code",
      "metadata": {
        "id": "_bvG0mYMVcYu"
      },
      "source": [
        "X, y = load_diabetes(return_X_y=True)\n",
        "X_train, X_test, y_train, y_test = train_test_split(X,y,test_size=0.2)"
      ],
      "execution_count": 48,
      "outputs": []
    },
    {
      "cell_type": "code",
      "metadata": {
        "id": "t5K8clfIVcY0"
      },
      "source": [
        "scaler = StandardScaler()\n",
        "scaler.fit(X_train)\n",
        "X_train = scaler.transform(X_train)\n",
        "X_test = scaler.transform(X_test)"
      ],
      "execution_count": 49,
      "outputs": []
    },
    {
      "cell_type": "code",
      "metadata": {
        "colab": {
          "base_uri": "https://localhost:8080/"
        },
        "id": "BNKvpcdoVcY0",
        "outputId": "a127f24e-d794-4978-8e0c-20b2fbef7a66"
      },
      "source": [
        "model = SVR(kernel='linear')\n",
        "model.fit(X_train, y_train)"
      ],
      "execution_count": 50,
      "outputs": [
        {
          "output_type": "execute_result",
          "data": {
            "text/plain": [
              "SVR(C=1.0, cache_size=200, coef0=0.0, degree=3, epsilon=0.1, gamma='scale',\n",
              "    kernel='linear', max_iter=-1, shrinking=True, tol=0.001, verbose=False)"
            ]
          },
          "metadata": {
            "tags": []
          },
          "execution_count": 50
        }
      ]
    },
    {
      "cell_type": "code",
      "metadata": {
        "colab": {
          "base_uri": "https://localhost:8080/"
        },
        "id": "hfBodwifVcY1",
        "outputId": "32cb3a45-1bbc-4d3f-ce52-58b46e8f9e9a"
      },
      "source": [
        "print(\"학습 데이터 점수: {}\".format(model.score(X_train, y_train)))\n",
        "print(\"평가 데이터 점수: {}\".format(model.score(X_test, y_test)))"
      ],
      "execution_count": 51,
      "outputs": [
        {
          "output_type": "stream",
          "text": [
            "학습 데이터 점수: 0.48908475717960953\n",
            "평가 데이터 점수: 0.5550770296007375\n"
          ],
          "name": "stdout"
        }
      ]
    },
    {
      "cell_type": "code",
      "metadata": {
        "colab": {
          "base_uri": "https://localhost:8080/",
          "height": 280
        },
        "id": "gj7X4LobVcY2",
        "outputId": "9ad0c65c-f9a0-4265-8a0f-491b9640a026"
      },
      "source": [
        "X_comp = TSNE(n_components=1).fit_transform(X)\n",
        "plt.scatter(X_comp, y)"
      ],
      "execution_count": 52,
      "outputs": [
        {
          "output_type": "execute_result",
          "data": {
            "text/plain": [
              "<matplotlib.collections.PathCollection at 0x7f116782a3d0>"
            ]
          },
          "metadata": {
            "tags": []
          },
          "execution_count": 52
        },
        {
          "output_type": "display_data",
          "data": {
            "image/png": "[encoded data removed]",
            "text/plain": [
              "<Figure size 432x288 with 1 Axes>"
            ]
          },
          "metadata": {
            "tags": [],
            "needs_background": "light"
          }
        }
      ]
    },
    {
      "cell_type": "code",
      "metadata": {
        "colab": {
          "base_uri": "https://localhost:8080/",
          "height": 280
        },
        "id": "broQG_SgVcY2",
        "outputId": "17fff394-8101-4fcb-d31a-46cc280ae05d"
      },
      "source": [
        "model.fit(X_comp, y)\n",
        "predict = model.predict(X_comp)\n",
        "plt.scatter(X_comp, y)\n",
        "plt.scatter(X_comp, predict, color='r')"
      ],
      "execution_count": 53,
      "outputs": [
        {
          "output_type": "execute_result",
          "data": {
            "text/plain": [
              "<matplotlib.collections.PathCollection at 0x7f1167790290>"
            ]
          },
          "metadata": {
            "tags": []
          },
          "execution_count": 53
        },
        {
          "output_type": "display_data",
          "data": {
            "image/png": "[encoded data removed]",
            "text/plain": [
              "<Figure size 432x288 with 1 Axes>"
            ]
          },
          "metadata": {
            "tags": [],
            "needs_background": "light"
          }
        }
      ]
    },
    {
      "cell_type": "code",
      "metadata": {
        "colab": {
          "base_uri": "https://localhost:8080/"
        },
        "id": "mB6Hd4HWVcY3",
        "outputId": "c3e76a1b-4521-4f06-e7e9-31872b30b419"
      },
      "source": [
        "estimator = make_pipeline(StandardScaler(), SVR(kernel='linear'))\n",
        "\n",
        "cross_validate(\n",
        "    estimator=estimator,\n",
        "    X=X, y=y,\n",
        "    cv=5,\n",
        "    n_jobs = multiprocessing.cpu_count(),\n",
        "    verbose=True\n",
        ")"
      ],
      "execution_count": 54,
      "outputs": [
        {
          "output_type": "stream",
          "text": [
            "[Parallel(n_jobs=2)]: Using backend LokyBackend with 2 concurrent workers.\n",
            "[Parallel(n_jobs=2)]: Done   5 out of   5 | elapsed:    0.8s finished\n"
          ],
          "name": "stderr"
        },
        {
          "output_type": "execute_result",
          "data": {
            "text/plain": [
              "{'fit_time': array([0.02182436, 0.01239681, 0.01091361, 0.01119041, 0.01169014]),\n",
              " 'score_time': array([0.00182438, 0.00189805, 0.00172257, 0.00185299, 0.00117803]),\n",
              " 'test_score': array([0.43037242, 0.51653341, 0.48275332, 0.42247202, 0.53076481])}"
            ]
          },
          "metadata": {
            "tags": []
          },
          "execution_count": 54
        }
      ]
    },
    {
      "cell_type": "code",
      "metadata": {
        "colab": {
          "base_uri": "https://localhost:8080/"
        },
        "id": "PGqxTvFTVcY3",
        "outputId": "e311c63e-f64b-40cd-fdd5-c97f9dffd462"
      },
      "source": [
        "pipe = Pipeline([('scaler', StandardScaler()),\n",
        "                 ('model', SVR(kernel='linear'))])\n",
        "\n",
        "param_grid = [{'model__gamma': ['scale', 'auto'],\n",
        "               'model__C' : [1.0,0.1,0.01],\n",
        "               'model__epsilon': [1.0,0.1,0.01]}]\n",
        "\n",
        "gs = GridSearchCV(\n",
        "    estimator=pipe,\n",
        "    param_grid = param_grid,\n",
        "    n_jobs = multiprocessing.cpu_count(),\n",
        "    cv=5,\n",
        "    verbose=True\n",
        ")\n",
        "\n",
        "gs.fit(X,y)"
      ],
      "execution_count": 55,
      "outputs": [
        {
          "output_type": "stream",
          "text": [
            "Fitting 5 folds for each of 18 candidates, totalling 90 fits\n"
          ],
          "name": "stdout"
        },
        {
          "output_type": "stream",
          "text": [
            "[Parallel(n_jobs=2)]: Using backend LokyBackend with 2 concurrent workers.\n",
            "[Parallel(n_jobs=2)]: Done  90 out of  90 | elapsed:    0.7s finished\n"
          ],
          "name": "stderr"
        },
        {
          "output_type": "execute_result",
          "data": {
            "text/plain": [
              "GridSearchCV(cv=5, error_score=nan,\n",
              "             estimator=Pipeline(memory=None,\n",
              "                                steps=[('scaler',\n",
              "                                        StandardScaler(copy=True,\n",
              "                                                       with_mean=True,\n",
              "                                                       with_std=True)),\n",
              "                                       ('model',\n",
              "                                        SVR(C=1.0, cache_size=200, coef0=0.0,\n",
              "                                            degree=3, epsilon=0.1,\n",
              "                                            gamma='scale', kernel='linear',\n",
              "                                            max_iter=-1, shrinking=True,\n",
              "                                            tol=0.001, verbose=False))],\n",
              "                                verbose=False),\n",
              "             iid='deprecated', n_jobs=2,\n",
              "             param_grid=[{'model__C': [1.0, 0.1, 0.01],\n",
              "                          'model__epsilon': [1.0, 0.1, 0.01],\n",
              "                          'model__gamma': ['scale', 'auto']}],\n",
              "             pre_dispatch='2*n_jobs', refit=True, return_train_score=False,\n",
              "             scoring=None, verbose=True)"
            ]
          },
          "metadata": {
            "tags": []
          },
          "execution_count": 55
        }
      ]
    },
    {
      "cell_type": "code",
      "metadata": {
        "colab": {
          "base_uri": "https://localhost:8080/"
        },
        "id": "iUe2gWhFVcY4",
        "outputId": "83c9fb23-48dd-4d5a-aab4-a6f17afa7999"
      },
      "source": [
        "gs.best_estimator_"
      ],
      "execution_count": 56,
      "outputs": [
        {
          "output_type": "execute_result",
          "data": {
            "text/plain": [
              "Pipeline(memory=None,\n",
              "         steps=[('scaler',\n",
              "                 StandardScaler(copy=True, with_mean=True, with_std=True)),\n",
              "                ('model',\n",
              "                 SVR(C=1.0, cache_size=200, coef0=0.0, degree=3, epsilon=1.0,\n",
              "                     gamma='scale', kernel='linear', max_iter=-1,\n",
              "                     shrinking=True, tol=0.001, verbose=False))],\n",
              "         verbose=False)"
            ]
          },
          "metadata": {
            "tags": []
          },
          "execution_count": 56
        }
      ]
    },
    {
      "cell_type": "markdown",
      "metadata": {
        "id": "4d3ZxGT-rzSF"
      },
      "source": [
        "## Kernel SVR"
      ]
    },
    {
      "cell_type": "markdown",
      "metadata": {
        "id": "sJ4hf_LMr6i4"
      },
      "source": [
        "### 보스턴 주택 가격"
      ]
    },
    {
      "cell_type": "code",
      "metadata": {
        "id": "VSSx1V6WWK58"
      },
      "source": [
        "X, y = load_boston(return_X_y=True)\n",
        "X_train, X_test, y_train, y_test = train_test_split(X,y,test_size=0.2)"
      ],
      "execution_count": 166,
      "outputs": []
    },
    {
      "cell_type": "code",
      "metadata": {
        "id": "aWXVuJu1WK6B"
      },
      "source": [
        "scaler = StandardScaler()\n",
        "scaler.fit(X_train)\n",
        "X_train = scaler.transform(X_train)\n",
        "X_test = scaler.transform(X_test)"
      ],
      "execution_count": 167,
      "outputs": []
    },
    {
      "cell_type": "code",
      "metadata": {
        "colab": {
          "base_uri": "https://localhost:8080/"
        },
        "id": "niby26WnWK6B",
        "outputId": "19064aea-fa38-4eda-d466-6ed93d87abe4"
      },
      "source": [
        "model = SVR(kernel='rbf')\n",
        "model.fit(X_train, y_train)"
      ],
      "execution_count": 59,
      "outputs": [
        {
          "output_type": "execute_result",
          "data": {
            "text/plain": [
              "SVR(C=1.0, cache_size=200, coef0=0.0, degree=3, epsilon=0.1, gamma='scale',\n",
              "    kernel='rbf', max_iter=-1, shrinking=True, tol=0.001, verbose=False)"
            ]
          },
          "metadata": {
            "tags": []
          },
          "execution_count": 59
        }
      ]
    },
    {
      "cell_type": "code",
      "metadata": {
        "colab": {
          "base_uri": "https://localhost:8080/"
        },
        "id": "9seDAUesWK6C",
        "outputId": "cabc898d-fc1e-4243-feea-616fa5b7de14"
      },
      "source": [
        "print(\"학습 데이터 점수: {}\".format(model.score(X_train, y_train)))\n",
        "print(\"평가 데이터 점수: {}\".format(model.score(X_test, y_test)))"
      ],
      "execution_count": 60,
      "outputs": [
        {
          "output_type": "stream",
          "text": [
            "학습 데이터 점수: 0.6969364076433897\n",
            "평가 데이터 점수: 0.5741109398874198\n"
          ],
          "name": "stdout"
        }
      ]
    },
    {
      "cell_type": "code",
      "metadata": {
        "colab": {
          "base_uri": "https://localhost:8080/",
          "height": 280
        },
        "id": "6n8WLELLWK6D",
        "outputId": "e1052779-fd84-4789-d0af-e2cba0c5d865"
      },
      "source": [
        "X_comp = TSNE(n_components=1).fit_transform(X)\n",
        "plt.scatter(X_comp, y)"
      ],
      "execution_count": 61,
      "outputs": [
        {
          "output_type": "execute_result",
          "data": {
            "text/plain": [
              "<matplotlib.collections.PathCollection at 0x7f11677214d0>"
            ]
          },
          "metadata": {
            "tags": []
          },
          "execution_count": 61
        },
        {
          "output_type": "display_data",
          "data": {
            "image/png": "[encoded data removed]",
            "text/plain": [
              "<Figure size 432x288 with 1 Axes>"
            ]
          },
          "metadata": {
            "tags": [],
            "needs_background": "light"
          }
        }
      ]
    },
    {
      "cell_type": "code",
      "metadata": {
        "colab": {
          "base_uri": "https://localhost:8080/",
          "height": 280
        },
        "id": "rMplT3lpWK6D",
        "outputId": "cfc5b9cc-4619-4c98-ff1a-6b702f9b9e5a"
      },
      "source": [
        "model.fit(X_comp, y)\n",
        "predict = model.predict(X_comp)\n",
        "plt.scatter(X_comp, y)\n",
        "plt.scatter(X_comp, predict, color='r')"
      ],
      "execution_count": 62,
      "outputs": [
        {
          "output_type": "execute_result",
          "data": {
            "text/plain": [
              "<matplotlib.collections.PathCollection at 0x7f11676f8510>"
            ]
          },
          "metadata": {
            "tags": []
          },
          "execution_count": 62
        },
        {
          "output_type": "display_data",
          "data": {
            "image/png": "[encoded data removed]",
            "text/plain": [
              "<Figure size 432x288 with 1 Axes>"
            ]
          },
          "metadata": {
            "tags": [],
            "needs_background": "light"
          }
        }
      ]
    },
    {
      "cell_type": "code",
      "metadata": {
        "colab": {
          "base_uri": "https://localhost:8080/"
        },
        "id": "EOhZCZdzWK6D",
        "outputId": "5d6965b2-50cc-433f-c3bc-8d5731fdfd1a"
      },
      "source": [
        "estimator = make_pipeline(StandardScaler(), SVR(kernel='rbf'))\n",
        "\n",
        "cross_validate(\n",
        "    estimator=estimator,\n",
        "    X=X, y=y,\n",
        "    cv=5,\n",
        "    n_jobs = multiprocessing.cpu_count(),\n",
        "    verbose=True\n",
        ")"
      ],
      "execution_count": 64,
      "outputs": [
        {
          "output_type": "stream",
          "text": [
            "[Parallel(n_jobs=2)]: Using backend LokyBackend with 2 concurrent workers.\n",
            "[Parallel(n_jobs=2)]: Done   5 out of   5 | elapsed:    0.1s finished\n"
          ],
          "name": "stderr"
        },
        {
          "output_type": "execute_result",
          "data": {
            "text/plain": [
              "{'fit_time': array([0.03050756, 0.0259428 , 0.0224812 , 0.0208385 , 0.01503897]),\n",
              " 'score_time': array([0.00352001, 0.00357175, 0.00343537, 0.00360179, 0.00234008]),\n",
              " 'test_score': array([ 0.75781445,  0.50211018,  0.04310107,  0.33851703, -0.75997942])}"
            ]
          },
          "metadata": {
            "tags": []
          },
          "execution_count": 64
        }
      ]
    },
    {
      "cell_type": "code",
      "metadata": {
        "colab": {
          "base_uri": "https://localhost:8080/"
        },
        "id": "EEr0ktjRWK6E",
        "outputId": "1d93ff03-792b-4a21-ba96-92e924cd9d5c"
      },
      "source": [
        "pipe = Pipeline([('scaler', StandardScaler()),\n",
        "                 ('model', SVR(kernel='rbf'))])\n",
        "\n",
        "param_grid = [{'model__kernel': ['rbf', 'polynomial', 'sigmoid']}]\n",
        "\n",
        "gs = GridSearchCV(\n",
        "    estimator=pipe,\n",
        "    param_grid = param_grid,\n",
        "    n_jobs = multiprocessing.cpu_count(),\n",
        "    cv=5,\n",
        "    verbose=True\n",
        ")\n",
        "\n",
        "gs.fit(X,y)"
      ],
      "execution_count": 65,
      "outputs": [
        {
          "output_type": "stream",
          "text": [
            "Fitting 5 folds for each of 3 candidates, totalling 15 fits\n"
          ],
          "name": "stdout"
        },
        {
          "output_type": "stream",
          "text": [
            "[Parallel(n_jobs=2)]: Using backend LokyBackend with 2 concurrent workers.\n",
            "[Parallel(n_jobs=2)]: Done  12 out of  15 | elapsed:    0.2s remaining:    0.0s\n",
            "[Parallel(n_jobs=2)]: Done  15 out of  15 | elapsed:    0.2s finished\n"
          ],
          "name": "stderr"
        },
        {
          "output_type": "execute_result",
          "data": {
            "text/plain": [
              "GridSearchCV(cv=5, error_score=nan,\n",
              "             estimator=Pipeline(memory=None,\n",
              "                                steps=[('scaler',\n",
              "                                        StandardScaler(copy=True,\n",
              "                                                       with_mean=True,\n",
              "                                                       with_std=True)),\n",
              "                                       ('model',\n",
              "                                        SVR(C=1.0, cache_size=200, coef0=0.0,\n",
              "                                            degree=3, epsilon=0.1,\n",
              "                                            gamma='scale', kernel='rbf',\n",
              "                                            max_iter=-1, shrinking=True,\n",
              "                                            tol=0.001, verbose=False))],\n",
              "                                verbose=False),\n",
              "             iid='deprecated', n_jobs=2,\n",
              "             param_grid=[{'model__kernel': ['rbf', 'polynomial', 'sigmoid']}],\n",
              "             pre_dispatch='2*n_jobs', refit=True, return_train_score=False,\n",
              "             scoring=None, verbose=True)"
            ]
          },
          "metadata": {
            "tags": []
          },
          "execution_count": 65
        }
      ]
    },
    {
      "cell_type": "code",
      "metadata": {
        "colab": {
          "base_uri": "https://localhost:8080/"
        },
        "id": "oxCb7N_7WK6E",
        "outputId": "de7e3c7d-699b-4568-bd5f-2f294708cdd0"
      },
      "source": [
        "gs.best_estimator_"
      ],
      "execution_count": 66,
      "outputs": [
        {
          "output_type": "execute_result",
          "data": {
            "text/plain": [
              "Pipeline(memory=None,\n",
              "         steps=[('scaler',\n",
              "                 StandardScaler(copy=True, with_mean=True, with_std=True)),\n",
              "                ('model',\n",
              "                 SVR(C=1.0, cache_size=200, coef0=0.0, degree=3, epsilon=0.1,\n",
              "                     gamma='scale', kernel='rbf', max_iter=-1, shrinking=True,\n",
              "                     tol=0.001, verbose=False))],\n",
              "         verbose=False)"
            ]
          },
          "metadata": {
            "tags": []
          },
          "execution_count": 66
        }
      ]
    },
    {
      "cell_type": "code",
      "metadata": {
        "colab": {
          "base_uri": "https://localhost:8080/"
        },
        "id": "vAYqDCwWbUNU",
        "outputId": "685380fe-0bb0-46aa-afd5-fe8020e6373d"
      },
      "source": [
        "pipe = Pipeline([('scaler', StandardScaler()),\n",
        "                 ('model', SVR(kernel='rbf'))])\n",
        "\n",
        "param_grid = [{'model__gamma': ['scale', 'auto'],\n",
        "               'model__C': [1.0,0.1,0.01],\n",
        "               'model__epsilon':[1.0,0.1,0.01]}]\n",
        "\n",
        "gs = GridSearchCV(\n",
        "    estimator=pipe,\n",
        "    param_grid = param_grid,\n",
        "    n_jobs = multiprocessing.cpu_count(),\n",
        "    cv=5,\n",
        "    verbose=True\n",
        ")\n",
        "\n",
        "gs.fit(X,y)"
      ],
      "execution_count": 67,
      "outputs": [
        {
          "output_type": "stream",
          "text": [
            "Fitting 5 folds for each of 18 candidates, totalling 90 fits\n"
          ],
          "name": "stdout"
        },
        {
          "output_type": "stream",
          "text": [
            "[Parallel(n_jobs=2)]: Using backend LokyBackend with 2 concurrent workers.\n",
            "[Parallel(n_jobs=2)]: Done  90 out of  90 | elapsed:    2.0s finished\n"
          ],
          "name": "stderr"
        },
        {
          "output_type": "execute_result",
          "data": {
            "text/plain": [
              "GridSearchCV(cv=5, error_score=nan,\n",
              "             estimator=Pipeline(memory=None,\n",
              "                                steps=[('scaler',\n",
              "                                        StandardScaler(copy=True,\n",
              "                                                       with_mean=True,\n",
              "                                                       with_std=True)),\n",
              "                                       ('model',\n",
              "                                        SVR(C=1.0, cache_size=200, coef0=0.0,\n",
              "                                            degree=3, epsilon=0.1,\n",
              "                                            gamma='scale', kernel='rbf',\n",
              "                                            max_iter=-1, shrinking=True,\n",
              "                                            tol=0.001, verbose=False))],\n",
              "                                verbose=False),\n",
              "             iid='deprecated', n_jobs=2,\n",
              "             param_grid=[{'model__C': [1.0, 0.1, 0.01],\n",
              "                          'model__epsilon': [1.0, 0.1, 0.01],\n",
              "                          'model__gamma': ['scale', 'auto']}],\n",
              "             pre_dispatch='2*n_jobs', refit=True, return_train_score=False,\n",
              "             scoring=None, verbose=True)"
            ]
          },
          "metadata": {
            "tags": []
          },
          "execution_count": 67
        }
      ]
    },
    {
      "cell_type": "code",
      "metadata": {
        "colab": {
          "base_uri": "https://localhost:8080/"
        },
        "id": "FIjc9XtsbpDq",
        "outputId": "33eefe5b-6088-4a68-d4bd-93f74c7ad48b"
      },
      "source": [
        "gs.best_estimator_"
      ],
      "execution_count": 68,
      "outputs": [
        {
          "output_type": "execute_result",
          "data": {
            "text/plain": [
              "Pipeline(memory=None,\n",
              "         steps=[('scaler',\n",
              "                 StandardScaler(copy=True, with_mean=True, with_std=True)),\n",
              "                ('model',\n",
              "                 SVR(C=1.0, cache_size=200, coef0=0.0, degree=3, epsilon=0.01,\n",
              "                     gamma='scale', kernel='rbf', max_iter=-1, shrinking=True,\n",
              "                     tol=0.001, verbose=False))],\n",
              "         verbose=False)"
            ]
          },
          "metadata": {
            "tags": []
          },
          "execution_count": 68
        }
      ]
    },
    {
      "cell_type": "markdown",
      "metadata": {
        "id": "WjmIL-u1r9qU"
      },
      "source": [
        "### 당뇨병"
      ]
    },
    {
      "cell_type": "code",
      "metadata": {
        "id": "P7lloIubb0ih"
      },
      "source": [
        "X, y = load_diabetes(return_X_y=True)\n",
        "X_train, X_test, y_train, y_test = train_test_split(X,y,test_size=0.2)"
      ],
      "execution_count": 69,
      "outputs": []
    },
    {
      "cell_type": "code",
      "metadata": {
        "id": "tUEJNZhEb0ii"
      },
      "source": [
        "scaler = StandardScaler()\n",
        "scaler.fit(X_train)\n",
        "X_train = scaler.transform(X_train)\n",
        "X_test = scaler.transform(X_test)"
      ],
      "execution_count": 72,
      "outputs": []
    },
    {
      "cell_type": "code",
      "metadata": {
        "colab": {
          "base_uri": "https://localhost:8080/"
        },
        "id": "n0z2_WY0b0ii",
        "outputId": "fad75edf-4a83-4ca5-9f56-ddb9cb40693d"
      },
      "source": [
        "model = SVR(kernel='rbf')\n",
        "model.fit(X_train, y_train)"
      ],
      "execution_count": 73,
      "outputs": [
        {
          "output_type": "execute_result",
          "data": {
            "text/plain": [
              "SVR(C=1.0, cache_size=200, coef0=0.0, degree=3, epsilon=0.1, gamma='scale',\n",
              "    kernel='rbf', max_iter=-1, shrinking=True, tol=0.001, verbose=False)"
            ]
          },
          "metadata": {
            "tags": []
          },
          "execution_count": 73
        }
      ]
    },
    {
      "cell_type": "code",
      "metadata": {
        "colab": {
          "base_uri": "https://localhost:8080/"
        },
        "id": "I-7fuY_Eb0ij",
        "outputId": "f251f9c2-9ba1-431e-b4a2-a3655c57a5b8"
      },
      "source": [
        "print(\"학습 데이터 점수: {}\".format(model.score(X_train, y_train)))\n",
        "print(\"평가 데이터 점수: {}\".format(model.score(X_test, y_test)))"
      ],
      "execution_count": 74,
      "outputs": [
        {
          "output_type": "stream",
          "text": [
            "학습 데이터 점수: 0.16798877714256755\n",
            "평가 데이터 점수: 0.15957089643054367\n"
          ],
          "name": "stdout"
        }
      ]
    },
    {
      "cell_type": "code",
      "metadata": {
        "colab": {
          "base_uri": "https://localhost:8080/",
          "height": 280
        },
        "id": "ZUelZ_n2b0ij",
        "outputId": "1434baef-c7a4-412e-cee4-1775b2ae917f"
      },
      "source": [
        "X_comp = TSNE(n_components=1).fit_transform(X)\n",
        "plt.scatter(X_comp, y)"
      ],
      "execution_count": 75,
      "outputs": [
        {
          "output_type": "execute_result",
          "data": {
            "text/plain": [
              "<matplotlib.collections.PathCollection at 0x7f1167616b50>"
            ]
          },
          "metadata": {
            "tags": []
          },
          "execution_count": 75
        },
        {
          "output_type": "display_data",
          "data": {
            "image/png": "[encoded data removed]",
            "text/plain": [
              "<Figure size 432x288 with 1 Axes>"
            ]
          },
          "metadata": {
            "tags": [],
            "needs_background": "light"
          }
        }
      ]
    },
    {
      "cell_type": "code",
      "metadata": {
        "colab": {
          "base_uri": "https://localhost:8080/",
          "height": 280
        },
        "id": "EzM0RsnDb0ik",
        "outputId": "0c00dcd9-a972-41b2-f4a8-b48d5b05459b"
      },
      "source": [
        "model.fit(X_comp, y)\n",
        "predict = model.predict(X_comp)\n",
        "plt.scatter(X_comp, y)\n",
        "plt.scatter(X_comp, predict, color='r')"
      ],
      "execution_count": 76,
      "outputs": [
        {
          "output_type": "execute_result",
          "data": {
            "text/plain": [
              "<matplotlib.collections.PathCollection at 0x7f1167600110>"
            ]
          },
          "metadata": {
            "tags": []
          },
          "execution_count": 76
        },
        {
          "output_type": "display_data",
          "data": {
            "image/png": "[encoded data removed]",
            "text/plain": [
              "<Figure size 432x288 with 1 Axes>"
            ]
          },
          "metadata": {
            "tags": [],
            "needs_background": "light"
          }
        }
      ]
    },
    {
      "cell_type": "code",
      "metadata": {
        "colab": {
          "base_uri": "https://localhost:8080/"
        },
        "id": "pUzP2ddCb0ik",
        "outputId": "5983f3fb-2848-4074-941d-aa205fd354ee"
      },
      "source": [
        "estimator = make_pipeline(StandardScaler(), SVR(kernel='rbf'))\n",
        "\n",
        "cross_validate(\n",
        "    estimator=estimator,\n",
        "    X=X, y=y,\n",
        "    cv=5,\n",
        "    n_jobs = multiprocessing.cpu_count(),\n",
        "    verbose=True\n",
        ")"
      ],
      "execution_count": 77,
      "outputs": [
        {
          "output_type": "stream",
          "text": [
            "[Parallel(n_jobs=2)]: Using backend LokyBackend with 2 concurrent workers.\n",
            "[Parallel(n_jobs=2)]: Done   5 out of   5 | elapsed:    0.1s finished\n"
          ],
          "name": "stderr"
        },
        {
          "output_type": "execute_result",
          "data": {
            "text/plain": [
              "{'fit_time': array([0.01878381, 0.01415277, 0.01425409, 0.01405334, 0.01086879]),\n",
              " 'score_time': array([0.00825429, 0.00341129, 0.00298285, 0.00353241, 0.00195098]),\n",
              " 'test_score': array([0.14580789, 0.12539919, 0.18163816, 0.12223073, 0.15792085])}"
            ]
          },
          "metadata": {
            "tags": []
          },
          "execution_count": 77
        }
      ]
    },
    {
      "cell_type": "code",
      "metadata": {
        "colab": {
          "base_uri": "https://localhost:8080/"
        },
        "id": "ryb3mmJmb0il",
        "outputId": "6131c457-5d8a-491a-bc73-f210ec35afc9"
      },
      "source": [
        "pipe = Pipeline([('scaler', StandardScaler()),\n",
        "                 ('model', SVR(kernel='rbf'))])\n",
        "\n",
        "param_grid = [{'model__kernel': ['rbf', 'polynomial', 'sigmoid']}]\n",
        "\n",
        "gs = GridSearchCV(\n",
        "    estimator=pipe,\n",
        "    param_grid = param_grid,\n",
        "    n_jobs = multiprocessing.cpu_count(),\n",
        "    cv=5,\n",
        "    verbose=True\n",
        ")\n",
        "\n",
        "gs.fit(X,y)"
      ],
      "execution_count": 79,
      "outputs": [
        {
          "output_type": "stream",
          "text": [
            "Fitting 5 folds for each of 3 candidates, totalling 15 fits\n"
          ],
          "name": "stdout"
        },
        {
          "output_type": "stream",
          "text": [
            "[Parallel(n_jobs=2)]: Using backend LokyBackend with 2 concurrent workers.\n",
            "[Parallel(n_jobs=2)]: Done  15 out of  15 | elapsed:    0.1s finished\n"
          ],
          "name": "stderr"
        },
        {
          "output_type": "execute_result",
          "data": {
            "text/plain": [
              "GridSearchCV(cv=5, error_score=nan,\n",
              "             estimator=Pipeline(memory=None,\n",
              "                                steps=[('scaler',\n",
              "                                        StandardScaler(copy=True,\n",
              "                                                       with_mean=True,\n",
              "                                                       with_std=True)),\n",
              "                                       ('model',\n",
              "                                        SVR(C=1.0, cache_size=200, coef0=0.0,\n",
              "                                            degree=3, epsilon=0.1,\n",
              "                                            gamma='scale', kernel='rbf',\n",
              "                                            max_iter=-1, shrinking=True,\n",
              "                                            tol=0.001, verbose=False))],\n",
              "                                verbose=False),\n",
              "             iid='deprecated', n_jobs=2,\n",
              "             param_grid=[{'model__kernel': ['rbf', 'polynomial', 'sigmoid']}],\n",
              "             pre_dispatch='2*n_jobs', refit=True, return_train_score=False,\n",
              "             scoring=None, verbose=True)"
            ]
          },
          "metadata": {
            "tags": []
          },
          "execution_count": 79
        }
      ]
    },
    {
      "cell_type": "code",
      "metadata": {
        "colab": {
          "base_uri": "https://localhost:8080/"
        },
        "id": "nnfQHiRhb0in",
        "outputId": "1f4c5e66-ab7d-411b-9e85-0333fcdcf309"
      },
      "source": [
        "gs.best_estimator_"
      ],
      "execution_count": 80,
      "outputs": [
        {
          "output_type": "execute_result",
          "data": {
            "text/plain": [
              "Pipeline(memory=None,\n",
              "         steps=[('scaler',\n",
              "                 StandardScaler(copy=True, with_mean=True, with_std=True)),\n",
              "                ('model',\n",
              "                 SVR(C=1.0, cache_size=200, coef0=0.0, degree=3, epsilon=0.1,\n",
              "                     gamma='scale', kernel='sigmoid', max_iter=-1,\n",
              "                     shrinking=True, tol=0.001, verbose=False))],\n",
              "         verbose=False)"
            ]
          },
          "metadata": {
            "tags": []
          },
          "execution_count": 80
        }
      ]
    },
    {
      "cell_type": "code",
      "metadata": {
        "colab": {
          "base_uri": "https://localhost:8080/"
        },
        "id": "N1T3lZJFb0in",
        "outputId": "275b0d13-086f-4602-fe82-8c707cb4aeb5"
      },
      "source": [
        "pipe = Pipeline([('scaler', StandardScaler()),\n",
        "                 ('model', SVR(kernel='sigmoid'))])\n",
        "\n",
        "param_grid = [{'model__gamma': ['scale', 'auto'],\n",
        "               'model__C': [1.0,0.1,0.01],\n",
        "               'model__epsilon':[1.0,0.1,0.01]}]\n",
        "\n",
        "gs = GridSearchCV(\n",
        "    estimator=pipe,\n",
        "    param_grid = param_grid,\n",
        "    n_jobs = multiprocessing.cpu_count(),\n",
        "    cv=5,\n",
        "    verbose=True\n",
        ")\n",
        "\n",
        "gs.fit(X,y)"
      ],
      "execution_count": 81,
      "outputs": [
        {
          "output_type": "stream",
          "text": [
            "Fitting 5 folds for each of 18 candidates, totalling 90 fits\n"
          ],
          "name": "stdout"
        },
        {
          "output_type": "stream",
          "text": [
            "[Parallel(n_jobs=2)]: Using backend LokyBackend with 2 concurrent workers.\n",
            "[Parallel(n_jobs=2)]: Done  90 out of  90 | elapsed:    1.1s finished\n"
          ],
          "name": "stderr"
        },
        {
          "output_type": "execute_result",
          "data": {
            "text/plain": [
              "GridSearchCV(cv=5, error_score=nan,\n",
              "             estimator=Pipeline(memory=None,\n",
              "                                steps=[('scaler',\n",
              "                                        StandardScaler(copy=True,\n",
              "                                                       with_mean=True,\n",
              "                                                       with_std=True)),\n",
              "                                       ('model',\n",
              "                                        SVR(C=1.0, cache_size=200, coef0=0.0,\n",
              "                                            degree=3, epsilon=0.1,\n",
              "                                            gamma='scale', kernel='sigmoid',\n",
              "                                            max_iter=-1, shrinking=True,\n",
              "                                            tol=0.001, verbose=False))],\n",
              "                                verbose=False),\n",
              "             iid='deprecated', n_jobs=2,\n",
              "             param_grid=[{'model__C': [1.0, 0.1, 0.01],\n",
              "                          'model__epsilon': [1.0, 0.1, 0.01],\n",
              "                          'model__gamma': ['scale', 'auto']}],\n",
              "             pre_dispatch='2*n_jobs', refit=True, return_train_score=False,\n",
              "             scoring=None, verbose=True)"
            ]
          },
          "metadata": {
            "tags": []
          },
          "execution_count": 81
        }
      ]
    },
    {
      "cell_type": "code",
      "metadata": {
        "colab": {
          "base_uri": "https://localhost:8080/"
        },
        "id": "_dV_XGMIb0io",
        "outputId": "f01282f5-6a54-460e-a84c-1a0e544e54a4"
      },
      "source": [
        "gs.best_estimator_"
      ],
      "execution_count": 82,
      "outputs": [
        {
          "output_type": "execute_result",
          "data": {
            "text/plain": [
              "Pipeline(memory=None,\n",
              "         steps=[('scaler',\n",
              "                 StandardScaler(copy=True, with_mean=True, with_std=True)),\n",
              "                ('model',\n",
              "                 SVR(C=1.0, cache_size=200, coef0=0.0, degree=3, epsilon=1.0,\n",
              "                     gamma='auto', kernel='sigmoid', max_iter=-1,\n",
              "                     shrinking=True, tol=0.001, verbose=False))],\n",
              "         verbose=False)"
            ]
          },
          "metadata": {
            "tags": []
          },
          "execution_count": 82
        }
      ]
    },
    {
      "cell_type": "code",
      "metadata": {
        "colab": {
          "base_uri": "https://localhost:8080/"
        },
        "id": "5aR2ZzHHc6Uc",
        "outputId": "ab6f60a9-6483-4d65-9df8-eaffa10e0051"
      },
      "source": [
        "model = gs.best_estimator_\n",
        "model.fit(X_train, y_train)"
      ],
      "execution_count": 83,
      "outputs": [
        {
          "output_type": "execute_result",
          "data": {
            "text/plain": [
              "Pipeline(memory=None,\n",
              "         steps=[('scaler',\n",
              "                 StandardScaler(copy=True, with_mean=True, with_std=True)),\n",
              "                ('model',\n",
              "                 SVR(C=1.0, cache_size=200, coef0=0.0, degree=3, epsilon=1.0,\n",
              "                     gamma='auto', kernel='sigmoid', max_iter=-1,\n",
              "                     shrinking=True, tol=0.001, verbose=False))],\n",
              "         verbose=False)"
            ]
          },
          "metadata": {
            "tags": []
          },
          "execution_count": 83
        }
      ]
    },
    {
      "cell_type": "code",
      "metadata": {
        "colab": {
          "base_uri": "https://localhost:8080/"
        },
        "id": "9cx70FeBdEKr",
        "outputId": "d54a8dea-89ea-4694-cd75-027e1dcfd17c"
      },
      "source": [
        "print(\"학습 데이터 점수: {}\".format(model.score(X_train, y_train)))\n",
        "print(\"평가 데이터 점수: {}\".format(model.score(X_test, y_test)))"
      ],
      "execution_count": 84,
      "outputs": [
        {
          "output_type": "stream",
          "text": [
            "학습 데이터 점수: 0.36279938224279773\n",
            "평가 데이터 점수: 0.3469340708919234\n"
          ],
          "name": "stdout"
        }
      ]
    },
    {
      "cell_type": "markdown",
      "metadata": {
        "id": "iW0DXTLrNya-"
      },
      "source": [
        "## Linear SVC"
      ]
    },
    {
      "cell_type": "markdown",
      "metadata": {
        "id": "1b30IAFxN8XR"
      },
      "source": [
        "### 유방암"
      ]
    },
    {
      "cell_type": "code",
      "metadata": {
        "id": "VICYOikVdQSB"
      },
      "source": [
        "X, y = load_breast_cancer(return_X_y=True)\n",
        "X_train, X_test, y_train, y_test = train_test_split(X,y,test_size=0.2)"
      ],
      "execution_count": 85,
      "outputs": []
    },
    {
      "cell_type": "code",
      "metadata": {
        "id": "w1PZTMEhdQSB"
      },
      "source": [
        "scaler = StandardScaler()\n",
        "scaler.fit(X_train)\n",
        "X_train = scaler.transform(X_train)\n",
        "X_test = scaler.transform(X_test)"
      ],
      "execution_count": 86,
      "outputs": []
    },
    {
      "cell_type": "code",
      "metadata": {
        "colab": {
          "base_uri": "https://localhost:8080/"
        },
        "id": "D-N-IvK9dQSC",
        "outputId": "54581e36-a935-4371-8a88-db8d19d725f9"
      },
      "source": [
        "model = SVC(kernel='linear')\n",
        "model.fit(X_train, y_train)"
      ],
      "execution_count": 89,
      "outputs": [
        {
          "output_type": "execute_result",
          "data": {
            "text/plain": [
              "SVC(C=1.0, break_ties=False, cache_size=200, class_weight=None, coef0=0.0,\n",
              "    decision_function_shape='ovr', degree=3, gamma='scale', kernel='linear',\n",
              "    max_iter=-1, probability=False, random_state=None, shrinking=True,\n",
              "    tol=0.001, verbose=False)"
            ]
          },
          "metadata": {
            "tags": []
          },
          "execution_count": 89
        }
      ]
    },
    {
      "cell_type": "code",
      "metadata": {
        "colab": {
          "base_uri": "https://localhost:8080/"
        },
        "id": "LWu0GCKxdQSC",
        "outputId": "bfa2a35c-5da5-4fd9-ef3d-e56b49e6af47"
      },
      "source": [
        "print(\"학습 데이터 점수: {}\".format(model.score(X_train, y_train)))\n",
        "print(\"평가 데이터 점수: {}\".format(model.score(X_test, y_test)))"
      ],
      "execution_count": 90,
      "outputs": [
        {
          "output_type": "stream",
          "text": [
            "학습 데이터 점수: 0.9912087912087912\n",
            "평가 데이터 점수: 0.9824561403508771\n"
          ],
          "name": "stdout"
        }
      ]
    },
    {
      "cell_type": "code",
      "metadata": {
        "id": "6F5L1zLEdoXg"
      },
      "source": [
        "def make_meshgrid(x, y, h=.02):\n",
        "  x_min, x_max = x.min()-1, x.max()+1\n",
        "  y_min, y_max = y.min()-1, y.max()+1\n",
        "  xx, yy = np.meshgrid(np.arange(x_min, x_max, h),\n",
        "                       np.arange(y_min, y_max, h))\n",
        "  return xx, yy"
      ],
      "execution_count": 91,
      "outputs": []
    },
    {
      "cell_type": "code",
      "metadata": {
        "id": "K_aBOlq4eAFN"
      },
      "source": [
        "def plot_contours(clf, xx, yy, **params):\n",
        "  Z = clf.predict(np.c_[xx.ravel(), yy.ravel()])\n",
        "  Z = Z.reshape(xx.shape)\n",
        "  out = plt.contourf(xx,yy,Z,**params)\n",
        "\n",
        "  return out"
      ],
      "execution_count": 93,
      "outputs": []
    },
    {
      "cell_type": "code",
      "metadata": {
        "id": "yswNmngtdQSD"
      },
      "source": [
        "X_comp = TSNE(n_components=2).fit_transform(X)\n",
        "X0, X1 = X_comp[:,0],X_comp[:,1]\n",
        "xx,yy = make_meshgrid(X0,X1)"
      ],
      "execution_count": 95,
      "outputs": []
    },
    {
      "cell_type": "code",
      "metadata": {
        "colab": {
          "base_uri": "https://localhost:8080/",
          "height": 280
        },
        "id": "5SJqp5gDdQSD",
        "outputId": "47b39c3f-7ed2-4b24-ac8a-adbb05e246a2"
      },
      "source": [
        "model.fit(X_comp, y)\n",
        "plot_contours(model, xx, yy, cmap=plt.cm.coolwarm, alpha=0.7)\n",
        "plt.scatter(X0,X1,c=y,cmap=plt.cm.coolwarm, s=20, edgecolors='k')"
      ],
      "execution_count": 97,
      "outputs": [
        {
          "output_type": "execute_result",
          "data": {
            "text/plain": [
              "<matplotlib.collections.PathCollection at 0x7f11672ae490>"
            ]
          },
          "metadata": {
            "tags": []
          },
          "execution_count": 97
        },
        {
          "output_type": "display_data",
          "data": {
            "image/png": "[encoded data removed]",
            "text/plain": [
              "<Figure size 432x288 with 1 Axes>"
            ]
          },
          "metadata": {
            "tags": [],
            "needs_background": "light"
          }
        }
      ]
    },
    {
      "cell_type": "code",
      "metadata": {
        "colab": {
          "base_uri": "https://localhost:8080/"
        },
        "id": "ARfsnR8wdQSE",
        "outputId": "de872580-a3c5-4a4d-d8ed-cbb6fe881338"
      },
      "source": [
        "estimator = make_pipeline(StandardScaler(), SVC(kernel='linear'))\n",
        "\n",
        "cross_validate(\n",
        "    estimator=estimator,\n",
        "    X=X, y=y,\n",
        "    cv=5,\n",
        "    n_jobs = multiprocessing.cpu_count(),\n",
        "    verbose=True\n",
        ")"
      ],
      "execution_count": 100,
      "outputs": [
        {
          "output_type": "stream",
          "text": [
            "[Parallel(n_jobs=2)]: Using backend LokyBackend with 2 concurrent workers.\n",
            "[Parallel(n_jobs=2)]: Done   5 out of   5 | elapsed:    0.9s finished\n"
          ],
          "name": "stderr"
        },
        {
          "output_type": "execute_result",
          "data": {
            "text/plain": [
              "{'fit_time': array([0.00926018, 0.00981879, 0.00724912, 0.00572634, 0.006495  ]),\n",
              " 'score_time': array([0.00133204, 0.00124383, 0.00122452, 0.00110316, 0.00115466]),\n",
              " 'test_score': array([0.96491228, 0.98245614, 0.96491228, 0.96491228, 0.98230088])}"
            ]
          },
          "metadata": {
            "tags": []
          },
          "execution_count": 100
        }
      ]
    },
    {
      "cell_type": "code",
      "metadata": {
        "colab": {
          "base_uri": "https://localhost:8080/"
        },
        "id": "AnDqIm0gdQSE",
        "outputId": "a57e7b3a-1739-4161-fd16-3ad8f7228eda"
      },
      "source": [
        "pipe = Pipeline([('scaler', StandardScaler()),\n",
        "                 ('model', SVC(kernel='linear'))])\n",
        "\n",
        "param_grid = [{'model__gamma': ['scale', 'auto'],\n",
        "               'model__C': [1.0,0.1,0.01]}]\n",
        "\n",
        "gs = GridSearchCV(\n",
        "    estimator=pipe,\n",
        "    param_grid = param_grid,\n",
        "    n_jobs = multiprocessing.cpu_count(),\n",
        "    cv=5,\n",
        "    verbose=True\n",
        ")\n",
        "\n",
        "gs.fit(X,y)"
      ],
      "execution_count": 101,
      "outputs": [
        {
          "output_type": "stream",
          "text": [
            "Fitting 5 folds for each of 6 candidates, totalling 30 fits\n"
          ],
          "name": "stdout"
        },
        {
          "output_type": "stream",
          "text": [
            "[Parallel(n_jobs=2)]: Using backend LokyBackend with 2 concurrent workers.\n",
            "[Parallel(n_jobs=2)]: Done  30 out of  30 | elapsed:    0.2s finished\n"
          ],
          "name": "stderr"
        },
        {
          "output_type": "execute_result",
          "data": {
            "text/plain": [
              "GridSearchCV(cv=5, error_score=nan,\n",
              "             estimator=Pipeline(memory=None,\n",
              "                                steps=[('scaler',\n",
              "                                        StandardScaler(copy=True,\n",
              "                                                       with_mean=True,\n",
              "                                                       with_std=True)),\n",
              "                                       ('model',\n",
              "                                        SVC(C=1.0, break_ties=False,\n",
              "                                            cache_size=200, class_weight=None,\n",
              "                                            coef0=0.0,\n",
              "                                            decision_function_shape='ovr',\n",
              "                                            degree=3, gamma='scale',\n",
              "                                            kernel='linear', max_iter=-1,\n",
              "                                            probability=False,\n",
              "                                            random_state=None, shrinking=True,\n",
              "                                            tol=0.001, verbose=False))],\n",
              "                                verbose=False),\n",
              "             iid='deprecated', n_jobs=2,\n",
              "             param_grid=[{'model__C': [1.0, 0.1, 0.01],\n",
              "                          'model__gamma': ['scale', 'auto']}],\n",
              "             pre_dispatch='2*n_jobs', refit=True, return_train_score=False,\n",
              "             scoring=None, verbose=True)"
            ]
          },
          "metadata": {
            "tags": []
          },
          "execution_count": 101
        }
      ]
    },
    {
      "cell_type": "code",
      "metadata": {
        "colab": {
          "base_uri": "https://localhost:8080/"
        },
        "id": "5fgMBlyZdQSF",
        "outputId": "7abe760b-905d-402d-89d8-809b0998a44d"
      },
      "source": [
        "gs.best_estimator_"
      ],
      "execution_count": 102,
      "outputs": [
        {
          "output_type": "execute_result",
          "data": {
            "text/plain": [
              "Pipeline(memory=None,\n",
              "         steps=[('scaler',\n",
              "                 StandardScaler(copy=True, with_mean=True, with_std=True)),\n",
              "                ('model',\n",
              "                 SVC(C=0.1, break_ties=False, cache_size=200, class_weight=None,\n",
              "                     coef0=0.0, decision_function_shape='ovr', degree=3,\n",
              "                     gamma='scale', kernel='linear', max_iter=-1,\n",
              "                     probability=False, random_state=None, shrinking=True,\n",
              "                     tol=0.001, verbose=False))],\n",
              "         verbose=False)"
            ]
          },
          "metadata": {
            "tags": []
          },
          "execution_count": 102
        }
      ]
    },
    {
      "cell_type": "code",
      "metadata": {
        "colab": {
          "base_uri": "https://localhost:8080/"
        },
        "id": "aLOB6sMjdQSG",
        "outputId": "d83579fc-bb31-4afc-e9b5-7afd13635127"
      },
      "source": [
        "model = gs.best_estimator_\n",
        "model.fit(X_train, y_train)"
      ],
      "execution_count": 103,
      "outputs": [
        {
          "output_type": "execute_result",
          "data": {
            "text/plain": [
              "Pipeline(memory=None,\n",
              "         steps=[('scaler',\n",
              "                 StandardScaler(copy=True, with_mean=True, with_std=True)),\n",
              "                ('model',\n",
              "                 SVC(C=0.1, break_ties=False, cache_size=200, class_weight=None,\n",
              "                     coef0=0.0, decision_function_shape='ovr', degree=3,\n",
              "                     gamma='scale', kernel='linear', max_iter=-1,\n",
              "                     probability=False, random_state=None, shrinking=True,\n",
              "                     tol=0.001, verbose=False))],\n",
              "         verbose=False)"
            ]
          },
          "metadata": {
            "tags": []
          },
          "execution_count": 103
        }
      ]
    },
    {
      "cell_type": "code",
      "metadata": {
        "colab": {
          "base_uri": "https://localhost:8080/"
        },
        "id": "NtGpeRUOdQSG",
        "outputId": "8b3675ad-c6d2-4211-efaa-ffe8ef6134c9"
      },
      "source": [
        "print(\"학습 데이터 점수: {}\".format(model.score(X_train, y_train)))\n",
        "print(\"평가 데이터 점수: {}\".format(model.score(X_test, y_test)))"
      ],
      "execution_count": 104,
      "outputs": [
        {
          "output_type": "stream",
          "text": [
            "학습 데이터 점수: 0.9846153846153847\n",
            "평가 데이터 점수: 0.9736842105263158\n"
          ],
          "name": "stdout"
        }
      ]
    },
    {
      "cell_type": "markdown",
      "metadata": {
        "id": "jJfcIODbN6ec"
      },
      "source": [
        "### 붓꽃"
      ]
    },
    {
      "cell_type": "code",
      "metadata": {
        "id": "TGaMTyrfftw5"
      },
      "source": [
        "X, y = load_iris(return_X_y=True)\n",
        "X_train, X_test, y_train, y_test = train_test_split(X,y,test_size=0.2)"
      ],
      "execution_count": 105,
      "outputs": []
    },
    {
      "cell_type": "code",
      "metadata": {
        "id": "wY-Xr1SAftxQ"
      },
      "source": [
        "scaler = StandardScaler()\n",
        "scaler.fit(X_train)\n",
        "X_train = scaler.transform(X_train)\n",
        "X_test = scaler.transform(X_test)"
      ],
      "execution_count": 106,
      "outputs": []
    },
    {
      "cell_type": "code",
      "metadata": {
        "colab": {
          "base_uri": "https://localhost:8080/"
        },
        "id": "jMDnIwMRftxR",
        "outputId": "e851a0aa-e22a-42a7-be4f-e9b0122ab01e"
      },
      "source": [
        "model = SVC(kernel='linear')\n",
        "model.fit(X_train, y_train)"
      ],
      "execution_count": 107,
      "outputs": [
        {
          "output_type": "execute_result",
          "data": {
            "text/plain": [
              "SVC(C=1.0, break_ties=False, cache_size=200, class_weight=None, coef0=0.0,\n",
              "    decision_function_shape='ovr', degree=3, gamma='scale', kernel='linear',\n",
              "    max_iter=-1, probability=False, random_state=None, shrinking=True,\n",
              "    tol=0.001, verbose=False)"
            ]
          },
          "metadata": {
            "tags": []
          },
          "execution_count": 107
        }
      ]
    },
    {
      "cell_type": "code",
      "metadata": {
        "colab": {
          "base_uri": "https://localhost:8080/"
        },
        "id": "gGZtYAEeftxR",
        "outputId": "65d0dedb-19a9-48a8-b293-4e291d19bfd5"
      },
      "source": [
        "print(\"학습 데이터 점수: {}\".format(model.score(X_train, y_train)))\n",
        "print(\"평가 데이터 점수: {}\".format(model.score(X_test, y_test)))"
      ],
      "execution_count": 108,
      "outputs": [
        {
          "output_type": "stream",
          "text": [
            "학습 데이터 점수: 0.9916666666666667\n",
            "평가 데이터 점수: 0.9666666666666667\n"
          ],
          "name": "stdout"
        }
      ]
    },
    {
      "cell_type": "code",
      "metadata": {
        "id": "W8uzR_LGftxT"
      },
      "source": [
        "X_comp = TSNE(n_components=2).fit_transform(X)\n",
        "X0, X1 = X_comp[:,0],X_comp[:,1]\n",
        "xx,yy = make_meshgrid(X0,X1)"
      ],
      "execution_count": 109,
      "outputs": []
    },
    {
      "cell_type": "code",
      "metadata": {
        "colab": {
          "base_uri": "https://localhost:8080/",
          "height": 280
        },
        "id": "0VGWUFbHftxT",
        "outputId": "675bf6cb-0505-4a64-8d44-3a9d9226e9a2"
      },
      "source": [
        "model.fit(X_comp, y)\n",
        "plot_contours(model, xx, yy, cmap=plt.cm.coolwarm, alpha=0.7)\n",
        "plt.scatter(X0,X1,c=y,cmap=plt.cm.coolwarm, s=20, edgecolors='k')"
      ],
      "execution_count": 110,
      "outputs": [
        {
          "output_type": "execute_result",
          "data": {
            "text/plain": [
              "<matplotlib.collections.PathCollection at 0x7f1166f560d0>"
            ]
          },
          "metadata": {
            "tags": []
          },
          "execution_count": 110
        },
        {
          "output_type": "display_data",
          "data": {
            "image/png": "[encoded data removed]",
            "text/plain": [
              "<Figure size 432x288 with 1 Axes>"
            ]
          },
          "metadata": {
            "tags": [],
            "needs_background": "light"
          }
        }
      ]
    },
    {
      "cell_type": "code",
      "metadata": {
        "colab": {
          "base_uri": "https://localhost:8080/"
        },
        "id": "yF7uS7QrftxU",
        "outputId": "2b7a4178-559e-4817-a4ef-f35c617361bc"
      },
      "source": [
        "estimator = make_pipeline(StandardScaler(), SVC(kernel='linear'))\n",
        "\n",
        "cross_validate(\n",
        "    estimator=estimator,\n",
        "    X=X, y=y,\n",
        "    cv=5,\n",
        "    n_jobs = multiprocessing.cpu_count(),\n",
        "    verbose=True\n",
        ")"
      ],
      "execution_count": 111,
      "outputs": [
        {
          "output_type": "stream",
          "text": [
            "[Parallel(n_jobs=2)]: Using backend LokyBackend with 2 concurrent workers.\n",
            "[Parallel(n_jobs=2)]: Done   5 out of   5 | elapsed:    0.0s finished\n"
          ],
          "name": "stderr"
        },
        {
          "output_type": "execute_result",
          "data": {
            "text/plain": [
              "{'fit_time': array([0.00222397, 0.00193834, 0.00190544, 0.00167513, 0.00120997]),\n",
              " 'score_time': array([0.00065851, 0.00277519, 0.00065899, 0.0004108 , 0.00038433]),\n",
              " 'test_score': array([0.96666667, 1.        , 0.93333333, 0.93333333, 1.        ])}"
            ]
          },
          "metadata": {
            "tags": []
          },
          "execution_count": 111
        }
      ]
    },
    {
      "cell_type": "code",
      "metadata": {
        "colab": {
          "base_uri": "https://localhost:8080/"
        },
        "id": "WDJob7DpftxU",
        "outputId": "dc4627b4-2ff8-4694-9780-1d21cd9a0189"
      },
      "source": [
        "pipe = Pipeline([('scaler', StandardScaler()),\n",
        "                 ('model', SVC(kernel='linear'))])\n",
        "\n",
        "param_grid = [{'model__gamma': ['scale', 'auto'],\n",
        "               'model__C': [1.0,0.1,0.01]}]\n",
        "\n",
        "gs = GridSearchCV(\n",
        "    estimator=pipe,\n",
        "    param_grid = param_grid,\n",
        "    n_jobs = multiprocessing.cpu_count(),\n",
        "    cv=5,\n",
        "    verbose=True\n",
        ")\n",
        "\n",
        "gs.fit(X,y)"
      ],
      "execution_count": 112,
      "outputs": [
        {
          "output_type": "stream",
          "text": [
            "Fitting 5 folds for each of 6 candidates, totalling 30 fits\n"
          ],
          "name": "stdout"
        },
        {
          "output_type": "stream",
          "text": [
            "[Parallel(n_jobs=2)]: Using backend LokyBackend with 2 concurrent workers.\n",
            "[Parallel(n_jobs=2)]: Done  30 out of  30 | elapsed:    0.1s finished\n"
          ],
          "name": "stderr"
        },
        {
          "output_type": "execute_result",
          "data": {
            "text/plain": [
              "GridSearchCV(cv=5, error_score=nan,\n",
              "             estimator=Pipeline(memory=None,\n",
              "                                steps=[('scaler',\n",
              "                                        StandardScaler(copy=True,\n",
              "                                                       with_mean=True,\n",
              "                                                       with_std=True)),\n",
              "                                       ('model',\n",
              "                                        SVC(C=1.0, break_ties=False,\n",
              "                                            cache_size=200, class_weight=None,\n",
              "                                            coef0=0.0,\n",
              "                                            decision_function_shape='ovr',\n",
              "                                            degree=3, gamma='scale',\n",
              "                                            kernel='linear', max_iter=-1,\n",
              "                                            probability=False,\n",
              "                                            random_state=None, shrinking=True,\n",
              "                                            tol=0.001, verbose=False))],\n",
              "                                verbose=False),\n",
              "             iid='deprecated', n_jobs=2,\n",
              "             param_grid=[{'model__C': [1.0, 0.1, 0.01],\n",
              "                          'model__gamma': ['scale', 'auto']}],\n",
              "             pre_dispatch='2*n_jobs', refit=True, return_train_score=False,\n",
              "             scoring=None, verbose=True)"
            ]
          },
          "metadata": {
            "tags": []
          },
          "execution_count": 112
        }
      ]
    },
    {
      "cell_type": "code",
      "metadata": {
        "colab": {
          "base_uri": "https://localhost:8080/"
        },
        "id": "S1xd0eh6ftxV",
        "outputId": "094b9ffa-5db2-4e63-d7df-459d5ed23f26"
      },
      "source": [
        "gs.best_estimator_"
      ],
      "execution_count": 113,
      "outputs": [
        {
          "output_type": "execute_result",
          "data": {
            "text/plain": [
              "Pipeline(memory=None,\n",
              "         steps=[('scaler',\n",
              "                 StandardScaler(copy=True, with_mean=True, with_std=True)),\n",
              "                ('model',\n",
              "                 SVC(C=1.0, break_ties=False, cache_size=200, class_weight=None,\n",
              "                     coef0=0.0, decision_function_shape='ovr', degree=3,\n",
              "                     gamma='scale', kernel='linear', max_iter=-1,\n",
              "                     probability=False, random_state=None, shrinking=True,\n",
              "                     tol=0.001, verbose=False))],\n",
              "         verbose=False)"
            ]
          },
          "metadata": {
            "tags": []
          },
          "execution_count": 113
        }
      ]
    },
    {
      "cell_type": "code",
      "metadata": {
        "colab": {
          "base_uri": "https://localhost:8080/"
        },
        "id": "G1u053UYftxW",
        "outputId": "17f8f5b4-9527-4354-b2df-67e3c086f31a"
      },
      "source": [
        "model = gs.best_estimator_\n",
        "model.fit(X_train, y_train)"
      ],
      "execution_count": 114,
      "outputs": [
        {
          "output_type": "execute_result",
          "data": {
            "text/plain": [
              "Pipeline(memory=None,\n",
              "         steps=[('scaler',\n",
              "                 StandardScaler(copy=True, with_mean=True, with_std=True)),\n",
              "                ('model',\n",
              "                 SVC(C=1.0, break_ties=False, cache_size=200, class_weight=None,\n",
              "                     coef0=0.0, decision_function_shape='ovr', degree=3,\n",
              "                     gamma='scale', kernel='linear', max_iter=-1,\n",
              "                     probability=False, random_state=None, shrinking=True,\n",
              "                     tol=0.001, verbose=False))],\n",
              "         verbose=False)"
            ]
          },
          "metadata": {
            "tags": []
          },
          "execution_count": 114
        }
      ]
    },
    {
      "cell_type": "code",
      "metadata": {
        "colab": {
          "base_uri": "https://localhost:8080/"
        },
        "id": "CgH3qcD1ftxW",
        "outputId": "0729037b-7cfd-4789-8b91-95495133cda8"
      },
      "source": [
        "print(\"학습 데이터 점수: {}\".format(model.score(X_train, y_train)))\n",
        "print(\"평가 데이터 점수: {}\".format(model.score(X_test, y_test)))"
      ],
      "execution_count": 115,
      "outputs": [
        {
          "output_type": "stream",
          "text": [
            "학습 데이터 점수: 0.9916666666666667\n",
            "평가 데이터 점수: 0.9666666666666667\n"
          ],
          "name": "stdout"
        }
      ]
    },
    {
      "cell_type": "markdown",
      "metadata": {
        "id": "fGErBCXR3P_p"
      },
      "source": [
        "### 와인"
      ]
    },
    {
      "cell_type": "code",
      "metadata": {
        "id": "UiCIW2yFgYTv"
      },
      "source": [
        "X, y = load_wine(return_X_y=True)\n",
        "X_train, X_test, y_train, y_test = train_test_split(X,y,test_size=0.2)"
      ],
      "execution_count": 116,
      "outputs": []
    },
    {
      "cell_type": "code",
      "metadata": {
        "id": "hW3zAonggYT_"
      },
      "source": [
        "scaler = StandardScaler()\n",
        "scaler.fit(X_train)\n",
        "X_train = scaler.transform(X_train)\n",
        "X_test = scaler.transform(X_test)"
      ],
      "execution_count": 117,
      "outputs": []
    },
    {
      "cell_type": "code",
      "metadata": {
        "colab": {
          "base_uri": "https://localhost:8080/"
        },
        "id": "oYAQpiKmgYUA",
        "outputId": "64e7351f-e32f-4e8a-a7d4-4c92bf0630c6"
      },
      "source": [
        "model = SVC(kernel='linear')\n",
        "model.fit(X_train, y_train)"
      ],
      "execution_count": 118,
      "outputs": [
        {
          "output_type": "execute_result",
          "data": {
            "text/plain": [
              "SVC(C=1.0, break_ties=False, cache_size=200, class_weight=None, coef0=0.0,\n",
              "    decision_function_shape='ovr', degree=3, gamma='scale', kernel='linear',\n",
              "    max_iter=-1, probability=False, random_state=None, shrinking=True,\n",
              "    tol=0.001, verbose=False)"
            ]
          },
          "metadata": {
            "tags": []
          },
          "execution_count": 118
        }
      ]
    },
    {
      "cell_type": "code",
      "metadata": {
        "colab": {
          "base_uri": "https://localhost:8080/"
        },
        "id": "atXN9D9ogYUB",
        "outputId": "22bd1ecf-2230-4da1-a89e-024a4244815a"
      },
      "source": [
        "print(\"학습 데이터 점수: {}\".format(model.score(X_train, y_train)))\n",
        "print(\"평가 데이터 점수: {}\".format(model.score(X_test, y_test)))"
      ],
      "execution_count": 119,
      "outputs": [
        {
          "output_type": "stream",
          "text": [
            "학습 데이터 점수: 1.0\n",
            "평가 데이터 점수: 0.9444444444444444\n"
          ],
          "name": "stdout"
        }
      ]
    },
    {
      "cell_type": "code",
      "metadata": {
        "id": "GZAdt3zTgYUC"
      },
      "source": [
        "X_comp = TSNE(n_components=2).fit_transform(X)\n",
        "X0, X1 = X_comp[:,0],X_comp[:,1]\n",
        "xx,yy = make_meshgrid(X0,X1)"
      ],
      "execution_count": 121,
      "outputs": []
    },
    {
      "cell_type": "code",
      "metadata": {
        "colab": {
          "base_uri": "https://localhost:8080/",
          "height": 280
        },
        "id": "l33sQzQQgYUC",
        "outputId": "f99a8687-e1c2-42a9-c976-0938ef113044"
      },
      "source": [
        "model.fit(X_comp, y)\n",
        "plot_contours(model, xx, yy, cmap=plt.cm.coolwarm, alpha=0.7)\n",
        "plt.scatter(X0,X1,c=y,cmap=plt.cm.coolwarm, s=20, edgecolors='k')"
      ],
      "execution_count": 122,
      "outputs": [
        {
          "output_type": "execute_result",
          "data": {
            "text/plain": [
              "<matplotlib.collections.PathCollection at 0x7f1166f71410>"
            ]
          },
          "metadata": {
            "tags": []
          },
          "execution_count": 122
        },
        {
          "output_type": "display_data",
          "data": {
            "image/png": "[encoded data removed]",
            "text/plain": [
              "<Figure size 432x288 with 1 Axes>"
            ]
          },
          "metadata": {
            "tags": [],
            "needs_background": "light"
          }
        }
      ]
    },
    {
      "cell_type": "code",
      "metadata": {
        "colab": {
          "base_uri": "https://localhost:8080/"
        },
        "id": "9tZzlPgXgYUD",
        "outputId": "806bb0c2-d424-493d-ba91-0c851411e31e"
      },
      "source": [
        "estimator = make_pipeline(StandardScaler(), SVC(kernel='linear'))\n",
        "\n",
        "cross_validate(\n",
        "    estimator=estimator,\n",
        "    X=X, y=y,\n",
        "    cv=5,\n",
        "    n_jobs = multiprocessing.cpu_count(),\n",
        "    verbose=True\n",
        ")"
      ],
      "execution_count": 123,
      "outputs": [
        {
          "output_type": "stream",
          "text": [
            "[Parallel(n_jobs=2)]: Using backend LokyBackend with 2 concurrent workers.\n",
            "[Parallel(n_jobs=2)]: Done   5 out of   5 | elapsed:    0.0s finished\n"
          ],
          "name": "stderr"
        },
        {
          "output_type": "execute_result",
          "data": {
            "text/plain": [
              "{'fit_time': array([0.00737882, 0.00263572, 0.002316  , 0.00352025, 0.00147033]),\n",
              " 'score_time': array([0.00080013, 0.00077057, 0.0007298 , 0.00069427, 0.00045323]),\n",
              " 'test_score': array([0.94444444, 0.97222222, 0.97222222, 0.97142857, 0.94285714])}"
            ]
          },
          "metadata": {
            "tags": []
          },
          "execution_count": 123
        }
      ]
    },
    {
      "cell_type": "code",
      "metadata": {
        "colab": {
          "base_uri": "https://localhost:8080/"
        },
        "id": "47cfhG0rgYUD",
        "outputId": "b82ab413-307d-4b5f-f7fb-5f6c9b48b0a6"
      },
      "source": [
        "pipe = Pipeline([('scaler', StandardScaler()),\n",
        "                 ('model', SVC(kernel='linear'))])\n",
        "\n",
        "param_grid = [{'model__gamma': ['scale', 'auto'],\n",
        "               'model__C': [1.0,0.1,0.01]}]\n",
        "\n",
        "gs = GridSearchCV(\n",
        "    estimator=pipe,\n",
        "    param_grid = param_grid,\n",
        "    n_jobs = multiprocessing.cpu_count(),\n",
        "    cv=5,\n",
        "    verbose=True\n",
        ")\n",
        "\n",
        "gs.fit(X,y)"
      ],
      "execution_count": 124,
      "outputs": [
        {
          "output_type": "stream",
          "text": [
            "Fitting 5 folds for each of 6 candidates, totalling 30 fits\n"
          ],
          "name": "stdout"
        },
        {
          "output_type": "stream",
          "text": [
            "[Parallel(n_jobs=2)]: Using backend LokyBackend with 2 concurrent workers.\n",
            "[Parallel(n_jobs=2)]: Done  30 out of  30 | elapsed:    0.1s finished\n"
          ],
          "name": "stderr"
        },
        {
          "output_type": "execute_result",
          "data": {
            "text/plain": [
              "GridSearchCV(cv=5, error_score=nan,\n",
              "             estimator=Pipeline(memory=None,\n",
              "                                steps=[('scaler',\n",
              "                                        StandardScaler(copy=True,\n",
              "                                                       with_mean=True,\n",
              "                                                       with_std=True)),\n",
              "                                       ('model',\n",
              "                                        SVC(C=1.0, break_ties=False,\n",
              "                                            cache_size=200, class_weight=None,\n",
              "                                            coef0=0.0,\n",
              "                                            decision_function_shape='ovr',\n",
              "                                            degree=3, gamma='scale',\n",
              "                                            kernel='linear', max_iter=-1,\n",
              "                                            probability=False,\n",
              "                                            random_state=None, shrinking=True,\n",
              "                                            tol=0.001, verbose=False))],\n",
              "                                verbose=False),\n",
              "             iid='deprecated', n_jobs=2,\n",
              "             param_grid=[{'model__C': [1.0, 0.1, 0.01],\n",
              "                          'model__gamma': ['scale', 'auto']}],\n",
              "             pre_dispatch='2*n_jobs', refit=True, return_train_score=False,\n",
              "             scoring=None, verbose=True)"
            ]
          },
          "metadata": {
            "tags": []
          },
          "execution_count": 124
        }
      ]
    },
    {
      "cell_type": "code",
      "metadata": {
        "colab": {
          "base_uri": "https://localhost:8080/"
        },
        "id": "eMjPB3GcgYUE",
        "outputId": "3af20528-16ab-4dd3-d740-416d795117bd"
      },
      "source": [
        "gs.best_estimator_"
      ],
      "execution_count": 125,
      "outputs": [
        {
          "output_type": "execute_result",
          "data": {
            "text/plain": [
              "Pipeline(memory=None,\n",
              "         steps=[('scaler',\n",
              "                 StandardScaler(copy=True, with_mean=True, with_std=True)),\n",
              "                ('model',\n",
              "                 SVC(C=0.1, break_ties=False, cache_size=200, class_weight=None,\n",
              "                     coef0=0.0, decision_function_shape='ovr', degree=3,\n",
              "                     gamma='scale', kernel='linear', max_iter=-1,\n",
              "                     probability=False, random_state=None, shrinking=True,\n",
              "                     tol=0.001, verbose=False))],\n",
              "         verbose=False)"
            ]
          },
          "metadata": {
            "tags": []
          },
          "execution_count": 125
        }
      ]
    },
    {
      "cell_type": "code",
      "metadata": {
        "colab": {
          "base_uri": "https://localhost:8080/"
        },
        "id": "-gYp_xCqgYUF",
        "outputId": "d76b889c-4fd3-4a70-9a8b-5f0c7c8d17e8"
      },
      "source": [
        "model = gs.best_estimator_\n",
        "model.fit(X_train, y_train)"
      ],
      "execution_count": 126,
      "outputs": [
        {
          "output_type": "execute_result",
          "data": {
            "text/plain": [
              "Pipeline(memory=None,\n",
              "         steps=[('scaler',\n",
              "                 StandardScaler(copy=True, with_mean=True, with_std=True)),\n",
              "                ('model',\n",
              "                 SVC(C=0.1, break_ties=False, cache_size=200, class_weight=None,\n",
              "                     coef0=0.0, decision_function_shape='ovr', degree=3,\n",
              "                     gamma='scale', kernel='linear', max_iter=-1,\n",
              "                     probability=False, random_state=None, shrinking=True,\n",
              "                     tol=0.001, verbose=False))],\n",
              "         verbose=False)"
            ]
          },
          "metadata": {
            "tags": []
          },
          "execution_count": 126
        }
      ]
    },
    {
      "cell_type": "code",
      "metadata": {
        "colab": {
          "base_uri": "https://localhost:8080/"
        },
        "id": "NxkMBRidgYUF",
        "outputId": "31c0b24c-004d-42b6-bfb6-24997e7d71db"
      },
      "source": [
        "print(\"학습 데이터 점수: {}\".format(model.score(X_train, y_train)))\n",
        "print(\"평가 데이터 점수: {}\".format(model.score(X_test, y_test)))"
      ],
      "execution_count": 127,
      "outputs": [
        {
          "output_type": "stream",
          "text": [
            "학습 데이터 점수: 0.9929577464788732\n",
            "평가 데이터 점수: 0.9444444444444444\n"
          ],
          "name": "stdout"
        }
      ]
    },
    {
      "cell_type": "markdown",
      "metadata": {
        "id": "NKavNYlxN1fB"
      },
      "source": [
        "## Kernel SVC"
      ]
    },
    {
      "cell_type": "markdown",
      "metadata": {
        "id": "M7QkeGrdOAxV"
      },
      "source": [
        "### 유방암"
      ]
    },
    {
      "cell_type": "code",
      "metadata": {
        "id": "t17aO6_jhfvU"
      },
      "source": [
        "X, y = load_breast_cancer(return_X_y=True)\n",
        "X_train, X_test, y_train, y_test = train_test_split(X,y,test_size=0.2)"
      ],
      "execution_count": 128,
      "outputs": []
    },
    {
      "cell_type": "code",
      "metadata": {
        "id": "UWGG50ZqhfvY"
      },
      "source": [
        "scaler = StandardScaler()\n",
        "scaler.fit(X_train)\n",
        "X_train = scaler.transform(X_train)\n",
        "X_test = scaler.transform(X_test)"
      ],
      "execution_count": 129,
      "outputs": []
    },
    {
      "cell_type": "code",
      "metadata": {
        "colab": {
          "base_uri": "https://localhost:8080/"
        },
        "id": "pMADBkNmhfvY",
        "outputId": "547bce90-002e-44d0-87b7-228785fbfcf9"
      },
      "source": [
        "model = SVC(kernel='rbf')\n",
        "model.fit(X_train, y_train)"
      ],
      "execution_count": 130,
      "outputs": [
        {
          "output_type": "execute_result",
          "data": {
            "text/plain": [
              "SVC(C=1.0, break_ties=False, cache_size=200, class_weight=None, coef0=0.0,\n",
              "    decision_function_shape='ovr', degree=3, gamma='scale', kernel='rbf',\n",
              "    max_iter=-1, probability=False, random_state=None, shrinking=True,\n",
              "    tol=0.001, verbose=False)"
            ]
          },
          "metadata": {
            "tags": []
          },
          "execution_count": 130
        }
      ]
    },
    {
      "cell_type": "code",
      "metadata": {
        "colab": {
          "base_uri": "https://localhost:8080/"
        },
        "id": "DfpSXj39hfvZ",
        "outputId": "d4408f7b-0689-44e1-8396-ebb8a837905a"
      },
      "source": [
        "print(\"학습 데이터 점수: {}\".format(model.score(X_train, y_train)))\n",
        "print(\"평가 데이터 점수: {}\".format(model.score(X_test, y_test)))"
      ],
      "execution_count": 131,
      "outputs": [
        {
          "output_type": "stream",
          "text": [
            "학습 데이터 점수: 0.9846153846153847\n",
            "평가 데이터 점수: 0.9824561403508771\n"
          ],
          "name": "stdout"
        }
      ]
    },
    {
      "cell_type": "code",
      "metadata": {
        "id": "jtewYIG0hfva"
      },
      "source": [
        "X_comp = TSNE(n_components=2).fit_transform(X)\n",
        "X0, X1 = X_comp[:,0],X_comp[:,1]\n",
        "xx,yy = make_meshgrid(X0,X1)"
      ],
      "execution_count": 132,
      "outputs": []
    },
    {
      "cell_type": "code",
      "metadata": {
        "colab": {
          "base_uri": "https://localhost:8080/",
          "height": 280
        },
        "id": "KFh_oJqnhfva",
        "outputId": "f921f2f5-20a8-4e38-df0c-9dacdb256ec5"
      },
      "source": [
        "model.fit(X_comp, y)\n",
        "plot_contours(model, xx, yy, cmap=plt.cm.coolwarm, alpha=0.7)\n",
        "plt.scatter(X0,X1,c=y,cmap=plt.cm.coolwarm, s=20, edgecolors='k')"
      ],
      "execution_count": 133,
      "outputs": [
        {
          "output_type": "execute_result",
          "data": {
            "text/plain": [
              "<matplotlib.collections.PathCollection at 0x7f115e65a250>"
            ]
          },
          "metadata": {
            "tags": []
          },
          "execution_count": 133
        },
        {
          "output_type": "display_data",
          "data": {
            "image/png": "[encoded data removed]",
            "text/plain": [
              "<Figure size 432x288 with 1 Axes>"
            ]
          },
          "metadata": {
            "tags": [],
            "needs_background": "light"
          }
        }
      ]
    },
    {
      "cell_type": "code",
      "metadata": {
        "colab": {
          "base_uri": "https://localhost:8080/"
        },
        "id": "bXxNud93hfvb",
        "outputId": "67312336-d751-44e8-822f-ab16409d8bb6"
      },
      "source": [
        "estimator = make_pipeline(StandardScaler(), SVC(kernel='rbf'))\n",
        "\n",
        "cross_validate(\n",
        "    estimator=estimator,\n",
        "    X=X, y=y,\n",
        "    cv=5,\n",
        "    n_jobs = multiprocessing.cpu_count(),\n",
        "    verbose=True\n",
        ")"
      ],
      "execution_count": 144,
      "outputs": [
        {
          "output_type": "stream",
          "text": [
            "[Parallel(n_jobs=2)]: Using backend LokyBackend with 2 concurrent workers.\n",
            "[Parallel(n_jobs=2)]: Done   5 out of   5 | elapsed:    0.0s finished\n"
          ],
          "name": "stderr"
        },
        {
          "output_type": "execute_result",
          "data": {
            "text/plain": [
              "{'fit_time': array([0.00319791, 0.00244617, 0.00219154, 0.00180435, 0.0015769 ]),\n",
              " 'score_time': array([0.00311232, 0.00078154, 0.00076461, 0.00077462, 0.00052142]),\n",
              " 'test_score': array([0.96666667, 0.96666667, 0.96666667, 0.93333333, 1.        ])}"
            ]
          },
          "metadata": {
            "tags": []
          },
          "execution_count": 144
        }
      ]
    },
    {
      "cell_type": "code",
      "metadata": {
        "colab": {
          "base_uri": "https://localhost:8080/"
        },
        "id": "Uwc70Z7bhfvb",
        "outputId": "c38b7c6d-3b65-40aa-82ad-64047adc51b5"
      },
      "source": [
        "pipe = Pipeline([('scaler', StandardScaler()),\n",
        "                 ('model', SVC(kernel='rbf'))])\n",
        "\n",
        "param_grid = [{'model__gamma': ['scale', 'auto'],\n",
        "               'model__C': [1.0,0.1,0.01]}]\n",
        "\n",
        "gs = GridSearchCV(\n",
        "    estimator=pipe,\n",
        "    param_grid = param_grid,\n",
        "    n_jobs = multiprocessing.cpu_count(),\n",
        "    cv=5,\n",
        "    verbose=True\n",
        ")\n",
        "\n",
        "gs.fit(X,y)"
      ],
      "execution_count": 145,
      "outputs": [
        {
          "output_type": "stream",
          "text": [
            "Fitting 5 folds for each of 6 candidates, totalling 30 fits\n"
          ],
          "name": "stdout"
        },
        {
          "output_type": "stream",
          "text": [
            "[Parallel(n_jobs=2)]: Using backend LokyBackend with 2 concurrent workers.\n",
            "[Parallel(n_jobs=2)]: Done  30 out of  30 | elapsed:    0.1s finished\n"
          ],
          "name": "stderr"
        },
        {
          "output_type": "execute_result",
          "data": {
            "text/plain": [
              "GridSearchCV(cv=5, error_score=nan,\n",
              "             estimator=Pipeline(memory=None,\n",
              "                                steps=[('scaler',\n",
              "                                        StandardScaler(copy=True,\n",
              "                                                       with_mean=True,\n",
              "                                                       with_std=True)),\n",
              "                                       ('model',\n",
              "                                        SVC(C=1.0, break_ties=False,\n",
              "                                            cache_size=200, class_weight=None,\n",
              "                                            coef0=0.0,\n",
              "                                            decision_function_shape='ovr',\n",
              "                                            degree=3, gamma='scale',\n",
              "                                            kernel='rbf', max_iter=-1,\n",
              "                                            probability=False,\n",
              "                                            random_state=None, shrinking=True,\n",
              "                                            tol=0.001, verbose=False))],\n",
              "                                verbose=False),\n",
              "             iid='deprecated', n_jobs=2,\n",
              "             param_grid=[{'model__C': [1.0, 0.1, 0.01],\n",
              "                          'model__gamma': ['scale', 'auto']}],\n",
              "             pre_dispatch='2*n_jobs', refit=True, return_train_score=False,\n",
              "             scoring=None, verbose=True)"
            ]
          },
          "metadata": {
            "tags": []
          },
          "execution_count": 145
        }
      ]
    },
    {
      "cell_type": "code",
      "metadata": {
        "colab": {
          "base_uri": "https://localhost:8080/"
        },
        "id": "R6rhKppYhfvc",
        "outputId": "a6028cf3-4725-4443-c4a3-1977134d365c"
      },
      "source": [
        "gs.best_estimator_"
      ],
      "execution_count": 146,
      "outputs": [
        {
          "output_type": "execute_result",
          "data": {
            "text/plain": [
              "Pipeline(memory=None,\n",
              "         steps=[('scaler',\n",
              "                 StandardScaler(copy=True, with_mean=True, with_std=True)),\n",
              "                ('model',\n",
              "                 SVC(C=1.0, break_ties=False, cache_size=200, class_weight=None,\n",
              "                     coef0=0.0, decision_function_shape='ovr', degree=3,\n",
              "                     gamma='scale', kernel='rbf', max_iter=-1,\n",
              "                     probability=False, random_state=None, shrinking=True,\n",
              "                     tol=0.001, verbose=False))],\n",
              "         verbose=False)"
            ]
          },
          "metadata": {
            "tags": []
          },
          "execution_count": 146
        }
      ]
    },
    {
      "cell_type": "code",
      "metadata": {
        "colab": {
          "base_uri": "https://localhost:8080/"
        },
        "id": "eLaJ8e_5hfvc",
        "outputId": "c7e46083-9e19-4a89-bdbf-cd8533198ebe"
      },
      "source": [
        "model = gs.best_estimator_\n",
        "model.fit(X_train, y_train)"
      ],
      "execution_count": 147,
      "outputs": [
        {
          "output_type": "execute_result",
          "data": {
            "text/plain": [
              "Pipeline(memory=None,\n",
              "         steps=[('scaler',\n",
              "                 StandardScaler(copy=True, with_mean=True, with_std=True)),\n",
              "                ('model',\n",
              "                 SVC(C=1.0, break_ties=False, cache_size=200, class_weight=None,\n",
              "                     coef0=0.0, decision_function_shape='ovr', degree=3,\n",
              "                     gamma='scale', kernel='rbf', max_iter=-1,\n",
              "                     probability=False, random_state=None, shrinking=True,\n",
              "                     tol=0.001, verbose=False))],\n",
              "         verbose=False)"
            ]
          },
          "metadata": {
            "tags": []
          },
          "execution_count": 147
        }
      ]
    },
    {
      "cell_type": "code",
      "metadata": {
        "colab": {
          "base_uri": "https://localhost:8080/"
        },
        "id": "4NvG2o1Mhfvc",
        "outputId": "9370c319-422a-432f-d56d-966d5115a50c"
      },
      "source": [
        "print(\"학습 데이터 점수: {}\".format(model.score(X_train, y_train)))\n",
        "print(\"평가 데이터 점수: {}\".format(model.score(X_test, y_test)))"
      ],
      "execution_count": 148,
      "outputs": [
        {
          "output_type": "stream",
          "text": [
            "학습 데이터 점수: 0.975\n",
            "평가 데이터 점수: 1.0\n"
          ],
          "name": "stdout"
        }
      ]
    },
    {
      "cell_type": "markdown",
      "metadata": {
        "id": "8488abTBN-GA"
      },
      "source": [
        "### 붓꽃"
      ]
    },
    {
      "cell_type": "code",
      "metadata": {
        "id": "DSVqOxAuieV3"
      },
      "source": [
        "X, y = load_iris(return_X_y=True)\n",
        "X_train, X_test, y_train, y_test = train_test_split(X,y,test_size=0.2)"
      ],
      "execution_count": 168,
      "outputs": []
    },
    {
      "cell_type": "code",
      "metadata": {
        "id": "JjXG0uLiieWF"
      },
      "source": [
        "scaler = StandardScaler()\n",
        "scaler.fit(X_train)\n",
        "X_train = scaler.transform(X_train)\n",
        "X_test = scaler.transform(X_test)"
      ],
      "execution_count": 169,
      "outputs": []
    },
    {
      "cell_type": "code",
      "metadata": {
        "colab": {
          "base_uri": "https://localhost:8080/"
        },
        "id": "8THn1q7vieWF",
        "outputId": "20d6e25d-fa5f-416f-e03c-a513b24b8ef0"
      },
      "source": [
        "model = SVC(kernel='rbf')\n",
        "model.fit(X_train, y_train)"
      ],
      "execution_count": 152,
      "outputs": [
        {
          "output_type": "execute_result",
          "data": {
            "text/plain": [
              "SVC(C=1.0, break_ties=False, cache_size=200, class_weight=None, coef0=0.0,\n",
              "    decision_function_shape='ovr', degree=3, gamma='scale', kernel='rbf',\n",
              "    max_iter=-1, probability=False, random_state=None, shrinking=True,\n",
              "    tol=0.001, verbose=False)"
            ]
          },
          "metadata": {
            "tags": []
          },
          "execution_count": 152
        }
      ]
    },
    {
      "cell_type": "code",
      "metadata": {
        "colab": {
          "base_uri": "https://localhost:8080/"
        },
        "id": "YfDR6whQieWG",
        "outputId": "113f2032-10d6-44d3-f11c-e9ece0f3b863"
      },
      "source": [
        "print(\"학습 데이터 점수: {}\".format(model.score(X_train, y_train)))\n",
        "print(\"평가 데이터 점수: {}\".format(model.score(X_test, y_test)))"
      ],
      "execution_count": 153,
      "outputs": [
        {
          "output_type": "stream",
          "text": [
            "학습 데이터 점수: 0.9833333333333333\n",
            "평가 데이터 점수: 0.9666666666666667\n"
          ],
          "name": "stdout"
        }
      ]
    },
    {
      "cell_type": "code",
      "metadata": {
        "id": "OKGzmX_uieWH"
      },
      "source": [
        "X_comp = TSNE(n_components=2).fit_transform(X)\n",
        "X0, X1 = X_comp[:,0],X_comp[:,1]\n",
        "xx,yy = make_meshgrid(X0,X1)"
      ],
      "execution_count": 154,
      "outputs": []
    },
    {
      "cell_type": "code",
      "metadata": {
        "colab": {
          "base_uri": "https://localhost:8080/",
          "height": 280
        },
        "id": "yhcnzat8ieWH",
        "outputId": "b2fb565c-f780-472b-a9b1-09ddcc2b15ec"
      },
      "source": [
        "model.fit(X_comp, y)\n",
        "plot_contours(model, xx, yy, cmap=plt.cm.coolwarm, alpha=0.7)\n",
        "plt.scatter(X0,X1,c=y,cmap=plt.cm.coolwarm, s=20, edgecolors='k')"
      ],
      "execution_count": 155,
      "outputs": [
        {
          "output_type": "execute_result",
          "data": {
            "text/plain": [
              "<matplotlib.collections.PathCollection at 0x7f11676cd690>"
            ]
          },
          "metadata": {
            "tags": []
          },
          "execution_count": 155
        },
        {
          "output_type": "display_data",
          "data": {
            "image/png": "[encoded data removed]",
            "text/plain": [
              "<Figure size 432x288 with 1 Axes>"
            ]
          },
          "metadata": {
            "tags": [],
            "needs_background": "light"
          }
        }
      ]
    },
    {
      "cell_type": "code",
      "metadata": {
        "colab": {
          "base_uri": "https://localhost:8080/"
        },
        "id": "YXupGzLfieWI",
        "outputId": "b0bdd1fb-0ad0-49d5-a860-0da6be655dbf"
      },
      "source": [
        "estimator = make_pipeline(StandardScaler(), SVC(kernel='linear'))\n",
        "\n",
        "cross_validate(\n",
        "    estimator=estimator,\n",
        "    X=X, y=y,\n",
        "    cv=5,\n",
        "    n_jobs = multiprocessing.cpu_count(),\n",
        "    verbose=True\n",
        ")"
      ],
      "execution_count": 161,
      "outputs": [
        {
          "output_type": "stream",
          "text": [
            "[Parallel(n_jobs=2)]: Using backend LokyBackend with 2 concurrent workers.\n",
            "[Parallel(n_jobs=2)]: Done   5 out of   5 | elapsed:    0.0s finished\n"
          ],
          "name": "stderr"
        },
        {
          "output_type": "execute_result",
          "data": {
            "text/plain": [
              "{'fit_time': array([0.00218964, 0.00225759, 0.00133371, 0.00203609, 0.00220895]),\n",
              " 'score_time': array([0.00073981, 0.00067306, 0.00043106, 0.00067067, 0.0004425 ]),\n",
              " 'test_score': array([0.96666667, 1.        , 0.93333333, 0.93333333, 1.        ])}"
            ]
          },
          "metadata": {
            "tags": []
          },
          "execution_count": 161
        }
      ]
    },
    {
      "cell_type": "code",
      "metadata": {
        "colab": {
          "base_uri": "https://localhost:8080/"
        },
        "id": "kTuz5KNdieWJ",
        "outputId": "e9f5ab9a-96b2-4da8-b584-c61dc1dd9f2a"
      },
      "source": [
        "pipe = Pipeline([('scaler', StandardScaler()),\n",
        "                 ('model', SVC(kernel='linear'))])\n",
        "\n",
        "param_grid = [{'model__gamma': ['scale', 'auto'],\n",
        "               'model__C': [1.0,0.1,0.01]}]\n",
        "\n",
        "gs = GridSearchCV(\n",
        "    estimator=pipe,\n",
        "    param_grid = param_grid,\n",
        "    n_jobs = multiprocessing.cpu_count(),\n",
        "    cv=5,\n",
        "    verbose=True\n",
        ")\n",
        "\n",
        "gs.fit(X,y)"
      ],
      "execution_count": 162,
      "outputs": [
        {
          "output_type": "stream",
          "text": [
            "Fitting 5 folds for each of 6 candidates, totalling 30 fits\n"
          ],
          "name": "stdout"
        },
        {
          "output_type": "stream",
          "text": [
            "[Parallel(n_jobs=2)]: Using backend LokyBackend with 2 concurrent workers.\n",
            "[Parallel(n_jobs=2)]: Done  30 out of  30 | elapsed:    0.1s finished\n"
          ],
          "name": "stderr"
        },
        {
          "output_type": "execute_result",
          "data": {
            "text/plain": [
              "GridSearchCV(cv=5, error_score=nan,\n",
              "             estimator=Pipeline(memory=None,\n",
              "                                steps=[('scaler',\n",
              "                                        StandardScaler(copy=True,\n",
              "                                                       with_mean=True,\n",
              "                                                       with_std=True)),\n",
              "                                       ('model',\n",
              "                                        SVC(C=1.0, break_ties=False,\n",
              "                                            cache_size=200, class_weight=None,\n",
              "                                            coef0=0.0,\n",
              "                                            decision_function_shape='ovr',\n",
              "                                            degree=3, gamma='scale',\n",
              "                                            kernel='linear', max_iter=-1,\n",
              "                                            probability=False,\n",
              "                                            random_state=None, shrinking=True,\n",
              "                                            tol=0.001, verbose=False))],\n",
              "                                verbose=False),\n",
              "             iid='deprecated', n_jobs=2,\n",
              "             param_grid=[{'model__C': [1.0, 0.1, 0.01],\n",
              "                          'model__gamma': ['scale', 'auto']}],\n",
              "             pre_dispatch='2*n_jobs', refit=True, return_train_score=False,\n",
              "             scoring=None, verbose=True)"
            ]
          },
          "metadata": {
            "tags": []
          },
          "execution_count": 162
        }
      ]
    },
    {
      "cell_type": "code",
      "metadata": {
        "colab": {
          "base_uri": "https://localhost:8080/"
        },
        "id": "nqVr_sQYieWK",
        "outputId": "887d2969-36c7-4690-860b-2f199ede9da8"
      },
      "source": [
        "gs.best_estimator_"
      ],
      "execution_count": 163,
      "outputs": [
        {
          "output_type": "execute_result",
          "data": {
            "text/plain": [
              "Pipeline(memory=None,\n",
              "         steps=[('scaler',\n",
              "                 StandardScaler(copy=True, with_mean=True, with_std=True)),\n",
              "                ('model',\n",
              "                 SVC(C=1.0, break_ties=False, cache_size=200, class_weight=None,\n",
              "                     coef0=0.0, decision_function_shape='ovr', degree=3,\n",
              "                     gamma='scale', kernel='linear', max_iter=-1,\n",
              "                     probability=False, random_state=None, shrinking=True,\n",
              "                     tol=0.001, verbose=False))],\n",
              "         verbose=False)"
            ]
          },
          "metadata": {
            "tags": []
          },
          "execution_count": 163
        }
      ]
    },
    {
      "cell_type": "code",
      "metadata": {
        "colab": {
          "base_uri": "https://localhost:8080/"
        },
        "id": "Dx-icYyVieWK",
        "outputId": "e3abefdf-86fd-4197-99af-fad8b1166a2e"
      },
      "source": [
        "model = gs.best_estimator_\n",
        "model.fit(X_train, y_train)"
      ],
      "execution_count": 164,
      "outputs": [
        {
          "output_type": "execute_result",
          "data": {
            "text/plain": [
              "Pipeline(memory=None,\n",
              "         steps=[('scaler',\n",
              "                 StandardScaler(copy=True, with_mean=True, with_std=True)),\n",
              "                ('model',\n",
              "                 SVC(C=1.0, break_ties=False, cache_size=200, class_weight=None,\n",
              "                     coef0=0.0, decision_function_shape='ovr', degree=3,\n",
              "                     gamma='scale', kernel='linear', max_iter=-1,\n",
              "                     probability=False, random_state=None, shrinking=True,\n",
              "                     tol=0.001, verbose=False))],\n",
              "         verbose=False)"
            ]
          },
          "metadata": {
            "tags": []
          },
          "execution_count": 164
        }
      ]
    },
    {
      "cell_type": "code",
      "metadata": {
        "colab": {
          "base_uri": "https://localhost:8080/"
        },
        "id": "9r-Y2_NTieWK",
        "outputId": "f05db947-23a3-4f2a-8d26-d1bda025233a"
      },
      "source": [
        "print(\"학습 데이터 점수: {}\".format(model.score(X_train, y_train)))\n",
        "print(\"평가 데이터 점수: {}\".format(model.score(X_test, y_test)))"
      ],
      "execution_count": 165,
      "outputs": [
        {
          "output_type": "stream",
          "text": [
            "학습 데이터 점수: 0.975\n",
            "평가 데이터 점수: 0.9666666666666667\n"
          ],
          "name": "stdout"
        }
      ]
    },
    {
      "cell_type": "markdown",
      "metadata": {
        "id": "nidX5eMZ3ncE"
      },
      "source": [
        "### 와인"
      ]
    },
    {
      "cell_type": "code",
      "metadata": {
        "id": "CG-fGW7UoLkV"
      },
      "source": [
        "X, y = load_wine(return_X_y=True)\n",
        "X_train, X_test, y_train, y_test = train_test_split(X,y,test_size=0.2)"
      ],
      "execution_count": 170,
      "outputs": []
    },
    {
      "cell_type": "code",
      "metadata": {
        "id": "S6SKtbFKoLkb"
      },
      "source": [
        "scaler = StandardScaler()\n",
        "scaler.fit(X_train)\n",
        "X_train = scaler.transform(X_train)\n",
        "X_test = scaler.transform(X_test)"
      ],
      "execution_count": 171,
      "outputs": []
    },
    {
      "cell_type": "code",
      "metadata": {
        "colab": {
          "base_uri": "https://localhost:8080/"
        },
        "id": "GEA1UoLkoLkc",
        "outputId": "223e6045-72e4-404c-a5f2-7058765c9427"
      },
      "source": [
        "model = SVC(kernel='rbf')\n",
        "model.fit(X_train, y_train)"
      ],
      "execution_count": 172,
      "outputs": [
        {
          "output_type": "execute_result",
          "data": {
            "text/plain": [
              "SVC(C=1.0, break_ties=False, cache_size=200, class_weight=None, coef0=0.0,\n",
              "    decision_function_shape='ovr', degree=3, gamma='scale', kernel='rbf',\n",
              "    max_iter=-1, probability=False, random_state=None, shrinking=True,\n",
              "    tol=0.001, verbose=False)"
            ]
          },
          "metadata": {
            "tags": []
          },
          "execution_count": 172
        }
      ]
    },
    {
      "cell_type": "code",
      "metadata": {
        "colab": {
          "base_uri": "https://localhost:8080/"
        },
        "id": "oyrkBEMUoLkd",
        "outputId": "6f40ffbf-2478-4775-97ef-be1206716ef0"
      },
      "source": [
        "print(\"학습 데이터 점수: {}\".format(model.score(X_train, y_train)))\n",
        "print(\"평가 데이터 점수: {}\".format(model.score(X_test, y_test)))"
      ],
      "execution_count": 173,
      "outputs": [
        {
          "output_type": "stream",
          "text": [
            "학습 데이터 점수: 0.9929577464788732\n",
            "평가 데이터 점수: 0.9722222222222222\n"
          ],
          "name": "stdout"
        }
      ]
    },
    {
      "cell_type": "code",
      "metadata": {
        "id": "WmWAidGAoLke"
      },
      "source": [
        "X_comp = TSNE(n_components=2).fit_transform(X)\n",
        "X0, X1 = X_comp[:,0],X_comp[:,1]\n",
        "xx,yy = make_meshgrid(X0,X1)"
      ],
      "execution_count": 174,
      "outputs": []
    },
    {
      "cell_type": "code",
      "metadata": {
        "colab": {
          "base_uri": "https://localhost:8080/",
          "height": 280
        },
        "id": "UO9oBvFtoLke",
        "outputId": "1d4eaf87-e70b-4cf1-b343-5ac5aa238bcc"
      },
      "source": [
        "model.fit(X_comp, y)\n",
        "plot_contours(model, xx, yy, cmap=plt.cm.coolwarm, alpha=0.7)\n",
        "plt.scatter(X0,X1,c=y,cmap=plt.cm.coolwarm, s=20, edgecolors='k')"
      ],
      "execution_count": 175,
      "outputs": [
        {
          "output_type": "execute_result",
          "data": {
            "text/plain": [
              "<matplotlib.collections.PathCollection at 0x7f1166fc2a50>"
            ]
          },
          "metadata": {
            "tags": []
          },
          "execution_count": 175
        },
        {
          "output_type": "display_data",
          "data": {
            "image/png": "[encoded data removed]",
            "text/plain": [
              "<Figure size 432x288 with 1 Axes>"
            ]
          },
          "metadata": {
            "tags": [],
            "needs_background": "light"
          }
        }
      ]
    },
    {
      "cell_type": "code",
      "metadata": {
        "colab": {
          "base_uri": "https://localhost:8080/"
        },
        "id": "-Vf7aHQxoLkf",
        "outputId": "7f3221db-8b23-4e41-b28a-91ef1162fa1c"
      },
      "source": [
        "estimator = make_pipeline(StandardScaler(), SVC(kernel='linear'))\n",
        "\n",
        "cross_validate(\n",
        "    estimator=estimator,\n",
        "    X=X, y=y,\n",
        "    cv=5,\n",
        "    n_jobs = multiprocessing.cpu_count(),\n",
        "    verbose=True\n",
        ")"
      ],
      "execution_count": 176,
      "outputs": [
        {
          "output_type": "stream",
          "text": [
            "[Parallel(n_jobs=2)]: Using backend LokyBackend with 2 concurrent workers.\n",
            "[Parallel(n_jobs=2)]: Done   5 out of   5 | elapsed:    0.8s finished\n"
          ],
          "name": "stderr"
        },
        {
          "output_type": "execute_result",
          "data": {
            "text/plain": [
              "{'fit_time': array([0.0031662 , 0.00229239, 0.00352669, 0.00269532, 0.00243211]),\n",
              " 'score_time': array([0.00076938, 0.00051045, 0.00090408, 0.00066757, 0.00073671]),\n",
              " 'test_score': array([0.94444444, 0.97222222, 0.97222222, 0.97142857, 0.94285714])}"
            ]
          },
          "metadata": {
            "tags": []
          },
          "execution_count": 176
        }
      ]
    },
    {
      "cell_type": "code",
      "metadata": {
        "colab": {
          "base_uri": "https://localhost:8080/"
        },
        "id": "iizifKN2oLkf",
        "outputId": "5f005e20-7ee1-427b-d424-210718f2ad5b"
      },
      "source": [
        "pipe = Pipeline([('scaler', StandardScaler()),\n",
        "                 ('model', SVC(kernel='linear'))])\n",
        "\n",
        "param_grid = [{'model__gamma': ['scale', 'auto'],\n",
        "               'model__C': [1.0,0.1,0.01]}]\n",
        "\n",
        "gs = GridSearchCV(\n",
        "    estimator=pipe,\n",
        "    param_grid = param_grid,\n",
        "    n_jobs = multiprocessing.cpu_count(),\n",
        "    cv=5,\n",
        "    verbose=True\n",
        ")\n",
        "\n",
        "gs.fit(X,y)"
      ],
      "execution_count": 177,
      "outputs": [
        {
          "output_type": "stream",
          "text": [
            "Fitting 5 folds for each of 6 candidates, totalling 30 fits\n"
          ],
          "name": "stdout"
        },
        {
          "output_type": "stream",
          "text": [
            "[Parallel(n_jobs=2)]: Using backend LokyBackend with 2 concurrent workers.\n",
            "[Parallel(n_jobs=2)]: Done  30 out of  30 | elapsed:    0.1s finished\n"
          ],
          "name": "stderr"
        },
        {
          "output_type": "execute_result",
          "data": {
            "text/plain": [
              "GridSearchCV(cv=5, error_score=nan,\n",
              "             estimator=Pipeline(memory=None,\n",
              "                                steps=[('scaler',\n",
              "                                        StandardScaler(copy=True,\n",
              "                                                       with_mean=True,\n",
              "                                                       with_std=True)),\n",
              "                                       ('model',\n",
              "                                        SVC(C=1.0, break_ties=False,\n",
              "                                            cache_size=200, class_weight=None,\n",
              "                                            coef0=0.0,\n",
              "                                            decision_function_shape='ovr',\n",
              "                                            degree=3, gamma='scale',\n",
              "                                            kernel='linear', max_iter=-1,\n",
              "                                            probability=False,\n",
              "                                            random_state=None, shrinking=True,\n",
              "                                            tol=0.001, verbose=False))],\n",
              "                                verbose=False),\n",
              "             iid='deprecated', n_jobs=2,\n",
              "             param_grid=[{'model__C': [1.0, 0.1, 0.01],\n",
              "                          'model__gamma': ['scale', 'auto']}],\n",
              "             pre_dispatch='2*n_jobs', refit=True, return_train_score=False,\n",
              "             scoring=None, verbose=True)"
            ]
          },
          "metadata": {
            "tags": []
          },
          "execution_count": 177
        }
      ]
    },
    {
      "cell_type": "code",
      "metadata": {
        "colab": {
          "base_uri": "https://localhost:8080/"
        },
        "id": "MrmnFbd-oLkg",
        "outputId": "696d2488-36a8-4d3a-c8a5-9bb0c64323c0"
      },
      "source": [
        "gs.best_estimator_"
      ],
      "execution_count": 178,
      "outputs": [
        {
          "output_type": "execute_result",
          "data": {
            "text/plain": [
              "Pipeline(memory=None,\n",
              "         steps=[('scaler',\n",
              "                 StandardScaler(copy=True, with_mean=True, with_std=True)),\n",
              "                ('model',\n",
              "                 SVC(C=0.1, break_ties=False, cache_size=200, class_weight=None,\n",
              "                     coef0=0.0, decision_function_shape='ovr', degree=3,\n",
              "                     gamma='scale', kernel='linear', max_iter=-1,\n",
              "                     probability=False, random_state=None, shrinking=True,\n",
              "                     tol=0.001, verbose=False))],\n",
              "         verbose=False)"
            ]
          },
          "metadata": {
            "tags": []
          },
          "execution_count": 178
        }
      ]
    },
    {
      "cell_type": "code",
      "metadata": {
        "colab": {
          "base_uri": "https://localhost:8080/"
        },
        "id": "Ku3RIFmyoLkg",
        "outputId": "736a04a3-c6de-4fac-8900-abb5b17e7d72"
      },
      "source": [
        "model = gs.best_estimator_\n",
        "model.fit(X_train, y_train)"
      ],
      "execution_count": 179,
      "outputs": [
        {
          "output_type": "execute_result",
          "data": {
            "text/plain": [
              "Pipeline(memory=None,\n",
              "         steps=[('scaler',\n",
              "                 StandardScaler(copy=True, with_mean=True, with_std=True)),\n",
              "                ('model',\n",
              "                 SVC(C=0.1, break_ties=False, cache_size=200, class_weight=None,\n",
              "                     coef0=0.0, decision_function_shape='ovr', degree=3,\n",
              "                     gamma='scale', kernel='linear', max_iter=-1,\n",
              "                     probability=False, random_state=None, shrinking=True,\n",
              "                     tol=0.001, verbose=False))],\n",
              "         verbose=False)"
            ]
          },
          "metadata": {
            "tags": []
          },
          "execution_count": 179
        }
      ]
    },
    {
      "cell_type": "code",
      "metadata": {
        "colab": {
          "base_uri": "https://localhost:8080/"
        },
        "id": "_aDBdNUHoLkh",
        "outputId": "3c4812cb-6819-4dbb-dafb-94680ab102d2"
      },
      "source": [
        "print(\"학습 데이터 점수: {}\".format(model.score(X_train, y_train)))\n",
        "print(\"평가 데이터 점수: {}\".format(model.score(X_test, y_test)))"
      ],
      "execution_count": 180,
      "outputs": [
        {
          "output_type": "stream",
          "text": [
            "학습 데이터 점수: 0.9929577464788732\n",
            "평가 데이터 점수: 1.0\n"
          ],
          "name": "stdout"
        }
      ]
    }
  ]
}