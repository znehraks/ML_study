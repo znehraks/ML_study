{
  "nbformat": 4,
  "nbformat_minor": 0,
  "metadata": {
    "colab": {
      "name": "_6 최근접 이웃(K-Nearest Neighbor).ipynb의 사본",
      "provenance": [],
      "collapsed_sections": [],
      "toc_visible": true,
      "include_colab_link": true
    },
    "kernelspec": {
      "name": "python3",
      "display_name": "Python 3"
    }
  },
  "cells": [
    {
      "cell_type": "markdown",
      "metadata": {
        "id": "view-in-github",
        "colab_type": "text"
      },
      "source": [
        "<a href=\"https://colab.research.google.com/github/znehraks/ML_study/blob/main/_6_%EC%B5%9C%EA%B7%BC%EC%A0%91_%EC%9D%B4%EC%9B%83(K_Nearest_Neighbor)_ipynb%EC%9D%98_%EC%82%AC%EB%B3%B8.ipynb\" target=\"_parent\"><img src=\"https://colab.research.google.com/assets/colab-badge.svg\" alt=\"Open In Colab\"/></a>"
      ]
    },
    {
      "cell_type": "markdown",
      "metadata": {
        "id": "reeeTTbVY28O"
      },
      "source": [
        "# 최근접 이웃(K-Nearest Neighbor)\n",
        "\n",
        "* 특별한 예측 모델 없이 가장 가까운 데이터 포인트를 기반으로 예측을 수행하는 방법\n",
        "* 분류와 회귀 모두 지원\n",
        "\n",
        "![k nearest neighbor](https://upload.wikimedia.org/wikipedia/commons/thumb/e/e7/KnnClassification.svg/220px-KnnClassification.svg.png)"
      ]
    },
    {
      "cell_type": "code",
      "metadata": {
        "id": "svnGpXfcXfW5"
      },
      "source": [
        "import pandas as pd\n",
        "import numpy as np\n",
        "import multiprocessing\n",
        "import matplotlib.pyplot as plt\n",
        "plt.style.use(['seaborn-whitegrid'])"
      ],
      "execution_count": 1,
      "outputs": []
    },
    {
      "cell_type": "code",
      "metadata": {
        "id": "x2kel7ZODqtO"
      },
      "source": [
        "from sklearn.neighbors import KNeighborsClassifier, KNeighborsRegressor\n",
        "from sklearn.manifold import TSNE \n",
        "from sklearn.datasets import load_iris, load_breast_cancer, load_wine\n",
        "from sklearn.datasets import load_boston, fetch_california_housing\n",
        "from sklearn.model_selection import train_test_split, cross_validate, GridSearchCV\n",
        "from sklearn.preprocessing import StandardScaler\n",
        "from sklearn.pipeline import make_pipeline, Pipeline"
      ],
      "execution_count": 76,
      "outputs": []
    },
    {
      "cell_type": "markdown",
      "metadata": {
        "id": "D8CFyHPobqYh"
      },
      "source": [
        "## K 최근접 이웃 분류\n",
        "\n",
        "* 입력 데이터 포인트와 가장 가까운 k개의 훈련 데이터 포인트가 출력\n",
        "* k개의 데이터 포인트 중 가장 많은 클래스가 예측 결과"
      ]
    },
    {
      "cell_type": "markdown",
      "metadata": {
        "id": "BprG81sWlegb"
      },
      "source": [
        "### 붓꽃 데이터"
      ]
    },
    {
      "cell_type": "code",
      "metadata": {
        "id": "10ODxzU3m9H2"
      },
      "source": [
        "iris = load_iris()"
      ],
      "execution_count": 3,
      "outputs": []
    },
    {
      "cell_type": "code",
      "metadata": {
        "id": "hJCGT4wanoYb",
        "colab": {
          "base_uri": "https://localhost:8080/",
          "height": 417
        },
        "outputId": "840d8584-a7ad-46d5-e4bf-4fece9fe012f"
      },
      "source": [
        "iris_df = pd.DataFrame(data=iris.data, columns = iris.feature_names)\n",
        "iris_df['Target']=iris.target\n",
        "iris_df"
      ],
      "execution_count": 4,
      "outputs": [
        {
          "output_type": "execute_result",
          "data": {
            "text/html": [
              "<div>\n",
              "<style scoped>\n",
              "    .dataframe tbody tr th:only-of-type {\n",
              "        vertical-align: middle;\n",
              "    }\n",
              "\n",
              "    .dataframe tbody tr th {\n",
              "        vertical-align: top;\n",
              "    }\n",
              "\n",
              "    .dataframe thead th {\n",
              "        text-align: right;\n",
              "    }\n",
              "</style>\n",
              "<table border=\"1\" class=\"dataframe\">\n",
              "  <thead>\n",
              "    <tr style=\"text-align: right;\">\n",
              "      <th></th>\n",
              "      <th>sepal length (cm)</th>\n",
              "      <th>sepal width (cm)</th>\n",
              "      <th>petal length (cm)</th>\n",
              "      <th>petal width (cm)</th>\n",
              "      <th>Target</th>\n",
              "    </tr>\n",
              "  </thead>\n",
              "  <tbody>\n",
              "    <tr>\n",
              "      <th>0</th>\n",
              "      <td>5.1</td>\n",
              "      <td>3.5</td>\n",
              "      <td>1.4</td>\n",
              "      <td>0.2</td>\n",
              "      <td>0</td>\n",
              "    </tr>\n",
              "    <tr>\n",
              "      <th>1</th>\n",
              "      <td>4.9</td>\n",
              "      <td>3.0</td>\n",
              "      <td>1.4</td>\n",
              "      <td>0.2</td>\n",
              "      <td>0</td>\n",
              "    </tr>\n",
              "    <tr>\n",
              "      <th>2</th>\n",
              "      <td>4.7</td>\n",
              "      <td>3.2</td>\n",
              "      <td>1.3</td>\n",
              "      <td>0.2</td>\n",
              "      <td>0</td>\n",
              "    </tr>\n",
              "    <tr>\n",
              "      <th>3</th>\n",
              "      <td>4.6</td>\n",
              "      <td>3.1</td>\n",
              "      <td>1.5</td>\n",
              "      <td>0.2</td>\n",
              "      <td>0</td>\n",
              "    </tr>\n",
              "    <tr>\n",
              "      <th>4</th>\n",
              "      <td>5.0</td>\n",
              "      <td>3.6</td>\n",
              "      <td>1.4</td>\n",
              "      <td>0.2</td>\n",
              "      <td>0</td>\n",
              "    </tr>\n",
              "    <tr>\n",
              "      <th>...</th>\n",
              "      <td>...</td>\n",
              "      <td>...</td>\n",
              "      <td>...</td>\n",
              "      <td>...</td>\n",
              "      <td>...</td>\n",
              "    </tr>\n",
              "    <tr>\n",
              "      <th>145</th>\n",
              "      <td>6.7</td>\n",
              "      <td>3.0</td>\n",
              "      <td>5.2</td>\n",
              "      <td>2.3</td>\n",
              "      <td>2</td>\n",
              "    </tr>\n",
              "    <tr>\n",
              "      <th>146</th>\n",
              "      <td>6.3</td>\n",
              "      <td>2.5</td>\n",
              "      <td>5.0</td>\n",
              "      <td>1.9</td>\n",
              "      <td>2</td>\n",
              "    </tr>\n",
              "    <tr>\n",
              "      <th>147</th>\n",
              "      <td>6.5</td>\n",
              "      <td>3.0</td>\n",
              "      <td>5.2</td>\n",
              "      <td>2.0</td>\n",
              "      <td>2</td>\n",
              "    </tr>\n",
              "    <tr>\n",
              "      <th>148</th>\n",
              "      <td>6.2</td>\n",
              "      <td>3.4</td>\n",
              "      <td>5.4</td>\n",
              "      <td>2.3</td>\n",
              "      <td>2</td>\n",
              "    </tr>\n",
              "    <tr>\n",
              "      <th>149</th>\n",
              "      <td>5.9</td>\n",
              "      <td>3.0</td>\n",
              "      <td>5.1</td>\n",
              "      <td>1.8</td>\n",
              "      <td>2</td>\n",
              "    </tr>\n",
              "  </tbody>\n",
              "</table>\n",
              "<p>150 rows × 5 columns</p>\n",
              "</div>"
            ],
            "text/plain": [
              "     sepal length (cm)  sepal width (cm)  ...  petal width (cm)  Target\n",
              "0                  5.1               3.5  ...               0.2       0\n",
              "1                  4.9               3.0  ...               0.2       0\n",
              "2                  4.7               3.2  ...               0.2       0\n",
              "3                  4.6               3.1  ...               0.2       0\n",
              "4                  5.0               3.6  ...               0.2       0\n",
              "..                 ...               ...  ...               ...     ...\n",
              "145                6.7               3.0  ...               2.3       2\n",
              "146                6.3               2.5  ...               1.9       2\n",
              "147                6.5               3.0  ...               2.0       2\n",
              "148                6.2               3.4  ...               2.3       2\n",
              "149                5.9               3.0  ...               1.8       2\n",
              "\n",
              "[150 rows x 5 columns]"
            ]
          },
          "metadata": {
            "tags": []
          },
          "execution_count": 4
        }
      ]
    },
    {
      "cell_type": "code",
      "metadata": {
        "id": "BAud-8VXo4wh"
      },
      "source": [
        "X, y = load_iris(return_X_y=True)\n",
        "X_train, X_test, y_train, y_test = train_test_split(X,y,test_size=0.2)"
      ],
      "execution_count": 11,
      "outputs": []
    },
    {
      "cell_type": "code",
      "metadata": {
        "id": "rI00rdHNqnIb"
      },
      "source": [
        "scaler = StandardScaler()\n",
        "X_train_scale = scaler.fit_transform(X_train)\n",
        "X_test_scale = scaler.transform(X_test)"
      ],
      "execution_count": 12,
      "outputs": []
    },
    {
      "cell_type": "code",
      "metadata": {
        "id": "j4uOlqY3p40w",
        "colab": {
          "base_uri": "https://localhost:8080/"
        },
        "outputId": "2abd8cc7-84c6-4909-fe6f-b550da95c6a8"
      },
      "source": [
        "model = KNeighborsClassifier()\n",
        "model.fit(X_train,y_train)"
      ],
      "execution_count": 13,
      "outputs": [
        {
          "output_type": "execute_result",
          "data": {
            "text/plain": [
              "KNeighborsClassifier(algorithm='auto', leaf_size=30, metric='minkowski',\n",
              "                     metric_params=None, n_jobs=None, n_neighbors=5, p=2,\n",
              "                     weights='uniform')"
            ]
          },
          "metadata": {
            "tags": []
          },
          "execution_count": 13
        }
      ]
    },
    {
      "cell_type": "code",
      "metadata": {
        "id": "YilSBzS7qEth",
        "colab": {
          "base_uri": "https://localhost:8080/"
        },
        "outputId": "59984ec7-4903-43cb-9933-466319cbabbc"
      },
      "source": [
        "print(\"학습 데이터 점수: {}\".format(model.score(X_train, y_train)))\n",
        "print(\"평가 데이터 점수: {}\".format(model.score(X_test, y_test)))"
      ],
      "execution_count": 14,
      "outputs": [
        {
          "output_type": "stream",
          "text": [
            "학습 데이터 점수: 0.9916666666666667\n",
            "평가 데이터 점수: 0.9\n"
          ],
          "name": "stdout"
        }
      ]
    },
    {
      "cell_type": "code",
      "metadata": {
        "id": "ed4b7JFlq9_z",
        "colab": {
          "base_uri": "https://localhost:8080/"
        },
        "outputId": "78626fa2-784a-4004-fabd-7570bfd32731"
      },
      "source": [
        "model = KNeighborsClassifier()\n",
        "model.fit(X_train_scale, y_train)"
      ],
      "execution_count": 15,
      "outputs": [
        {
          "output_type": "execute_result",
          "data": {
            "text/plain": [
              "KNeighborsClassifier(algorithm='auto', leaf_size=30, metric='minkowski',\n",
              "                     metric_params=None, n_jobs=None, n_neighbors=5, p=2,\n",
              "                     weights='uniform')"
            ]
          },
          "metadata": {
            "tags": []
          },
          "execution_count": 15
        }
      ]
    },
    {
      "cell_type": "code",
      "metadata": {
        "id": "qQwyWWaTrBCH",
        "colab": {
          "base_uri": "https://localhost:8080/"
        },
        "outputId": "1fc9787f-28d6-4385-cc05-83b0f07f7514"
      },
      "source": [
        "print(\"학습 데이터 점수: {}\".format(model.score(X_train_scale, y_train)))\n",
        "print(\"평가 데이터 점수: {}\".format(model.score(X_test_scale, y_test)))"
      ],
      "execution_count": 89,
      "outputs": [
        {
          "output_type": "stream",
          "text": [
            "학습 데이터 점수: 0.9929577464788732\n",
            "평가 데이터 점수: 0.9444444444444444\n"
          ],
          "name": "stdout"
        }
      ]
    },
    {
      "cell_type": "code",
      "metadata": {
        "id": "1Is-4l_Brd4v",
        "colab": {
          "base_uri": "https://localhost:8080/"
        },
        "outputId": "d5579993-3ee3-4629-8a21-8ff2841015ae"
      },
      "source": [
        "cross_validate(\n",
        "    estimator=KNeighborsClassifier(),\n",
        "    X=X,y=y,\n",
        "    cv=5,\n",
        "    n_jobs=multiprocessing.cpu_count(), \n",
        "    verbose=True\n",
        ")"
      ],
      "execution_count": 18,
      "outputs": [
        {
          "output_type": "stream",
          "text": [
            "[Parallel(n_jobs=2)]: Using backend LokyBackend with 2 concurrent workers.\n",
            "[Parallel(n_jobs=2)]: Done   5 out of   5 | elapsed:    0.8s finished\n"
          ],
          "name": "stderr"
        },
        {
          "output_type": "execute_result",
          "data": {
            "text/plain": [
              "{'fit_time': array([0.00126243, 0.00110054, 0.00137186, 0.00064564, 0.00057817]),\n",
              " 'score_time': array([0.00369024, 0.00334215, 0.00291944, 0.0023942 , 0.00235438]),\n",
              " 'test_score': array([0.96666667, 1.        , 0.93333333, 0.96666667, 1.        ])}"
            ]
          },
          "metadata": {
            "tags": []
          },
          "execution_count": 18
        }
      ]
    },
    {
      "cell_type": "code",
      "metadata": {
        "id": "Snxw6iGJsEHZ"
      },
      "source": [
        "param_grid = [{'n_neighbors': [3,5,7],\n",
        "               'weights': ['uniform', 'distance'],\n",
        "               'algorithm': ['ball_tree', 'kd_tree', 'brute']}]"
      ],
      "execution_count": 19,
      "outputs": []
    },
    {
      "cell_type": "code",
      "metadata": {
        "id": "lwEl2ykkr3z1"
      },
      "source": [
        "gs = GridSearchCV(\n",
        "    estimator = KNeighborsClassifier(),\n",
        "    param_grid=param_grid,\n",
        "    n_jobs=multiprocessing.cpu_count(),\n",
        "    verbose=True\n",
        ")"
      ],
      "execution_count": 20,
      "outputs": []
    },
    {
      "cell_type": "code",
      "metadata": {
        "id": "7WWoTOJZtIOR",
        "colab": {
          "base_uri": "https://localhost:8080/"
        },
        "outputId": "db7978f9-4ad6-45a5-bf56-5cb97335a337"
      },
      "source": [
        "gs.fit(X,y)"
      ],
      "execution_count": 21,
      "outputs": [
        {
          "output_type": "stream",
          "text": [
            "Fitting 5 folds for each of 18 candidates, totalling 90 fits\n"
          ],
          "name": "stdout"
        },
        {
          "output_type": "stream",
          "text": [
            "[Parallel(n_jobs=2)]: Using backend LokyBackend with 2 concurrent workers.\n",
            "[Parallel(n_jobs=2)]: Done  90 out of  90 | elapsed:    0.3s finished\n"
          ],
          "name": "stderr"
        },
        {
          "output_type": "execute_result",
          "data": {
            "text/plain": [
              "GridSearchCV(cv=None, error_score=nan,\n",
              "             estimator=KNeighborsClassifier(algorithm='auto', leaf_size=30,\n",
              "                                            metric='minkowski',\n",
              "                                            metric_params=None, n_jobs=None,\n",
              "                                            n_neighbors=5, p=2,\n",
              "                                            weights='uniform'),\n",
              "             iid='deprecated', n_jobs=2,\n",
              "             param_grid=[{'algorithm': ['ball_tree', 'kd_tree', 'brute'],\n",
              "                          'n_neighbors': [3, 5, 7],\n",
              "                          'weights': ['uniform', 'distance']}],\n",
              "             pre_dispatch='2*n_jobs', refit=True, return_train_score=False,\n",
              "             scoring=None, verbose=True)"
            ]
          },
          "metadata": {
            "tags": []
          },
          "execution_count": 21
        }
      ]
    },
    {
      "cell_type": "code",
      "metadata": {
        "id": "Hwu1gXxTtOAu",
        "colab": {
          "base_uri": "https://localhost:8080/"
        },
        "outputId": "2fbdc84c-4632-43c0-ad01-8b15514dd58c"
      },
      "source": [
        "gs.best_estimator_"
      ],
      "execution_count": 22,
      "outputs": [
        {
          "output_type": "execute_result",
          "data": {
            "text/plain": [
              "KNeighborsClassifier(algorithm='ball_tree', leaf_size=30, metric='minkowski',\n",
              "                     metric_params=None, n_jobs=None, n_neighbors=7, p=2,\n",
              "                     weights='uniform')"
            ]
          },
          "metadata": {
            "tags": []
          },
          "execution_count": 22
        }
      ]
    },
    {
      "cell_type": "code",
      "metadata": {
        "id": "iDCONxGZtR0Y",
        "colab": {
          "base_uri": "https://localhost:8080/"
        },
        "outputId": "8360be24-277d-4e10-ff0f-89b86a8d4e76"
      },
      "source": [
        "print(\"GridSearchCV best score: {}\".format(gs.best_score_))"
      ],
      "execution_count": 23,
      "outputs": [
        {
          "output_type": "stream",
          "text": [
            "GridSearchCV best score: 0.9800000000000001\n"
          ],
          "name": "stdout"
        }
      ]
    },
    {
      "cell_type": "code",
      "metadata": {
        "id": "-LfDDNAiv57J"
      },
      "source": [
        "def make_meshgrid(x, y, h=.02):\n",
        "  x_min, x_max= x.min()-1, x.max()+1\n",
        "  y_min, y_max= y.min()-1, y.max()+1\n",
        "  xx, yy = np.meshgrid(np.arange(x_min, x_max, h),\n",
        "                       np.arange(y_min, y_max, h))\n",
        "  \n",
        "  return xx, yy\n",
        "\n",
        "def plot_contours(clf, xx, yy, **params):\n",
        "  Z = clf.predict(np.c_[xx.ravel(), yy.ravel()])\n",
        "  Z = Z.reshape(xx.shape)\n",
        "  out = plt.contourf(xx,yy,Z, **params)\n",
        "\n",
        "  return out"
      ],
      "execution_count": 44,
      "outputs": []
    },
    {
      "cell_type": "code",
      "metadata": {
        "id": "c0hBhsA5t9gm"
      },
      "source": [
        "tsne = TSNE(n_components=2)\n",
        "X_comp = tsne.fit_transform(X)"
      ],
      "execution_count": 39,
      "outputs": []
    },
    {
      "cell_type": "code",
      "metadata": {
        "id": "MKvBwrWpu1Pj",
        "colab": {
          "base_uri": "https://localhost:8080/",
          "height": 417
        },
        "outputId": "c6107665-725b-4039-b394-32f4d00d7997"
      },
      "source": [
        "iris_comp_df = pd.DataFrame(data=X_comp)\n",
        "iris_comp_df['Target'] = y\n",
        "iris_comp_df"
      ],
      "execution_count": 28,
      "outputs": [
        {
          "output_type": "execute_result",
          "data": {
            "text/html": [
              "<div>\n",
              "<style scoped>\n",
              "    .dataframe tbody tr th:only-of-type {\n",
              "        vertical-align: middle;\n",
              "    }\n",
              "\n",
              "    .dataframe tbody tr th {\n",
              "        vertical-align: top;\n",
              "    }\n",
              "\n",
              "    .dataframe thead th {\n",
              "        text-align: right;\n",
              "    }\n",
              "</style>\n",
              "<table border=\"1\" class=\"dataframe\">\n",
              "  <thead>\n",
              "    <tr style=\"text-align: right;\">\n",
              "      <th></th>\n",
              "      <th>0</th>\n",
              "      <th>1</th>\n",
              "      <th>Target</th>\n",
              "    </tr>\n",
              "  </thead>\n",
              "  <tbody>\n",
              "    <tr>\n",
              "      <th>0</th>\n",
              "      <td>-13.515351</td>\n",
              "      <td>-20.206593</td>\n",
              "      <td>0</td>\n",
              "    </tr>\n",
              "    <tr>\n",
              "      <th>1</th>\n",
              "      <td>-13.723158</td>\n",
              "      <td>-17.516809</td>\n",
              "      <td>0</td>\n",
              "    </tr>\n",
              "    <tr>\n",
              "      <th>2</th>\n",
              "      <td>-14.690053</td>\n",
              "      <td>-17.995773</td>\n",
              "      <td>0</td>\n",
              "    </tr>\n",
              "    <tr>\n",
              "      <th>3</th>\n",
              "      <td>-14.572191</td>\n",
              "      <td>-17.530462</td>\n",
              "      <td>0</td>\n",
              "    </tr>\n",
              "    <tr>\n",
              "      <th>4</th>\n",
              "      <td>-13.899550</td>\n",
              "      <td>-20.349886</td>\n",
              "      <td>0</td>\n",
              "    </tr>\n",
              "    <tr>\n",
              "      <th>...</th>\n",
              "      <td>...</td>\n",
              "      <td>...</td>\n",
              "      <td>...</td>\n",
              "    </tr>\n",
              "    <tr>\n",
              "      <th>145</th>\n",
              "      <td>11.096013</td>\n",
              "      <td>2.243911</td>\n",
              "      <td>2</td>\n",
              "    </tr>\n",
              "    <tr>\n",
              "      <th>146</th>\n",
              "      <td>9.937017</td>\n",
              "      <td>5.161527</td>\n",
              "      <td>2</td>\n",
              "    </tr>\n",
              "    <tr>\n",
              "      <th>147</th>\n",
              "      <td>10.922816</td>\n",
              "      <td>3.156557</td>\n",
              "      <td>2</td>\n",
              "    </tr>\n",
              "    <tr>\n",
              "      <th>148</th>\n",
              "      <td>10.471325</td>\n",
              "      <td>1.545788</td>\n",
              "      <td>2</td>\n",
              "    </tr>\n",
              "    <tr>\n",
              "      <th>149</th>\n",
              "      <td>8.918949</td>\n",
              "      <td>5.543892</td>\n",
              "      <td>2</td>\n",
              "    </tr>\n",
              "  </tbody>\n",
              "</table>\n",
              "<p>150 rows × 3 columns</p>\n",
              "</div>"
            ],
            "text/plain": [
              "             0          1  Target\n",
              "0   -13.515351 -20.206593       0\n",
              "1   -13.723158 -17.516809       0\n",
              "2   -14.690053 -17.995773       0\n",
              "3   -14.572191 -17.530462       0\n",
              "4   -13.899550 -20.349886       0\n",
              "..         ...        ...     ...\n",
              "145  11.096013   2.243911       2\n",
              "146   9.937017   5.161527       2\n",
              "147  10.922816   3.156557       2\n",
              "148  10.471325   1.545788       2\n",
              "149   8.918949   5.543892       2\n",
              "\n",
              "[150 rows x 3 columns]"
            ]
          },
          "metadata": {
            "tags": []
          },
          "execution_count": 28
        }
      ]
    },
    {
      "cell_type": "code",
      "metadata": {
        "id": "KlahPPU3ve5o",
        "colab": {
          "base_uri": "https://localhost:8080/",
          "height": 281
        },
        "outputId": "4518cf77-341d-4047-ac08-29393e890811"
      },
      "source": [
        "plt.scatter(X_comp[:,0],X_comp[:,1],\n",
        "            c=y, cmap=plt.cm.coolwarm, s=20, edgecolors='k')"
      ],
      "execution_count": 30,
      "outputs": [
        {
          "output_type": "execute_result",
          "data": {
            "text/plain": [
              "<matplotlib.collections.PathCollection at 0x7f4c10cf5850>"
            ]
          },
          "metadata": {
            "tags": []
          },
          "execution_count": 30
        },
        {
          "output_type": "display_data",
          "data": {
            "image/png": "[encoded data removed]",
            "text/plain": [
              "<Figure size 432x288 with 1 Axes>"
            ]
          },
          "metadata": {
            "tags": [],
            "needs_background": "light"
          }
        }
      ]
    },
    {
      "cell_type": "code",
      "metadata": {
        "id": "eezclwChwRj3"
      },
      "source": [
        "model = KNeighborsClassifier()\n",
        "model.fit(X_comp,y)\n",
        "predict= model.predict(X_comp)"
      ],
      "execution_count": 40,
      "outputs": []
    },
    {
      "cell_type": "code",
      "metadata": {
        "id": "97WK8W7xwbcD",
        "colab": {
          "base_uri": "https://localhost:8080/",
          "height": 280
        },
        "outputId": "f552da82-56cf-413f-f82e-2672cde5b746"
      },
      "source": [
        "xx,yy = make_meshgrid(X_comp[:,0], X_comp[:,1])\n",
        "plot_contours(model,xx,yy,cmap=plt.cm.coolwarm, alpha=0.8)\n",
        "plt.scatter(X_comp[:,0], X_comp[:,1],c=y, cmap=plt.cm.coolwarm, s=20, edgecolors='k')"
      ],
      "execution_count": 46,
      "outputs": [
        {
          "output_type": "execute_result",
          "data": {
            "text/plain": [
              "<matplotlib.collections.PathCollection at 0x7f4c19fa0c10>"
            ]
          },
          "metadata": {
            "tags": []
          },
          "execution_count": 46
        },
        {
          "output_type": "display_data",
          "data": {
            "image/png": "[encoded data removed]",
            "text/plain": [
              "<Figure size 432x288 with 1 Axes>"
            ]
          },
          "metadata": {
            "tags": [],
            "needs_background": "light"
          }
        }
      ]
    },
    {
      "cell_type": "markdown",
      "metadata": {
        "id": "kO4Tw_xdxrxK"
      },
      "source": [
        "### 유방암 데이터"
      ]
    },
    {
      "cell_type": "code",
      "metadata": {
        "id": "m6evoryU1lyM"
      },
      "source": [
        "cancer = load_breast_cancer()"
      ],
      "execution_count": 47,
      "outputs": []
    },
    {
      "cell_type": "code",
      "metadata": {
        "id": "v2KjbEk12Ek5",
        "colab": {
          "base_uri": "https://localhost:8080/",
          "height": 470
        },
        "outputId": "16f86d3f-306c-476a-a987-7364f5306905"
      },
      "source": [
        "cancer_df = pd.DataFrame(data=cancer.data, columns = cancer.feature_names)\n",
        "cancer_df['Target'] = cancer.target\n",
        "cancer_df"
      ],
      "execution_count": 50,
      "outputs": [
        {
          "output_type": "execute_result",
          "data": {
            "text/html": [
              "<div>\n",
              "<style scoped>\n",
              "    .dataframe tbody tr th:only-of-type {\n",
              "        vertical-align: middle;\n",
              "    }\n",
              "\n",
              "    .dataframe tbody tr th {\n",
              "        vertical-align: top;\n",
              "    }\n",
              "\n",
              "    .dataframe thead th {\n",
              "        text-align: right;\n",
              "    }\n",
              "</style>\n",
              "<table border=\"1\" class=\"dataframe\">\n",
              "  <thead>\n",
              "    <tr style=\"text-align: right;\">\n",
              "      <th></th>\n",
              "      <th>mean radius</th>\n",
              "      <th>mean texture</th>\n",
              "      <th>mean perimeter</th>\n",
              "      <th>mean area</th>\n",
              "      <th>mean smoothness</th>\n",
              "      <th>mean compactness</th>\n",
              "      <th>mean concavity</th>\n",
              "      <th>mean concave points</th>\n",
              "      <th>mean symmetry</th>\n",
              "      <th>mean fractal dimension</th>\n",
              "      <th>radius error</th>\n",
              "      <th>texture error</th>\n",
              "      <th>perimeter error</th>\n",
              "      <th>area error</th>\n",
              "      <th>smoothness error</th>\n",
              "      <th>compactness error</th>\n",
              "      <th>concavity error</th>\n",
              "      <th>concave points error</th>\n",
              "      <th>symmetry error</th>\n",
              "      <th>fractal dimension error</th>\n",
              "      <th>worst radius</th>\n",
              "      <th>worst texture</th>\n",
              "      <th>worst perimeter</th>\n",
              "      <th>worst area</th>\n",
              "      <th>worst smoothness</th>\n",
              "      <th>worst compactness</th>\n",
              "      <th>worst concavity</th>\n",
              "      <th>worst concave points</th>\n",
              "      <th>worst symmetry</th>\n",
              "      <th>worst fractal dimension</th>\n",
              "      <th>Target</th>\n",
              "    </tr>\n",
              "  </thead>\n",
              "  <tbody>\n",
              "    <tr>\n",
              "      <th>0</th>\n",
              "      <td>17.99</td>\n",
              "      <td>10.38</td>\n",
              "      <td>122.80</td>\n",
              "      <td>1001.0</td>\n",
              "      <td>0.11840</td>\n",
              "      <td>0.27760</td>\n",
              "      <td>0.30010</td>\n",
              "      <td>0.14710</td>\n",
              "      <td>0.2419</td>\n",
              "      <td>0.07871</td>\n",
              "      <td>1.0950</td>\n",
              "      <td>0.9053</td>\n",
              "      <td>8.589</td>\n",
              "      <td>153.40</td>\n",
              "      <td>0.006399</td>\n",
              "      <td>0.04904</td>\n",
              "      <td>0.05373</td>\n",
              "      <td>0.01587</td>\n",
              "      <td>0.03003</td>\n",
              "      <td>0.006193</td>\n",
              "      <td>25.380</td>\n",
              "      <td>17.33</td>\n",
              "      <td>184.60</td>\n",
              "      <td>2019.0</td>\n",
              "      <td>0.16220</td>\n",
              "      <td>0.66560</td>\n",
              "      <td>0.7119</td>\n",
              "      <td>0.2654</td>\n",
              "      <td>0.4601</td>\n",
              "      <td>0.11890</td>\n",
              "      <td>0</td>\n",
              "    </tr>\n",
              "    <tr>\n",
              "      <th>1</th>\n",
              "      <td>20.57</td>\n",
              "      <td>17.77</td>\n",
              "      <td>132.90</td>\n",
              "      <td>1326.0</td>\n",
              "      <td>0.08474</td>\n",
              "      <td>0.07864</td>\n",
              "      <td>0.08690</td>\n",
              "      <td>0.07017</td>\n",
              "      <td>0.1812</td>\n",
              "      <td>0.05667</td>\n",
              "      <td>0.5435</td>\n",
              "      <td>0.7339</td>\n",
              "      <td>3.398</td>\n",
              "      <td>74.08</td>\n",
              "      <td>0.005225</td>\n",
              "      <td>0.01308</td>\n",
              "      <td>0.01860</td>\n",
              "      <td>0.01340</td>\n",
              "      <td>0.01389</td>\n",
              "      <td>0.003532</td>\n",
              "      <td>24.990</td>\n",
              "      <td>23.41</td>\n",
              "      <td>158.80</td>\n",
              "      <td>1956.0</td>\n",
              "      <td>0.12380</td>\n",
              "      <td>0.18660</td>\n",
              "      <td>0.2416</td>\n",
              "      <td>0.1860</td>\n",
              "      <td>0.2750</td>\n",
              "      <td>0.08902</td>\n",
              "      <td>0</td>\n",
              "    </tr>\n",
              "    <tr>\n",
              "      <th>2</th>\n",
              "      <td>19.69</td>\n",
              "      <td>21.25</td>\n",
              "      <td>130.00</td>\n",
              "      <td>1203.0</td>\n",
              "      <td>0.10960</td>\n",
              "      <td>0.15990</td>\n",
              "      <td>0.19740</td>\n",
              "      <td>0.12790</td>\n",
              "      <td>0.2069</td>\n",
              "      <td>0.05999</td>\n",
              "      <td>0.7456</td>\n",
              "      <td>0.7869</td>\n",
              "      <td>4.585</td>\n",
              "      <td>94.03</td>\n",
              "      <td>0.006150</td>\n",
              "      <td>0.04006</td>\n",
              "      <td>0.03832</td>\n",
              "      <td>0.02058</td>\n",
              "      <td>0.02250</td>\n",
              "      <td>0.004571</td>\n",
              "      <td>23.570</td>\n",
              "      <td>25.53</td>\n",
              "      <td>152.50</td>\n",
              "      <td>1709.0</td>\n",
              "      <td>0.14440</td>\n",
              "      <td>0.42450</td>\n",
              "      <td>0.4504</td>\n",
              "      <td>0.2430</td>\n",
              "      <td>0.3613</td>\n",
              "      <td>0.08758</td>\n",
              "      <td>0</td>\n",
              "    </tr>\n",
              "    <tr>\n",
              "      <th>3</th>\n",
              "      <td>11.42</td>\n",
              "      <td>20.38</td>\n",
              "      <td>77.58</td>\n",
              "      <td>386.1</td>\n",
              "      <td>0.14250</td>\n",
              "      <td>0.28390</td>\n",
              "      <td>0.24140</td>\n",
              "      <td>0.10520</td>\n",
              "      <td>0.2597</td>\n",
              "      <td>0.09744</td>\n",
              "      <td>0.4956</td>\n",
              "      <td>1.1560</td>\n",
              "      <td>3.445</td>\n",
              "      <td>27.23</td>\n",
              "      <td>0.009110</td>\n",
              "      <td>0.07458</td>\n",
              "      <td>0.05661</td>\n",
              "      <td>0.01867</td>\n",
              "      <td>0.05963</td>\n",
              "      <td>0.009208</td>\n",
              "      <td>14.910</td>\n",
              "      <td>26.50</td>\n",
              "      <td>98.87</td>\n",
              "      <td>567.7</td>\n",
              "      <td>0.20980</td>\n",
              "      <td>0.86630</td>\n",
              "      <td>0.6869</td>\n",
              "      <td>0.2575</td>\n",
              "      <td>0.6638</td>\n",
              "      <td>0.17300</td>\n",
              "      <td>0</td>\n",
              "    </tr>\n",
              "    <tr>\n",
              "      <th>4</th>\n",
              "      <td>20.29</td>\n",
              "      <td>14.34</td>\n",
              "      <td>135.10</td>\n",
              "      <td>1297.0</td>\n",
              "      <td>0.10030</td>\n",
              "      <td>0.13280</td>\n",
              "      <td>0.19800</td>\n",
              "      <td>0.10430</td>\n",
              "      <td>0.1809</td>\n",
              "      <td>0.05883</td>\n",
              "      <td>0.7572</td>\n",
              "      <td>0.7813</td>\n",
              "      <td>5.438</td>\n",
              "      <td>94.44</td>\n",
              "      <td>0.011490</td>\n",
              "      <td>0.02461</td>\n",
              "      <td>0.05688</td>\n",
              "      <td>0.01885</td>\n",
              "      <td>0.01756</td>\n",
              "      <td>0.005115</td>\n",
              "      <td>22.540</td>\n",
              "      <td>16.67</td>\n",
              "      <td>152.20</td>\n",
              "      <td>1575.0</td>\n",
              "      <td>0.13740</td>\n",
              "      <td>0.20500</td>\n",
              "      <td>0.4000</td>\n",
              "      <td>0.1625</td>\n",
              "      <td>0.2364</td>\n",
              "      <td>0.07678</td>\n",
              "      <td>0</td>\n",
              "    </tr>\n",
              "    <tr>\n",
              "      <th>...</th>\n",
              "      <td>...</td>\n",
              "      <td>...</td>\n",
              "      <td>...</td>\n",
              "      <td>...</td>\n",
              "      <td>...</td>\n",
              "      <td>...</td>\n",
              "      <td>...</td>\n",
              "      <td>...</td>\n",
              "      <td>...</td>\n",
              "      <td>...</td>\n",
              "      <td>...</td>\n",
              "      <td>...</td>\n",
              "      <td>...</td>\n",
              "      <td>...</td>\n",
              "      <td>...</td>\n",
              "      <td>...</td>\n",
              "      <td>...</td>\n",
              "      <td>...</td>\n",
              "      <td>...</td>\n",
              "      <td>...</td>\n",
              "      <td>...</td>\n",
              "      <td>...</td>\n",
              "      <td>...</td>\n",
              "      <td>...</td>\n",
              "      <td>...</td>\n",
              "      <td>...</td>\n",
              "      <td>...</td>\n",
              "      <td>...</td>\n",
              "      <td>...</td>\n",
              "      <td>...</td>\n",
              "      <td>...</td>\n",
              "    </tr>\n",
              "    <tr>\n",
              "      <th>564</th>\n",
              "      <td>21.56</td>\n",
              "      <td>22.39</td>\n",
              "      <td>142.00</td>\n",
              "      <td>1479.0</td>\n",
              "      <td>0.11100</td>\n",
              "      <td>0.11590</td>\n",
              "      <td>0.24390</td>\n",
              "      <td>0.13890</td>\n",
              "      <td>0.1726</td>\n",
              "      <td>0.05623</td>\n",
              "      <td>1.1760</td>\n",
              "      <td>1.2560</td>\n",
              "      <td>7.673</td>\n",
              "      <td>158.70</td>\n",
              "      <td>0.010300</td>\n",
              "      <td>0.02891</td>\n",
              "      <td>0.05198</td>\n",
              "      <td>0.02454</td>\n",
              "      <td>0.01114</td>\n",
              "      <td>0.004239</td>\n",
              "      <td>25.450</td>\n",
              "      <td>26.40</td>\n",
              "      <td>166.10</td>\n",
              "      <td>2027.0</td>\n",
              "      <td>0.14100</td>\n",
              "      <td>0.21130</td>\n",
              "      <td>0.4107</td>\n",
              "      <td>0.2216</td>\n",
              "      <td>0.2060</td>\n",
              "      <td>0.07115</td>\n",
              "      <td>0</td>\n",
              "    </tr>\n",
              "    <tr>\n",
              "      <th>565</th>\n",
              "      <td>20.13</td>\n",
              "      <td>28.25</td>\n",
              "      <td>131.20</td>\n",
              "      <td>1261.0</td>\n",
              "      <td>0.09780</td>\n",
              "      <td>0.10340</td>\n",
              "      <td>0.14400</td>\n",
              "      <td>0.09791</td>\n",
              "      <td>0.1752</td>\n",
              "      <td>0.05533</td>\n",
              "      <td>0.7655</td>\n",
              "      <td>2.4630</td>\n",
              "      <td>5.203</td>\n",
              "      <td>99.04</td>\n",
              "      <td>0.005769</td>\n",
              "      <td>0.02423</td>\n",
              "      <td>0.03950</td>\n",
              "      <td>0.01678</td>\n",
              "      <td>0.01898</td>\n",
              "      <td>0.002498</td>\n",
              "      <td>23.690</td>\n",
              "      <td>38.25</td>\n",
              "      <td>155.00</td>\n",
              "      <td>1731.0</td>\n",
              "      <td>0.11660</td>\n",
              "      <td>0.19220</td>\n",
              "      <td>0.3215</td>\n",
              "      <td>0.1628</td>\n",
              "      <td>0.2572</td>\n",
              "      <td>0.06637</td>\n",
              "      <td>0</td>\n",
              "    </tr>\n",
              "    <tr>\n",
              "      <th>566</th>\n",
              "      <td>16.60</td>\n",
              "      <td>28.08</td>\n",
              "      <td>108.30</td>\n",
              "      <td>858.1</td>\n",
              "      <td>0.08455</td>\n",
              "      <td>0.10230</td>\n",
              "      <td>0.09251</td>\n",
              "      <td>0.05302</td>\n",
              "      <td>0.1590</td>\n",
              "      <td>0.05648</td>\n",
              "      <td>0.4564</td>\n",
              "      <td>1.0750</td>\n",
              "      <td>3.425</td>\n",
              "      <td>48.55</td>\n",
              "      <td>0.005903</td>\n",
              "      <td>0.03731</td>\n",
              "      <td>0.04730</td>\n",
              "      <td>0.01557</td>\n",
              "      <td>0.01318</td>\n",
              "      <td>0.003892</td>\n",
              "      <td>18.980</td>\n",
              "      <td>34.12</td>\n",
              "      <td>126.70</td>\n",
              "      <td>1124.0</td>\n",
              "      <td>0.11390</td>\n",
              "      <td>0.30940</td>\n",
              "      <td>0.3403</td>\n",
              "      <td>0.1418</td>\n",
              "      <td>0.2218</td>\n",
              "      <td>0.07820</td>\n",
              "      <td>0</td>\n",
              "    </tr>\n",
              "    <tr>\n",
              "      <th>567</th>\n",
              "      <td>20.60</td>\n",
              "      <td>29.33</td>\n",
              "      <td>140.10</td>\n",
              "      <td>1265.0</td>\n",
              "      <td>0.11780</td>\n",
              "      <td>0.27700</td>\n",
              "      <td>0.35140</td>\n",
              "      <td>0.15200</td>\n",
              "      <td>0.2397</td>\n",
              "      <td>0.07016</td>\n",
              "      <td>0.7260</td>\n",
              "      <td>1.5950</td>\n",
              "      <td>5.772</td>\n",
              "      <td>86.22</td>\n",
              "      <td>0.006522</td>\n",
              "      <td>0.06158</td>\n",
              "      <td>0.07117</td>\n",
              "      <td>0.01664</td>\n",
              "      <td>0.02324</td>\n",
              "      <td>0.006185</td>\n",
              "      <td>25.740</td>\n",
              "      <td>39.42</td>\n",
              "      <td>184.60</td>\n",
              "      <td>1821.0</td>\n",
              "      <td>0.16500</td>\n",
              "      <td>0.86810</td>\n",
              "      <td>0.9387</td>\n",
              "      <td>0.2650</td>\n",
              "      <td>0.4087</td>\n",
              "      <td>0.12400</td>\n",
              "      <td>0</td>\n",
              "    </tr>\n",
              "    <tr>\n",
              "      <th>568</th>\n",
              "      <td>7.76</td>\n",
              "      <td>24.54</td>\n",
              "      <td>47.92</td>\n",
              "      <td>181.0</td>\n",
              "      <td>0.05263</td>\n",
              "      <td>0.04362</td>\n",
              "      <td>0.00000</td>\n",
              "      <td>0.00000</td>\n",
              "      <td>0.1587</td>\n",
              "      <td>0.05884</td>\n",
              "      <td>0.3857</td>\n",
              "      <td>1.4280</td>\n",
              "      <td>2.548</td>\n",
              "      <td>19.15</td>\n",
              "      <td>0.007189</td>\n",
              "      <td>0.00466</td>\n",
              "      <td>0.00000</td>\n",
              "      <td>0.00000</td>\n",
              "      <td>0.02676</td>\n",
              "      <td>0.002783</td>\n",
              "      <td>9.456</td>\n",
              "      <td>30.37</td>\n",
              "      <td>59.16</td>\n",
              "      <td>268.6</td>\n",
              "      <td>0.08996</td>\n",
              "      <td>0.06444</td>\n",
              "      <td>0.0000</td>\n",
              "      <td>0.0000</td>\n",
              "      <td>0.2871</td>\n",
              "      <td>0.07039</td>\n",
              "      <td>1</td>\n",
              "    </tr>\n",
              "  </tbody>\n",
              "</table>\n",
              "<p>569 rows × 31 columns</p>\n",
              "</div>"
            ],
            "text/plain": [
              "     mean radius  mean texture  ...  worst fractal dimension  Target\n",
              "0          17.99         10.38  ...                  0.11890       0\n",
              "1          20.57         17.77  ...                  0.08902       0\n",
              "2          19.69         21.25  ...                  0.08758       0\n",
              "3          11.42         20.38  ...                  0.17300       0\n",
              "4          20.29         14.34  ...                  0.07678       0\n",
              "..           ...           ...  ...                      ...     ...\n",
              "564        21.56         22.39  ...                  0.07115       0\n",
              "565        20.13         28.25  ...                  0.06637       0\n",
              "566        16.60         28.08  ...                  0.07820       0\n",
              "567        20.60         29.33  ...                  0.12400       0\n",
              "568         7.76         24.54  ...                  0.07039       1\n",
              "\n",
              "[569 rows x 31 columns]"
            ]
          },
          "metadata": {
            "tags": []
          },
          "execution_count": 50
        }
      ]
    },
    {
      "cell_type": "code",
      "metadata": {
        "id": "PQvMjAQs1mnW"
      },
      "source": [
        "X,y = cancer.data, cancer.target\n",
        "X_train, X_test, y_train, y_test = train_test_split(X,y,test_size=0.2)"
      ],
      "execution_count": 51,
      "outputs": []
    },
    {
      "cell_type": "code",
      "metadata": {
        "id": "yNm_0maP2llw",
        "colab": {
          "base_uri": "https://localhost:8080/",
          "height": 470
        },
        "outputId": "c36f63d2-1bba-4caf-bb74-e77d49c381ff"
      },
      "source": [
        "cancer_train_df = pd.DataFrame(data=X_train, columns = cancer.feature_names)\n",
        "cancer_train_df['Target'] = y_train\n",
        "cancer_train_df"
      ],
      "execution_count": 52,
      "outputs": [
        {
          "output_type": "execute_result",
          "data": {
            "text/html": [
              "<div>\n",
              "<style scoped>\n",
              "    .dataframe tbody tr th:only-of-type {\n",
              "        vertical-align: middle;\n",
              "    }\n",
              "\n",
              "    .dataframe tbody tr th {\n",
              "        vertical-align: top;\n",
              "    }\n",
              "\n",
              "    .dataframe thead th {\n",
              "        text-align: right;\n",
              "    }\n",
              "</style>\n",
              "<table border=\"1\" class=\"dataframe\">\n",
              "  <thead>\n",
              "    <tr style=\"text-align: right;\">\n",
              "      <th></th>\n",
              "      <th>mean radius</th>\n",
              "      <th>mean texture</th>\n",
              "      <th>mean perimeter</th>\n",
              "      <th>mean area</th>\n",
              "      <th>mean smoothness</th>\n",
              "      <th>mean compactness</th>\n",
              "      <th>mean concavity</th>\n",
              "      <th>mean concave points</th>\n",
              "      <th>mean symmetry</th>\n",
              "      <th>mean fractal dimension</th>\n",
              "      <th>radius error</th>\n",
              "      <th>texture error</th>\n",
              "      <th>perimeter error</th>\n",
              "      <th>area error</th>\n",
              "      <th>smoothness error</th>\n",
              "      <th>compactness error</th>\n",
              "      <th>concavity error</th>\n",
              "      <th>concave points error</th>\n",
              "      <th>symmetry error</th>\n",
              "      <th>fractal dimension error</th>\n",
              "      <th>worst radius</th>\n",
              "      <th>worst texture</th>\n",
              "      <th>worst perimeter</th>\n",
              "      <th>worst area</th>\n",
              "      <th>worst smoothness</th>\n",
              "      <th>worst compactness</th>\n",
              "      <th>worst concavity</th>\n",
              "      <th>worst concave points</th>\n",
              "      <th>worst symmetry</th>\n",
              "      <th>worst fractal dimension</th>\n",
              "      <th>Target</th>\n",
              "    </tr>\n",
              "  </thead>\n",
              "  <tbody>\n",
              "    <tr>\n",
              "      <th>0</th>\n",
              "      <td>11.340</td>\n",
              "      <td>21.26</td>\n",
              "      <td>72.48</td>\n",
              "      <td>396.5</td>\n",
              "      <td>0.08759</td>\n",
              "      <td>0.06575</td>\n",
              "      <td>0.05133</td>\n",
              "      <td>0.01899</td>\n",
              "      <td>0.1487</td>\n",
              "      <td>0.06529</td>\n",
              "      <td>0.2344</td>\n",
              "      <td>0.9861</td>\n",
              "      <td>1.597</td>\n",
              "      <td>16.41</td>\n",
              "      <td>0.009113</td>\n",
              "      <td>0.01557</td>\n",
              "      <td>0.02443</td>\n",
              "      <td>0.006435</td>\n",
              "      <td>0.01568</td>\n",
              "      <td>0.002477</td>\n",
              "      <td>13.01</td>\n",
              "      <td>29.15</td>\n",
              "      <td>83.99</td>\n",
              "      <td>518.1</td>\n",
              "      <td>0.16990</td>\n",
              "      <td>0.2196</td>\n",
              "      <td>0.31200</td>\n",
              "      <td>0.08278</td>\n",
              "      <td>0.2829</td>\n",
              "      <td>0.08832</td>\n",
              "      <td>1</td>\n",
              "    </tr>\n",
              "    <tr>\n",
              "      <th>1</th>\n",
              "      <td>12.870</td>\n",
              "      <td>16.21</td>\n",
              "      <td>82.38</td>\n",
              "      <td>512.2</td>\n",
              "      <td>0.09425</td>\n",
              "      <td>0.06219</td>\n",
              "      <td>0.03900</td>\n",
              "      <td>0.01615</td>\n",
              "      <td>0.2010</td>\n",
              "      <td>0.05769</td>\n",
              "      <td>0.2345</td>\n",
              "      <td>1.2190</td>\n",
              "      <td>1.546</td>\n",
              "      <td>18.24</td>\n",
              "      <td>0.005518</td>\n",
              "      <td>0.02178</td>\n",
              "      <td>0.02589</td>\n",
              "      <td>0.006330</td>\n",
              "      <td>0.02593</td>\n",
              "      <td>0.002157</td>\n",
              "      <td>13.90</td>\n",
              "      <td>23.64</td>\n",
              "      <td>89.27</td>\n",
              "      <td>597.5</td>\n",
              "      <td>0.12560</td>\n",
              "      <td>0.1808</td>\n",
              "      <td>0.19920</td>\n",
              "      <td>0.05780</td>\n",
              "      <td>0.3604</td>\n",
              "      <td>0.07062</td>\n",
              "      <td>1</td>\n",
              "    </tr>\n",
              "    <tr>\n",
              "      <th>2</th>\n",
              "      <td>23.210</td>\n",
              "      <td>26.97</td>\n",
              "      <td>153.50</td>\n",
              "      <td>1670.0</td>\n",
              "      <td>0.09509</td>\n",
              "      <td>0.16820</td>\n",
              "      <td>0.19500</td>\n",
              "      <td>0.12370</td>\n",
              "      <td>0.1909</td>\n",
              "      <td>0.06309</td>\n",
              "      <td>1.0580</td>\n",
              "      <td>0.9635</td>\n",
              "      <td>7.247</td>\n",
              "      <td>155.80</td>\n",
              "      <td>0.006428</td>\n",
              "      <td>0.02863</td>\n",
              "      <td>0.04497</td>\n",
              "      <td>0.017160</td>\n",
              "      <td>0.01590</td>\n",
              "      <td>0.003053</td>\n",
              "      <td>31.01</td>\n",
              "      <td>34.51</td>\n",
              "      <td>206.00</td>\n",
              "      <td>2944.0</td>\n",
              "      <td>0.14810</td>\n",
              "      <td>0.4126</td>\n",
              "      <td>0.58200</td>\n",
              "      <td>0.25930</td>\n",
              "      <td>0.3103</td>\n",
              "      <td>0.08677</td>\n",
              "      <td>0</td>\n",
              "    </tr>\n",
              "    <tr>\n",
              "      <th>3</th>\n",
              "      <td>12.470</td>\n",
              "      <td>18.60</td>\n",
              "      <td>81.09</td>\n",
              "      <td>481.9</td>\n",
              "      <td>0.09965</td>\n",
              "      <td>0.10580</td>\n",
              "      <td>0.08005</td>\n",
              "      <td>0.03821</td>\n",
              "      <td>0.1925</td>\n",
              "      <td>0.06373</td>\n",
              "      <td>0.3961</td>\n",
              "      <td>1.0440</td>\n",
              "      <td>2.497</td>\n",
              "      <td>30.29</td>\n",
              "      <td>0.006953</td>\n",
              "      <td>0.01911</td>\n",
              "      <td>0.02701</td>\n",
              "      <td>0.010370</td>\n",
              "      <td>0.01782</td>\n",
              "      <td>0.003586</td>\n",
              "      <td>14.97</td>\n",
              "      <td>24.64</td>\n",
              "      <td>96.05</td>\n",
              "      <td>677.9</td>\n",
              "      <td>0.14260</td>\n",
              "      <td>0.2378</td>\n",
              "      <td>0.26710</td>\n",
              "      <td>0.10150</td>\n",
              "      <td>0.3014</td>\n",
              "      <td>0.08750</td>\n",
              "      <td>1</td>\n",
              "    </tr>\n",
              "    <tr>\n",
              "      <th>4</th>\n",
              "      <td>13.750</td>\n",
              "      <td>23.77</td>\n",
              "      <td>88.54</td>\n",
              "      <td>590.0</td>\n",
              "      <td>0.08043</td>\n",
              "      <td>0.06807</td>\n",
              "      <td>0.04697</td>\n",
              "      <td>0.02344</td>\n",
              "      <td>0.1773</td>\n",
              "      <td>0.05429</td>\n",
              "      <td>0.4347</td>\n",
              "      <td>1.0570</td>\n",
              "      <td>2.829</td>\n",
              "      <td>39.93</td>\n",
              "      <td>0.004351</td>\n",
              "      <td>0.02667</td>\n",
              "      <td>0.03371</td>\n",
              "      <td>0.010070</td>\n",
              "      <td>0.02598</td>\n",
              "      <td>0.003087</td>\n",
              "      <td>15.01</td>\n",
              "      <td>26.34</td>\n",
              "      <td>98.00</td>\n",
              "      <td>706.0</td>\n",
              "      <td>0.09368</td>\n",
              "      <td>0.1442</td>\n",
              "      <td>0.13590</td>\n",
              "      <td>0.06106</td>\n",
              "      <td>0.2663</td>\n",
              "      <td>0.06321</td>\n",
              "      <td>1</td>\n",
              "    </tr>\n",
              "    <tr>\n",
              "      <th>...</th>\n",
              "      <td>...</td>\n",
              "      <td>...</td>\n",
              "      <td>...</td>\n",
              "      <td>...</td>\n",
              "      <td>...</td>\n",
              "      <td>...</td>\n",
              "      <td>...</td>\n",
              "      <td>...</td>\n",
              "      <td>...</td>\n",
              "      <td>...</td>\n",
              "      <td>...</td>\n",
              "      <td>...</td>\n",
              "      <td>...</td>\n",
              "      <td>...</td>\n",
              "      <td>...</td>\n",
              "      <td>...</td>\n",
              "      <td>...</td>\n",
              "      <td>...</td>\n",
              "      <td>...</td>\n",
              "      <td>...</td>\n",
              "      <td>...</td>\n",
              "      <td>...</td>\n",
              "      <td>...</td>\n",
              "      <td>...</td>\n",
              "      <td>...</td>\n",
              "      <td>...</td>\n",
              "      <td>...</td>\n",
              "      <td>...</td>\n",
              "      <td>...</td>\n",
              "      <td>...</td>\n",
              "      <td>...</td>\n",
              "    </tr>\n",
              "    <tr>\n",
              "      <th>450</th>\n",
              "      <td>11.740</td>\n",
              "      <td>14.02</td>\n",
              "      <td>74.24</td>\n",
              "      <td>427.3</td>\n",
              "      <td>0.07813</td>\n",
              "      <td>0.04340</td>\n",
              "      <td>0.02245</td>\n",
              "      <td>0.02763</td>\n",
              "      <td>0.2101</td>\n",
              "      <td>0.06113</td>\n",
              "      <td>0.5619</td>\n",
              "      <td>1.2680</td>\n",
              "      <td>3.717</td>\n",
              "      <td>37.83</td>\n",
              "      <td>0.008034</td>\n",
              "      <td>0.01442</td>\n",
              "      <td>0.01514</td>\n",
              "      <td>0.018460</td>\n",
              "      <td>0.02921</td>\n",
              "      <td>0.002005</td>\n",
              "      <td>13.31</td>\n",
              "      <td>18.26</td>\n",
              "      <td>84.70</td>\n",
              "      <td>533.7</td>\n",
              "      <td>0.10360</td>\n",
              "      <td>0.0850</td>\n",
              "      <td>0.06735</td>\n",
              "      <td>0.08290</td>\n",
              "      <td>0.3101</td>\n",
              "      <td>0.06688</td>\n",
              "      <td>1</td>\n",
              "    </tr>\n",
              "    <tr>\n",
              "      <th>451</th>\n",
              "      <td>9.667</td>\n",
              "      <td>18.49</td>\n",
              "      <td>61.49</td>\n",
              "      <td>289.1</td>\n",
              "      <td>0.08946</td>\n",
              "      <td>0.06258</td>\n",
              "      <td>0.02948</td>\n",
              "      <td>0.01514</td>\n",
              "      <td>0.2238</td>\n",
              "      <td>0.06413</td>\n",
              "      <td>0.3776</td>\n",
              "      <td>1.3500</td>\n",
              "      <td>2.569</td>\n",
              "      <td>22.73</td>\n",
              "      <td>0.007501</td>\n",
              "      <td>0.01989</td>\n",
              "      <td>0.02714</td>\n",
              "      <td>0.009883</td>\n",
              "      <td>0.01960</td>\n",
              "      <td>0.003913</td>\n",
              "      <td>11.14</td>\n",
              "      <td>25.62</td>\n",
              "      <td>70.88</td>\n",
              "      <td>385.2</td>\n",
              "      <td>0.12340</td>\n",
              "      <td>0.1542</td>\n",
              "      <td>0.12770</td>\n",
              "      <td>0.06560</td>\n",
              "      <td>0.3174</td>\n",
              "      <td>0.08524</td>\n",
              "      <td>1</td>\n",
              "    </tr>\n",
              "    <tr>\n",
              "      <th>452</th>\n",
              "      <td>14.800</td>\n",
              "      <td>17.66</td>\n",
              "      <td>95.88</td>\n",
              "      <td>674.8</td>\n",
              "      <td>0.09179</td>\n",
              "      <td>0.08890</td>\n",
              "      <td>0.04069</td>\n",
              "      <td>0.02260</td>\n",
              "      <td>0.1893</td>\n",
              "      <td>0.05886</td>\n",
              "      <td>0.2204</td>\n",
              "      <td>0.6221</td>\n",
              "      <td>1.482</td>\n",
              "      <td>19.75</td>\n",
              "      <td>0.004796</td>\n",
              "      <td>0.01171</td>\n",
              "      <td>0.01758</td>\n",
              "      <td>0.006897</td>\n",
              "      <td>0.02254</td>\n",
              "      <td>0.001971</td>\n",
              "      <td>16.43</td>\n",
              "      <td>22.74</td>\n",
              "      <td>105.90</td>\n",
              "      <td>829.5</td>\n",
              "      <td>0.12260</td>\n",
              "      <td>0.1881</td>\n",
              "      <td>0.20600</td>\n",
              "      <td>0.08308</td>\n",
              "      <td>0.3600</td>\n",
              "      <td>0.07285</td>\n",
              "      <td>1</td>\n",
              "    </tr>\n",
              "    <tr>\n",
              "      <th>453</th>\n",
              "      <td>12.210</td>\n",
              "      <td>18.02</td>\n",
              "      <td>78.31</td>\n",
              "      <td>458.4</td>\n",
              "      <td>0.09231</td>\n",
              "      <td>0.07175</td>\n",
              "      <td>0.04392</td>\n",
              "      <td>0.02027</td>\n",
              "      <td>0.1695</td>\n",
              "      <td>0.05916</td>\n",
              "      <td>0.2527</td>\n",
              "      <td>0.7786</td>\n",
              "      <td>1.874</td>\n",
              "      <td>18.57</td>\n",
              "      <td>0.005833</td>\n",
              "      <td>0.01388</td>\n",
              "      <td>0.02000</td>\n",
              "      <td>0.007087</td>\n",
              "      <td>0.01938</td>\n",
              "      <td>0.001960</td>\n",
              "      <td>14.29</td>\n",
              "      <td>24.04</td>\n",
              "      <td>93.85</td>\n",
              "      <td>624.6</td>\n",
              "      <td>0.13680</td>\n",
              "      <td>0.2170</td>\n",
              "      <td>0.24130</td>\n",
              "      <td>0.08829</td>\n",
              "      <td>0.3218</td>\n",
              "      <td>0.07470</td>\n",
              "      <td>1</td>\n",
              "    </tr>\n",
              "    <tr>\n",
              "      <th>454</th>\n",
              "      <td>15.490</td>\n",
              "      <td>19.97</td>\n",
              "      <td>102.40</td>\n",
              "      <td>744.7</td>\n",
              "      <td>0.11600</td>\n",
              "      <td>0.15620</td>\n",
              "      <td>0.18910</td>\n",
              "      <td>0.09113</td>\n",
              "      <td>0.1929</td>\n",
              "      <td>0.06744</td>\n",
              "      <td>0.6470</td>\n",
              "      <td>1.3310</td>\n",
              "      <td>4.675</td>\n",
              "      <td>66.91</td>\n",
              "      <td>0.007269</td>\n",
              "      <td>0.02928</td>\n",
              "      <td>0.04972</td>\n",
              "      <td>0.016390</td>\n",
              "      <td>0.01852</td>\n",
              "      <td>0.004232</td>\n",
              "      <td>21.20</td>\n",
              "      <td>29.41</td>\n",
              "      <td>142.10</td>\n",
              "      <td>1359.0</td>\n",
              "      <td>0.16810</td>\n",
              "      <td>0.3913</td>\n",
              "      <td>0.55530</td>\n",
              "      <td>0.21210</td>\n",
              "      <td>0.3187</td>\n",
              "      <td>0.10190</td>\n",
              "      <td>0</td>\n",
              "    </tr>\n",
              "  </tbody>\n",
              "</table>\n",
              "<p>455 rows × 31 columns</p>\n",
              "</div>"
            ],
            "text/plain": [
              "     mean radius  mean texture  ...  worst fractal dimension  Target\n",
              "0         11.340         21.26  ...                  0.08832       1\n",
              "1         12.870         16.21  ...                  0.07062       1\n",
              "2         23.210         26.97  ...                  0.08677       0\n",
              "3         12.470         18.60  ...                  0.08750       1\n",
              "4         13.750         23.77  ...                  0.06321       1\n",
              "..           ...           ...  ...                      ...     ...\n",
              "450       11.740         14.02  ...                  0.06688       1\n",
              "451        9.667         18.49  ...                  0.08524       1\n",
              "452       14.800         17.66  ...                  0.07285       1\n",
              "453       12.210         18.02  ...                  0.07470       1\n",
              "454       15.490         19.97  ...                  0.10190       0\n",
              "\n",
              "[455 rows x 31 columns]"
            ]
          },
          "metadata": {
            "tags": []
          },
          "execution_count": 52
        }
      ]
    },
    {
      "cell_type": "code",
      "metadata": {
        "id": "sqJYpuiU218G",
        "colab": {
          "base_uri": "https://localhost:8080/",
          "height": 470
        },
        "outputId": "a031eb77-de67-4d0e-c9c5-4719580c8339"
      },
      "source": [
        "cancer_test_df = pd.DataFrame(data=X_test, columns = cancer.feature_names)\n",
        "cancer_test_df['Target'] = y_test\n",
        "cancer_test_df"
      ],
      "execution_count": 53,
      "outputs": [
        {
          "output_type": "execute_result",
          "data": {
            "text/html": [
              "<div>\n",
              "<style scoped>\n",
              "    .dataframe tbody tr th:only-of-type {\n",
              "        vertical-align: middle;\n",
              "    }\n",
              "\n",
              "    .dataframe tbody tr th {\n",
              "        vertical-align: top;\n",
              "    }\n",
              "\n",
              "    .dataframe thead th {\n",
              "        text-align: right;\n",
              "    }\n",
              "</style>\n",
              "<table border=\"1\" class=\"dataframe\">\n",
              "  <thead>\n",
              "    <tr style=\"text-align: right;\">\n",
              "      <th></th>\n",
              "      <th>mean radius</th>\n",
              "      <th>mean texture</th>\n",
              "      <th>mean perimeter</th>\n",
              "      <th>mean area</th>\n",
              "      <th>mean smoothness</th>\n",
              "      <th>mean compactness</th>\n",
              "      <th>mean concavity</th>\n",
              "      <th>mean concave points</th>\n",
              "      <th>mean symmetry</th>\n",
              "      <th>mean fractal dimension</th>\n",
              "      <th>radius error</th>\n",
              "      <th>texture error</th>\n",
              "      <th>perimeter error</th>\n",
              "      <th>area error</th>\n",
              "      <th>smoothness error</th>\n",
              "      <th>compactness error</th>\n",
              "      <th>concavity error</th>\n",
              "      <th>concave points error</th>\n",
              "      <th>symmetry error</th>\n",
              "      <th>fractal dimension error</th>\n",
              "      <th>worst radius</th>\n",
              "      <th>worst texture</th>\n",
              "      <th>worst perimeter</th>\n",
              "      <th>worst area</th>\n",
              "      <th>worst smoothness</th>\n",
              "      <th>worst compactness</th>\n",
              "      <th>worst concavity</th>\n",
              "      <th>worst concave points</th>\n",
              "      <th>worst symmetry</th>\n",
              "      <th>worst fractal dimension</th>\n",
              "      <th>Target</th>\n",
              "    </tr>\n",
              "  </thead>\n",
              "  <tbody>\n",
              "    <tr>\n",
              "      <th>0</th>\n",
              "      <td>20.31</td>\n",
              "      <td>27.06</td>\n",
              "      <td>132.90</td>\n",
              "      <td>1288.0</td>\n",
              "      <td>0.10000</td>\n",
              "      <td>0.10880</td>\n",
              "      <td>0.15190</td>\n",
              "      <td>0.09333</td>\n",
              "      <td>0.1814</td>\n",
              "      <td>0.05572</td>\n",
              "      <td>0.3977</td>\n",
              "      <td>1.033</td>\n",
              "      <td>2.587</td>\n",
              "      <td>52.34</td>\n",
              "      <td>0.005043</td>\n",
              "      <td>0.01578</td>\n",
              "      <td>0.02117</td>\n",
              "      <td>0.008185</td>\n",
              "      <td>0.01282</td>\n",
              "      <td>0.001892</td>\n",
              "      <td>24.33</td>\n",
              "      <td>39.16</td>\n",
              "      <td>162.30</td>\n",
              "      <td>1844.0</td>\n",
              "      <td>0.15220</td>\n",
              "      <td>0.2945</td>\n",
              "      <td>0.3788</td>\n",
              "      <td>0.16970</td>\n",
              "      <td>0.3151</td>\n",
              "      <td>0.07999</td>\n",
              "      <td>0</td>\n",
              "    </tr>\n",
              "    <tr>\n",
              "      <th>1</th>\n",
              "      <td>19.40</td>\n",
              "      <td>23.50</td>\n",
              "      <td>129.10</td>\n",
              "      <td>1155.0</td>\n",
              "      <td>0.10270</td>\n",
              "      <td>0.15580</td>\n",
              "      <td>0.20490</td>\n",
              "      <td>0.08886</td>\n",
              "      <td>0.1978</td>\n",
              "      <td>0.06000</td>\n",
              "      <td>0.5243</td>\n",
              "      <td>1.802</td>\n",
              "      <td>4.037</td>\n",
              "      <td>60.41</td>\n",
              "      <td>0.010610</td>\n",
              "      <td>0.03252</td>\n",
              "      <td>0.03915</td>\n",
              "      <td>0.015590</td>\n",
              "      <td>0.02186</td>\n",
              "      <td>0.003949</td>\n",
              "      <td>21.65</td>\n",
              "      <td>30.53</td>\n",
              "      <td>144.90</td>\n",
              "      <td>1417.0</td>\n",
              "      <td>0.14630</td>\n",
              "      <td>0.2968</td>\n",
              "      <td>0.3458</td>\n",
              "      <td>0.15640</td>\n",
              "      <td>0.2920</td>\n",
              "      <td>0.07614</td>\n",
              "      <td>0</td>\n",
              "    </tr>\n",
              "    <tr>\n",
              "      <th>2</th>\n",
              "      <td>24.25</td>\n",
              "      <td>20.20</td>\n",
              "      <td>166.20</td>\n",
              "      <td>1761.0</td>\n",
              "      <td>0.14470</td>\n",
              "      <td>0.28670</td>\n",
              "      <td>0.42680</td>\n",
              "      <td>0.20120</td>\n",
              "      <td>0.2655</td>\n",
              "      <td>0.06877</td>\n",
              "      <td>1.5090</td>\n",
              "      <td>3.120</td>\n",
              "      <td>9.807</td>\n",
              "      <td>233.00</td>\n",
              "      <td>0.023330</td>\n",
              "      <td>0.09806</td>\n",
              "      <td>0.12780</td>\n",
              "      <td>0.018220</td>\n",
              "      <td>0.04547</td>\n",
              "      <td>0.009875</td>\n",
              "      <td>26.02</td>\n",
              "      <td>23.99</td>\n",
              "      <td>180.90</td>\n",
              "      <td>2073.0</td>\n",
              "      <td>0.16960</td>\n",
              "      <td>0.4244</td>\n",
              "      <td>0.5803</td>\n",
              "      <td>0.22480</td>\n",
              "      <td>0.3222</td>\n",
              "      <td>0.08009</td>\n",
              "      <td>0</td>\n",
              "    </tr>\n",
              "    <tr>\n",
              "      <th>3</th>\n",
              "      <td>20.60</td>\n",
              "      <td>29.33</td>\n",
              "      <td>140.10</td>\n",
              "      <td>1265.0</td>\n",
              "      <td>0.11780</td>\n",
              "      <td>0.27700</td>\n",
              "      <td>0.35140</td>\n",
              "      <td>0.15200</td>\n",
              "      <td>0.2397</td>\n",
              "      <td>0.07016</td>\n",
              "      <td>0.7260</td>\n",
              "      <td>1.595</td>\n",
              "      <td>5.772</td>\n",
              "      <td>86.22</td>\n",
              "      <td>0.006522</td>\n",
              "      <td>0.06158</td>\n",
              "      <td>0.07117</td>\n",
              "      <td>0.016640</td>\n",
              "      <td>0.02324</td>\n",
              "      <td>0.006185</td>\n",
              "      <td>25.74</td>\n",
              "      <td>39.42</td>\n",
              "      <td>184.60</td>\n",
              "      <td>1821.0</td>\n",
              "      <td>0.16500</td>\n",
              "      <td>0.8681</td>\n",
              "      <td>0.9387</td>\n",
              "      <td>0.26500</td>\n",
              "      <td>0.4087</td>\n",
              "      <td>0.12400</td>\n",
              "      <td>0</td>\n",
              "    </tr>\n",
              "    <tr>\n",
              "      <th>4</th>\n",
              "      <td>12.80</td>\n",
              "      <td>17.46</td>\n",
              "      <td>83.05</td>\n",
              "      <td>508.3</td>\n",
              "      <td>0.08044</td>\n",
              "      <td>0.08895</td>\n",
              "      <td>0.07390</td>\n",
              "      <td>0.04083</td>\n",
              "      <td>0.1574</td>\n",
              "      <td>0.05750</td>\n",
              "      <td>0.3639</td>\n",
              "      <td>1.265</td>\n",
              "      <td>2.668</td>\n",
              "      <td>30.57</td>\n",
              "      <td>0.005421</td>\n",
              "      <td>0.03477</td>\n",
              "      <td>0.04545</td>\n",
              "      <td>0.013840</td>\n",
              "      <td>0.01869</td>\n",
              "      <td>0.004067</td>\n",
              "      <td>13.74</td>\n",
              "      <td>21.06</td>\n",
              "      <td>90.72</td>\n",
              "      <td>591.0</td>\n",
              "      <td>0.09534</td>\n",
              "      <td>0.1812</td>\n",
              "      <td>0.1901</td>\n",
              "      <td>0.08296</td>\n",
              "      <td>0.1988</td>\n",
              "      <td>0.07053</td>\n",
              "      <td>1</td>\n",
              "    </tr>\n",
              "    <tr>\n",
              "      <th>...</th>\n",
              "      <td>...</td>\n",
              "      <td>...</td>\n",
              "      <td>...</td>\n",
              "      <td>...</td>\n",
              "      <td>...</td>\n",
              "      <td>...</td>\n",
              "      <td>...</td>\n",
              "      <td>...</td>\n",
              "      <td>...</td>\n",
              "      <td>...</td>\n",
              "      <td>...</td>\n",
              "      <td>...</td>\n",
              "      <td>...</td>\n",
              "      <td>...</td>\n",
              "      <td>...</td>\n",
              "      <td>...</td>\n",
              "      <td>...</td>\n",
              "      <td>...</td>\n",
              "      <td>...</td>\n",
              "      <td>...</td>\n",
              "      <td>...</td>\n",
              "      <td>...</td>\n",
              "      <td>...</td>\n",
              "      <td>...</td>\n",
              "      <td>...</td>\n",
              "      <td>...</td>\n",
              "      <td>...</td>\n",
              "      <td>...</td>\n",
              "      <td>...</td>\n",
              "      <td>...</td>\n",
              "      <td>...</td>\n",
              "    </tr>\n",
              "    <tr>\n",
              "      <th>109</th>\n",
              "      <td>11.62</td>\n",
              "      <td>18.18</td>\n",
              "      <td>76.38</td>\n",
              "      <td>408.8</td>\n",
              "      <td>0.11750</td>\n",
              "      <td>0.14830</td>\n",
              "      <td>0.10200</td>\n",
              "      <td>0.05564</td>\n",
              "      <td>0.1957</td>\n",
              "      <td>0.07255</td>\n",
              "      <td>0.4101</td>\n",
              "      <td>1.740</td>\n",
              "      <td>3.027</td>\n",
              "      <td>27.85</td>\n",
              "      <td>0.014590</td>\n",
              "      <td>0.03206</td>\n",
              "      <td>0.04961</td>\n",
              "      <td>0.018410</td>\n",
              "      <td>0.01807</td>\n",
              "      <td>0.005217</td>\n",
              "      <td>13.36</td>\n",
              "      <td>25.40</td>\n",
              "      <td>88.14</td>\n",
              "      <td>528.1</td>\n",
              "      <td>0.17800</td>\n",
              "      <td>0.2878</td>\n",
              "      <td>0.3186</td>\n",
              "      <td>0.14160</td>\n",
              "      <td>0.2660</td>\n",
              "      <td>0.09270</td>\n",
              "      <td>1</td>\n",
              "    </tr>\n",
              "    <tr>\n",
              "      <th>110</th>\n",
              "      <td>16.16</td>\n",
              "      <td>21.54</td>\n",
              "      <td>106.20</td>\n",
              "      <td>809.8</td>\n",
              "      <td>0.10080</td>\n",
              "      <td>0.12840</td>\n",
              "      <td>0.10430</td>\n",
              "      <td>0.05613</td>\n",
              "      <td>0.2160</td>\n",
              "      <td>0.05891</td>\n",
              "      <td>0.4332</td>\n",
              "      <td>1.265</td>\n",
              "      <td>2.844</td>\n",
              "      <td>43.68</td>\n",
              "      <td>0.004877</td>\n",
              "      <td>0.01952</td>\n",
              "      <td>0.02219</td>\n",
              "      <td>0.009231</td>\n",
              "      <td>0.01535</td>\n",
              "      <td>0.002373</td>\n",
              "      <td>19.47</td>\n",
              "      <td>31.68</td>\n",
              "      <td>129.70</td>\n",
              "      <td>1175.0</td>\n",
              "      <td>0.13950</td>\n",
              "      <td>0.3055</td>\n",
              "      <td>0.2992</td>\n",
              "      <td>0.13120</td>\n",
              "      <td>0.3480</td>\n",
              "      <td>0.07619</td>\n",
              "      <td>0</td>\n",
              "    </tr>\n",
              "    <tr>\n",
              "      <th>111</th>\n",
              "      <td>12.27</td>\n",
              "      <td>17.92</td>\n",
              "      <td>78.41</td>\n",
              "      <td>466.1</td>\n",
              "      <td>0.08685</td>\n",
              "      <td>0.06526</td>\n",
              "      <td>0.03211</td>\n",
              "      <td>0.02653</td>\n",
              "      <td>0.1966</td>\n",
              "      <td>0.05597</td>\n",
              "      <td>0.3342</td>\n",
              "      <td>1.781</td>\n",
              "      <td>2.079</td>\n",
              "      <td>25.79</td>\n",
              "      <td>0.005888</td>\n",
              "      <td>0.02310</td>\n",
              "      <td>0.02059</td>\n",
              "      <td>0.010750</td>\n",
              "      <td>0.02578</td>\n",
              "      <td>0.002267</td>\n",
              "      <td>14.10</td>\n",
              "      <td>28.88</td>\n",
              "      <td>89.00</td>\n",
              "      <td>610.2</td>\n",
              "      <td>0.12400</td>\n",
              "      <td>0.1795</td>\n",
              "      <td>0.1377</td>\n",
              "      <td>0.09532</td>\n",
              "      <td>0.3455</td>\n",
              "      <td>0.06896</td>\n",
              "      <td>1</td>\n",
              "    </tr>\n",
              "    <tr>\n",
              "      <th>112</th>\n",
              "      <td>14.60</td>\n",
              "      <td>23.29</td>\n",
              "      <td>93.97</td>\n",
              "      <td>664.7</td>\n",
              "      <td>0.08682</td>\n",
              "      <td>0.06636</td>\n",
              "      <td>0.08390</td>\n",
              "      <td>0.05271</td>\n",
              "      <td>0.1627</td>\n",
              "      <td>0.05416</td>\n",
              "      <td>0.4157</td>\n",
              "      <td>1.627</td>\n",
              "      <td>2.914</td>\n",
              "      <td>33.01</td>\n",
              "      <td>0.008312</td>\n",
              "      <td>0.01742</td>\n",
              "      <td>0.03389</td>\n",
              "      <td>0.015760</td>\n",
              "      <td>0.01740</td>\n",
              "      <td>0.002871</td>\n",
              "      <td>15.79</td>\n",
              "      <td>31.71</td>\n",
              "      <td>102.20</td>\n",
              "      <td>758.2</td>\n",
              "      <td>0.13120</td>\n",
              "      <td>0.1581</td>\n",
              "      <td>0.2675</td>\n",
              "      <td>0.13590</td>\n",
              "      <td>0.2477</td>\n",
              "      <td>0.06836</td>\n",
              "      <td>0</td>\n",
              "    </tr>\n",
              "    <tr>\n",
              "      <th>113</th>\n",
              "      <td>20.34</td>\n",
              "      <td>21.51</td>\n",
              "      <td>135.90</td>\n",
              "      <td>1264.0</td>\n",
              "      <td>0.11700</td>\n",
              "      <td>0.18750</td>\n",
              "      <td>0.25650</td>\n",
              "      <td>0.15040</td>\n",
              "      <td>0.2569</td>\n",
              "      <td>0.06670</td>\n",
              "      <td>0.5702</td>\n",
              "      <td>1.023</td>\n",
              "      <td>4.012</td>\n",
              "      <td>69.06</td>\n",
              "      <td>0.005485</td>\n",
              "      <td>0.02431</td>\n",
              "      <td>0.03190</td>\n",
              "      <td>0.013690</td>\n",
              "      <td>0.02768</td>\n",
              "      <td>0.003345</td>\n",
              "      <td>25.30</td>\n",
              "      <td>31.86</td>\n",
              "      <td>171.10</td>\n",
              "      <td>1938.0</td>\n",
              "      <td>0.15920</td>\n",
              "      <td>0.4492</td>\n",
              "      <td>0.5344</td>\n",
              "      <td>0.26850</td>\n",
              "      <td>0.5558</td>\n",
              "      <td>0.10240</td>\n",
              "      <td>0</td>\n",
              "    </tr>\n",
              "  </tbody>\n",
              "</table>\n",
              "<p>114 rows × 31 columns</p>\n",
              "</div>"
            ],
            "text/plain": [
              "     mean radius  mean texture  ...  worst fractal dimension  Target\n",
              "0          20.31         27.06  ...                  0.07999       0\n",
              "1          19.40         23.50  ...                  0.07614       0\n",
              "2          24.25         20.20  ...                  0.08009       0\n",
              "3          20.60         29.33  ...                  0.12400       0\n",
              "4          12.80         17.46  ...                  0.07053       1\n",
              "..           ...           ...  ...                      ...     ...\n",
              "109        11.62         18.18  ...                  0.09270       1\n",
              "110        16.16         21.54  ...                  0.07619       0\n",
              "111        12.27         17.92  ...                  0.06896       1\n",
              "112        14.60         23.29  ...                  0.06836       0\n",
              "113        20.34         21.51  ...                  0.10240       0\n",
              "\n",
              "[114 rows x 31 columns]"
            ]
          },
          "metadata": {
            "tags": []
          },
          "execution_count": 53
        }
      ]
    },
    {
      "cell_type": "code",
      "metadata": {
        "id": "KdqErM1h1nMP"
      },
      "source": [
        "scaler = StandardScaler()\n",
        "X_train_scale = scaler.fit_transform(X_train)\n",
        "X_test_scale = scaler.transform(X_test)"
      ],
      "execution_count": 57,
      "outputs": []
    },
    {
      "cell_type": "code",
      "metadata": {
        "id": "tcIuzg0-1owj",
        "colab": {
          "base_uri": "https://localhost:8080/"
        },
        "outputId": "9f743c37-6a24-4ea6-e7b1-7693ef1a84a5"
      },
      "source": [
        "model = KNeighborsClassifier()\n",
        "model.fit(X_train, y_train)"
      ],
      "execution_count": 55,
      "outputs": [
        {
          "output_type": "execute_result",
          "data": {
            "text/plain": [
              "KNeighborsClassifier(algorithm='auto', leaf_size=30, metric='minkowski',\n",
              "                     metric_params=None, n_jobs=None, n_neighbors=5, p=2,\n",
              "                     weights='uniform')"
            ]
          },
          "metadata": {
            "tags": []
          },
          "execution_count": 55
        }
      ]
    },
    {
      "cell_type": "code",
      "metadata": {
        "id": "i17Z0oOK3t8b",
        "colab": {
          "base_uri": "https://localhost:8080/"
        },
        "outputId": "fb620d61-42fe-4af4-ed5f-b60b3df71d99"
      },
      "source": [
        "print(\"학습 데이터 점수: {}\".format(model.score(X_train, y_train)))\n",
        "print(\"평가 데이터 점수: {}\".format(model.score(X_test, y_test)))"
      ],
      "execution_count": 56,
      "outputs": [
        {
          "output_type": "stream",
          "text": [
            "학습 데이터 점수: 0.9516483516483516\n",
            "평가 데이터 점수: 0.8947368421052632\n"
          ],
          "name": "stdout"
        }
      ]
    },
    {
      "cell_type": "code",
      "metadata": {
        "id": "VlLOXgFZ3wVR",
        "colab": {
          "base_uri": "https://localhost:8080/"
        },
        "outputId": "37cba3f4-495a-47d4-bbbb-eee0a2519ac5"
      },
      "source": [
        "model = KNeighborsClassifier()\n",
        "model.fit(X_train_scale, y_train)"
      ],
      "execution_count": 58,
      "outputs": [
        {
          "output_type": "execute_result",
          "data": {
            "text/plain": [
              "KNeighborsClassifier(algorithm='auto', leaf_size=30, metric='minkowski',\n",
              "                     metric_params=None, n_jobs=None, n_neighbors=5, p=2,\n",
              "                     weights='uniform')"
            ]
          },
          "metadata": {
            "tags": []
          },
          "execution_count": 58
        }
      ]
    },
    {
      "cell_type": "code",
      "metadata": {
        "id": "fsbDqEkH3zNN",
        "colab": {
          "base_uri": "https://localhost:8080/"
        },
        "outputId": "4c68ef52-cfac-45bb-ebcf-9ebc95c05817"
      },
      "source": [
        "print(\"학습 데이터 점수: {}\".format(model.score(X_train_scale, y_train)))\n",
        "print(\"평가 데이터 점수: {}\".format(model.score(X_test_scale, y_test)))"
      ],
      "execution_count": 91,
      "outputs": [
        {
          "output_type": "stream",
          "text": [
            "학습 데이터 점수: 0.9929577464788732\n",
            "평가 데이터 점수: 0.9444444444444444\n"
          ],
          "name": "stdout"
        }
      ]
    },
    {
      "cell_type": "code",
      "metadata": {
        "id": "yAt5yeNX4NVn"
      },
      "source": [
        "estimator = make_pipeline(\n",
        "    StandardScaler(),\n",
        "    KNeighborsClassifier()\n",
        ")"
      ],
      "execution_count": 60,
      "outputs": []
    },
    {
      "cell_type": "code",
      "metadata": {
        "id": "_Q18DbEd1oTt",
        "colab": {
          "base_uri": "https://localhost:8080/"
        },
        "outputId": "5daaa230-7ebe-471c-e73f-d084e6f284be"
      },
      "source": [
        "cross_validate(\n",
        "    estimator=estimator,\n",
        "    X=X,y=y,\n",
        "    cv=5,\n",
        "    n_jobs=multiprocessing.cpu_count(),\n",
        "    verbose=True\n",
        ")"
      ],
      "execution_count": 61,
      "outputs": [
        {
          "output_type": "stream",
          "text": [
            "[Parallel(n_jobs=2)]: Using backend LokyBackend with 2 concurrent workers.\n",
            "[Parallel(n_jobs=2)]: Done   5 out of   5 | elapsed:    1.0s finished\n"
          ],
          "name": "stderr"
        },
        {
          "output_type": "execute_result",
          "data": {
            "text/plain": [
              "{'fit_time': array([0.00414538, 0.00374842, 0.00323439, 0.0036366 , 0.00308323]),\n",
              " 'score_time': array([0.02262878, 0.01456547, 0.01510549, 0.01317096, 0.00758815]),\n",
              " 'test_score': array([0.96491228, 0.95614035, 0.98245614, 0.95614035, 0.96460177])}"
            ]
          },
          "metadata": {
            "tags": []
          },
          "execution_count": 61
        }
      ]
    },
    {
      "cell_type": "code",
      "metadata": {
        "id": "t_9qDhbP53Yp"
      },
      "source": [
        "pipe = Pipeline(\n",
        "    [('scaler', StandardScaler()),\n",
        "     ('model', KNeighborsClassifier())]\n",
        ")"
      ],
      "execution_count": 62,
      "outputs": []
    },
    {
      "cell_type": "code",
      "metadata": {
        "id": "eih3ashG1n_U"
      },
      "source": [
        "param_grid = [{'model__n_neighbors': [3,5,7],\n",
        "               'model__weights':['uniform','distance'],\n",
        "               'model__algorithm': ['ball_tree', 'kd_tree', 'brute']}]"
      ],
      "execution_count": 63,
      "outputs": []
    },
    {
      "cell_type": "code",
      "metadata": {
        "id": "yEvpmI4t5ayE"
      },
      "source": [
        "gs = GridSearchCV(\n",
        "    estimator=pipe,\n",
        "    param_grid = param_grid,\n",
        "    n_jobs = multiprocessing.cpu_count(),\n",
        "    verbose=True\n",
        ")"
      ],
      "execution_count": 64,
      "outputs": []
    },
    {
      "cell_type": "code",
      "metadata": {
        "id": "o6Hh3mT45eLw",
        "colab": {
          "base_uri": "https://localhost:8080/"
        },
        "outputId": "a66631b3-7665-452d-c539-0d51b56ac113"
      },
      "source": [
        "gs.fit(X,y)"
      ],
      "execution_count": 65,
      "outputs": [
        {
          "output_type": "stream",
          "text": [
            "Fitting 5 folds for each of 18 candidates, totalling 90 fits\n"
          ],
          "name": "stdout"
        },
        {
          "output_type": "stream",
          "text": [
            "[Parallel(n_jobs=2)]: Using backend LokyBackend with 2 concurrent workers.\n",
            "[Parallel(n_jobs=2)]: Done  90 out of  90 | elapsed:    0.7s finished\n"
          ],
          "name": "stderr"
        },
        {
          "output_type": "execute_result",
          "data": {
            "text/plain": [
              "GridSearchCV(cv=None, error_score=nan,\n",
              "             estimator=Pipeline(memory=None,\n",
              "                                steps=[('scaler',\n",
              "                                        StandardScaler(copy=True,\n",
              "                                                       with_mean=True,\n",
              "                                                       with_std=True)),\n",
              "                                       ('model',\n",
              "                                        KNeighborsClassifier(algorithm='auto',\n",
              "                                                             leaf_size=30,\n",
              "                                                             metric='minkowski',\n",
              "                                                             metric_params=None,\n",
              "                                                             n_jobs=None,\n",
              "                                                             n_neighbors=5, p=2,\n",
              "                                                             weights='uniform'))],\n",
              "                                verbose=False),\n",
              "             iid='deprecated', n_jobs=2,\n",
              "             param_grid=[{'model__algorithm': ['ball_tree', 'kd_tree', 'brute'],\n",
              "                          'model__n_neighbors': [3, 5, 7],\n",
              "                          'model__weights': ['uniform', 'distance']}],\n",
              "             pre_dispatch='2*n_jobs', refit=True, return_train_score=False,\n",
              "             scoring=None, verbose=True)"
            ]
          },
          "metadata": {
            "tags": []
          },
          "execution_count": 65
        }
      ]
    },
    {
      "cell_type": "code",
      "metadata": {
        "id": "wNuYBM4G5gUT",
        "colab": {
          "base_uri": "https://localhost:8080/"
        },
        "outputId": "c2106c80-b867-45e6-d327-084bf9f2c4d1"
      },
      "source": [
        "gs.best_estimator_"
      ],
      "execution_count": 66,
      "outputs": [
        {
          "output_type": "execute_result",
          "data": {
            "text/plain": [
              "Pipeline(memory=None,\n",
              "         steps=[('scaler',\n",
              "                 StandardScaler(copy=True, with_mean=True, with_std=True)),\n",
              "                ('model',\n",
              "                 KNeighborsClassifier(algorithm='ball_tree', leaf_size=30,\n",
              "                                      metric='minkowski', metric_params=None,\n",
              "                                      n_jobs=None, n_neighbors=7, p=2,\n",
              "                                      weights='uniform'))],\n",
              "         verbose=False)"
            ]
          },
          "metadata": {
            "tags": []
          },
          "execution_count": 66
        }
      ]
    },
    {
      "cell_type": "code",
      "metadata": {
        "id": "OTh_pcWK5jb7",
        "colab": {
          "base_uri": "https://localhost:8080/"
        },
        "outputId": "1bf2d760-1482-45c9-fca5-48195e09bc52"
      },
      "source": [
        "print('GridSearchCV best score: {}'.format(gs.best_score_))"
      ],
      "execution_count": 67,
      "outputs": [
        {
          "output_type": "stream",
          "text": [
            "GridSearchCV best score: 0.9701288619779538\n"
          ],
          "name": "stdout"
        }
      ]
    },
    {
      "cell_type": "code",
      "metadata": {
        "id": "FNcgeKFZ1nrd"
      },
      "source": [
        "tsne = TSNE(n_components=2)\n",
        "X_comp = tsne.fit_transform(X)"
      ],
      "execution_count": 68,
      "outputs": []
    },
    {
      "cell_type": "code",
      "metadata": {
        "id": "iQoPlWdh6UpR",
        "colab": {
          "base_uri": "https://localhost:8080/",
          "height": 417
        },
        "outputId": "2356eff4-554b-481b-e000-00b5084f1db8"
      },
      "source": [
        "cancer_comp_df = pd.DataFrame(data=X_comp)\n",
        "cancer_comp_df['Target'] = y\n",
        "cancer_comp_df"
      ],
      "execution_count": 71,
      "outputs": [
        {
          "output_type": "execute_result",
          "data": {
            "text/html": [
              "<div>\n",
              "<style scoped>\n",
              "    .dataframe tbody tr th:only-of-type {\n",
              "        vertical-align: middle;\n",
              "    }\n",
              "\n",
              "    .dataframe tbody tr th {\n",
              "        vertical-align: top;\n",
              "    }\n",
              "\n",
              "    .dataframe thead th {\n",
              "        text-align: right;\n",
              "    }\n",
              "</style>\n",
              "<table border=\"1\" class=\"dataframe\">\n",
              "  <thead>\n",
              "    <tr style=\"text-align: right;\">\n",
              "      <th></th>\n",
              "      <th>0</th>\n",
              "      <th>1</th>\n",
              "      <th>Target</th>\n",
              "    </tr>\n",
              "  </thead>\n",
              "  <tbody>\n",
              "    <tr>\n",
              "      <th>0</th>\n",
              "      <td>28.130302</td>\n",
              "      <td>1.576404</td>\n",
              "      <td>0</td>\n",
              "    </tr>\n",
              "    <tr>\n",
              "      <th>1</th>\n",
              "      <td>29.379370</td>\n",
              "      <td>4.205178</td>\n",
              "      <td>0</td>\n",
              "    </tr>\n",
              "    <tr>\n",
              "      <th>2</th>\n",
              "      <td>25.179766</td>\n",
              "      <td>6.693890</td>\n",
              "      <td>0</td>\n",
              "    </tr>\n",
              "    <tr>\n",
              "      <th>3</th>\n",
              "      <td>-10.815665</td>\n",
              "      <td>-7.655158</td>\n",
              "      <td>0</td>\n",
              "    </tr>\n",
              "    <tr>\n",
              "      <th>4</th>\n",
              "      <td>25.288185</td>\n",
              "      <td>9.154951</td>\n",
              "      <td>0</td>\n",
              "    </tr>\n",
              "    <tr>\n",
              "      <th>...</th>\n",
              "      <td>...</td>\n",
              "      <td>...</td>\n",
              "      <td>...</td>\n",
              "    </tr>\n",
              "    <tr>\n",
              "      <th>564</th>\n",
              "      <td>31.115217</td>\n",
              "      <td>4.026127</td>\n",
              "      <td>0</td>\n",
              "    </tr>\n",
              "    <tr>\n",
              "      <th>565</th>\n",
              "      <td>26.341978</td>\n",
              "      <td>6.690627</td>\n",
              "      <td>0</td>\n",
              "    </tr>\n",
              "    <tr>\n",
              "      <th>566</th>\n",
              "      <td>11.277777</td>\n",
              "      <td>20.935337</td>\n",
              "      <td>0</td>\n",
              "    </tr>\n",
              "    <tr>\n",
              "      <th>567</th>\n",
              "      <td>27.341869</td>\n",
              "      <td>5.178896</td>\n",
              "      <td>0</td>\n",
              "    </tr>\n",
              "    <tr>\n",
              "      <th>568</th>\n",
              "      <td>15.269747</td>\n",
              "      <td>-31.783678</td>\n",
              "      <td>1</td>\n",
              "    </tr>\n",
              "  </tbody>\n",
              "</table>\n",
              "<p>569 rows × 3 columns</p>\n",
              "</div>"
            ],
            "text/plain": [
              "             0          1  Target\n",
              "0    28.130302   1.576404       0\n",
              "1    29.379370   4.205178       0\n",
              "2    25.179766   6.693890       0\n",
              "3   -10.815665  -7.655158       0\n",
              "4    25.288185   9.154951       0\n",
              "..         ...        ...     ...\n",
              "564  31.115217   4.026127       0\n",
              "565  26.341978   6.690627       0\n",
              "566  11.277777  20.935337       0\n",
              "567  27.341869   5.178896       0\n",
              "568  15.269747 -31.783678       1\n",
              "\n",
              "[569 rows x 3 columns]"
            ]
          },
          "metadata": {
            "tags": []
          },
          "execution_count": 71
        }
      ]
    },
    {
      "cell_type": "code",
      "metadata": {
        "id": "A3MhD6Jc6X3Q",
        "colab": {
          "base_uri": "https://localhost:8080/",
          "height": 284
        },
        "outputId": "6a4a08dd-bd23-49fc-f016-64be05a8b236"
      },
      "source": [
        "plt.scatter(X_comp[:,0], X_comp[:,1],c=y,cmap=plt.cm.coolwarm, s=20, edgecolors='k')"
      ],
      "execution_count": 70,
      "outputs": [
        {
          "output_type": "execute_result",
          "data": {
            "text/plain": [
              "<matplotlib.collections.PathCollection at 0x7f4c107f5750>"
            ]
          },
          "metadata": {
            "tags": []
          },
          "execution_count": 70
        },
        {
          "output_type": "display_data",
          "data": {
            "image/png": "[encoded data removed]",
            "text/plain": [
              "<Figure size 432x288 with 1 Axes>"
            ]
          },
          "metadata": {
            "tags": [],
            "needs_background": "light"
          }
        }
      ]
    },
    {
      "cell_type": "code",
      "metadata": {
        "id": "NJVvI3px6ceB"
      },
      "source": [
        "model = KNeighborsClassifier()\n",
        "model.fit(X_comp,y)\n",
        "predict = model.predict(X_comp)"
      ],
      "execution_count": 72,
      "outputs": []
    },
    {
      "cell_type": "code",
      "metadata": {
        "id": "1ws6Nrmo6gGW",
        "colab": {
          "base_uri": "https://localhost:8080/",
          "height": 280
        },
        "outputId": "b2598afc-7093-41c6-8773-917f73894175"
      },
      "source": [
        "xx,yy = make_meshgrid(X_comp[:,0],X_comp[:,1])\n",
        "plot_contours(model, xx, yy, cmap=plt.cm.coolwarm, alpha=0.8)\n",
        "plt.scatter(X_comp[:,0], X_comp[:,1],c=y,cmap=plt.cm.coolwarm, s=20, edgecolors='k')"
      ],
      "execution_count": 75,
      "outputs": [
        {
          "output_type": "execute_result",
          "data": {
            "text/plain": [
              "<matplotlib.collections.PathCollection at 0x7f4c10403e90>"
            ]
          },
          "metadata": {
            "tags": []
          },
          "execution_count": 75
        },
        {
          "output_type": "display_data",
          "data": {
            "image/png": "[encoded data removed]",
            "text/plain": [
              "<Figure size 432x288 with 1 Axes>"
            ]
          },
          "metadata": {
            "tags": [],
            "needs_background": "light"
          }
        }
      ]
    },
    {
      "cell_type": "markdown",
      "metadata": {
        "id": "WESeFu603ipF"
      },
      "source": [
        "### 와인 데이터"
      ]
    },
    {
      "cell_type": "code",
      "metadata": {
        "id": "3HRPlkjg3ipJ"
      },
      "source": [
        "wine = load_wine()"
      ],
      "execution_count": 93,
      "outputs": []
    },
    {
      "cell_type": "code",
      "metadata": {
        "colab": {
          "base_uri": "https://localhost:8080/",
          "height": 437
        },
        "id": "eGwheALH3ipK",
        "outputId": "6a176ff5-a5b3-4ca1-d251-b84681929aff"
      },
      "source": [
        "wine_df = pd.DataFrame(data=wine.data, columns = wine.feature_names)\n",
        "wine_df['Target'] = wine.target\n",
        "wine_df"
      ],
      "execution_count": 94,
      "outputs": [
        {
          "output_type": "execute_result",
          "data": {
            "text/html": [
              "<div>\n",
              "<style scoped>\n",
              "    .dataframe tbody tr th:only-of-type {\n",
              "        vertical-align: middle;\n",
              "    }\n",
              "\n",
              "    .dataframe tbody tr th {\n",
              "        vertical-align: top;\n",
              "    }\n",
              "\n",
              "    .dataframe thead th {\n",
              "        text-align: right;\n",
              "    }\n",
              "</style>\n",
              "<table border=\"1\" class=\"dataframe\">\n",
              "  <thead>\n",
              "    <tr style=\"text-align: right;\">\n",
              "      <th></th>\n",
              "      <th>alcohol</th>\n",
              "      <th>malic_acid</th>\n",
              "      <th>ash</th>\n",
              "      <th>alcalinity_of_ash</th>\n",
              "      <th>magnesium</th>\n",
              "      <th>total_phenols</th>\n",
              "      <th>flavanoids</th>\n",
              "      <th>nonflavanoid_phenols</th>\n",
              "      <th>proanthocyanins</th>\n",
              "      <th>color_intensity</th>\n",
              "      <th>hue</th>\n",
              "      <th>od280/od315_of_diluted_wines</th>\n",
              "      <th>proline</th>\n",
              "      <th>Target</th>\n",
              "    </tr>\n",
              "  </thead>\n",
              "  <tbody>\n",
              "    <tr>\n",
              "      <th>0</th>\n",
              "      <td>14.23</td>\n",
              "      <td>1.71</td>\n",
              "      <td>2.43</td>\n",
              "      <td>15.6</td>\n",
              "      <td>127.0</td>\n",
              "      <td>2.80</td>\n",
              "      <td>3.06</td>\n",
              "      <td>0.28</td>\n",
              "      <td>2.29</td>\n",
              "      <td>5.64</td>\n",
              "      <td>1.04</td>\n",
              "      <td>3.92</td>\n",
              "      <td>1065.0</td>\n",
              "      <td>0</td>\n",
              "    </tr>\n",
              "    <tr>\n",
              "      <th>1</th>\n",
              "      <td>13.20</td>\n",
              "      <td>1.78</td>\n",
              "      <td>2.14</td>\n",
              "      <td>11.2</td>\n",
              "      <td>100.0</td>\n",
              "      <td>2.65</td>\n",
              "      <td>2.76</td>\n",
              "      <td>0.26</td>\n",
              "      <td>1.28</td>\n",
              "      <td>4.38</td>\n",
              "      <td>1.05</td>\n",
              "      <td>3.40</td>\n",
              "      <td>1050.0</td>\n",
              "      <td>0</td>\n",
              "    </tr>\n",
              "    <tr>\n",
              "      <th>2</th>\n",
              "      <td>13.16</td>\n",
              "      <td>2.36</td>\n",
              "      <td>2.67</td>\n",
              "      <td>18.6</td>\n",
              "      <td>101.0</td>\n",
              "      <td>2.80</td>\n",
              "      <td>3.24</td>\n",
              "      <td>0.30</td>\n",
              "      <td>2.81</td>\n",
              "      <td>5.68</td>\n",
              "      <td>1.03</td>\n",
              "      <td>3.17</td>\n",
              "      <td>1185.0</td>\n",
              "      <td>0</td>\n",
              "    </tr>\n",
              "    <tr>\n",
              "      <th>3</th>\n",
              "      <td>14.37</td>\n",
              "      <td>1.95</td>\n",
              "      <td>2.50</td>\n",
              "      <td>16.8</td>\n",
              "      <td>113.0</td>\n",
              "      <td>3.85</td>\n",
              "      <td>3.49</td>\n",
              "      <td>0.24</td>\n",
              "      <td>2.18</td>\n",
              "      <td>7.80</td>\n",
              "      <td>0.86</td>\n",
              "      <td>3.45</td>\n",
              "      <td>1480.0</td>\n",
              "      <td>0</td>\n",
              "    </tr>\n",
              "    <tr>\n",
              "      <th>4</th>\n",
              "      <td>13.24</td>\n",
              "      <td>2.59</td>\n",
              "      <td>2.87</td>\n",
              "      <td>21.0</td>\n",
              "      <td>118.0</td>\n",
              "      <td>2.80</td>\n",
              "      <td>2.69</td>\n",
              "      <td>0.39</td>\n",
              "      <td>1.82</td>\n",
              "      <td>4.32</td>\n",
              "      <td>1.04</td>\n",
              "      <td>2.93</td>\n",
              "      <td>735.0</td>\n",
              "      <td>0</td>\n",
              "    </tr>\n",
              "    <tr>\n",
              "      <th>...</th>\n",
              "      <td>...</td>\n",
              "      <td>...</td>\n",
              "      <td>...</td>\n",
              "      <td>...</td>\n",
              "      <td>...</td>\n",
              "      <td>...</td>\n",
              "      <td>...</td>\n",
              "      <td>...</td>\n",
              "      <td>...</td>\n",
              "      <td>...</td>\n",
              "      <td>...</td>\n",
              "      <td>...</td>\n",
              "      <td>...</td>\n",
              "      <td>...</td>\n",
              "    </tr>\n",
              "    <tr>\n",
              "      <th>173</th>\n",
              "      <td>13.71</td>\n",
              "      <td>5.65</td>\n",
              "      <td>2.45</td>\n",
              "      <td>20.5</td>\n",
              "      <td>95.0</td>\n",
              "      <td>1.68</td>\n",
              "      <td>0.61</td>\n",
              "      <td>0.52</td>\n",
              "      <td>1.06</td>\n",
              "      <td>7.70</td>\n",
              "      <td>0.64</td>\n",
              "      <td>1.74</td>\n",
              "      <td>740.0</td>\n",
              "      <td>2</td>\n",
              "    </tr>\n",
              "    <tr>\n",
              "      <th>174</th>\n",
              "      <td>13.40</td>\n",
              "      <td>3.91</td>\n",
              "      <td>2.48</td>\n",
              "      <td>23.0</td>\n",
              "      <td>102.0</td>\n",
              "      <td>1.80</td>\n",
              "      <td>0.75</td>\n",
              "      <td>0.43</td>\n",
              "      <td>1.41</td>\n",
              "      <td>7.30</td>\n",
              "      <td>0.70</td>\n",
              "      <td>1.56</td>\n",
              "      <td>750.0</td>\n",
              "      <td>2</td>\n",
              "    </tr>\n",
              "    <tr>\n",
              "      <th>175</th>\n",
              "      <td>13.27</td>\n",
              "      <td>4.28</td>\n",
              "      <td>2.26</td>\n",
              "      <td>20.0</td>\n",
              "      <td>120.0</td>\n",
              "      <td>1.59</td>\n",
              "      <td>0.69</td>\n",
              "      <td>0.43</td>\n",
              "      <td>1.35</td>\n",
              "      <td>10.20</td>\n",
              "      <td>0.59</td>\n",
              "      <td>1.56</td>\n",
              "      <td>835.0</td>\n",
              "      <td>2</td>\n",
              "    </tr>\n",
              "    <tr>\n",
              "      <th>176</th>\n",
              "      <td>13.17</td>\n",
              "      <td>2.59</td>\n",
              "      <td>2.37</td>\n",
              "      <td>20.0</td>\n",
              "      <td>120.0</td>\n",
              "      <td>1.65</td>\n",
              "      <td>0.68</td>\n",
              "      <td>0.53</td>\n",
              "      <td>1.46</td>\n",
              "      <td>9.30</td>\n",
              "      <td>0.60</td>\n",
              "      <td>1.62</td>\n",
              "      <td>840.0</td>\n",
              "      <td>2</td>\n",
              "    </tr>\n",
              "    <tr>\n",
              "      <th>177</th>\n",
              "      <td>14.13</td>\n",
              "      <td>4.10</td>\n",
              "      <td>2.74</td>\n",
              "      <td>24.5</td>\n",
              "      <td>96.0</td>\n",
              "      <td>2.05</td>\n",
              "      <td>0.76</td>\n",
              "      <td>0.56</td>\n",
              "      <td>1.35</td>\n",
              "      <td>9.20</td>\n",
              "      <td>0.61</td>\n",
              "      <td>1.60</td>\n",
              "      <td>560.0</td>\n",
              "      <td>2</td>\n",
              "    </tr>\n",
              "  </tbody>\n",
              "</table>\n",
              "<p>178 rows × 14 columns</p>\n",
              "</div>"
            ],
            "text/plain": [
              "     alcohol  malic_acid   ash  ...  od280/od315_of_diluted_wines  proline  Target\n",
              "0      14.23        1.71  2.43  ...                          3.92   1065.0       0\n",
              "1      13.20        1.78  2.14  ...                          3.40   1050.0       0\n",
              "2      13.16        2.36  2.67  ...                          3.17   1185.0       0\n",
              "3      14.37        1.95  2.50  ...                          3.45   1480.0       0\n",
              "4      13.24        2.59  2.87  ...                          2.93    735.0       0\n",
              "..       ...         ...   ...  ...                           ...      ...     ...\n",
              "173    13.71        5.65  2.45  ...                          1.74    740.0       2\n",
              "174    13.40        3.91  2.48  ...                          1.56    750.0       2\n",
              "175    13.27        4.28  2.26  ...                          1.56    835.0       2\n",
              "176    13.17        2.59  2.37  ...                          1.62    840.0       2\n",
              "177    14.13        4.10  2.74  ...                          1.60    560.0       2\n",
              "\n",
              "[178 rows x 14 columns]"
            ]
          },
          "metadata": {
            "tags": []
          },
          "execution_count": 94
        }
      ]
    },
    {
      "cell_type": "code",
      "metadata": {
        "id": "KtvXg0xS3ipM"
      },
      "source": [
        "X,y = wine.data, wine.target\n",
        "X_train, X_test, y_train, y_test = train_test_split(X,y,test_size=0.2)"
      ],
      "execution_count": 95,
      "outputs": []
    },
    {
      "cell_type": "code",
      "metadata": {
        "colab": {
          "base_uri": "https://localhost:8080/",
          "height": 437
        },
        "id": "B7cap3RJ3ipM",
        "outputId": "a65e8156-8cce-409f-c914-bbf2ef5cc581"
      },
      "source": [
        "wine_df = pd.DataFrame(data=X_train, columns = wine.feature_names)\n",
        "wine_df['Target'] = y_train\n",
        "wine_df"
      ],
      "execution_count": 96,
      "outputs": [
        {
          "output_type": "execute_result",
          "data": {
            "text/html": [
              "<div>\n",
              "<style scoped>\n",
              "    .dataframe tbody tr th:only-of-type {\n",
              "        vertical-align: middle;\n",
              "    }\n",
              "\n",
              "    .dataframe tbody tr th {\n",
              "        vertical-align: top;\n",
              "    }\n",
              "\n",
              "    .dataframe thead th {\n",
              "        text-align: right;\n",
              "    }\n",
              "</style>\n",
              "<table border=\"1\" class=\"dataframe\">\n",
              "  <thead>\n",
              "    <tr style=\"text-align: right;\">\n",
              "      <th></th>\n",
              "      <th>alcohol</th>\n",
              "      <th>malic_acid</th>\n",
              "      <th>ash</th>\n",
              "      <th>alcalinity_of_ash</th>\n",
              "      <th>magnesium</th>\n",
              "      <th>total_phenols</th>\n",
              "      <th>flavanoids</th>\n",
              "      <th>nonflavanoid_phenols</th>\n",
              "      <th>proanthocyanins</th>\n",
              "      <th>color_intensity</th>\n",
              "      <th>hue</th>\n",
              "      <th>od280/od315_of_diluted_wines</th>\n",
              "      <th>proline</th>\n",
              "      <th>Target</th>\n",
              "    </tr>\n",
              "  </thead>\n",
              "  <tbody>\n",
              "    <tr>\n",
              "      <th>0</th>\n",
              "      <td>11.79</td>\n",
              "      <td>2.13</td>\n",
              "      <td>2.78</td>\n",
              "      <td>28.5</td>\n",
              "      <td>92.0</td>\n",
              "      <td>2.13</td>\n",
              "      <td>2.24</td>\n",
              "      <td>0.58</td>\n",
              "      <td>1.76</td>\n",
              "      <td>3.00</td>\n",
              "      <td>0.97</td>\n",
              "      <td>2.44</td>\n",
              "      <td>466.0</td>\n",
              "      <td>1</td>\n",
              "    </tr>\n",
              "    <tr>\n",
              "      <th>1</th>\n",
              "      <td>13.24</td>\n",
              "      <td>3.98</td>\n",
              "      <td>2.29</td>\n",
              "      <td>17.5</td>\n",
              "      <td>103.0</td>\n",
              "      <td>2.64</td>\n",
              "      <td>2.63</td>\n",
              "      <td>0.32</td>\n",
              "      <td>1.66</td>\n",
              "      <td>4.36</td>\n",
              "      <td>0.82</td>\n",
              "      <td>3.00</td>\n",
              "      <td>680.0</td>\n",
              "      <td>0</td>\n",
              "    </tr>\n",
              "    <tr>\n",
              "      <th>2</th>\n",
              "      <td>13.83</td>\n",
              "      <td>1.57</td>\n",
              "      <td>2.62</td>\n",
              "      <td>20.0</td>\n",
              "      <td>115.0</td>\n",
              "      <td>2.95</td>\n",
              "      <td>3.40</td>\n",
              "      <td>0.40</td>\n",
              "      <td>1.72</td>\n",
              "      <td>6.60</td>\n",
              "      <td>1.13</td>\n",
              "      <td>2.57</td>\n",
              "      <td>1130.0</td>\n",
              "      <td>0</td>\n",
              "    </tr>\n",
              "    <tr>\n",
              "      <th>3</th>\n",
              "      <td>13.03</td>\n",
              "      <td>0.90</td>\n",
              "      <td>1.71</td>\n",
              "      <td>16.0</td>\n",
              "      <td>86.0</td>\n",
              "      <td>1.95</td>\n",
              "      <td>2.03</td>\n",
              "      <td>0.24</td>\n",
              "      <td>1.46</td>\n",
              "      <td>4.60</td>\n",
              "      <td>1.19</td>\n",
              "      <td>2.48</td>\n",
              "      <td>392.0</td>\n",
              "      <td>1</td>\n",
              "    </tr>\n",
              "    <tr>\n",
              "      <th>4</th>\n",
              "      <td>12.79</td>\n",
              "      <td>2.67</td>\n",
              "      <td>2.48</td>\n",
              "      <td>22.0</td>\n",
              "      <td>112.0</td>\n",
              "      <td>1.48</td>\n",
              "      <td>1.36</td>\n",
              "      <td>0.24</td>\n",
              "      <td>1.26</td>\n",
              "      <td>10.80</td>\n",
              "      <td>0.48</td>\n",
              "      <td>1.47</td>\n",
              "      <td>480.0</td>\n",
              "      <td>2</td>\n",
              "    </tr>\n",
              "    <tr>\n",
              "      <th>...</th>\n",
              "      <td>...</td>\n",
              "      <td>...</td>\n",
              "      <td>...</td>\n",
              "      <td>...</td>\n",
              "      <td>...</td>\n",
              "      <td>...</td>\n",
              "      <td>...</td>\n",
              "      <td>...</td>\n",
              "      <td>...</td>\n",
              "      <td>...</td>\n",
              "      <td>...</td>\n",
              "      <td>...</td>\n",
              "      <td>...</td>\n",
              "      <td>...</td>\n",
              "    </tr>\n",
              "    <tr>\n",
              "      <th>137</th>\n",
              "      <td>12.37</td>\n",
              "      <td>1.17</td>\n",
              "      <td>1.92</td>\n",
              "      <td>19.6</td>\n",
              "      <td>78.0</td>\n",
              "      <td>2.11</td>\n",
              "      <td>2.00</td>\n",
              "      <td>0.27</td>\n",
              "      <td>1.04</td>\n",
              "      <td>4.68</td>\n",
              "      <td>1.12</td>\n",
              "      <td>3.48</td>\n",
              "      <td>510.0</td>\n",
              "      <td>1</td>\n",
              "    </tr>\n",
              "    <tr>\n",
              "      <th>138</th>\n",
              "      <td>14.23</td>\n",
              "      <td>1.71</td>\n",
              "      <td>2.43</td>\n",
              "      <td>15.6</td>\n",
              "      <td>127.0</td>\n",
              "      <td>2.80</td>\n",
              "      <td>3.06</td>\n",
              "      <td>0.28</td>\n",
              "      <td>2.29</td>\n",
              "      <td>5.64</td>\n",
              "      <td>1.04</td>\n",
              "      <td>3.92</td>\n",
              "      <td>1065.0</td>\n",
              "      <td>0</td>\n",
              "    </tr>\n",
              "    <tr>\n",
              "      <th>139</th>\n",
              "      <td>11.62</td>\n",
              "      <td>1.99</td>\n",
              "      <td>2.28</td>\n",
              "      <td>18.0</td>\n",
              "      <td>98.0</td>\n",
              "      <td>3.02</td>\n",
              "      <td>2.26</td>\n",
              "      <td>0.17</td>\n",
              "      <td>1.35</td>\n",
              "      <td>3.25</td>\n",
              "      <td>1.16</td>\n",
              "      <td>2.96</td>\n",
              "      <td>345.0</td>\n",
              "      <td>1</td>\n",
              "    </tr>\n",
              "    <tr>\n",
              "      <th>140</th>\n",
              "      <td>12.33</td>\n",
              "      <td>1.10</td>\n",
              "      <td>2.28</td>\n",
              "      <td>16.0</td>\n",
              "      <td>101.0</td>\n",
              "      <td>2.05</td>\n",
              "      <td>1.09</td>\n",
              "      <td>0.63</td>\n",
              "      <td>0.41</td>\n",
              "      <td>3.27</td>\n",
              "      <td>1.25</td>\n",
              "      <td>1.67</td>\n",
              "      <td>680.0</td>\n",
              "      <td>1</td>\n",
              "    </tr>\n",
              "    <tr>\n",
              "      <th>141</th>\n",
              "      <td>13.67</td>\n",
              "      <td>1.25</td>\n",
              "      <td>1.92</td>\n",
              "      <td>18.0</td>\n",
              "      <td>94.0</td>\n",
              "      <td>2.10</td>\n",
              "      <td>1.79</td>\n",
              "      <td>0.32</td>\n",
              "      <td>0.73</td>\n",
              "      <td>3.80</td>\n",
              "      <td>1.23</td>\n",
              "      <td>2.46</td>\n",
              "      <td>630.0</td>\n",
              "      <td>1</td>\n",
              "    </tr>\n",
              "  </tbody>\n",
              "</table>\n",
              "<p>142 rows × 14 columns</p>\n",
              "</div>"
            ],
            "text/plain": [
              "     alcohol  malic_acid   ash  ...  od280/od315_of_diluted_wines  proline  Target\n",
              "0      11.79        2.13  2.78  ...                          2.44    466.0       1\n",
              "1      13.24        3.98  2.29  ...                          3.00    680.0       0\n",
              "2      13.83        1.57  2.62  ...                          2.57   1130.0       0\n",
              "3      13.03        0.90  1.71  ...                          2.48    392.0       1\n",
              "4      12.79        2.67  2.48  ...                          1.47    480.0       2\n",
              "..       ...         ...   ...  ...                           ...      ...     ...\n",
              "137    12.37        1.17  1.92  ...                          3.48    510.0       1\n",
              "138    14.23        1.71  2.43  ...                          3.92   1065.0       0\n",
              "139    11.62        1.99  2.28  ...                          2.96    345.0       1\n",
              "140    12.33        1.10  2.28  ...                          1.67    680.0       1\n",
              "141    13.67        1.25  1.92  ...                          2.46    630.0       1\n",
              "\n",
              "[142 rows x 14 columns]"
            ]
          },
          "metadata": {
            "tags": []
          },
          "execution_count": 96
        }
      ]
    },
    {
      "cell_type": "code",
      "metadata": {
        "colab": {
          "base_uri": "https://localhost:8080/",
          "height": 1000
        },
        "id": "a4FynSLG3ipM",
        "outputId": "ce972cc3-b436-499c-b379-2c510508204f"
      },
      "source": [
        "wine_test_df = pd.DataFrame(data=X_test, columns = wine.feature_names)\n",
        "wine_test_df['Target'] = y_test\n",
        "wine_test_df"
      ],
      "execution_count": 97,
      "outputs": [
        {
          "output_type": "execute_result",
          "data": {
            "text/html": [
              "<div>\n",
              "<style scoped>\n",
              "    .dataframe tbody tr th:only-of-type {\n",
              "        vertical-align: middle;\n",
              "    }\n",
              "\n",
              "    .dataframe tbody tr th {\n",
              "        vertical-align: top;\n",
              "    }\n",
              "\n",
              "    .dataframe thead th {\n",
              "        text-align: right;\n",
              "    }\n",
              "</style>\n",
              "<table border=\"1\" class=\"dataframe\">\n",
              "  <thead>\n",
              "    <tr style=\"text-align: right;\">\n",
              "      <th></th>\n",
              "      <th>alcohol</th>\n",
              "      <th>malic_acid</th>\n",
              "      <th>ash</th>\n",
              "      <th>alcalinity_of_ash</th>\n",
              "      <th>magnesium</th>\n",
              "      <th>total_phenols</th>\n",
              "      <th>flavanoids</th>\n",
              "      <th>nonflavanoid_phenols</th>\n",
              "      <th>proanthocyanins</th>\n",
              "      <th>color_intensity</th>\n",
              "      <th>hue</th>\n",
              "      <th>od280/od315_of_diluted_wines</th>\n",
              "      <th>proline</th>\n",
              "      <th>Target</th>\n",
              "    </tr>\n",
              "  </thead>\n",
              "  <tbody>\n",
              "    <tr>\n",
              "      <th>0</th>\n",
              "      <td>11.56</td>\n",
              "      <td>2.05</td>\n",
              "      <td>3.23</td>\n",
              "      <td>28.5</td>\n",
              "      <td>119.0</td>\n",
              "      <td>3.18</td>\n",
              "      <td>5.08</td>\n",
              "      <td>0.47</td>\n",
              "      <td>1.87</td>\n",
              "      <td>6.000000</td>\n",
              "      <td>0.93</td>\n",
              "      <td>3.69</td>\n",
              "      <td>465.0</td>\n",
              "      <td>1</td>\n",
              "    </tr>\n",
              "    <tr>\n",
              "      <th>1</th>\n",
              "      <td>12.25</td>\n",
              "      <td>3.88</td>\n",
              "      <td>2.20</td>\n",
              "      <td>18.5</td>\n",
              "      <td>112.0</td>\n",
              "      <td>1.38</td>\n",
              "      <td>0.78</td>\n",
              "      <td>0.29</td>\n",
              "      <td>1.14</td>\n",
              "      <td>8.210000</td>\n",
              "      <td>0.65</td>\n",
              "      <td>2.00</td>\n",
              "      <td>855.0</td>\n",
              "      <td>2</td>\n",
              "    </tr>\n",
              "    <tr>\n",
              "      <th>2</th>\n",
              "      <td>13.51</td>\n",
              "      <td>1.80</td>\n",
              "      <td>2.65</td>\n",
              "      <td>19.0</td>\n",
              "      <td>110.0</td>\n",
              "      <td>2.35</td>\n",
              "      <td>2.53</td>\n",
              "      <td>0.29</td>\n",
              "      <td>1.54</td>\n",
              "      <td>4.200000</td>\n",
              "      <td>1.10</td>\n",
              "      <td>2.87</td>\n",
              "      <td>1095.0</td>\n",
              "      <td>0</td>\n",
              "    </tr>\n",
              "    <tr>\n",
              "      <th>3</th>\n",
              "      <td>13.73</td>\n",
              "      <td>4.36</td>\n",
              "      <td>2.26</td>\n",
              "      <td>22.5</td>\n",
              "      <td>88.0</td>\n",
              "      <td>1.28</td>\n",
              "      <td>0.47</td>\n",
              "      <td>0.52</td>\n",
              "      <td>1.15</td>\n",
              "      <td>6.620000</td>\n",
              "      <td>0.78</td>\n",
              "      <td>1.75</td>\n",
              "      <td>520.0</td>\n",
              "      <td>2</td>\n",
              "    </tr>\n",
              "    <tr>\n",
              "      <th>4</th>\n",
              "      <td>13.86</td>\n",
              "      <td>1.51</td>\n",
              "      <td>2.67</td>\n",
              "      <td>25.0</td>\n",
              "      <td>86.0</td>\n",
              "      <td>2.95</td>\n",
              "      <td>2.86</td>\n",
              "      <td>0.21</td>\n",
              "      <td>1.87</td>\n",
              "      <td>3.380000</td>\n",
              "      <td>1.36</td>\n",
              "      <td>3.16</td>\n",
              "      <td>410.0</td>\n",
              "      <td>1</td>\n",
              "    </tr>\n",
              "    <tr>\n",
              "      <th>5</th>\n",
              "      <td>14.38</td>\n",
              "      <td>3.59</td>\n",
              "      <td>2.28</td>\n",
              "      <td>16.0</td>\n",
              "      <td>102.0</td>\n",
              "      <td>3.25</td>\n",
              "      <td>3.17</td>\n",
              "      <td>0.27</td>\n",
              "      <td>2.19</td>\n",
              "      <td>4.900000</td>\n",
              "      <td>1.04</td>\n",
              "      <td>3.44</td>\n",
              "      <td>1065.0</td>\n",
              "      <td>0</td>\n",
              "    </tr>\n",
              "    <tr>\n",
              "      <th>6</th>\n",
              "      <td>12.00</td>\n",
              "      <td>0.92</td>\n",
              "      <td>2.00</td>\n",
              "      <td>19.0</td>\n",
              "      <td>86.0</td>\n",
              "      <td>2.42</td>\n",
              "      <td>2.26</td>\n",
              "      <td>0.30</td>\n",
              "      <td>1.43</td>\n",
              "      <td>2.500000</td>\n",
              "      <td>1.38</td>\n",
              "      <td>3.12</td>\n",
              "      <td>278.0</td>\n",
              "      <td>1</td>\n",
              "    </tr>\n",
              "    <tr>\n",
              "      <th>7</th>\n",
              "      <td>13.58</td>\n",
              "      <td>1.66</td>\n",
              "      <td>2.36</td>\n",
              "      <td>19.1</td>\n",
              "      <td>106.0</td>\n",
              "      <td>2.86</td>\n",
              "      <td>3.19</td>\n",
              "      <td>0.22</td>\n",
              "      <td>1.95</td>\n",
              "      <td>6.900000</td>\n",
              "      <td>1.09</td>\n",
              "      <td>2.88</td>\n",
              "      <td>1515.0</td>\n",
              "      <td>0</td>\n",
              "    </tr>\n",
              "    <tr>\n",
              "      <th>8</th>\n",
              "      <td>13.48</td>\n",
              "      <td>1.67</td>\n",
              "      <td>2.64</td>\n",
              "      <td>22.5</td>\n",
              "      <td>89.0</td>\n",
              "      <td>2.60</td>\n",
              "      <td>1.10</td>\n",
              "      <td>0.52</td>\n",
              "      <td>2.29</td>\n",
              "      <td>11.750000</td>\n",
              "      <td>0.57</td>\n",
              "      <td>1.78</td>\n",
              "      <td>620.0</td>\n",
              "      <td>2</td>\n",
              "    </tr>\n",
              "    <tr>\n",
              "      <th>9</th>\n",
              "      <td>13.11</td>\n",
              "      <td>1.01</td>\n",
              "      <td>1.70</td>\n",
              "      <td>15.0</td>\n",
              "      <td>78.0</td>\n",
              "      <td>2.98</td>\n",
              "      <td>3.18</td>\n",
              "      <td>0.26</td>\n",
              "      <td>2.28</td>\n",
              "      <td>5.300000</td>\n",
              "      <td>1.12</td>\n",
              "      <td>3.18</td>\n",
              "      <td>502.0</td>\n",
              "      <td>1</td>\n",
              "    </tr>\n",
              "    <tr>\n",
              "      <th>10</th>\n",
              "      <td>12.37</td>\n",
              "      <td>1.13</td>\n",
              "      <td>2.16</td>\n",
              "      <td>19.0</td>\n",
              "      <td>87.0</td>\n",
              "      <td>3.50</td>\n",
              "      <td>3.10</td>\n",
              "      <td>0.19</td>\n",
              "      <td>1.87</td>\n",
              "      <td>4.450000</td>\n",
              "      <td>1.22</td>\n",
              "      <td>2.87</td>\n",
              "      <td>420.0</td>\n",
              "      <td>1</td>\n",
              "    </tr>\n",
              "    <tr>\n",
              "      <th>11</th>\n",
              "      <td>13.16</td>\n",
              "      <td>2.36</td>\n",
              "      <td>2.67</td>\n",
              "      <td>18.6</td>\n",
              "      <td>101.0</td>\n",
              "      <td>2.80</td>\n",
              "      <td>3.24</td>\n",
              "      <td>0.30</td>\n",
              "      <td>2.81</td>\n",
              "      <td>5.680000</td>\n",
              "      <td>1.03</td>\n",
              "      <td>3.17</td>\n",
              "      <td>1185.0</td>\n",
              "      <td>0</td>\n",
              "    </tr>\n",
              "    <tr>\n",
              "      <th>12</th>\n",
              "      <td>13.94</td>\n",
              "      <td>1.73</td>\n",
              "      <td>2.27</td>\n",
              "      <td>17.4</td>\n",
              "      <td>108.0</td>\n",
              "      <td>2.88</td>\n",
              "      <td>3.54</td>\n",
              "      <td>0.32</td>\n",
              "      <td>2.08</td>\n",
              "      <td>8.900000</td>\n",
              "      <td>1.12</td>\n",
              "      <td>3.10</td>\n",
              "      <td>1260.0</td>\n",
              "      <td>0</td>\n",
              "    </tr>\n",
              "    <tr>\n",
              "      <th>13</th>\n",
              "      <td>12.21</td>\n",
              "      <td>1.19</td>\n",
              "      <td>1.75</td>\n",
              "      <td>16.8</td>\n",
              "      <td>151.0</td>\n",
              "      <td>1.85</td>\n",
              "      <td>1.28</td>\n",
              "      <td>0.14</td>\n",
              "      <td>2.50</td>\n",
              "      <td>2.850000</td>\n",
              "      <td>1.28</td>\n",
              "      <td>3.07</td>\n",
              "      <td>718.0</td>\n",
              "      <td>1</td>\n",
              "    </tr>\n",
              "    <tr>\n",
              "      <th>14</th>\n",
              "      <td>13.84</td>\n",
              "      <td>4.12</td>\n",
              "      <td>2.38</td>\n",
              "      <td>19.5</td>\n",
              "      <td>89.0</td>\n",
              "      <td>1.80</td>\n",
              "      <td>0.83</td>\n",
              "      <td>0.48</td>\n",
              "      <td>1.56</td>\n",
              "      <td>9.010000</td>\n",
              "      <td>0.57</td>\n",
              "      <td>1.64</td>\n",
              "      <td>480.0</td>\n",
              "      <td>2</td>\n",
              "    </tr>\n",
              "    <tr>\n",
              "      <th>15</th>\n",
              "      <td>13.52</td>\n",
              "      <td>3.17</td>\n",
              "      <td>2.72</td>\n",
              "      <td>23.5</td>\n",
              "      <td>97.0</td>\n",
              "      <td>1.55</td>\n",
              "      <td>0.52</td>\n",
              "      <td>0.50</td>\n",
              "      <td>0.55</td>\n",
              "      <td>4.350000</td>\n",
              "      <td>0.89</td>\n",
              "      <td>2.06</td>\n",
              "      <td>520.0</td>\n",
              "      <td>2</td>\n",
              "    </tr>\n",
              "    <tr>\n",
              "      <th>16</th>\n",
              "      <td>13.48</td>\n",
              "      <td>1.81</td>\n",
              "      <td>2.41</td>\n",
              "      <td>20.5</td>\n",
              "      <td>100.0</td>\n",
              "      <td>2.70</td>\n",
              "      <td>2.98</td>\n",
              "      <td>0.26</td>\n",
              "      <td>1.86</td>\n",
              "      <td>5.100000</td>\n",
              "      <td>1.04</td>\n",
              "      <td>3.47</td>\n",
              "      <td>920.0</td>\n",
              "      <td>0</td>\n",
              "    </tr>\n",
              "    <tr>\n",
              "      <th>17</th>\n",
              "      <td>12.22</td>\n",
              "      <td>1.29</td>\n",
              "      <td>1.94</td>\n",
              "      <td>19.0</td>\n",
              "      <td>92.0</td>\n",
              "      <td>2.36</td>\n",
              "      <td>2.04</td>\n",
              "      <td>0.39</td>\n",
              "      <td>2.08</td>\n",
              "      <td>2.700000</td>\n",
              "      <td>0.86</td>\n",
              "      <td>3.02</td>\n",
              "      <td>312.0</td>\n",
              "      <td>1</td>\n",
              "    </tr>\n",
              "    <tr>\n",
              "      <th>18</th>\n",
              "      <td>12.08</td>\n",
              "      <td>1.33</td>\n",
              "      <td>2.30</td>\n",
              "      <td>23.6</td>\n",
              "      <td>70.0</td>\n",
              "      <td>2.20</td>\n",
              "      <td>1.59</td>\n",
              "      <td>0.42</td>\n",
              "      <td>1.38</td>\n",
              "      <td>1.740000</td>\n",
              "      <td>1.07</td>\n",
              "      <td>3.21</td>\n",
              "      <td>625.0</td>\n",
              "      <td>1</td>\n",
              "    </tr>\n",
              "    <tr>\n",
              "      <th>19</th>\n",
              "      <td>13.78</td>\n",
              "      <td>2.76</td>\n",
              "      <td>2.30</td>\n",
              "      <td>22.0</td>\n",
              "      <td>90.0</td>\n",
              "      <td>1.35</td>\n",
              "      <td>0.68</td>\n",
              "      <td>0.41</td>\n",
              "      <td>1.03</td>\n",
              "      <td>9.580000</td>\n",
              "      <td>0.70</td>\n",
              "      <td>1.68</td>\n",
              "      <td>615.0</td>\n",
              "      <td>2</td>\n",
              "    </tr>\n",
              "    <tr>\n",
              "      <th>20</th>\n",
              "      <td>12.51</td>\n",
              "      <td>1.73</td>\n",
              "      <td>1.98</td>\n",
              "      <td>20.5</td>\n",
              "      <td>85.0</td>\n",
              "      <td>2.20</td>\n",
              "      <td>1.92</td>\n",
              "      <td>0.32</td>\n",
              "      <td>1.48</td>\n",
              "      <td>2.940000</td>\n",
              "      <td>1.04</td>\n",
              "      <td>3.57</td>\n",
              "      <td>672.0</td>\n",
              "      <td>1</td>\n",
              "    </tr>\n",
              "    <tr>\n",
              "      <th>21</th>\n",
              "      <td>11.65</td>\n",
              "      <td>1.67</td>\n",
              "      <td>2.62</td>\n",
              "      <td>26.0</td>\n",
              "      <td>88.0</td>\n",
              "      <td>1.92</td>\n",
              "      <td>1.61</td>\n",
              "      <td>0.40</td>\n",
              "      <td>1.34</td>\n",
              "      <td>2.600000</td>\n",
              "      <td>1.36</td>\n",
              "      <td>3.21</td>\n",
              "      <td>562.0</td>\n",
              "      <td>1</td>\n",
              "    </tr>\n",
              "    <tr>\n",
              "      <th>22</th>\n",
              "      <td>13.36</td>\n",
              "      <td>2.56</td>\n",
              "      <td>2.35</td>\n",
              "      <td>20.0</td>\n",
              "      <td>89.0</td>\n",
              "      <td>1.40</td>\n",
              "      <td>0.50</td>\n",
              "      <td>0.37</td>\n",
              "      <td>0.64</td>\n",
              "      <td>5.600000</td>\n",
              "      <td>0.70</td>\n",
              "      <td>2.47</td>\n",
              "      <td>780.0</td>\n",
              "      <td>2</td>\n",
              "    </tr>\n",
              "    <tr>\n",
              "      <th>23</th>\n",
              "      <td>12.77</td>\n",
              "      <td>2.39</td>\n",
              "      <td>2.28</td>\n",
              "      <td>19.5</td>\n",
              "      <td>86.0</td>\n",
              "      <td>1.39</td>\n",
              "      <td>0.51</td>\n",
              "      <td>0.48</td>\n",
              "      <td>0.64</td>\n",
              "      <td>9.899999</td>\n",
              "      <td>0.57</td>\n",
              "      <td>1.63</td>\n",
              "      <td>470.0</td>\n",
              "      <td>2</td>\n",
              "    </tr>\n",
              "    <tr>\n",
              "      <th>24</th>\n",
              "      <td>13.49</td>\n",
              "      <td>1.66</td>\n",
              "      <td>2.24</td>\n",
              "      <td>24.0</td>\n",
              "      <td>87.0</td>\n",
              "      <td>1.88</td>\n",
              "      <td>1.84</td>\n",
              "      <td>0.27</td>\n",
              "      <td>1.03</td>\n",
              "      <td>3.740000</td>\n",
              "      <td>0.98</td>\n",
              "      <td>2.78</td>\n",
              "      <td>472.0</td>\n",
              "      <td>1</td>\n",
              "    </tr>\n",
              "    <tr>\n",
              "      <th>25</th>\n",
              "      <td>13.74</td>\n",
              "      <td>1.67</td>\n",
              "      <td>2.25</td>\n",
              "      <td>16.4</td>\n",
              "      <td>118.0</td>\n",
              "      <td>2.60</td>\n",
              "      <td>2.90</td>\n",
              "      <td>0.21</td>\n",
              "      <td>1.62</td>\n",
              "      <td>5.850000</td>\n",
              "      <td>0.92</td>\n",
              "      <td>3.20</td>\n",
              "      <td>1060.0</td>\n",
              "      <td>0</td>\n",
              "    </tr>\n",
              "    <tr>\n",
              "      <th>26</th>\n",
              "      <td>13.30</td>\n",
              "      <td>1.72</td>\n",
              "      <td>2.14</td>\n",
              "      <td>17.0</td>\n",
              "      <td>94.0</td>\n",
              "      <td>2.40</td>\n",
              "      <td>2.19</td>\n",
              "      <td>0.27</td>\n",
              "      <td>1.35</td>\n",
              "      <td>3.950000</td>\n",
              "      <td>1.02</td>\n",
              "      <td>2.77</td>\n",
              "      <td>1285.0</td>\n",
              "      <td>0</td>\n",
              "    </tr>\n",
              "    <tr>\n",
              "      <th>27</th>\n",
              "      <td>13.76</td>\n",
              "      <td>1.53</td>\n",
              "      <td>2.70</td>\n",
              "      <td>19.5</td>\n",
              "      <td>132.0</td>\n",
              "      <td>2.95</td>\n",
              "      <td>2.74</td>\n",
              "      <td>0.50</td>\n",
              "      <td>1.35</td>\n",
              "      <td>5.400000</td>\n",
              "      <td>1.25</td>\n",
              "      <td>3.00</td>\n",
              "      <td>1235.0</td>\n",
              "      <td>0</td>\n",
              "    </tr>\n",
              "    <tr>\n",
              "      <th>28</th>\n",
              "      <td>14.83</td>\n",
              "      <td>1.64</td>\n",
              "      <td>2.17</td>\n",
              "      <td>14.0</td>\n",
              "      <td>97.0</td>\n",
              "      <td>2.80</td>\n",
              "      <td>2.98</td>\n",
              "      <td>0.29</td>\n",
              "      <td>1.98</td>\n",
              "      <td>5.200000</td>\n",
              "      <td>1.08</td>\n",
              "      <td>2.85</td>\n",
              "      <td>1045.0</td>\n",
              "      <td>0</td>\n",
              "    </tr>\n",
              "    <tr>\n",
              "      <th>29</th>\n",
              "      <td>13.39</td>\n",
              "      <td>1.77</td>\n",
              "      <td>2.62</td>\n",
              "      <td>16.1</td>\n",
              "      <td>93.0</td>\n",
              "      <td>2.85</td>\n",
              "      <td>2.94</td>\n",
              "      <td>0.34</td>\n",
              "      <td>1.45</td>\n",
              "      <td>4.800000</td>\n",
              "      <td>0.92</td>\n",
              "      <td>3.22</td>\n",
              "      <td>1195.0</td>\n",
              "      <td>0</td>\n",
              "    </tr>\n",
              "    <tr>\n",
              "      <th>30</th>\n",
              "      <td>13.40</td>\n",
              "      <td>3.91</td>\n",
              "      <td>2.48</td>\n",
              "      <td>23.0</td>\n",
              "      <td>102.0</td>\n",
              "      <td>1.80</td>\n",
              "      <td>0.75</td>\n",
              "      <td>0.43</td>\n",
              "      <td>1.41</td>\n",
              "      <td>7.300000</td>\n",
              "      <td>0.70</td>\n",
              "      <td>1.56</td>\n",
              "      <td>750.0</td>\n",
              "      <td>2</td>\n",
              "    </tr>\n",
              "    <tr>\n",
              "      <th>31</th>\n",
              "      <td>13.82</td>\n",
              "      <td>1.75</td>\n",
              "      <td>2.42</td>\n",
              "      <td>14.0</td>\n",
              "      <td>111.0</td>\n",
              "      <td>3.88</td>\n",
              "      <td>3.74</td>\n",
              "      <td>0.32</td>\n",
              "      <td>1.87</td>\n",
              "      <td>7.050000</td>\n",
              "      <td>1.01</td>\n",
              "      <td>3.26</td>\n",
              "      <td>1190.0</td>\n",
              "      <td>0</td>\n",
              "    </tr>\n",
              "    <tr>\n",
              "      <th>32</th>\n",
              "      <td>13.56</td>\n",
              "      <td>1.71</td>\n",
              "      <td>2.31</td>\n",
              "      <td>16.2</td>\n",
              "      <td>117.0</td>\n",
              "      <td>3.15</td>\n",
              "      <td>3.29</td>\n",
              "      <td>0.34</td>\n",
              "      <td>2.34</td>\n",
              "      <td>6.130000</td>\n",
              "      <td>0.95</td>\n",
              "      <td>3.38</td>\n",
              "      <td>795.0</td>\n",
              "      <td>0</td>\n",
              "    </tr>\n",
              "    <tr>\n",
              "      <th>33</th>\n",
              "      <td>12.08</td>\n",
              "      <td>1.13</td>\n",
              "      <td>2.51</td>\n",
              "      <td>24.0</td>\n",
              "      <td>78.0</td>\n",
              "      <td>2.00</td>\n",
              "      <td>1.58</td>\n",
              "      <td>0.40</td>\n",
              "      <td>1.40</td>\n",
              "      <td>2.200000</td>\n",
              "      <td>1.31</td>\n",
              "      <td>2.72</td>\n",
              "      <td>630.0</td>\n",
              "      <td>1</td>\n",
              "    </tr>\n",
              "    <tr>\n",
              "      <th>34</th>\n",
              "      <td>12.85</td>\n",
              "      <td>1.60</td>\n",
              "      <td>2.52</td>\n",
              "      <td>17.8</td>\n",
              "      <td>95.0</td>\n",
              "      <td>2.48</td>\n",
              "      <td>2.37</td>\n",
              "      <td>0.26</td>\n",
              "      <td>1.46</td>\n",
              "      <td>3.930000</td>\n",
              "      <td>1.09</td>\n",
              "      <td>3.63</td>\n",
              "      <td>1015.0</td>\n",
              "      <td>0</td>\n",
              "    </tr>\n",
              "    <tr>\n",
              "      <th>35</th>\n",
              "      <td>14.02</td>\n",
              "      <td>1.68</td>\n",
              "      <td>2.21</td>\n",
              "      <td>16.0</td>\n",
              "      <td>96.0</td>\n",
              "      <td>2.65</td>\n",
              "      <td>2.33</td>\n",
              "      <td>0.26</td>\n",
              "      <td>1.98</td>\n",
              "      <td>4.700000</td>\n",
              "      <td>1.04</td>\n",
              "      <td>3.59</td>\n",
              "      <td>1035.0</td>\n",
              "      <td>0</td>\n",
              "    </tr>\n",
              "  </tbody>\n",
              "</table>\n",
              "</div>"
            ],
            "text/plain": [
              "    alcohol  malic_acid   ash  ...  od280/od315_of_diluted_wines  proline  Target\n",
              "0     11.56        2.05  3.23  ...                          3.69    465.0       1\n",
              "1     12.25        3.88  2.20  ...                          2.00    855.0       2\n",
              "2     13.51        1.80  2.65  ...                          2.87   1095.0       0\n",
              "3     13.73        4.36  2.26  ...                          1.75    520.0       2\n",
              "4     13.86        1.51  2.67  ...                          3.16    410.0       1\n",
              "5     14.38        3.59  2.28  ...                          3.44   1065.0       0\n",
              "6     12.00        0.92  2.00  ...                          3.12    278.0       1\n",
              "7     13.58        1.66  2.36  ...                          2.88   1515.0       0\n",
              "8     13.48        1.67  2.64  ...                          1.78    620.0       2\n",
              "9     13.11        1.01  1.70  ...                          3.18    502.0       1\n",
              "10    12.37        1.13  2.16  ...                          2.87    420.0       1\n",
              "11    13.16        2.36  2.67  ...                          3.17   1185.0       0\n",
              "12    13.94        1.73  2.27  ...                          3.10   1260.0       0\n",
              "13    12.21        1.19  1.75  ...                          3.07    718.0       1\n",
              "14    13.84        4.12  2.38  ...                          1.64    480.0       2\n",
              "15    13.52        3.17  2.72  ...                          2.06    520.0       2\n",
              "16    13.48        1.81  2.41  ...                          3.47    920.0       0\n",
              "17    12.22        1.29  1.94  ...                          3.02    312.0       1\n",
              "18    12.08        1.33  2.30  ...                          3.21    625.0       1\n",
              "19    13.78        2.76  2.30  ...                          1.68    615.0       2\n",
              "20    12.51        1.73  1.98  ...                          3.57    672.0       1\n",
              "21    11.65        1.67  2.62  ...                          3.21    562.0       1\n",
              "22    13.36        2.56  2.35  ...                          2.47    780.0       2\n",
              "23    12.77        2.39  2.28  ...                          1.63    470.0       2\n",
              "24    13.49        1.66  2.24  ...                          2.78    472.0       1\n",
              "25    13.74        1.67  2.25  ...                          3.20   1060.0       0\n",
              "26    13.30        1.72  2.14  ...                          2.77   1285.0       0\n",
              "27    13.76        1.53  2.70  ...                          3.00   1235.0       0\n",
              "28    14.83        1.64  2.17  ...                          2.85   1045.0       0\n",
              "29    13.39        1.77  2.62  ...                          3.22   1195.0       0\n",
              "30    13.40        3.91  2.48  ...                          1.56    750.0       2\n",
              "31    13.82        1.75  2.42  ...                          3.26   1190.0       0\n",
              "32    13.56        1.71  2.31  ...                          3.38    795.0       0\n",
              "33    12.08        1.13  2.51  ...                          2.72    630.0       1\n",
              "34    12.85        1.60  2.52  ...                          3.63   1015.0       0\n",
              "35    14.02        1.68  2.21  ...                          3.59   1035.0       0\n",
              "\n",
              "[36 rows x 14 columns]"
            ]
          },
          "metadata": {
            "tags": []
          },
          "execution_count": 97
        }
      ]
    },
    {
      "cell_type": "code",
      "metadata": {
        "id": "-8jRnuNz3ipN"
      },
      "source": [
        "scaler = StandardScaler()\n",
        "X_train_scale = scaler.fit_transform(X_train)\n",
        "X_test_scale = scaler.transform(X_test)"
      ],
      "execution_count": 98,
      "outputs": []
    },
    {
      "cell_type": "code",
      "metadata": {
        "colab": {
          "base_uri": "https://localhost:8080/"
        },
        "id": "U5q827Sf3ipN",
        "outputId": "8c2763e2-f06c-4946-cbc7-0f1f83f32ee2"
      },
      "source": [
        "model = KNeighborsClassifier()\n",
        "model.fit(X_train, y_train)"
      ],
      "execution_count": 99,
      "outputs": [
        {
          "output_type": "execute_result",
          "data": {
            "text/plain": [
              "KNeighborsClassifier(algorithm='auto', leaf_size=30, metric='minkowski',\n",
              "                     metric_params=None, n_jobs=None, n_neighbors=5, p=2,\n",
              "                     weights='uniform')"
            ]
          },
          "metadata": {
            "tags": []
          },
          "execution_count": 99
        }
      ]
    },
    {
      "cell_type": "code",
      "metadata": {
        "colab": {
          "base_uri": "https://localhost:8080/"
        },
        "id": "ZsF0HD3u3ipN",
        "outputId": "859030ea-75ed-453b-a837-1b510106913d"
      },
      "source": [
        "print(\"학습 데이터 점수: {}\".format(model.score(X_train, y_train)))\n",
        "print(\"평가 데이터 점수: {}\".format(model.score(X_test, y_test)))"
      ],
      "execution_count": 100,
      "outputs": [
        {
          "output_type": "stream",
          "text": [
            "학습 데이터 점수: 0.7605633802816901\n",
            "평가 데이터 점수: 0.6666666666666666\n"
          ],
          "name": "stdout"
        }
      ]
    },
    {
      "cell_type": "code",
      "metadata": {
        "colab": {
          "base_uri": "https://localhost:8080/"
        },
        "id": "bfDfbdke3ipO",
        "outputId": "07afb033-0e33-4ab0-86b5-4eefdf2c349e"
      },
      "source": [
        "model = KNeighborsClassifier()\n",
        "model.fit(X_train_scale, y_train)"
      ],
      "execution_count": 101,
      "outputs": [
        {
          "output_type": "execute_result",
          "data": {
            "text/plain": [
              "KNeighborsClassifier(algorithm='auto', leaf_size=30, metric='minkowski',\n",
              "                     metric_params=None, n_jobs=None, n_neighbors=5, p=2,\n",
              "                     weights='uniform')"
            ]
          },
          "metadata": {
            "tags": []
          },
          "execution_count": 101
        }
      ]
    },
    {
      "cell_type": "code",
      "metadata": {
        "colab": {
          "base_uri": "https://localhost:8080/"
        },
        "id": "SFjyAVLH3ipQ",
        "outputId": "a8ec432d-bcce-4caf-cc3e-d06ffbec0fe4"
      },
      "source": [
        "print(\"학습 데이터 점수: {}\".format(model.score(X_train_scale, y_train)))\n",
        "print(\"평가 데이터 점수: {}\".format(model.score(X_test_scale, y_test)))"
      ],
      "execution_count": 102,
      "outputs": [
        {
          "output_type": "stream",
          "text": [
            "학습 데이터 점수: 0.9788732394366197\n",
            "평가 데이터 점수: 0.9722222222222222\n"
          ],
          "name": "stdout"
        }
      ]
    },
    {
      "cell_type": "code",
      "metadata": {
        "id": "wqIydZgF3ipQ"
      },
      "source": [
        "estimator = make_pipeline(\n",
        "    StandardScaler(),\n",
        "    KNeighborsClassifier()\n",
        ")"
      ],
      "execution_count": 103,
      "outputs": []
    },
    {
      "cell_type": "code",
      "metadata": {
        "colab": {
          "base_uri": "https://localhost:8080/"
        },
        "id": "bT0R1mj73ipR",
        "outputId": "138c85d9-764a-49ab-e842-b395ed3beddb"
      },
      "source": [
        "cross_validate(\n",
        "    estimator=estimator,\n",
        "    X=X,y=y,\n",
        "    cv=5,\n",
        "    n_jobs=multiprocessing.cpu_count(),\n",
        "    verbose=True\n",
        ")"
      ],
      "execution_count": 104,
      "outputs": [
        {
          "output_type": "stream",
          "text": [
            "[Parallel(n_jobs=2)]: Using backend LokyBackend with 2 concurrent workers.\n",
            "[Parallel(n_jobs=2)]: Done   5 out of   5 | elapsed:    1.0s finished\n"
          ],
          "name": "stderr"
        },
        {
          "output_type": "execute_result",
          "data": {
            "text/plain": [
              "{'fit_time': array([0.00247097, 0.00250244, 0.00200057, 0.00247931, 0.00727105]),\n",
              " 'score_time': array([0.00406384, 0.00504851, 0.00330877, 0.00381207, 0.00385189]),\n",
              " 'test_score': array([0.94444444, 0.94444444, 0.97222222, 1.        , 0.88571429])}"
            ]
          },
          "metadata": {
            "tags": []
          },
          "execution_count": 104
        }
      ]
    },
    {
      "cell_type": "code",
      "metadata": {
        "id": "nqkeGstO3ipR"
      },
      "source": [
        "pipe = Pipeline(\n",
        "    [('scaler', StandardScaler()),\n",
        "     ('model', KNeighborsClassifier())]\n",
        ")"
      ],
      "execution_count": 105,
      "outputs": []
    },
    {
      "cell_type": "code",
      "metadata": {
        "id": "1i27631A3ipS"
      },
      "source": [
        "param_grid = [{'model__n_neighbors': [3,5,7],\n",
        "               'model__weights':['uniform','distance'],\n",
        "               'model__algorithm': ['ball_tree', 'kd_tree', 'brute']}]"
      ],
      "execution_count": 106,
      "outputs": []
    },
    {
      "cell_type": "code",
      "metadata": {
        "id": "gAaPNSxI3ipS"
      },
      "source": [
        "gs = GridSearchCV(\n",
        "    estimator=pipe,\n",
        "    param_grid = param_grid,\n",
        "    n_jobs = multiprocessing.cpu_count(),\n",
        "    verbose=True\n",
        ")"
      ],
      "execution_count": 107,
      "outputs": []
    },
    {
      "cell_type": "code",
      "metadata": {
        "colab": {
          "base_uri": "https://localhost:8080/"
        },
        "id": "4yuOFB803ipS",
        "outputId": "9f81e03b-b86f-4ec2-b1dd-63f92cc7167a"
      },
      "source": [
        "gs.fit(X,y)"
      ],
      "execution_count": 108,
      "outputs": [
        {
          "output_type": "stream",
          "text": [
            "Fitting 5 folds for each of 18 candidates, totalling 90 fits\n"
          ],
          "name": "stdout"
        },
        {
          "output_type": "stream",
          "text": [
            "[Parallel(n_jobs=2)]: Using backend LokyBackend with 2 concurrent workers.\n",
            "[Parallel(n_jobs=2)]: Done  90 out of  90 | elapsed:    0.4s finished\n"
          ],
          "name": "stderr"
        },
        {
          "output_type": "execute_result",
          "data": {
            "text/plain": [
              "GridSearchCV(cv=None, error_score=nan,\n",
              "             estimator=Pipeline(memory=None,\n",
              "                                steps=[('scaler',\n",
              "                                        StandardScaler(copy=True,\n",
              "                                                       with_mean=True,\n",
              "                                                       with_std=True)),\n",
              "                                       ('model',\n",
              "                                        KNeighborsClassifier(algorithm='auto',\n",
              "                                                             leaf_size=30,\n",
              "                                                             metric='minkowski',\n",
              "                                                             metric_params=None,\n",
              "                                                             n_jobs=None,\n",
              "                                                             n_neighbors=5, p=2,\n",
              "                                                             weights='uniform'))],\n",
              "                                verbose=False),\n",
              "             iid='deprecated', n_jobs=2,\n",
              "             param_grid=[{'model__algorithm': ['ball_tree', 'kd_tree', 'brute'],\n",
              "                          'model__n_neighbors': [3, 5, 7],\n",
              "                          'model__weights': ['uniform', 'distance']}],\n",
              "             pre_dispatch='2*n_jobs', refit=True, return_train_score=False,\n",
              "             scoring=None, verbose=True)"
            ]
          },
          "metadata": {
            "tags": []
          },
          "execution_count": 108
        }
      ]
    },
    {
      "cell_type": "code",
      "metadata": {
        "colab": {
          "base_uri": "https://localhost:8080/"
        },
        "id": "qGA3Nbcw3ipT",
        "outputId": "4b901fd6-4553-48dd-ad33-910fb009b2b0"
      },
      "source": [
        "gs.best_estimator_"
      ],
      "execution_count": 109,
      "outputs": [
        {
          "output_type": "execute_result",
          "data": {
            "text/plain": [
              "Pipeline(memory=None,\n",
              "         steps=[('scaler',\n",
              "                 StandardScaler(copy=True, with_mean=True, with_std=True)),\n",
              "                ('model',\n",
              "                 KNeighborsClassifier(algorithm='ball_tree', leaf_size=30,\n",
              "                                      metric='minkowski', metric_params=None,\n",
              "                                      n_jobs=None, n_neighbors=7, p=2,\n",
              "                                      weights='uniform'))],\n",
              "         verbose=False)"
            ]
          },
          "metadata": {
            "tags": []
          },
          "execution_count": 109
        }
      ]
    },
    {
      "cell_type": "code",
      "metadata": {
        "colab": {
          "base_uri": "https://localhost:8080/"
        },
        "id": "ZzLMMrq03ipT",
        "outputId": "8470ca8b-dcaf-4a37-cfe1-537dfd650ad8"
      },
      "source": [
        "print('GridSearchCV best score: {}'.format(gs.best_score_))"
      ],
      "execution_count": 110,
      "outputs": [
        {
          "output_type": "stream",
          "text": [
            "GridSearchCV best score: 0.9665079365079364\n"
          ],
          "name": "stdout"
        }
      ]
    },
    {
      "cell_type": "code",
      "metadata": {
        "id": "pLxee3aK3ipU"
      },
      "source": [
        "tsne = TSNE(n_components=2)\n",
        "X_comp = tsne.fit_transform(X)"
      ],
      "execution_count": 111,
      "outputs": []
    },
    {
      "cell_type": "code",
      "metadata": {
        "colab": {
          "base_uri": "https://localhost:8080/",
          "height": 417
        },
        "id": "Rv_l7Lfh3ipV",
        "outputId": "02234386-1bbc-4395-f5cc-bbebbdbadde8"
      },
      "source": [
        "wine_comp_df = pd.DataFrame(data=X_comp)\n",
        "wine_comp_df['Target'] = y\n",
        "wine_comp_df"
      ],
      "execution_count": 112,
      "outputs": [
        {
          "output_type": "execute_result",
          "data": {
            "text/html": [
              "<div>\n",
              "<style scoped>\n",
              "    .dataframe tbody tr th:only-of-type {\n",
              "        vertical-align: middle;\n",
              "    }\n",
              "\n",
              "    .dataframe tbody tr th {\n",
              "        vertical-align: top;\n",
              "    }\n",
              "\n",
              "    .dataframe thead th {\n",
              "        text-align: right;\n",
              "    }\n",
              "</style>\n",
              "<table border=\"1\" class=\"dataframe\">\n",
              "  <thead>\n",
              "    <tr style=\"text-align: right;\">\n",
              "      <th></th>\n",
              "      <th>0</th>\n",
              "      <th>1</th>\n",
              "      <th>Target</th>\n",
              "    </tr>\n",
              "  </thead>\n",
              "  <tbody>\n",
              "    <tr>\n",
              "      <th>0</th>\n",
              "      <td>-6.421164</td>\n",
              "      <td>10.779013</td>\n",
              "      <td>0</td>\n",
              "    </tr>\n",
              "    <tr>\n",
              "      <th>1</th>\n",
              "      <td>-5.621099</td>\n",
              "      <td>10.844733</td>\n",
              "      <td>0</td>\n",
              "    </tr>\n",
              "    <tr>\n",
              "      <th>2</th>\n",
              "      <td>-7.225096</td>\n",
              "      <td>12.927375</td>\n",
              "      <td>0</td>\n",
              "    </tr>\n",
              "    <tr>\n",
              "      <th>3</th>\n",
              "      <td>-8.568655</td>\n",
              "      <td>15.500054</td>\n",
              "      <td>0</td>\n",
              "    </tr>\n",
              "    <tr>\n",
              "      <th>4</th>\n",
              "      <td>-1.755264</td>\n",
              "      <td>3.222793</td>\n",
              "      <td>0</td>\n",
              "    </tr>\n",
              "    <tr>\n",
              "      <th>...</th>\n",
              "      <td>...</td>\n",
              "      <td>...</td>\n",
              "      <td>...</td>\n",
              "    </tr>\n",
              "    <tr>\n",
              "      <th>173</th>\n",
              "      <td>-1.343744</td>\n",
              "      <td>3.438249</td>\n",
              "      <td>2</td>\n",
              "    </tr>\n",
              "    <tr>\n",
              "      <th>174</th>\n",
              "      <td>-1.605395</td>\n",
              "      <td>3.798739</td>\n",
              "      <td>2</td>\n",
              "    </tr>\n",
              "    <tr>\n",
              "      <th>175</th>\n",
              "      <td>-3.190541</td>\n",
              "      <td>5.964467</td>\n",
              "      <td>2</td>\n",
              "    </tr>\n",
              "    <tr>\n",
              "      <th>176</th>\n",
              "      <td>-3.023804</td>\n",
              "      <td>6.254618</td>\n",
              "      <td>2</td>\n",
              "    </tr>\n",
              "    <tr>\n",
              "      <th>177</th>\n",
              "      <td>2.643590</td>\n",
              "      <td>-5.054371</td>\n",
              "      <td>2</td>\n",
              "    </tr>\n",
              "  </tbody>\n",
              "</table>\n",
              "<p>178 rows × 3 columns</p>\n",
              "</div>"
            ],
            "text/plain": [
              "            0          1  Target\n",
              "0   -6.421164  10.779013       0\n",
              "1   -5.621099  10.844733       0\n",
              "2   -7.225096  12.927375       0\n",
              "3   -8.568655  15.500054       0\n",
              "4   -1.755264   3.222793       0\n",
              "..        ...        ...     ...\n",
              "173 -1.343744   3.438249       2\n",
              "174 -1.605395   3.798739       2\n",
              "175 -3.190541   5.964467       2\n",
              "176 -3.023804   6.254618       2\n",
              "177  2.643590  -5.054371       2\n",
              "\n",
              "[178 rows x 3 columns]"
            ]
          },
          "metadata": {
            "tags": []
          },
          "execution_count": 112
        }
      ]
    },
    {
      "cell_type": "code",
      "metadata": {
        "colab": {
          "base_uri": "https://localhost:8080/",
          "height": 280
        },
        "id": "Ectt9y3K3ipV",
        "outputId": "4e980a41-adf3-4017-c583-d14af3da84df"
      },
      "source": [
        "plt.scatter(X_comp[:,0], X_comp[:,1],c=y,cmap=plt.cm.coolwarm, s=20, edgecolors='k')"
      ],
      "execution_count": 113,
      "outputs": [
        {
          "output_type": "execute_result",
          "data": {
            "text/plain": [
              "<matplotlib.collections.PathCollection at 0x7f4c10342f50>"
            ]
          },
          "metadata": {
            "tags": []
          },
          "execution_count": 113
        },
        {
          "output_type": "display_data",
          "data": {
            "image/png": "[encoded data removed]",
            "text/plain": [
              "<Figure size 432x288 with 1 Axes>"
            ]
          },
          "metadata": {
            "tags": [],
            "needs_background": "light"
          }
        }
      ]
    },
    {
      "cell_type": "code",
      "metadata": {
        "id": "MyoY01sF3ipV"
      },
      "source": [
        "model = KNeighborsClassifier()\n",
        "model.fit(X_comp,y)\n",
        "predict = model.predict(X_comp)"
      ],
      "execution_count": 114,
      "outputs": []
    },
    {
      "cell_type": "code",
      "metadata": {
        "colab": {
          "base_uri": "https://localhost:8080/",
          "height": 280
        },
        "id": "qAwjEkbq3ipW",
        "outputId": "60c778bd-7164-4a92-db51-39f1b5e88158"
      },
      "source": [
        "xx,yy = make_meshgrid(X_comp[:,0],X_comp[:,1])\n",
        "plot_contours(model, xx, yy, cmap=plt.cm.coolwarm, alpha=0.8)\n",
        "plt.scatter(X_comp[:,0], X_comp[:,1],c=y,cmap=plt.cm.coolwarm, s=20, edgecolors='k')"
      ],
      "execution_count": 115,
      "outputs": [
        {
          "output_type": "execute_result",
          "data": {
            "text/plain": [
              "<matplotlib.collections.PathCollection at 0x7f4c102b8710>"
            ]
          },
          "metadata": {
            "tags": []
          },
          "execution_count": 115
        },
        {
          "output_type": "display_data",
          "data": {
            "image/png": "[encoded data removed]",
            "text/plain": [
              "<Figure size 432x288 with 1 Axes>"
            ]
          },
          "metadata": {
            "tags": [],
            "needs_background": "light"
          }
        }
      ]
    },
    {
      "cell_type": "markdown",
      "metadata": {
        "id": "YE7NMnwI7QGz"
      },
      "source": [
        "## k 최근접 이웃 회귀\n",
        "\n",
        "* k 최근접 이웃 분류와 마찬가지로 예측에 이웃 데이터 포인트 사용\n",
        "* 이웃 데이터 포인트의 평균이 예측 결과"
      ]
    },
    {
      "cell_type": "markdown",
      "metadata": {
        "id": "L5pfum_T7WZ5"
      },
      "source": [
        "### 보스턴 주택 가격 데이터"
      ]
    },
    {
      "cell_type": "code",
      "metadata": {
        "id": "Cyx9kp2q8iMe"
      },
      "source": [
        "boston = load_boston()"
      ],
      "execution_count": 116,
      "outputs": []
    },
    {
      "cell_type": "code",
      "metadata": {
        "id": "izbZUMVS8lnN",
        "colab": {
          "base_uri": "https://localhost:8080/",
          "height": 417
        },
        "outputId": "dae74aa6-7acf-4683-b66e-7f66985c38b6"
      },
      "source": [
        "boston_df = pd.DataFrame(data=boston.data, columns=boston.feature_names)\n",
        "boston_df['Target'] = boston.target\n",
        "boston_df"
      ],
      "execution_count": 117,
      "outputs": [
        {
          "output_type": "execute_result",
          "data": {
            "text/html": [
              "<div>\n",
              "<style scoped>\n",
              "    .dataframe tbody tr th:only-of-type {\n",
              "        vertical-align: middle;\n",
              "    }\n",
              "\n",
              "    .dataframe tbody tr th {\n",
              "        vertical-align: top;\n",
              "    }\n",
              "\n",
              "    .dataframe thead th {\n",
              "        text-align: right;\n",
              "    }\n",
              "</style>\n",
              "<table border=\"1\" class=\"dataframe\">\n",
              "  <thead>\n",
              "    <tr style=\"text-align: right;\">\n",
              "      <th></th>\n",
              "      <th>CRIM</th>\n",
              "      <th>ZN</th>\n",
              "      <th>INDUS</th>\n",
              "      <th>CHAS</th>\n",
              "      <th>NOX</th>\n",
              "      <th>RM</th>\n",
              "      <th>AGE</th>\n",
              "      <th>DIS</th>\n",
              "      <th>RAD</th>\n",
              "      <th>TAX</th>\n",
              "      <th>PTRATIO</th>\n",
              "      <th>B</th>\n",
              "      <th>LSTAT</th>\n",
              "      <th>Target</th>\n",
              "    </tr>\n",
              "  </thead>\n",
              "  <tbody>\n",
              "    <tr>\n",
              "      <th>0</th>\n",
              "      <td>0.00632</td>\n",
              "      <td>18.0</td>\n",
              "      <td>2.31</td>\n",
              "      <td>0.0</td>\n",
              "      <td>0.538</td>\n",
              "      <td>6.575</td>\n",
              "      <td>65.2</td>\n",
              "      <td>4.0900</td>\n",
              "      <td>1.0</td>\n",
              "      <td>296.0</td>\n",
              "      <td>15.3</td>\n",
              "      <td>396.90</td>\n",
              "      <td>4.98</td>\n",
              "      <td>24.0</td>\n",
              "    </tr>\n",
              "    <tr>\n",
              "      <th>1</th>\n",
              "      <td>0.02731</td>\n",
              "      <td>0.0</td>\n",
              "      <td>7.07</td>\n",
              "      <td>0.0</td>\n",
              "      <td>0.469</td>\n",
              "      <td>6.421</td>\n",
              "      <td>78.9</td>\n",
              "      <td>4.9671</td>\n",
              "      <td>2.0</td>\n",
              "      <td>242.0</td>\n",
              "      <td>17.8</td>\n",
              "      <td>396.90</td>\n",
              "      <td>9.14</td>\n",
              "      <td>21.6</td>\n",
              "    </tr>\n",
              "    <tr>\n",
              "      <th>2</th>\n",
              "      <td>0.02729</td>\n",
              "      <td>0.0</td>\n",
              "      <td>7.07</td>\n",
              "      <td>0.0</td>\n",
              "      <td>0.469</td>\n",
              "      <td>7.185</td>\n",
              "      <td>61.1</td>\n",
              "      <td>4.9671</td>\n",
              "      <td>2.0</td>\n",
              "      <td>242.0</td>\n",
              "      <td>17.8</td>\n",
              "      <td>392.83</td>\n",
              "      <td>4.03</td>\n",
              "      <td>34.7</td>\n",
              "    </tr>\n",
              "    <tr>\n",
              "      <th>3</th>\n",
              "      <td>0.03237</td>\n",
              "      <td>0.0</td>\n",
              "      <td>2.18</td>\n",
              "      <td>0.0</td>\n",
              "      <td>0.458</td>\n",
              "      <td>6.998</td>\n",
              "      <td>45.8</td>\n",
              "      <td>6.0622</td>\n",
              "      <td>3.0</td>\n",
              "      <td>222.0</td>\n",
              "      <td>18.7</td>\n",
              "      <td>394.63</td>\n",
              "      <td>2.94</td>\n",
              "      <td>33.4</td>\n",
              "    </tr>\n",
              "    <tr>\n",
              "      <th>4</th>\n",
              "      <td>0.06905</td>\n",
              "      <td>0.0</td>\n",
              "      <td>2.18</td>\n",
              "      <td>0.0</td>\n",
              "      <td>0.458</td>\n",
              "      <td>7.147</td>\n",
              "      <td>54.2</td>\n",
              "      <td>6.0622</td>\n",
              "      <td>3.0</td>\n",
              "      <td>222.0</td>\n",
              "      <td>18.7</td>\n",
              "      <td>396.90</td>\n",
              "      <td>5.33</td>\n",
              "      <td>36.2</td>\n",
              "    </tr>\n",
              "    <tr>\n",
              "      <th>...</th>\n",
              "      <td>...</td>\n",
              "      <td>...</td>\n",
              "      <td>...</td>\n",
              "      <td>...</td>\n",
              "      <td>...</td>\n",
              "      <td>...</td>\n",
              "      <td>...</td>\n",
              "      <td>...</td>\n",
              "      <td>...</td>\n",
              "      <td>...</td>\n",
              "      <td>...</td>\n",
              "      <td>...</td>\n",
              "      <td>...</td>\n",
              "      <td>...</td>\n",
              "    </tr>\n",
              "    <tr>\n",
              "      <th>501</th>\n",
              "      <td>0.06263</td>\n",
              "      <td>0.0</td>\n",
              "      <td>11.93</td>\n",
              "      <td>0.0</td>\n",
              "      <td>0.573</td>\n",
              "      <td>6.593</td>\n",
              "      <td>69.1</td>\n",
              "      <td>2.4786</td>\n",
              "      <td>1.0</td>\n",
              "      <td>273.0</td>\n",
              "      <td>21.0</td>\n",
              "      <td>391.99</td>\n",
              "      <td>9.67</td>\n",
              "      <td>22.4</td>\n",
              "    </tr>\n",
              "    <tr>\n",
              "      <th>502</th>\n",
              "      <td>0.04527</td>\n",
              "      <td>0.0</td>\n",
              "      <td>11.93</td>\n",
              "      <td>0.0</td>\n",
              "      <td>0.573</td>\n",
              "      <td>6.120</td>\n",
              "      <td>76.7</td>\n",
              "      <td>2.2875</td>\n",
              "      <td>1.0</td>\n",
              "      <td>273.0</td>\n",
              "      <td>21.0</td>\n",
              "      <td>396.90</td>\n",
              "      <td>9.08</td>\n",
              "      <td>20.6</td>\n",
              "    </tr>\n",
              "    <tr>\n",
              "      <th>503</th>\n",
              "      <td>0.06076</td>\n",
              "      <td>0.0</td>\n",
              "      <td>11.93</td>\n",
              "      <td>0.0</td>\n",
              "      <td>0.573</td>\n",
              "      <td>6.976</td>\n",
              "      <td>91.0</td>\n",
              "      <td>2.1675</td>\n",
              "      <td>1.0</td>\n",
              "      <td>273.0</td>\n",
              "      <td>21.0</td>\n",
              "      <td>396.90</td>\n",
              "      <td>5.64</td>\n",
              "      <td>23.9</td>\n",
              "    </tr>\n",
              "    <tr>\n",
              "      <th>504</th>\n",
              "      <td>0.10959</td>\n",
              "      <td>0.0</td>\n",
              "      <td>11.93</td>\n",
              "      <td>0.0</td>\n",
              "      <td>0.573</td>\n",
              "      <td>6.794</td>\n",
              "      <td>89.3</td>\n",
              "      <td>2.3889</td>\n",
              "      <td>1.0</td>\n",
              "      <td>273.0</td>\n",
              "      <td>21.0</td>\n",
              "      <td>393.45</td>\n",
              "      <td>6.48</td>\n",
              "      <td>22.0</td>\n",
              "    </tr>\n",
              "    <tr>\n",
              "      <th>505</th>\n",
              "      <td>0.04741</td>\n",
              "      <td>0.0</td>\n",
              "      <td>11.93</td>\n",
              "      <td>0.0</td>\n",
              "      <td>0.573</td>\n",
              "      <td>6.030</td>\n",
              "      <td>80.8</td>\n",
              "      <td>2.5050</td>\n",
              "      <td>1.0</td>\n",
              "      <td>273.0</td>\n",
              "      <td>21.0</td>\n",
              "      <td>396.90</td>\n",
              "      <td>7.88</td>\n",
              "      <td>11.9</td>\n",
              "    </tr>\n",
              "  </tbody>\n",
              "</table>\n",
              "<p>506 rows × 14 columns</p>\n",
              "</div>"
            ],
            "text/plain": [
              "        CRIM    ZN  INDUS  CHAS    NOX  ...    TAX  PTRATIO       B  LSTAT  Target\n",
              "0    0.00632  18.0   2.31   0.0  0.538  ...  296.0     15.3  396.90   4.98    24.0\n",
              "1    0.02731   0.0   7.07   0.0  0.469  ...  242.0     17.8  396.90   9.14    21.6\n",
              "2    0.02729   0.0   7.07   0.0  0.469  ...  242.0     17.8  392.83   4.03    34.7\n",
              "3    0.03237   0.0   2.18   0.0  0.458  ...  222.0     18.7  394.63   2.94    33.4\n",
              "4    0.06905   0.0   2.18   0.0  0.458  ...  222.0     18.7  396.90   5.33    36.2\n",
              "..       ...   ...    ...   ...    ...  ...    ...      ...     ...    ...     ...\n",
              "501  0.06263   0.0  11.93   0.0  0.573  ...  273.0     21.0  391.99   9.67    22.4\n",
              "502  0.04527   0.0  11.93   0.0  0.573  ...  273.0     21.0  396.90   9.08    20.6\n",
              "503  0.06076   0.0  11.93   0.0  0.573  ...  273.0     21.0  396.90   5.64    23.9\n",
              "504  0.10959   0.0  11.93   0.0  0.573  ...  273.0     21.0  393.45   6.48    22.0\n",
              "505  0.04741   0.0  11.93   0.0  0.573  ...  273.0     21.0  396.90   7.88    11.9\n",
              "\n",
              "[506 rows x 14 columns]"
            ]
          },
          "metadata": {
            "tags": []
          },
          "execution_count": 117
        }
      ]
    },
    {
      "cell_type": "code",
      "metadata": {
        "id": "iHws6emj81kp"
      },
      "source": [
        "X,y = boston.data, boston.target\n",
        "X_train, X_test, y_train, y_test = train_test_split(X,y,test_size=0.2)"
      ],
      "execution_count": 118,
      "outputs": []
    },
    {
      "cell_type": "code",
      "metadata": {
        "id": "Cp-WqutF9kjF",
        "colab": {
          "base_uri": "https://localhost:8080/",
          "height": 417
        },
        "outputId": "b6c5d7bd-2039-478b-b0ba-52986b5862b2"
      },
      "source": [
        "boston_train_df = pd.DataFrame(data=X_train, columns=boston.feature_names)\n",
        "boston_train_df['Target'] = y_train\n",
        "boston_train_df"
      ],
      "execution_count": 120,
      "outputs": [
        {
          "output_type": "execute_result",
          "data": {
            "text/html": [
              "<div>\n",
              "<style scoped>\n",
              "    .dataframe tbody tr th:only-of-type {\n",
              "        vertical-align: middle;\n",
              "    }\n",
              "\n",
              "    .dataframe tbody tr th {\n",
              "        vertical-align: top;\n",
              "    }\n",
              "\n",
              "    .dataframe thead th {\n",
              "        text-align: right;\n",
              "    }\n",
              "</style>\n",
              "<table border=\"1\" class=\"dataframe\">\n",
              "  <thead>\n",
              "    <tr style=\"text-align: right;\">\n",
              "      <th></th>\n",
              "      <th>CRIM</th>\n",
              "      <th>ZN</th>\n",
              "      <th>INDUS</th>\n",
              "      <th>CHAS</th>\n",
              "      <th>NOX</th>\n",
              "      <th>RM</th>\n",
              "      <th>AGE</th>\n",
              "      <th>DIS</th>\n",
              "      <th>RAD</th>\n",
              "      <th>TAX</th>\n",
              "      <th>PTRATIO</th>\n",
              "      <th>B</th>\n",
              "      <th>LSTAT</th>\n",
              "      <th>Target</th>\n",
              "    </tr>\n",
              "  </thead>\n",
              "  <tbody>\n",
              "    <tr>\n",
              "      <th>0</th>\n",
              "      <td>0.03537</td>\n",
              "      <td>34.0</td>\n",
              "      <td>6.09</td>\n",
              "      <td>0.0</td>\n",
              "      <td>0.433</td>\n",
              "      <td>6.590</td>\n",
              "      <td>40.4</td>\n",
              "      <td>5.4917</td>\n",
              "      <td>7.0</td>\n",
              "      <td>329.0</td>\n",
              "      <td>16.1</td>\n",
              "      <td>395.75</td>\n",
              "      <td>9.50</td>\n",
              "      <td>22.0</td>\n",
              "    </tr>\n",
              "    <tr>\n",
              "      <th>1</th>\n",
              "      <td>0.08707</td>\n",
              "      <td>0.0</td>\n",
              "      <td>12.83</td>\n",
              "      <td>0.0</td>\n",
              "      <td>0.437</td>\n",
              "      <td>6.140</td>\n",
              "      <td>45.8</td>\n",
              "      <td>4.0905</td>\n",
              "      <td>5.0</td>\n",
              "      <td>398.0</td>\n",
              "      <td>18.7</td>\n",
              "      <td>386.96</td>\n",
              "      <td>10.27</td>\n",
              "      <td>20.8</td>\n",
              "    </tr>\n",
              "    <tr>\n",
              "      <th>2</th>\n",
              "      <td>2.24236</td>\n",
              "      <td>0.0</td>\n",
              "      <td>19.58</td>\n",
              "      <td>0.0</td>\n",
              "      <td>0.605</td>\n",
              "      <td>5.854</td>\n",
              "      <td>91.8</td>\n",
              "      <td>2.4220</td>\n",
              "      <td>5.0</td>\n",
              "      <td>403.0</td>\n",
              "      <td>14.7</td>\n",
              "      <td>395.11</td>\n",
              "      <td>11.64</td>\n",
              "      <td>22.7</td>\n",
              "    </tr>\n",
              "    <tr>\n",
              "      <th>3</th>\n",
              "      <td>9.82349</td>\n",
              "      <td>0.0</td>\n",
              "      <td>18.10</td>\n",
              "      <td>0.0</td>\n",
              "      <td>0.671</td>\n",
              "      <td>6.794</td>\n",
              "      <td>98.8</td>\n",
              "      <td>1.3580</td>\n",
              "      <td>24.0</td>\n",
              "      <td>666.0</td>\n",
              "      <td>20.2</td>\n",
              "      <td>396.90</td>\n",
              "      <td>21.24</td>\n",
              "      <td>13.3</td>\n",
              "    </tr>\n",
              "    <tr>\n",
              "      <th>4</th>\n",
              "      <td>6.96215</td>\n",
              "      <td>0.0</td>\n",
              "      <td>18.10</td>\n",
              "      <td>0.0</td>\n",
              "      <td>0.700</td>\n",
              "      <td>5.713</td>\n",
              "      <td>97.0</td>\n",
              "      <td>1.9265</td>\n",
              "      <td>24.0</td>\n",
              "      <td>666.0</td>\n",
              "      <td>20.2</td>\n",
              "      <td>394.43</td>\n",
              "      <td>17.11</td>\n",
              "      <td>15.1</td>\n",
              "    </tr>\n",
              "    <tr>\n",
              "      <th>...</th>\n",
              "      <td>...</td>\n",
              "      <td>...</td>\n",
              "      <td>...</td>\n",
              "      <td>...</td>\n",
              "      <td>...</td>\n",
              "      <td>...</td>\n",
              "      <td>...</td>\n",
              "      <td>...</td>\n",
              "      <td>...</td>\n",
              "      <td>...</td>\n",
              "      <td>...</td>\n",
              "      <td>...</td>\n",
              "      <td>...</td>\n",
              "      <td>...</td>\n",
              "    </tr>\n",
              "    <tr>\n",
              "      <th>399</th>\n",
              "      <td>0.08244</td>\n",
              "      <td>30.0</td>\n",
              "      <td>4.93</td>\n",
              "      <td>0.0</td>\n",
              "      <td>0.428</td>\n",
              "      <td>6.481</td>\n",
              "      <td>18.5</td>\n",
              "      <td>6.1899</td>\n",
              "      <td>6.0</td>\n",
              "      <td>300.0</td>\n",
              "      <td>16.6</td>\n",
              "      <td>379.41</td>\n",
              "      <td>6.36</td>\n",
              "      <td>23.7</td>\n",
              "    </tr>\n",
              "    <tr>\n",
              "      <th>400</th>\n",
              "      <td>0.20746</td>\n",
              "      <td>0.0</td>\n",
              "      <td>27.74</td>\n",
              "      <td>0.0</td>\n",
              "      <td>0.609</td>\n",
              "      <td>5.093</td>\n",
              "      <td>98.0</td>\n",
              "      <td>1.8226</td>\n",
              "      <td>4.0</td>\n",
              "      <td>711.0</td>\n",
              "      <td>20.1</td>\n",
              "      <td>318.43</td>\n",
              "      <td>29.68</td>\n",
              "      <td>8.1</td>\n",
              "    </tr>\n",
              "    <tr>\n",
              "      <th>401</th>\n",
              "      <td>0.09744</td>\n",
              "      <td>0.0</td>\n",
              "      <td>5.96</td>\n",
              "      <td>0.0</td>\n",
              "      <td>0.499</td>\n",
              "      <td>5.841</td>\n",
              "      <td>61.4</td>\n",
              "      <td>3.3779</td>\n",
              "      <td>5.0</td>\n",
              "      <td>279.0</td>\n",
              "      <td>19.2</td>\n",
              "      <td>377.56</td>\n",
              "      <td>11.41</td>\n",
              "      <td>20.0</td>\n",
              "    </tr>\n",
              "    <tr>\n",
              "      <th>402</th>\n",
              "      <td>0.02187</td>\n",
              "      <td>60.0</td>\n",
              "      <td>2.93</td>\n",
              "      <td>0.0</td>\n",
              "      <td>0.401</td>\n",
              "      <td>6.800</td>\n",
              "      <td>9.9</td>\n",
              "      <td>6.2196</td>\n",
              "      <td>1.0</td>\n",
              "      <td>265.0</td>\n",
              "      <td>15.6</td>\n",
              "      <td>393.37</td>\n",
              "      <td>5.03</td>\n",
              "      <td>31.1</td>\n",
              "    </tr>\n",
              "    <tr>\n",
              "      <th>403</th>\n",
              "      <td>15.17720</td>\n",
              "      <td>0.0</td>\n",
              "      <td>18.10</td>\n",
              "      <td>0.0</td>\n",
              "      <td>0.740</td>\n",
              "      <td>6.152</td>\n",
              "      <td>100.0</td>\n",
              "      <td>1.9142</td>\n",
              "      <td>24.0</td>\n",
              "      <td>666.0</td>\n",
              "      <td>20.2</td>\n",
              "      <td>9.32</td>\n",
              "      <td>26.45</td>\n",
              "      <td>8.7</td>\n",
              "    </tr>\n",
              "  </tbody>\n",
              "</table>\n",
              "<p>404 rows × 14 columns</p>\n",
              "</div>"
            ],
            "text/plain": [
              "         CRIM    ZN  INDUS  CHAS    NOX  ...    TAX  PTRATIO       B  LSTAT  Target\n",
              "0     0.03537  34.0   6.09   0.0  0.433  ...  329.0     16.1  395.75   9.50    22.0\n",
              "1     0.08707   0.0  12.83   0.0  0.437  ...  398.0     18.7  386.96  10.27    20.8\n",
              "2     2.24236   0.0  19.58   0.0  0.605  ...  403.0     14.7  395.11  11.64    22.7\n",
              "3     9.82349   0.0  18.10   0.0  0.671  ...  666.0     20.2  396.90  21.24    13.3\n",
              "4     6.96215   0.0  18.10   0.0  0.700  ...  666.0     20.2  394.43  17.11    15.1\n",
              "..        ...   ...    ...   ...    ...  ...    ...      ...     ...    ...     ...\n",
              "399   0.08244  30.0   4.93   0.0  0.428  ...  300.0     16.6  379.41   6.36    23.7\n",
              "400   0.20746   0.0  27.74   0.0  0.609  ...  711.0     20.1  318.43  29.68     8.1\n",
              "401   0.09744   0.0   5.96   0.0  0.499  ...  279.0     19.2  377.56  11.41    20.0\n",
              "402   0.02187  60.0   2.93   0.0  0.401  ...  265.0     15.6  393.37   5.03    31.1\n",
              "403  15.17720   0.0  18.10   0.0  0.740  ...  666.0     20.2    9.32  26.45     8.7\n",
              "\n",
              "[404 rows x 14 columns]"
            ]
          },
          "metadata": {
            "tags": []
          },
          "execution_count": 120
        }
      ]
    },
    {
      "cell_type": "code",
      "metadata": {
        "id": "nUQDbwd692qF",
        "colab": {
          "base_uri": "https://localhost:8080/",
          "height": 417
        },
        "outputId": "749fb7d8-da7c-44b4-ddee-c0c9fa8ab2e1"
      },
      "source": [
        "boston_test_df = pd.DataFrame(data=X_test, columns=boston.feature_names)\n",
        "boston_test_df['Target'] = y_test\n",
        "boston_test_df"
      ],
      "execution_count": 122,
      "outputs": [
        {
          "output_type": "execute_result",
          "data": {
            "text/html": [
              "<div>\n",
              "<style scoped>\n",
              "    .dataframe tbody tr th:only-of-type {\n",
              "        vertical-align: middle;\n",
              "    }\n",
              "\n",
              "    .dataframe tbody tr th {\n",
              "        vertical-align: top;\n",
              "    }\n",
              "\n",
              "    .dataframe thead th {\n",
              "        text-align: right;\n",
              "    }\n",
              "</style>\n",
              "<table border=\"1\" class=\"dataframe\">\n",
              "  <thead>\n",
              "    <tr style=\"text-align: right;\">\n",
              "      <th></th>\n",
              "      <th>CRIM</th>\n",
              "      <th>ZN</th>\n",
              "      <th>INDUS</th>\n",
              "      <th>CHAS</th>\n",
              "      <th>NOX</th>\n",
              "      <th>RM</th>\n",
              "      <th>AGE</th>\n",
              "      <th>DIS</th>\n",
              "      <th>RAD</th>\n",
              "      <th>TAX</th>\n",
              "      <th>PTRATIO</th>\n",
              "      <th>B</th>\n",
              "      <th>LSTAT</th>\n",
              "      <th>Target</th>\n",
              "    </tr>\n",
              "  </thead>\n",
              "  <tbody>\n",
              "    <tr>\n",
              "      <th>0</th>\n",
              "      <td>9.51363</td>\n",
              "      <td>0.0</td>\n",
              "      <td>18.10</td>\n",
              "      <td>0.0</td>\n",
              "      <td>0.713</td>\n",
              "      <td>6.728</td>\n",
              "      <td>94.1</td>\n",
              "      <td>2.4961</td>\n",
              "      <td>24.0</td>\n",
              "      <td>666.0</td>\n",
              "      <td>20.2</td>\n",
              "      <td>6.68</td>\n",
              "      <td>18.71</td>\n",
              "      <td>14.9</td>\n",
              "    </tr>\n",
              "    <tr>\n",
              "      <th>1</th>\n",
              "      <td>0.02055</td>\n",
              "      <td>85.0</td>\n",
              "      <td>0.74</td>\n",
              "      <td>0.0</td>\n",
              "      <td>0.410</td>\n",
              "      <td>6.383</td>\n",
              "      <td>35.7</td>\n",
              "      <td>9.1876</td>\n",
              "      <td>2.0</td>\n",
              "      <td>313.0</td>\n",
              "      <td>17.3</td>\n",
              "      <td>396.90</td>\n",
              "      <td>5.77</td>\n",
              "      <td>24.7</td>\n",
              "    </tr>\n",
              "    <tr>\n",
              "      <th>2</th>\n",
              "      <td>0.03306</td>\n",
              "      <td>0.0</td>\n",
              "      <td>5.19</td>\n",
              "      <td>0.0</td>\n",
              "      <td>0.515</td>\n",
              "      <td>6.059</td>\n",
              "      <td>37.3</td>\n",
              "      <td>4.8122</td>\n",
              "      <td>5.0</td>\n",
              "      <td>224.0</td>\n",
              "      <td>20.2</td>\n",
              "      <td>396.14</td>\n",
              "      <td>8.51</td>\n",
              "      <td>20.6</td>\n",
              "    </tr>\n",
              "    <tr>\n",
              "      <th>3</th>\n",
              "      <td>2.01019</td>\n",
              "      <td>0.0</td>\n",
              "      <td>19.58</td>\n",
              "      <td>0.0</td>\n",
              "      <td>0.605</td>\n",
              "      <td>7.929</td>\n",
              "      <td>96.2</td>\n",
              "      <td>2.0459</td>\n",
              "      <td>5.0</td>\n",
              "      <td>403.0</td>\n",
              "      <td>14.7</td>\n",
              "      <td>369.30</td>\n",
              "      <td>3.70</td>\n",
              "      <td>50.0</td>\n",
              "    </tr>\n",
              "    <tr>\n",
              "      <th>4</th>\n",
              "      <td>0.04297</td>\n",
              "      <td>52.5</td>\n",
              "      <td>5.32</td>\n",
              "      <td>0.0</td>\n",
              "      <td>0.405</td>\n",
              "      <td>6.565</td>\n",
              "      <td>22.9</td>\n",
              "      <td>7.3172</td>\n",
              "      <td>6.0</td>\n",
              "      <td>293.0</td>\n",
              "      <td>16.6</td>\n",
              "      <td>371.72</td>\n",
              "      <td>9.51</td>\n",
              "      <td>24.8</td>\n",
              "    </tr>\n",
              "    <tr>\n",
              "      <th>...</th>\n",
              "      <td>...</td>\n",
              "      <td>...</td>\n",
              "      <td>...</td>\n",
              "      <td>...</td>\n",
              "      <td>...</td>\n",
              "      <td>...</td>\n",
              "      <td>...</td>\n",
              "      <td>...</td>\n",
              "      <td>...</td>\n",
              "      <td>...</td>\n",
              "      <td>...</td>\n",
              "      <td>...</td>\n",
              "      <td>...</td>\n",
              "      <td>...</td>\n",
              "    </tr>\n",
              "    <tr>\n",
              "      <th>97</th>\n",
              "      <td>0.03445</td>\n",
              "      <td>82.5</td>\n",
              "      <td>2.03</td>\n",
              "      <td>0.0</td>\n",
              "      <td>0.415</td>\n",
              "      <td>6.162</td>\n",
              "      <td>38.4</td>\n",
              "      <td>6.2700</td>\n",
              "      <td>2.0</td>\n",
              "      <td>348.0</td>\n",
              "      <td>14.7</td>\n",
              "      <td>393.77</td>\n",
              "      <td>7.43</td>\n",
              "      <td>24.1</td>\n",
              "    </tr>\n",
              "    <tr>\n",
              "      <th>98</th>\n",
              "      <td>0.04560</td>\n",
              "      <td>0.0</td>\n",
              "      <td>13.89</td>\n",
              "      <td>1.0</td>\n",
              "      <td>0.550</td>\n",
              "      <td>5.888</td>\n",
              "      <td>56.0</td>\n",
              "      <td>3.1121</td>\n",
              "      <td>5.0</td>\n",
              "      <td>276.0</td>\n",
              "      <td>16.4</td>\n",
              "      <td>392.80</td>\n",
              "      <td>13.51</td>\n",
              "      <td>23.3</td>\n",
              "    </tr>\n",
              "    <tr>\n",
              "      <th>99</th>\n",
              "      <td>0.02729</td>\n",
              "      <td>0.0</td>\n",
              "      <td>7.07</td>\n",
              "      <td>0.0</td>\n",
              "      <td>0.469</td>\n",
              "      <td>7.185</td>\n",
              "      <td>61.1</td>\n",
              "      <td>4.9671</td>\n",
              "      <td>2.0</td>\n",
              "      <td>242.0</td>\n",
              "      <td>17.8</td>\n",
              "      <td>392.83</td>\n",
              "      <td>4.03</td>\n",
              "      <td>34.7</td>\n",
              "    </tr>\n",
              "    <tr>\n",
              "      <th>100</th>\n",
              "      <td>0.06888</td>\n",
              "      <td>0.0</td>\n",
              "      <td>2.46</td>\n",
              "      <td>0.0</td>\n",
              "      <td>0.488</td>\n",
              "      <td>6.144</td>\n",
              "      <td>62.2</td>\n",
              "      <td>2.5979</td>\n",
              "      <td>3.0</td>\n",
              "      <td>193.0</td>\n",
              "      <td>17.8</td>\n",
              "      <td>396.90</td>\n",
              "      <td>9.45</td>\n",
              "      <td>36.2</td>\n",
              "    </tr>\n",
              "    <tr>\n",
              "      <th>101</th>\n",
              "      <td>0.05302</td>\n",
              "      <td>0.0</td>\n",
              "      <td>3.41</td>\n",
              "      <td>0.0</td>\n",
              "      <td>0.489</td>\n",
              "      <td>7.079</td>\n",
              "      <td>63.1</td>\n",
              "      <td>3.4145</td>\n",
              "      <td>2.0</td>\n",
              "      <td>270.0</td>\n",
              "      <td>17.8</td>\n",
              "      <td>396.06</td>\n",
              "      <td>5.70</td>\n",
              "      <td>28.7</td>\n",
              "    </tr>\n",
              "  </tbody>\n",
              "</table>\n",
              "<p>102 rows × 14 columns</p>\n",
              "</div>"
            ],
            "text/plain": [
              "        CRIM    ZN  INDUS  CHAS    NOX  ...    TAX  PTRATIO       B  LSTAT  Target\n",
              "0    9.51363   0.0  18.10   0.0  0.713  ...  666.0     20.2    6.68  18.71    14.9\n",
              "1    0.02055  85.0   0.74   0.0  0.410  ...  313.0     17.3  396.90   5.77    24.7\n",
              "2    0.03306   0.0   5.19   0.0  0.515  ...  224.0     20.2  396.14   8.51    20.6\n",
              "3    2.01019   0.0  19.58   0.0  0.605  ...  403.0     14.7  369.30   3.70    50.0\n",
              "4    0.04297  52.5   5.32   0.0  0.405  ...  293.0     16.6  371.72   9.51    24.8\n",
              "..       ...   ...    ...   ...    ...  ...    ...      ...     ...    ...     ...\n",
              "97   0.03445  82.5   2.03   0.0  0.415  ...  348.0     14.7  393.77   7.43    24.1\n",
              "98   0.04560   0.0  13.89   1.0  0.550  ...  276.0     16.4  392.80  13.51    23.3\n",
              "99   0.02729   0.0   7.07   0.0  0.469  ...  242.0     17.8  392.83   4.03    34.7\n",
              "100  0.06888   0.0   2.46   0.0  0.488  ...  193.0     17.8  396.90   9.45    36.2\n",
              "101  0.05302   0.0   3.41   0.0  0.489  ...  270.0     17.8  396.06   5.70    28.7\n",
              "\n",
              "[102 rows x 14 columns]"
            ]
          },
          "metadata": {
            "tags": []
          },
          "execution_count": 122
        }
      ]
    },
    {
      "cell_type": "code",
      "metadata": {
        "id": "VpdP6eeW_KFB"
      },
      "source": [
        "scaler = StandardScaler()\n",
        "X_train_scale = scaler.fit_transform(X_train)\n",
        "X_test_scale = scaler.transform(X_test)"
      ],
      "execution_count": 126,
      "outputs": []
    },
    {
      "cell_type": "code",
      "metadata": {
        "id": "cSKGUaSp_VaT",
        "colab": {
          "base_uri": "https://localhost:8080/"
        },
        "outputId": "5aeb0b99-cf22-4435-dd60-afa39a496aee"
      },
      "source": [
        "model = KNeighborsRegressor()\n",
        "model.fit(X_train, y_train)"
      ],
      "execution_count": 129,
      "outputs": [
        {
          "output_type": "execute_result",
          "data": {
            "text/plain": [
              "KNeighborsRegressor(algorithm='auto', leaf_size=30, metric='minkowski',\n",
              "                    metric_params=None, n_jobs=None, n_neighbors=5, p=2,\n",
              "                    weights='uniform')"
            ]
          },
          "metadata": {
            "tags": []
          },
          "execution_count": 129
        }
      ]
    },
    {
      "cell_type": "code",
      "metadata": {
        "id": "UYzm6TnO_e2H",
        "colab": {
          "base_uri": "https://localhost:8080/"
        },
        "outputId": "0ced5946-f71a-45fe-efcf-95b1bb09e724"
      },
      "source": [
        "print(\"학습 데이터 점수: {}\".format(model.score(X_train, y_train)))\n",
        "print(\"평가 데이터 점수: {}\".format(model.score(X_test, y_test)))"
      ],
      "execution_count": 130,
      "outputs": [
        {
          "output_type": "stream",
          "text": [
            "학습 데이터 점수: 0.7202771310038973\n",
            "평가 데이터 점수: 0.48957954644603396\n"
          ],
          "name": "stdout"
        }
      ]
    },
    {
      "cell_type": "code",
      "metadata": {
        "id": "zPeGHLed_jup",
        "colab": {
          "base_uri": "https://localhost:8080/"
        },
        "outputId": "557de5e2-affa-4f75-8dc1-aab05f41c910"
      },
      "source": [
        "model = KNeighborsRegressor()\n",
        "model.fit(X_train_scale, y_train)"
      ],
      "execution_count": 131,
      "outputs": [
        {
          "output_type": "execute_result",
          "data": {
            "text/plain": [
              "KNeighborsRegressor(algorithm='auto', leaf_size=30, metric='minkowski',\n",
              "                    metric_params=None, n_jobs=None, n_neighbors=5, p=2,\n",
              "                    weights='uniform')"
            ]
          },
          "metadata": {
            "tags": []
          },
          "execution_count": 131
        }
      ]
    },
    {
      "cell_type": "code",
      "metadata": {
        "id": "_FFenXKu_oSZ",
        "colab": {
          "base_uri": "https://localhost:8080/"
        },
        "outputId": "d1286b46-b5b3-4cf8-ba58-64e00623bc9a"
      },
      "source": [
        "print(\"학습 데이터 점수: {}\".format(model.score(X_train_scale, y_train)))\n",
        "print(\"평가 데이터 점수: {}\".format(model.score(X_test_scale, y_test)))"
      ],
      "execution_count": 134,
      "outputs": [
        {
          "output_type": "stream",
          "text": [
            "학습 데이터 점수: 0.8328211201641491\n",
            "평가 데이터 점수: 0.7220465144900916\n"
          ],
          "name": "stdout"
        }
      ]
    },
    {
      "cell_type": "code",
      "metadata": {
        "id": "YzYZf4YW7Zwi"
      },
      "source": [
        "estimator = make_pipeline(\n",
        "    StandardScaler(),\n",
        "    KNeighborsRegressor()\n",
        ")"
      ],
      "execution_count": 136,
      "outputs": []
    },
    {
      "cell_type": "code",
      "metadata": {
        "colab": {
          "base_uri": "https://localhost:8080/"
        },
        "id": "mlu3jTxV7Zwo",
        "outputId": "1863d4f7-ccb4-42a9-ff1d-a9ee94d62e44"
      },
      "source": [
        "cross_validate(\n",
        "    estimator=estimator,\n",
        "    X=X,y=y,\n",
        "    cv=5,\n",
        "    n_jobs=multiprocessing.cpu_count(),\n",
        "    verbose=True\n",
        ")"
      ],
      "execution_count": 137,
      "outputs": [
        {
          "output_type": "stream",
          "text": [
            "[Parallel(n_jobs=2)]: Using backend LokyBackend with 2 concurrent workers.\n",
            "[Parallel(n_jobs=2)]: Done   5 out of   5 | elapsed:    0.9s finished\n"
          ],
          "name": "stderr"
        },
        {
          "output_type": "execute_result",
          "data": {
            "text/plain": [
              "{'fit_time': array([0.00350738, 0.00328183, 0.00256228, 0.00241685, 0.00222635]),\n",
              " 'score_time': array([0.00511837, 0.00248718, 0.00360847, 0.00324225, 0.00278163]),\n",
              " 'test_score': array([0.56089547, 0.61917359, 0.48661916, 0.46986886, 0.23133037])}"
            ]
          },
          "metadata": {
            "tags": []
          },
          "execution_count": 137
        }
      ]
    },
    {
      "cell_type": "code",
      "metadata": {
        "id": "BoVT4d4E7Zwp"
      },
      "source": [
        "pipe = Pipeline(\n",
        "    [('scaler', StandardScaler()),\n",
        "     ('model', KNeighborsRegressor())]\n",
        ")"
      ],
      "execution_count": 138,
      "outputs": []
    },
    {
      "cell_type": "code",
      "metadata": {
        "id": "a-V5vkC57Zwq"
      },
      "source": [
        "param_grid = [{'model__n_neighbors': [3,5,7],\n",
        "               'model__weights':['uniform','distance'],\n",
        "               'model__algorithm': ['ball_tree', 'kd_tree', 'brute']}]"
      ],
      "execution_count": 139,
      "outputs": []
    },
    {
      "cell_type": "code",
      "metadata": {
        "id": "IfyDETSP7Zwq"
      },
      "source": [
        "gs = GridSearchCV(\n",
        "    estimator=pipe,\n",
        "    param_grid = param_grid,\n",
        "    n_jobs = multiprocessing.cpu_count(),\n",
        "    verbose=True\n",
        ")"
      ],
      "execution_count": 140,
      "outputs": []
    },
    {
      "cell_type": "code",
      "metadata": {
        "colab": {
          "base_uri": "https://localhost:8080/"
        },
        "id": "IFZT7TY97Zwr",
        "outputId": "ad17c8be-c9e7-4a35-fe4f-22e68fd23b01"
      },
      "source": [
        "gs.fit(X,y)"
      ],
      "execution_count": 141,
      "outputs": [
        {
          "output_type": "stream",
          "text": [
            "Fitting 5 folds for each of 18 candidates, totalling 90 fits\n"
          ],
          "name": "stdout"
        },
        {
          "output_type": "stream",
          "text": [
            "[Parallel(n_jobs=2)]: Using backend LokyBackend with 2 concurrent workers.\n",
            "[Parallel(n_jobs=2)]: Done  90 out of  90 | elapsed:    0.4s finished\n"
          ],
          "name": "stderr"
        },
        {
          "output_type": "execute_result",
          "data": {
            "text/plain": [
              "GridSearchCV(cv=None, error_score=nan,\n",
              "             estimator=Pipeline(memory=None,\n",
              "                                steps=[('scaler',\n",
              "                                        StandardScaler(copy=True,\n",
              "                                                       with_mean=True,\n",
              "                                                       with_std=True)),\n",
              "                                       ('model',\n",
              "                                        KNeighborsRegressor(algorithm='auto',\n",
              "                                                            leaf_size=30,\n",
              "                                                            metric='minkowski',\n",
              "                                                            metric_params=None,\n",
              "                                                            n_jobs=None,\n",
              "                                                            n_neighbors=5, p=2,\n",
              "                                                            weights='uniform'))],\n",
              "                                verbose=False),\n",
              "             iid='deprecated', n_jobs=2,\n",
              "             param_grid=[{'model__algorithm': ['ball_tree', 'kd_tree', 'brute'],\n",
              "                          'model__n_neighbors': [3, 5, 7],\n",
              "                          'model__weights': ['uniform', 'distance']}],\n",
              "             pre_dispatch='2*n_jobs', refit=True, return_train_score=False,\n",
              "             scoring=None, verbose=True)"
            ]
          },
          "metadata": {
            "tags": []
          },
          "execution_count": 141
        }
      ]
    },
    {
      "cell_type": "code",
      "metadata": {
        "colab": {
          "base_uri": "https://localhost:8080/"
        },
        "id": "srRUL3JH7Zwr",
        "outputId": "2b642b1a-08be-46d8-ecab-f26a028df651"
      },
      "source": [
        "gs.best_estimator_"
      ],
      "execution_count": 142,
      "outputs": [
        {
          "output_type": "execute_result",
          "data": {
            "text/plain": [
              "Pipeline(memory=None,\n",
              "         steps=[('scaler',\n",
              "                 StandardScaler(copy=True, with_mean=True, with_std=True)),\n",
              "                ('model',\n",
              "                 KNeighborsRegressor(algorithm='ball_tree', leaf_size=30,\n",
              "                                     metric='minkowski', metric_params=None,\n",
              "                                     n_jobs=None, n_neighbors=7, p=2,\n",
              "                                     weights='distance'))],\n",
              "         verbose=False)"
            ]
          },
          "metadata": {
            "tags": []
          },
          "execution_count": 142
        }
      ]
    },
    {
      "cell_type": "code",
      "metadata": {
        "colab": {
          "base_uri": "https://localhost:8080/"
        },
        "id": "RcJ-zNG97Zws",
        "outputId": "00a51a5c-3d3c-4ba2-a87e-f48073acb4b7"
      },
      "source": [
        "print('GridSearchCV best score: {}'.format(gs.best_score_))"
      ],
      "execution_count": 143,
      "outputs": [
        {
          "output_type": "stream",
          "text": [
            "GridSearchCV best score: 0.4973060611762845\n"
          ],
          "name": "stdout"
        }
      ]
    },
    {
      "cell_type": "code",
      "metadata": {
        "id": "UI0BU17M7Zwt"
      },
      "source": [
        "tsne = TSNE(n_components=1)\n",
        "X_comp = tsne.fit_transform(X)"
      ],
      "execution_count": 147,
      "outputs": []
    },
    {
      "cell_type": "code",
      "metadata": {
        "colab": {
          "base_uri": "https://localhost:8080/",
          "height": 417
        },
        "id": "2G9nC4mk7Zwx",
        "outputId": "8fd673c3-b298-4cf4-f28f-5035575cc1ac"
      },
      "source": [
        "boston_comp_df = pd.DataFrame(data=X_comp)\n",
        "boston_comp_df['Target'] = y\n",
        "boston_comp_df"
      ],
      "execution_count": 148,
      "outputs": [
        {
          "output_type": "execute_result",
          "data": {
            "text/html": [
              "<div>\n",
              "<style scoped>\n",
              "    .dataframe tbody tr th:only-of-type {\n",
              "        vertical-align: middle;\n",
              "    }\n",
              "\n",
              "    .dataframe tbody tr th {\n",
              "        vertical-align: top;\n",
              "    }\n",
              "\n",
              "    .dataframe thead th {\n",
              "        text-align: right;\n",
              "    }\n",
              "</style>\n",
              "<table border=\"1\" class=\"dataframe\">\n",
              "  <thead>\n",
              "    <tr style=\"text-align: right;\">\n",
              "      <th></th>\n",
              "      <th>0</th>\n",
              "      <th>Target</th>\n",
              "    </tr>\n",
              "  </thead>\n",
              "  <tbody>\n",
              "    <tr>\n",
              "      <th>0</th>\n",
              "      <td>2.963585</td>\n",
              "      <td>24.0</td>\n",
              "    </tr>\n",
              "    <tr>\n",
              "      <th>1</th>\n",
              "      <td>-12.280255</td>\n",
              "      <td>21.6</td>\n",
              "    </tr>\n",
              "    <tr>\n",
              "      <th>2</th>\n",
              "      <td>-13.041142</td>\n",
              "      <td>34.7</td>\n",
              "    </tr>\n",
              "    <tr>\n",
              "      <th>3</th>\n",
              "      <td>-14.428607</td>\n",
              "      <td>33.4</td>\n",
              "    </tr>\n",
              "    <tr>\n",
              "      <th>4</th>\n",
              "      <td>-14.559071</td>\n",
              "      <td>36.2</td>\n",
              "    </tr>\n",
              "    <tr>\n",
              "      <th>...</th>\n",
              "      <td>...</td>\n",
              "      <td>...</td>\n",
              "    </tr>\n",
              "    <tr>\n",
              "      <th>501</th>\n",
              "      <td>0.125261</td>\n",
              "      <td>22.4</td>\n",
              "    </tr>\n",
              "    <tr>\n",
              "      <th>502</th>\n",
              "      <td>-0.492481</td>\n",
              "      <td>20.6</td>\n",
              "    </tr>\n",
              "    <tr>\n",
              "      <th>503</th>\n",
              "      <td>-1.264494</td>\n",
              "      <td>23.9</td>\n",
              "    </tr>\n",
              "    <tr>\n",
              "      <th>504</th>\n",
              "      <td>-1.222745</td>\n",
              "      <td>22.0</td>\n",
              "    </tr>\n",
              "    <tr>\n",
              "      <th>505</th>\n",
              "      <td>-0.766841</td>\n",
              "      <td>11.9</td>\n",
              "    </tr>\n",
              "  </tbody>\n",
              "</table>\n",
              "<p>506 rows × 2 columns</p>\n",
              "</div>"
            ],
            "text/plain": [
              "             0  Target\n",
              "0     2.963585    24.0\n",
              "1   -12.280255    21.6\n",
              "2   -13.041142    34.7\n",
              "3   -14.428607    33.4\n",
              "4   -14.559071    36.2\n",
              "..         ...     ...\n",
              "501   0.125261    22.4\n",
              "502  -0.492481    20.6\n",
              "503  -1.264494    23.9\n",
              "504  -1.222745    22.0\n",
              "505  -0.766841    11.9\n",
              "\n",
              "[506 rows x 2 columns]"
            ]
          },
          "metadata": {
            "tags": []
          },
          "execution_count": 148
        }
      ]
    },
    {
      "cell_type": "code",
      "metadata": {
        "colab": {
          "base_uri": "https://localhost:8080/",
          "height": 280
        },
        "id": "UTOUtVo87Zwz",
        "outputId": "7b2b47c2-fb78-4036-dffc-d34d89a733b9"
      },
      "source": [
        "plt.scatter(X_comp, y, c='b', cmap=plt.cm.coolwarm, s=20, edgecolors='k')"
      ],
      "execution_count": 149,
      "outputs": [
        {
          "output_type": "execute_result",
          "data": {
            "text/plain": [
              "<matplotlib.collections.PathCollection at 0x7f4c1012b890>"
            ]
          },
          "metadata": {
            "tags": []
          },
          "execution_count": 149
        },
        {
          "output_type": "display_data",
          "data": {
            "image/png": "[encoded data removed]",
            "text/plain": [
              "<Figure size 432x288 with 1 Axes>"
            ]
          },
          "metadata": {
            "tags": [],
            "needs_background": "light"
          }
        }
      ]
    },
    {
      "cell_type": "code",
      "metadata": {
        "id": "x9eJXtZz7Zw0"
      },
      "source": [
        "model = KNeighborsRegressor()\n",
        "model.fit(X_comp,y)\n",
        "predict = model.predict(X_comp)"
      ],
      "execution_count": 150,
      "outputs": []
    },
    {
      "cell_type": "code",
      "metadata": {
        "colab": {
          "base_uri": "https://localhost:8080/",
          "height": 280
        },
        "id": "ze-DnVEI7Zw1",
        "outputId": "9537058d-95df-4d02-e97d-0d7ecd69b4e6"
      },
      "source": [
        "plt.scatter(X_comp, y, c='b', cmap=plt.cm.coolwarm, s=20, edgecolors='k')\n",
        "plt.scatter(X_comp, predict,c='r', cmap=plt.cm.coolwarm, s=20, edgecolors='k')"
      ],
      "execution_count": 152,
      "outputs": [
        {
          "output_type": "execute_result",
          "data": {
            "text/plain": [
              "<matplotlib.collections.PathCollection at 0x7f4c10323350>"
            ]
          },
          "metadata": {
            "tags": []
          },
          "execution_count": 152
        },
        {
          "output_type": "display_data",
          "data": {
            "image/png": "[encoded data removed]",
            "text/plain": [
              "<Figure size 432x288 with 1 Axes>"
            ]
          },
          "metadata": {
            "tags": [],
            "needs_background": "light"
          }
        }
      ]
    },
    {
      "cell_type": "markdown",
      "metadata": {
        "id": "wiJPOXS37WGG"
      },
      "source": [
        "### 캘리포니아 주택 가격 데이터"
      ]
    },
    {
      "cell_type": "code",
      "metadata": {
        "colab": {
          "base_uri": "https://localhost:8080/"
        },
        "id": "F4TdyJDW8loW",
        "outputId": "5281c42c-9056-4b44-8dfb-73e27f7b9a67"
      },
      "source": [
        "california = fetch_california_housing()"
      ],
      "execution_count": 153,
      "outputs": [
        {
          "output_type": "stream",
          "text": [
            "Downloading Cal. housing from https://ndownloader.figshare.com/files/5976036 to /root/scikit_learn_data\n"
          ],
          "name": "stderr"
        }
      ]
    },
    {
      "cell_type": "code",
      "metadata": {
        "colab": {
          "base_uri": "https://localhost:8080/",
          "height": 417
        },
        "id": "6rpKeVoI8lon",
        "outputId": "7051d85f-0308-463f-e97a-bb6c2c4241ca"
      },
      "source": [
        "california_df = pd.DataFrame(data=california.data, columns=california.feature_names)\n",
        "california_df['Target'] = california.target\n",
        "california_df"
      ],
      "execution_count": 154,
      "outputs": [
        {
          "output_type": "execute_result",
          "data": {
            "text/html": [
              "<div>\n",
              "<style scoped>\n",
              "    .dataframe tbody tr th:only-of-type {\n",
              "        vertical-align: middle;\n",
              "    }\n",
              "\n",
              "    .dataframe tbody tr th {\n",
              "        vertical-align: top;\n",
              "    }\n",
              "\n",
              "    .dataframe thead th {\n",
              "        text-align: right;\n",
              "    }\n",
              "</style>\n",
              "<table border=\"1\" class=\"dataframe\">\n",
              "  <thead>\n",
              "    <tr style=\"text-align: right;\">\n",
              "      <th></th>\n",
              "      <th>MedInc</th>\n",
              "      <th>HouseAge</th>\n",
              "      <th>AveRooms</th>\n",
              "      <th>AveBedrms</th>\n",
              "      <th>Population</th>\n",
              "      <th>AveOccup</th>\n",
              "      <th>Latitude</th>\n",
              "      <th>Longitude</th>\n",
              "      <th>Target</th>\n",
              "    </tr>\n",
              "  </thead>\n",
              "  <tbody>\n",
              "    <tr>\n",
              "      <th>0</th>\n",
              "      <td>8.3252</td>\n",
              "      <td>41.0</td>\n",
              "      <td>6.984127</td>\n",
              "      <td>1.023810</td>\n",
              "      <td>322.0</td>\n",
              "      <td>2.555556</td>\n",
              "      <td>37.88</td>\n",
              "      <td>-122.23</td>\n",
              "      <td>4.526</td>\n",
              "    </tr>\n",
              "    <tr>\n",
              "      <th>1</th>\n",
              "      <td>8.3014</td>\n",
              "      <td>21.0</td>\n",
              "      <td>6.238137</td>\n",
              "      <td>0.971880</td>\n",
              "      <td>2401.0</td>\n",
              "      <td>2.109842</td>\n",
              "      <td>37.86</td>\n",
              "      <td>-122.22</td>\n",
              "      <td>3.585</td>\n",
              "    </tr>\n",
              "    <tr>\n",
              "      <th>2</th>\n",
              "      <td>7.2574</td>\n",
              "      <td>52.0</td>\n",
              "      <td>8.288136</td>\n",
              "      <td>1.073446</td>\n",
              "      <td>496.0</td>\n",
              "      <td>2.802260</td>\n",
              "      <td>37.85</td>\n",
              "      <td>-122.24</td>\n",
              "      <td>3.521</td>\n",
              "    </tr>\n",
              "    <tr>\n",
              "      <th>3</th>\n",
              "      <td>5.6431</td>\n",
              "      <td>52.0</td>\n",
              "      <td>5.817352</td>\n",
              "      <td>1.073059</td>\n",
              "      <td>558.0</td>\n",
              "      <td>2.547945</td>\n",
              "      <td>37.85</td>\n",
              "      <td>-122.25</td>\n",
              "      <td>3.413</td>\n",
              "    </tr>\n",
              "    <tr>\n",
              "      <th>4</th>\n",
              "      <td>3.8462</td>\n",
              "      <td>52.0</td>\n",
              "      <td>6.281853</td>\n",
              "      <td>1.081081</td>\n",
              "      <td>565.0</td>\n",
              "      <td>2.181467</td>\n",
              "      <td>37.85</td>\n",
              "      <td>-122.25</td>\n",
              "      <td>3.422</td>\n",
              "    </tr>\n",
              "    <tr>\n",
              "      <th>...</th>\n",
              "      <td>...</td>\n",
              "      <td>...</td>\n",
              "      <td>...</td>\n",
              "      <td>...</td>\n",
              "      <td>...</td>\n",
              "      <td>...</td>\n",
              "      <td>...</td>\n",
              "      <td>...</td>\n",
              "      <td>...</td>\n",
              "    </tr>\n",
              "    <tr>\n",
              "      <th>20635</th>\n",
              "      <td>1.5603</td>\n",
              "      <td>25.0</td>\n",
              "      <td>5.045455</td>\n",
              "      <td>1.133333</td>\n",
              "      <td>845.0</td>\n",
              "      <td>2.560606</td>\n",
              "      <td>39.48</td>\n",
              "      <td>-121.09</td>\n",
              "      <td>0.781</td>\n",
              "    </tr>\n",
              "    <tr>\n",
              "      <th>20636</th>\n",
              "      <td>2.5568</td>\n",
              "      <td>18.0</td>\n",
              "      <td>6.114035</td>\n",
              "      <td>1.315789</td>\n",
              "      <td>356.0</td>\n",
              "      <td>3.122807</td>\n",
              "      <td>39.49</td>\n",
              "      <td>-121.21</td>\n",
              "      <td>0.771</td>\n",
              "    </tr>\n",
              "    <tr>\n",
              "      <th>20637</th>\n",
              "      <td>1.7000</td>\n",
              "      <td>17.0</td>\n",
              "      <td>5.205543</td>\n",
              "      <td>1.120092</td>\n",
              "      <td>1007.0</td>\n",
              "      <td>2.325635</td>\n",
              "      <td>39.43</td>\n",
              "      <td>-121.22</td>\n",
              "      <td>0.923</td>\n",
              "    </tr>\n",
              "    <tr>\n",
              "      <th>20638</th>\n",
              "      <td>1.8672</td>\n",
              "      <td>18.0</td>\n",
              "      <td>5.329513</td>\n",
              "      <td>1.171920</td>\n",
              "      <td>741.0</td>\n",
              "      <td>2.123209</td>\n",
              "      <td>39.43</td>\n",
              "      <td>-121.32</td>\n",
              "      <td>0.847</td>\n",
              "    </tr>\n",
              "    <tr>\n",
              "      <th>20639</th>\n",
              "      <td>2.3886</td>\n",
              "      <td>16.0</td>\n",
              "      <td>5.254717</td>\n",
              "      <td>1.162264</td>\n",
              "      <td>1387.0</td>\n",
              "      <td>2.616981</td>\n",
              "      <td>39.37</td>\n",
              "      <td>-121.24</td>\n",
              "      <td>0.894</td>\n",
              "    </tr>\n",
              "  </tbody>\n",
              "</table>\n",
              "<p>20640 rows × 9 columns</p>\n",
              "</div>"
            ],
            "text/plain": [
              "       MedInc  HouseAge  AveRooms  ...  Latitude  Longitude  Target\n",
              "0      8.3252      41.0  6.984127  ...     37.88    -122.23   4.526\n",
              "1      8.3014      21.0  6.238137  ...     37.86    -122.22   3.585\n",
              "2      7.2574      52.0  8.288136  ...     37.85    -122.24   3.521\n",
              "3      5.6431      52.0  5.817352  ...     37.85    -122.25   3.413\n",
              "4      3.8462      52.0  6.281853  ...     37.85    -122.25   3.422\n",
              "...       ...       ...       ...  ...       ...        ...     ...\n",
              "20635  1.5603      25.0  5.045455  ...     39.48    -121.09   0.781\n",
              "20636  2.5568      18.0  6.114035  ...     39.49    -121.21   0.771\n",
              "20637  1.7000      17.0  5.205543  ...     39.43    -121.22   0.923\n",
              "20638  1.8672      18.0  5.329513  ...     39.43    -121.32   0.847\n",
              "20639  2.3886      16.0  5.254717  ...     39.37    -121.24   0.894\n",
              "\n",
              "[20640 rows x 9 columns]"
            ]
          },
          "metadata": {
            "tags": []
          },
          "execution_count": 154
        }
      ]
    },
    {
      "cell_type": "code",
      "metadata": {
        "id": "-VS4chO78loo"
      },
      "source": [
        "X,y = california.data, california.target\n",
        "X_train, X_test, y_train, y_test = train_test_split(X,y,test_size=0.2)"
      ],
      "execution_count": 155,
      "outputs": []
    },
    {
      "cell_type": "code",
      "metadata": {
        "colab": {
          "base_uri": "https://localhost:8080/",
          "height": 417
        },
        "id": "hbfJBUEk8lop",
        "outputId": "12a3c1f9-919f-4b6d-89ad-c2fad57ddf16"
      },
      "source": [
        "california_train_df = pd.DataFrame(data=X_train, columns=california.feature_names)\n",
        "california_train_df['Target'] = y_train\n",
        "california_train_df"
      ],
      "execution_count": 156,
      "outputs": [
        {
          "output_type": "execute_result",
          "data": {
            "text/html": [
              "<div>\n",
              "<style scoped>\n",
              "    .dataframe tbody tr th:only-of-type {\n",
              "        vertical-align: middle;\n",
              "    }\n",
              "\n",
              "    .dataframe tbody tr th {\n",
              "        vertical-align: top;\n",
              "    }\n",
              "\n",
              "    .dataframe thead th {\n",
              "        text-align: right;\n",
              "    }\n",
              "</style>\n",
              "<table border=\"1\" class=\"dataframe\">\n",
              "  <thead>\n",
              "    <tr style=\"text-align: right;\">\n",
              "      <th></th>\n",
              "      <th>MedInc</th>\n",
              "      <th>HouseAge</th>\n",
              "      <th>AveRooms</th>\n",
              "      <th>AveBedrms</th>\n",
              "      <th>Population</th>\n",
              "      <th>AveOccup</th>\n",
              "      <th>Latitude</th>\n",
              "      <th>Longitude</th>\n",
              "      <th>Target</th>\n",
              "    </tr>\n",
              "  </thead>\n",
              "  <tbody>\n",
              "    <tr>\n",
              "      <th>0</th>\n",
              "      <td>5.2463</td>\n",
              "      <td>16.0</td>\n",
              "      <td>5.957031</td>\n",
              "      <td>1.091797</td>\n",
              "      <td>1444.0</td>\n",
              "      <td>2.820312</td>\n",
              "      <td>32.96</td>\n",
              "      <td>-117.12</td>\n",
              "      <td>1.563</td>\n",
              "    </tr>\n",
              "    <tr>\n",
              "      <th>1</th>\n",
              "      <td>5.4508</td>\n",
              "      <td>14.0</td>\n",
              "      <td>5.964115</td>\n",
              "      <td>0.973684</td>\n",
              "      <td>1296.0</td>\n",
              "      <td>3.100478</td>\n",
              "      <td>36.72</td>\n",
              "      <td>-121.80</td>\n",
              "      <td>1.900</td>\n",
              "    </tr>\n",
              "    <tr>\n",
              "      <th>2</th>\n",
              "      <td>3.7031</td>\n",
              "      <td>17.0</td>\n",
              "      <td>5.945619</td>\n",
              "      <td>1.099698</td>\n",
              "      <td>996.0</td>\n",
              "      <td>3.009063</td>\n",
              "      <td>38.69</td>\n",
              "      <td>-121.34</td>\n",
              "      <td>1.143</td>\n",
              "    </tr>\n",
              "    <tr>\n",
              "      <th>3</th>\n",
              "      <td>2.8229</td>\n",
              "      <td>16.0</td>\n",
              "      <td>4.700389</td>\n",
              "      <td>1.099222</td>\n",
              "      <td>1750.0</td>\n",
              "      <td>3.404669</td>\n",
              "      <td>34.06</td>\n",
              "      <td>-118.11</td>\n",
              "      <td>1.637</td>\n",
              "    </tr>\n",
              "    <tr>\n",
              "      <th>4</th>\n",
              "      <td>2.5213</td>\n",
              "      <td>42.0</td>\n",
              "      <td>3.816555</td>\n",
              "      <td>1.091723</td>\n",
              "      <td>1941.0</td>\n",
              "      <td>4.342282</td>\n",
              "      <td>34.09</td>\n",
              "      <td>-118.22</td>\n",
              "      <td>1.497</td>\n",
              "    </tr>\n",
              "    <tr>\n",
              "      <th>...</th>\n",
              "      <td>...</td>\n",
              "      <td>...</td>\n",
              "      <td>...</td>\n",
              "      <td>...</td>\n",
              "      <td>...</td>\n",
              "      <td>...</td>\n",
              "      <td>...</td>\n",
              "      <td>...</td>\n",
              "      <td>...</td>\n",
              "    </tr>\n",
              "    <tr>\n",
              "      <th>16507</th>\n",
              "      <td>0.8941</td>\n",
              "      <td>27.0</td>\n",
              "      <td>3.517467</td>\n",
              "      <td>1.045852</td>\n",
              "      <td>1457.0</td>\n",
              "      <td>3.181223</td>\n",
              "      <td>34.00</td>\n",
              "      <td>-118.26</td>\n",
              "      <td>0.919</td>\n",
              "    </tr>\n",
              "    <tr>\n",
              "      <th>16508</th>\n",
              "      <td>3.3958</td>\n",
              "      <td>42.0</td>\n",
              "      <td>4.523810</td>\n",
              "      <td>1.190476</td>\n",
              "      <td>643.0</td>\n",
              "      <td>2.551587</td>\n",
              "      <td>34.18</td>\n",
              "      <td>-118.37</td>\n",
              "      <td>1.784</td>\n",
              "    </tr>\n",
              "    <tr>\n",
              "      <th>16509</th>\n",
              "      <td>3.4550</td>\n",
              "      <td>48.0</td>\n",
              "      <td>5.883019</td>\n",
              "      <td>1.058491</td>\n",
              "      <td>1275.0</td>\n",
              "      <td>2.405660</td>\n",
              "      <td>38.45</td>\n",
              "      <td>-122.71</td>\n",
              "      <td>2.221</td>\n",
              "    </tr>\n",
              "    <tr>\n",
              "      <th>16510</th>\n",
              "      <td>4.5250</td>\n",
              "      <td>36.0</td>\n",
              "      <td>4.590909</td>\n",
              "      <td>0.875000</td>\n",
              "      <td>237.0</td>\n",
              "      <td>2.693182</td>\n",
              "      <td>37.98</td>\n",
              "      <td>-122.00</td>\n",
              "      <td>1.613</td>\n",
              "    </tr>\n",
              "    <tr>\n",
              "      <th>16511</th>\n",
              "      <td>1.6354</td>\n",
              "      <td>37.0</td>\n",
              "      <td>2.705882</td>\n",
              "      <td>1.023529</td>\n",
              "      <td>952.0</td>\n",
              "      <td>3.733333</td>\n",
              "      <td>34.01</td>\n",
              "      <td>-118.16</td>\n",
              "      <td>1.589</td>\n",
              "    </tr>\n",
              "  </tbody>\n",
              "</table>\n",
              "<p>16512 rows × 9 columns</p>\n",
              "</div>"
            ],
            "text/plain": [
              "       MedInc  HouseAge  AveRooms  ...  Latitude  Longitude  Target\n",
              "0      5.2463      16.0  5.957031  ...     32.96    -117.12   1.563\n",
              "1      5.4508      14.0  5.964115  ...     36.72    -121.80   1.900\n",
              "2      3.7031      17.0  5.945619  ...     38.69    -121.34   1.143\n",
              "3      2.8229      16.0  4.700389  ...     34.06    -118.11   1.637\n",
              "4      2.5213      42.0  3.816555  ...     34.09    -118.22   1.497\n",
              "...       ...       ...       ...  ...       ...        ...     ...\n",
              "16507  0.8941      27.0  3.517467  ...     34.00    -118.26   0.919\n",
              "16508  3.3958      42.0  4.523810  ...     34.18    -118.37   1.784\n",
              "16509  3.4550      48.0  5.883019  ...     38.45    -122.71   2.221\n",
              "16510  4.5250      36.0  4.590909  ...     37.98    -122.00   1.613\n",
              "16511  1.6354      37.0  2.705882  ...     34.01    -118.16   1.589\n",
              "\n",
              "[16512 rows x 9 columns]"
            ]
          },
          "metadata": {
            "tags": []
          },
          "execution_count": 156
        }
      ]
    },
    {
      "cell_type": "code",
      "metadata": {
        "colab": {
          "base_uri": "https://localhost:8080/",
          "height": 417
        },
        "id": "wXfuw8Mc8lor",
        "outputId": "05f54aed-3352-41bc-d95f-ea42793cdd5d"
      },
      "source": [
        "california_test_df = pd.DataFrame(data=X_test, columns=california.feature_names)\n",
        "california_test_df['Target'] = y_test\n",
        "california_test_df"
      ],
      "execution_count": 157,
      "outputs": [
        {
          "output_type": "execute_result",
          "data": {
            "text/html": [
              "<div>\n",
              "<style scoped>\n",
              "    .dataframe tbody tr th:only-of-type {\n",
              "        vertical-align: middle;\n",
              "    }\n",
              "\n",
              "    .dataframe tbody tr th {\n",
              "        vertical-align: top;\n",
              "    }\n",
              "\n",
              "    .dataframe thead th {\n",
              "        text-align: right;\n",
              "    }\n",
              "</style>\n",
              "<table border=\"1\" class=\"dataframe\">\n",
              "  <thead>\n",
              "    <tr style=\"text-align: right;\">\n",
              "      <th></th>\n",
              "      <th>MedInc</th>\n",
              "      <th>HouseAge</th>\n",
              "      <th>AveRooms</th>\n",
              "      <th>AveBedrms</th>\n",
              "      <th>Population</th>\n",
              "      <th>AveOccup</th>\n",
              "      <th>Latitude</th>\n",
              "      <th>Longitude</th>\n",
              "      <th>Target</th>\n",
              "    </tr>\n",
              "  </thead>\n",
              "  <tbody>\n",
              "    <tr>\n",
              "      <th>0</th>\n",
              "      <td>6.3522</td>\n",
              "      <td>17.0</td>\n",
              "      <td>7.430341</td>\n",
              "      <td>1.089783</td>\n",
              "      <td>1067.0</td>\n",
              "      <td>3.303406</td>\n",
              "      <td>34.18</td>\n",
              "      <td>-118.92</td>\n",
              "      <td>2.59300</td>\n",
              "    </tr>\n",
              "    <tr>\n",
              "      <th>1</th>\n",
              "      <td>3.1275</td>\n",
              "      <td>29.0</td>\n",
              "      <td>4.501564</td>\n",
              "      <td>1.081335</td>\n",
              "      <td>2102.0</td>\n",
              "      <td>2.191867</td>\n",
              "      <td>33.80</td>\n",
              "      <td>-118.32</td>\n",
              "      <td>2.86400</td>\n",
              "    </tr>\n",
              "    <tr>\n",
              "      <th>2</th>\n",
              "      <td>2.4519</td>\n",
              "      <td>25.0</td>\n",
              "      <td>4.430147</td>\n",
              "      <td>0.955882</td>\n",
              "      <td>608.0</td>\n",
              "      <td>2.235294</td>\n",
              "      <td>37.95</td>\n",
              "      <td>-122.02</td>\n",
              "      <td>2.08300</td>\n",
              "    </tr>\n",
              "    <tr>\n",
              "      <th>3</th>\n",
              "      <td>5.8792</td>\n",
              "      <td>17.0</td>\n",
              "      <td>5.510319</td>\n",
              "      <td>1.046904</td>\n",
              "      <td>1662.0</td>\n",
              "      <td>3.118199</td>\n",
              "      <td>37.40</td>\n",
              "      <td>-121.97</td>\n",
              "      <td>2.55500</td>\n",
              "    </tr>\n",
              "    <tr>\n",
              "      <th>4</th>\n",
              "      <td>4.1500</td>\n",
              "      <td>52.0</td>\n",
              "      <td>4.355045</td>\n",
              "      <td>1.021711</td>\n",
              "      <td>1218.0</td>\n",
              "      <td>1.555556</td>\n",
              "      <td>34.12</td>\n",
              "      <td>-118.32</td>\n",
              "      <td>3.93500</td>\n",
              "    </tr>\n",
              "    <tr>\n",
              "      <th>...</th>\n",
              "      <td>...</td>\n",
              "      <td>...</td>\n",
              "      <td>...</td>\n",
              "      <td>...</td>\n",
              "      <td>...</td>\n",
              "      <td>...</td>\n",
              "      <td>...</td>\n",
              "      <td>...</td>\n",
              "      <td>...</td>\n",
              "    </tr>\n",
              "    <tr>\n",
              "      <th>4123</th>\n",
              "      <td>2.5600</td>\n",
              "      <td>16.0</td>\n",
              "      <td>4.395062</td>\n",
              "      <td>0.907407</td>\n",
              "      <td>355.0</td>\n",
              "      <td>2.191358</td>\n",
              "      <td>34.91</td>\n",
              "      <td>-120.45</td>\n",
              "      <td>1.50000</td>\n",
              "    </tr>\n",
              "    <tr>\n",
              "      <th>4124</th>\n",
              "      <td>4.7143</td>\n",
              "      <td>14.0</td>\n",
              "      <td>5.757576</td>\n",
              "      <td>0.989899</td>\n",
              "      <td>839.0</td>\n",
              "      <td>2.824916</td>\n",
              "      <td>38.94</td>\n",
              "      <td>-121.07</td>\n",
              "      <td>1.50700</td>\n",
              "    </tr>\n",
              "    <tr>\n",
              "      <th>4125</th>\n",
              "      <td>7.8005</td>\n",
              "      <td>7.0</td>\n",
              "      <td>19.656250</td>\n",
              "      <td>3.441964</td>\n",
              "      <td>858.0</td>\n",
              "      <td>1.915179</td>\n",
              "      <td>33.69</td>\n",
              "      <td>-116.37</td>\n",
              "      <td>3.18100</td>\n",
              "    </tr>\n",
              "    <tr>\n",
              "      <th>4126</th>\n",
              "      <td>2.3846</td>\n",
              "      <td>22.0</td>\n",
              "      <td>5.152866</td>\n",
              "      <td>1.146497</td>\n",
              "      <td>334.0</td>\n",
              "      <td>2.127389</td>\n",
              "      <td>33.48</td>\n",
              "      <td>-117.66</td>\n",
              "      <td>5.00001</td>\n",
              "    </tr>\n",
              "    <tr>\n",
              "      <th>4127</th>\n",
              "      <td>4.4347</td>\n",
              "      <td>14.0</td>\n",
              "      <td>6.091451</td>\n",
              "      <td>0.986083</td>\n",
              "      <td>1681.0</td>\n",
              "      <td>3.341948</td>\n",
              "      <td>32.86</td>\n",
              "      <td>-116.96</td>\n",
              "      <td>1.60300</td>\n",
              "    </tr>\n",
              "  </tbody>\n",
              "</table>\n",
              "<p>4128 rows × 9 columns</p>\n",
              "</div>"
            ],
            "text/plain": [
              "      MedInc  HouseAge   AveRooms  ...  Latitude  Longitude   Target\n",
              "0     6.3522      17.0   7.430341  ...     34.18    -118.92  2.59300\n",
              "1     3.1275      29.0   4.501564  ...     33.80    -118.32  2.86400\n",
              "2     2.4519      25.0   4.430147  ...     37.95    -122.02  2.08300\n",
              "3     5.8792      17.0   5.510319  ...     37.40    -121.97  2.55500\n",
              "4     4.1500      52.0   4.355045  ...     34.12    -118.32  3.93500\n",
              "...      ...       ...        ...  ...       ...        ...      ...\n",
              "4123  2.5600      16.0   4.395062  ...     34.91    -120.45  1.50000\n",
              "4124  4.7143      14.0   5.757576  ...     38.94    -121.07  1.50700\n",
              "4125  7.8005       7.0  19.656250  ...     33.69    -116.37  3.18100\n",
              "4126  2.3846      22.0   5.152866  ...     33.48    -117.66  5.00001\n",
              "4127  4.4347      14.0   6.091451  ...     32.86    -116.96  1.60300\n",
              "\n",
              "[4128 rows x 9 columns]"
            ]
          },
          "metadata": {
            "tags": []
          },
          "execution_count": 157
        }
      ]
    },
    {
      "cell_type": "code",
      "metadata": {
        "id": "MqHcwXEA8los"
      },
      "source": [
        "scaler = StandardScaler()\n",
        "X_train_scale = scaler.fit_transform(X_train)\n",
        "X_test_scale = scaler.transform(X_test)"
      ],
      "execution_count": 158,
      "outputs": []
    },
    {
      "cell_type": "code",
      "metadata": {
        "colab": {
          "base_uri": "https://localhost:8080/"
        },
        "id": "mbBm62li8los",
        "outputId": "3f398228-d60d-4ea5-a266-9637b742223f"
      },
      "source": [
        "model = KNeighborsRegressor()\n",
        "model.fit(X_train, y_train)"
      ],
      "execution_count": 159,
      "outputs": [
        {
          "output_type": "execute_result",
          "data": {
            "text/plain": [
              "KNeighborsRegressor(algorithm='auto', leaf_size=30, metric='minkowski',\n",
              "                    metric_params=None, n_jobs=None, n_neighbors=5, p=2,\n",
              "                    weights='uniform')"
            ]
          },
          "metadata": {
            "tags": []
          },
          "execution_count": 159
        }
      ]
    },
    {
      "cell_type": "code",
      "metadata": {
        "colab": {
          "base_uri": "https://localhost:8080/"
        },
        "id": "r4bd4kwW8lov",
        "outputId": "aa718dab-a36c-430c-9dda-91871f58fa30"
      },
      "source": [
        "print(\"학습 데이터 점수: {}\".format(model.score(X_train, y_train)))\n",
        "print(\"평가 데이터 점수: {}\".format(model.score(X_test, y_test)))"
      ],
      "execution_count": 160,
      "outputs": [
        {
          "output_type": "stream",
          "text": [
            "학습 데이터 점수: 0.4529735782422095\n",
            "평가 데이터 점수: 0.133478250049072\n"
          ],
          "name": "stdout"
        }
      ]
    },
    {
      "cell_type": "code",
      "metadata": {
        "colab": {
          "base_uri": "https://localhost:8080/"
        },
        "id": "8wIcRh7z8low",
        "outputId": "80a2c67d-f2cd-45c2-d142-1c3b30fa1409"
      },
      "source": [
        "model = KNeighborsRegressor()\n",
        "model.fit(X_train_scale, y_train)"
      ],
      "execution_count": 161,
      "outputs": [
        {
          "output_type": "execute_result",
          "data": {
            "text/plain": [
              "KNeighborsRegressor(algorithm='auto', leaf_size=30, metric='minkowski',\n",
              "                    metric_params=None, n_jobs=None, n_neighbors=5, p=2,\n",
              "                    weights='uniform')"
            ]
          },
          "metadata": {
            "tags": []
          },
          "execution_count": 161
        }
      ]
    },
    {
      "cell_type": "code",
      "metadata": {
        "colab": {
          "base_uri": "https://localhost:8080/"
        },
        "id": "z-4zXmGV8lox",
        "outputId": "4501529e-b17b-4658-b481-491c499e873b"
      },
      "source": [
        "print(\"학습 데이터 점수: {}\".format(model.score(X_train_scale, y_train)))\n",
        "print(\"평가 데이터 점수: {}\".format(model.score(X_test_scale, y_test)))"
      ],
      "execution_count": 162,
      "outputs": [
        {
          "output_type": "stream",
          "text": [
            "학습 데이터 점수: 0.789389509457817\n",
            "평가 데이터 점수: 0.6939956680044008\n"
          ],
          "name": "stdout"
        }
      ]
    },
    {
      "cell_type": "code",
      "metadata": {
        "id": "BvyH9Pb28loy"
      },
      "source": [
        "estimator = make_pipeline(\n",
        "    StandardScaler(),\n",
        "    KNeighborsRegressor()\n",
        ")"
      ],
      "execution_count": 163,
      "outputs": []
    },
    {
      "cell_type": "code",
      "metadata": {
        "colab": {
          "base_uri": "https://localhost:8080/"
        },
        "id": "pUE_0yEn8loy",
        "outputId": "6fdd3762-27fa-4306-fd08-c33df2f830b6"
      },
      "source": [
        "cross_validate(\n",
        "    estimator=estimator,\n",
        "    X=X,y=y,\n",
        "    cv=5,\n",
        "    n_jobs=multiprocessing.cpu_count(),\n",
        "    verbose=True\n",
        ")"
      ],
      "execution_count": 164,
      "outputs": [
        {
          "output_type": "stream",
          "text": [
            "[Parallel(n_jobs=2)]: Using backend LokyBackend with 2 concurrent workers.\n",
            "[Parallel(n_jobs=2)]: Done   5 out of   5 | elapsed:    2.4s finished\n"
          ],
          "name": "stderr"
        },
        {
          "output_type": "execute_result",
          "data": {
            "text/plain": [
              "{'fit_time': array([0.03775334, 0.04144287, 0.03897285, 0.03698611, 0.03889012]),\n",
              " 'score_time': array([0.57611251, 0.46118426, 0.51332021, 0.63223457, 0.40994406]),\n",
              " 'test_score': array([0.47879396, 0.4760079 , 0.57624554, 0.50259828, 0.57228584])}"
            ]
          },
          "metadata": {
            "tags": []
          },
          "execution_count": 164
        }
      ]
    },
    {
      "cell_type": "code",
      "metadata": {
        "id": "mL_MogXI8loz"
      },
      "source": [
        "pipe = Pipeline(\n",
        "    [('scaler', StandardScaler()),\n",
        "     ('model', KNeighborsRegressor())]\n",
        ")"
      ],
      "execution_count": 165,
      "outputs": []
    },
    {
      "cell_type": "code",
      "metadata": {
        "id": "VGV81tfP8loz"
      },
      "source": [
        "param_grid = [{'model__n_neighbors': [3,5,7],\n",
        "               'model__weights':['uniform','distance'],\n",
        "               'model__algorithm': ['ball_tree', 'kd_tree', 'brute']}]"
      ],
      "execution_count": 166,
      "outputs": []
    },
    {
      "cell_type": "code",
      "metadata": {
        "id": "KYOFGyXD8loz"
      },
      "source": [
        "gs = GridSearchCV(\n",
        "    estimator=pipe,\n",
        "    param_grid = param_grid,\n",
        "    n_jobs = multiprocessing.cpu_count(),\n",
        "    verbose=True\n",
        ")"
      ],
      "execution_count": 167,
      "outputs": []
    },
    {
      "cell_type": "code",
      "metadata": {
        "colab": {
          "base_uri": "https://localhost:8080/"
        },
        "id": "tGI6UHuj8lo0",
        "outputId": "c52e8153-3259-4ea7-fe7f-6af2fa69a20f"
      },
      "source": [
        "gs.fit(X,y)"
      ],
      "execution_count": 168,
      "outputs": [
        {
          "output_type": "stream",
          "text": [
            "Fitting 5 folds for each of 18 candidates, totalling 90 fits\n"
          ],
          "name": "stdout"
        },
        {
          "output_type": "stream",
          "text": [
            "[Parallel(n_jobs=2)]: Using backend LokyBackend with 2 concurrent workers.\n",
            "[Parallel(n_jobs=2)]: Done  46 tasks      | elapsed:   25.3s\n",
            "/usr/local/lib/python3.7/dist-packages/joblib/externals/loky/process_executor.py:691: UserWarning: A worker stopped while some jobs were given to the executor. This can be caused by a too short worker timeout or by a memory leak.\n",
            "  \"timeout or by a memory leak.\", UserWarning\n",
            "[Parallel(n_jobs=2)]: Done  90 out of  90 | elapsed:  1.1min finished\n"
          ],
          "name": "stderr"
        },
        {
          "output_type": "execute_result",
          "data": {
            "text/plain": [
              "GridSearchCV(cv=None, error_score=nan,\n",
              "             estimator=Pipeline(memory=None,\n",
              "                                steps=[('scaler',\n",
              "                                        StandardScaler(copy=True,\n",
              "                                                       with_mean=True,\n",
              "                                                       with_std=True)),\n",
              "                                       ('model',\n",
              "                                        KNeighborsRegressor(algorithm='auto',\n",
              "                                                            leaf_size=30,\n",
              "                                                            metric='minkowski',\n",
              "                                                            metric_params=None,\n",
              "                                                            n_jobs=None,\n",
              "                                                            n_neighbors=5, p=2,\n",
              "                                                            weights='uniform'))],\n",
              "                                verbose=False),\n",
              "             iid='deprecated', n_jobs=2,\n",
              "             param_grid=[{'model__algorithm': ['ball_tree', 'kd_tree', 'brute'],\n",
              "                          'model__n_neighbors': [3, 5, 7],\n",
              "                          'model__weights': ['uniform', 'distance']}],\n",
              "             pre_dispatch='2*n_jobs', refit=True, return_train_score=False,\n",
              "             scoring=None, verbose=True)"
            ]
          },
          "metadata": {
            "tags": []
          },
          "execution_count": 168
        }
      ]
    },
    {
      "cell_type": "code",
      "metadata": {
        "colab": {
          "base_uri": "https://localhost:8080/"
        },
        "id": "28cXm_vI8lo0",
        "outputId": "fa27d832-cac1-44dc-e365-2baa9dbc4775"
      },
      "source": [
        "gs.best_estimator_"
      ],
      "execution_count": 169,
      "outputs": [
        {
          "output_type": "execute_result",
          "data": {
            "text/plain": [
              "Pipeline(memory=None,\n",
              "         steps=[('scaler',\n",
              "                 StandardScaler(copy=True, with_mean=True, with_std=True)),\n",
              "                ('model',\n",
              "                 KNeighborsRegressor(algorithm='ball_tree', leaf_size=30,\n",
              "                                     metric='minkowski', metric_params=None,\n",
              "                                     n_jobs=None, n_neighbors=7, p=2,\n",
              "                                     weights='distance'))],\n",
              "         verbose=False)"
            ]
          },
          "metadata": {
            "tags": []
          },
          "execution_count": 169
        }
      ]
    },
    {
      "cell_type": "code",
      "metadata": {
        "colab": {
          "base_uri": "https://localhost:8080/"
        },
        "id": "lhGObLq78lo1",
        "outputId": "f9561ed7-6bc7-4f35-c082-55f7887f5273"
      },
      "source": [
        "print('GridSearchCV best score: {}'.format(gs.best_score_))"
      ],
      "execution_count": 170,
      "outputs": [
        {
          "output_type": "stream",
          "text": [
            "GridSearchCV best score: 0.5376515274379832\n"
          ],
          "name": "stdout"
        }
      ]
    },
    {
      "cell_type": "code",
      "metadata": {
        "colab": {
          "base_uri": "https://localhost:8080/",
          "height": 351
        },
        "id": "sb6k6vhJ8lo1",
        "outputId": "ef2a4a64-a8ab-4b2a-ee36-750359913e25"
      },
      "source": [
        "tsne = TSNE(n_components=1)\n",
        "X_comp = tsne.fit_transform(X)"
      ],
      "execution_count": 171,
      "outputs": [
        {
          "output_type": "error",
          "ename": "KeyboardInterrupt",
          "evalue": "ignored",
          "traceback": [
            "\u001b[0;31m---------------------------------------------------------------------------\u001b[0m",
            "\u001b[0;31mKeyboardInterrupt\u001b[0m                         Traceback (most recent call last)",
            "\u001b[0;32m<ipython-input-171-51089ca0247d>\u001b[0m in \u001b[0;36m<module>\u001b[0;34m()\u001b[0m\n\u001b[1;32m      1\u001b[0m \u001b[0mtsne\u001b[0m \u001b[0;34m=\u001b[0m \u001b[0mTSNE\u001b[0m\u001b[0;34m(\u001b[0m\u001b[0mn_components\u001b[0m\u001b[0;34m=\u001b[0m\u001b[0;36m1\u001b[0m\u001b[0;34m)\u001b[0m\u001b[0;34m\u001b[0m\u001b[0;34m\u001b[0m\u001b[0m\n\u001b[0;32m----> 2\u001b[0;31m \u001b[0mX_comp\u001b[0m \u001b[0;34m=\u001b[0m \u001b[0mtsne\u001b[0m\u001b[0;34m.\u001b[0m\u001b[0mfit_transform\u001b[0m\u001b[0;34m(\u001b[0m\u001b[0mX\u001b[0m\u001b[0;34m)\u001b[0m\u001b[0;34m\u001b[0m\u001b[0;34m\u001b[0m\u001b[0m\n\u001b[0m",
            "\u001b[0;32m/usr/local/lib/python3.7/dist-packages/sklearn/manifold/_t_sne.py\u001b[0m in \u001b[0;36mfit_transform\u001b[0;34m(self, X, y)\u001b[0m\n\u001b[1;32m    884\u001b[0m             \u001b[0mEmbedding\u001b[0m \u001b[0mof\u001b[0m \u001b[0mthe\u001b[0m \u001b[0mtraining\u001b[0m \u001b[0mdata\u001b[0m \u001b[0;32min\u001b[0m \u001b[0mlow\u001b[0m\u001b[0;34m-\u001b[0m\u001b[0mdimensional\u001b[0m \u001b[0mspace\u001b[0m\u001b[0;34m.\u001b[0m\u001b[0;34m\u001b[0m\u001b[0;34m\u001b[0m\u001b[0m\n\u001b[1;32m    885\u001b[0m         \"\"\"\n\u001b[0;32m--> 886\u001b[0;31m         \u001b[0membedding\u001b[0m \u001b[0;34m=\u001b[0m \u001b[0mself\u001b[0m\u001b[0;34m.\u001b[0m\u001b[0m_fit\u001b[0m\u001b[0;34m(\u001b[0m\u001b[0mX\u001b[0m\u001b[0;34m)\u001b[0m\u001b[0;34m\u001b[0m\u001b[0;34m\u001b[0m\u001b[0m\n\u001b[0m\u001b[1;32m    887\u001b[0m         \u001b[0mself\u001b[0m\u001b[0;34m.\u001b[0m\u001b[0membedding_\u001b[0m \u001b[0;34m=\u001b[0m \u001b[0membedding\u001b[0m\u001b[0;34m\u001b[0m\u001b[0;34m\u001b[0m\u001b[0m\n\u001b[1;32m    888\u001b[0m         \u001b[0;32mreturn\u001b[0m \u001b[0mself\u001b[0m\u001b[0;34m.\u001b[0m\u001b[0membedding_\u001b[0m\u001b[0;34m\u001b[0m\u001b[0;34m\u001b[0m\u001b[0m\n",
            "\u001b[0;32m/usr/local/lib/python3.7/dist-packages/sklearn/manifold/_t_sne.py\u001b[0m in \u001b[0;36m_fit\u001b[0;34m(self, X, skip_num_points)\u001b[0m\n\u001b[1;32m    796\u001b[0m                           \u001b[0mX_embedded\u001b[0m\u001b[0;34m=\u001b[0m\u001b[0mX_embedded\u001b[0m\u001b[0;34m,\u001b[0m\u001b[0;34m\u001b[0m\u001b[0;34m\u001b[0m\u001b[0m\n\u001b[1;32m    797\u001b[0m                           \u001b[0mneighbors\u001b[0m\u001b[0;34m=\u001b[0m\u001b[0mneighbors_nn\u001b[0m\u001b[0;34m,\u001b[0m\u001b[0;34m\u001b[0m\u001b[0;34m\u001b[0m\u001b[0m\n\u001b[0;32m--> 798\u001b[0;31m                           skip_num_points=skip_num_points)\n\u001b[0m\u001b[1;32m    799\u001b[0m \u001b[0;34m\u001b[0m\u001b[0m\n\u001b[1;32m    800\u001b[0m     def _tsne(self, P, degrees_of_freedom, n_samples, X_embedded,\n",
            "\u001b[0;32m/usr/local/lib/python3.7/dist-packages/sklearn/manifold/_t_sne.py\u001b[0m in \u001b[0;36m_tsne\u001b[0;34m(self, P, degrees_of_freedom, n_samples, X_embedded, neighbors, skip_num_points)\u001b[0m\n\u001b[1;32m    850\u001b[0m             \u001b[0mopt_args\u001b[0m\u001b[0;34m[\u001b[0m\u001b[0;34m'n_iter_without_progress'\u001b[0m\u001b[0;34m]\u001b[0m \u001b[0;34m=\u001b[0m \u001b[0mself\u001b[0m\u001b[0;34m.\u001b[0m\u001b[0mn_iter_without_progress\u001b[0m\u001b[0;34m\u001b[0m\u001b[0;34m\u001b[0m\u001b[0m\n\u001b[1;32m    851\u001b[0m             params, kl_divergence, it = _gradient_descent(obj_func, params,\n\u001b[0;32m--> 852\u001b[0;31m                                                           **opt_args)\n\u001b[0m\u001b[1;32m    853\u001b[0m \u001b[0;34m\u001b[0m\u001b[0m\n\u001b[1;32m    854\u001b[0m         \u001b[0;31m# Save the final number of iterations\u001b[0m\u001b[0;34m\u001b[0m\u001b[0;34m\u001b[0m\u001b[0;34m\u001b[0m\u001b[0m\n",
            "\u001b[0;32m/usr/local/lib/python3.7/dist-packages/sklearn/manifold/_t_sne.py\u001b[0m in \u001b[0;36m_gradient_descent\u001b[0;34m(objective, p0, it, n_iter, n_iter_check, n_iter_without_progress, momentum, learning_rate, min_gain, min_grad_norm, verbose, args, kwargs)\u001b[0m\n\u001b[1;32m    356\u001b[0m         \u001b[0mkwargs\u001b[0m\u001b[0;34m[\u001b[0m\u001b[0;34m'compute_error'\u001b[0m\u001b[0;34m]\u001b[0m \u001b[0;34m=\u001b[0m \u001b[0mcheck_convergence\u001b[0m \u001b[0;32mor\u001b[0m \u001b[0mi\u001b[0m \u001b[0;34m==\u001b[0m \u001b[0mn_iter\u001b[0m \u001b[0;34m-\u001b[0m \u001b[0;36m1\u001b[0m\u001b[0;34m\u001b[0m\u001b[0;34m\u001b[0m\u001b[0m\n\u001b[1;32m    357\u001b[0m \u001b[0;34m\u001b[0m\u001b[0m\n\u001b[0;32m--> 358\u001b[0;31m         \u001b[0merror\u001b[0m\u001b[0;34m,\u001b[0m \u001b[0mgrad\u001b[0m \u001b[0;34m=\u001b[0m \u001b[0mobjective\u001b[0m\u001b[0;34m(\u001b[0m\u001b[0mp\u001b[0m\u001b[0;34m,\u001b[0m \u001b[0;34m*\u001b[0m\u001b[0margs\u001b[0m\u001b[0;34m,\u001b[0m \u001b[0;34m**\u001b[0m\u001b[0mkwargs\u001b[0m\u001b[0;34m)\u001b[0m\u001b[0;34m\u001b[0m\u001b[0;34m\u001b[0m\u001b[0m\n\u001b[0m\u001b[1;32m    359\u001b[0m         \u001b[0mgrad_norm\u001b[0m \u001b[0;34m=\u001b[0m \u001b[0mlinalg\u001b[0m\u001b[0;34m.\u001b[0m\u001b[0mnorm\u001b[0m\u001b[0;34m(\u001b[0m\u001b[0mgrad\u001b[0m\u001b[0;34m)\u001b[0m\u001b[0;34m\u001b[0m\u001b[0;34m\u001b[0m\u001b[0m\n\u001b[1;32m    360\u001b[0m \u001b[0;34m\u001b[0m\u001b[0m\n",
            "\u001b[0;32m/usr/local/lib/python3.7/dist-packages/sklearn/manifold/_t_sne.py\u001b[0m in \u001b[0;36m_kl_divergence_bh\u001b[0;34m(params, P, degrees_of_freedom, n_samples, n_components, angle, skip_num_points, verbose, compute_error, num_threads)\u001b[0m\n\u001b[1;32m    260\u001b[0m                                       \u001b[0mdof\u001b[0m\u001b[0;34m=\u001b[0m\u001b[0mdegrees_of_freedom\u001b[0m\u001b[0;34m,\u001b[0m\u001b[0;34m\u001b[0m\u001b[0;34m\u001b[0m\u001b[0m\n\u001b[1;32m    261\u001b[0m                                       \u001b[0mcompute_error\u001b[0m\u001b[0;34m=\u001b[0m\u001b[0mcompute_error\u001b[0m\u001b[0;34m,\u001b[0m\u001b[0;34m\u001b[0m\u001b[0;34m\u001b[0m\u001b[0m\n\u001b[0;32m--> 262\u001b[0;31m                                       num_threads=num_threads)\n\u001b[0m\u001b[1;32m    263\u001b[0m     \u001b[0mc\u001b[0m \u001b[0;34m=\u001b[0m \u001b[0;36m2.0\u001b[0m \u001b[0;34m*\u001b[0m \u001b[0;34m(\u001b[0m\u001b[0mdegrees_of_freedom\u001b[0m \u001b[0;34m+\u001b[0m \u001b[0;36m1.0\u001b[0m\u001b[0;34m)\u001b[0m \u001b[0;34m/\u001b[0m \u001b[0mdegrees_of_freedom\u001b[0m\u001b[0;34m\u001b[0m\u001b[0;34m\u001b[0m\u001b[0m\n\u001b[1;32m    264\u001b[0m     \u001b[0mgrad\u001b[0m \u001b[0;34m=\u001b[0m \u001b[0mgrad\u001b[0m\u001b[0;34m.\u001b[0m\u001b[0mravel\u001b[0m\u001b[0;34m(\u001b[0m\u001b[0;34m)\u001b[0m\u001b[0;34m\u001b[0m\u001b[0;34m\u001b[0m\u001b[0m\n",
            "\u001b[0;31mKeyboardInterrupt\u001b[0m: "
          ]
        }
      ]
    },
    {
      "cell_type": "code",
      "metadata": {
        "colab": {
          "base_uri": "https://localhost:8080/",
          "height": 417
        },
        "id": "OHq9yR0V8lo2",
        "outputId": "8fd673c3-b298-4cf4-f28f-5035575cc1ac"
      },
      "source": [
        "california_comp_df = pd.DataFrame(data=X_comp)\n",
        "california_comp_df['Target'] = y\n",
        "california_comp_df"
      ],
      "execution_count": null,
      "outputs": [
        {
          "output_type": "execute_result",
          "data": {
            "text/html": [
              "<div>\n",
              "<style scoped>\n",
              "    .dataframe tbody tr th:only-of-type {\n",
              "        vertical-align: middle;\n",
              "    }\n",
              "\n",
              "    .dataframe tbody tr th {\n",
              "        vertical-align: top;\n",
              "    }\n",
              "\n",
              "    .dataframe thead th {\n",
              "        text-align: right;\n",
              "    }\n",
              "</style>\n",
              "<table border=\"1\" class=\"dataframe\">\n",
              "  <thead>\n",
              "    <tr style=\"text-align: right;\">\n",
              "      <th></th>\n",
              "      <th>0</th>\n",
              "      <th>Target</th>\n",
              "    </tr>\n",
              "  </thead>\n",
              "  <tbody>\n",
              "    <tr>\n",
              "      <th>0</th>\n",
              "      <td>2.963585</td>\n",
              "      <td>24.0</td>\n",
              "    </tr>\n",
              "    <tr>\n",
              "      <th>1</th>\n",
              "      <td>-12.280255</td>\n",
              "      <td>21.6</td>\n",
              "    </tr>\n",
              "    <tr>\n",
              "      <th>2</th>\n",
              "      <td>-13.041142</td>\n",
              "      <td>34.7</td>\n",
              "    </tr>\n",
              "    <tr>\n",
              "      <th>3</th>\n",
              "      <td>-14.428607</td>\n",
              "      <td>33.4</td>\n",
              "    </tr>\n",
              "    <tr>\n",
              "      <th>4</th>\n",
              "      <td>-14.559071</td>\n",
              "      <td>36.2</td>\n",
              "    </tr>\n",
              "    <tr>\n",
              "      <th>...</th>\n",
              "      <td>...</td>\n",
              "      <td>...</td>\n",
              "    </tr>\n",
              "    <tr>\n",
              "      <th>501</th>\n",
              "      <td>0.125261</td>\n",
              "      <td>22.4</td>\n",
              "    </tr>\n",
              "    <tr>\n",
              "      <th>502</th>\n",
              "      <td>-0.492481</td>\n",
              "      <td>20.6</td>\n",
              "    </tr>\n",
              "    <tr>\n",
              "      <th>503</th>\n",
              "      <td>-1.264494</td>\n",
              "      <td>23.9</td>\n",
              "    </tr>\n",
              "    <tr>\n",
              "      <th>504</th>\n",
              "      <td>-1.222745</td>\n",
              "      <td>22.0</td>\n",
              "    </tr>\n",
              "    <tr>\n",
              "      <th>505</th>\n",
              "      <td>-0.766841</td>\n",
              "      <td>11.9</td>\n",
              "    </tr>\n",
              "  </tbody>\n",
              "</table>\n",
              "<p>506 rows × 2 columns</p>\n",
              "</div>"
            ],
            "text/plain": [
              "             0  Target\n",
              "0     2.963585    24.0\n",
              "1   -12.280255    21.6\n",
              "2   -13.041142    34.7\n",
              "3   -14.428607    33.4\n",
              "4   -14.559071    36.2\n",
              "..         ...     ...\n",
              "501   0.125261    22.4\n",
              "502  -0.492481    20.6\n",
              "503  -1.264494    23.9\n",
              "504  -1.222745    22.0\n",
              "505  -0.766841    11.9\n",
              "\n",
              "[506 rows x 2 columns]"
            ]
          },
          "metadata": {
            "tags": []
          },
          "execution_count": 148
        }
      ]
    },
    {
      "cell_type": "code",
      "metadata": {
        "colab": {
          "base_uri": "https://localhost:8080/",
          "height": 280
        },
        "id": "KuHme7RF8lo2",
        "outputId": "7b2b47c2-fb78-4036-dffc-d34d89a733b9"
      },
      "source": [
        "plt.scatter(X_comp, y, c='b', cmap=plt.cm.coolwarm, s=20, edgecolors='k')"
      ],
      "execution_count": null,
      "outputs": [
        {
          "output_type": "execute_result",
          "data": {
            "text/plain": [
              "<matplotlib.collections.PathCollection at 0x7f4c1012b890>"
            ]
          },
          "metadata": {
            "tags": []
          },
          "execution_count": 149
        },
        {
          "output_type": "display_data",
          "data": {
            "image/png": "[encoded data removed]",
            "text/plain": [
              "<Figure size 432x288 with 1 Axes>"
            ]
          },
          "metadata": {
            "tags": [],
            "needs_background": "light"
          }
        }
      ]
    },
    {
      "cell_type": "code",
      "metadata": {
        "id": "5UV0Y5c78lo2"
      },
      "source": [
        "model = KNeighborsRegressor()\n",
        "model.fit(X_comp,y)\n",
        "predict = model.predict(X_comp)"
      ],
      "execution_count": null,
      "outputs": []
    },
    {
      "cell_type": "code",
      "metadata": {
        "colab": {
          "base_uri": "https://localhost:8080/",
          "height": 280
        },
        "id": "Uvx4PJA-8lo3",
        "outputId": "9537058d-95df-4d02-e97d-0d7ecd69b4e6"
      },
      "source": [
        "plt.scatter(X_comp, y, c='b', cmap=plt.cm.coolwarm, s=20, edgecolors='k')\n",
        "plt.scatter(X_comp, predict,c='r', cmap=plt.cm.coolwarm, s=20, edgecolors='k')"
      ],
      "execution_count": null,
      "outputs": [
        {
          "output_type": "execute_result",
          "data": {
            "text/plain": [
              "<matplotlib.collections.PathCollection at 0x7f4c10323350>"
            ]
          },
          "metadata": {
            "tags": []
          },
          "execution_count": 152
        },
        {
          "output_type": "display_data",
          "data": {
            "image/png": "[encoded data removed]",
            "text/plain": [
              "<Figure size 432x288 with 1 Axes>"
            ]
          },
          "metadata": {
            "tags": [],
            "needs_background": "light"
          }
        }
      ]
    }
  ]
}