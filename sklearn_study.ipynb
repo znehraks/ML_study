{
  "nbformat": 4,
  "nbformat_minor": 0,
  "metadata": {
    "colab": {
      "name": "sklearn_study.ipynb",
      "provenance": [],
      "toc_visible": true,
      "authorship_tag": "ABX9TyOfn/Uz9LAqHGWP5lBFaIF/",
      "include_colab_link": true
    },
    "kernelspec": {
      "name": "python3",
      "display_name": "Python 3"
    },
    "language_info": {
      "name": "python"
    }
  },
  "cells": [
    {
      "cell_type": "markdown",
      "metadata": {
        "id": "view-in-github",
        "colab_type": "text"
      },
      "source": [
        "<a href=\"https://colab.research.google.com/github/znehraks/ML_study/blob/main/sklearn_study.ipynb\" target=\"_parent\"><img src=\"https://colab.research.google.com/assets/colab-badge.svg\" alt=\"Open In Colab\"/></a>"
      ]
    },
    {
      "cell_type": "code",
      "metadata": {
        "id": "XAj_Xagzlhnj"
      },
      "source": [
        "import numpy as np\n",
        "import matplotlib.pyplot as plt\n",
        "plt.style.use(['seaborn-whitegrid'])"
      ],
      "execution_count": null,
      "outputs": []
    },
    {
      "cell_type": "code",
      "metadata": {
        "id": "AU4hZB2OYBFh"
      },
      "source": [
        "!git branch -M master"
      ],
      "execution_count": 27,
      "outputs": []
    },
    {
      "cell_type": "code",
      "metadata": {
        "colab": {
          "base_uri": "https://localhost:8080/",
          "height": 280
        },
        "id": "oufC5SShlw3w",
        "outputId": "da994642-25d5-40d6-cab5-36ebd854ca4c"
      },
      "source": [
        "x= 10 * np.random.rand(50)\n",
        "y = 2 * x + np.random.rand(50)\n",
        "plt.scatter(x,y)"
      ],
      "execution_count": null,
      "outputs": [
        {
          "output_type": "execute_result",
          "data": {
            "text/plain": [
              "<matplotlib.collections.PathCollection at 0x7f1c39f31610>"
            ]
          },
          "metadata": {
            "tags": []
          },
          "execution_count": 2
        },
        {
          "output_type": "display_data",
          "data": {
            "image/png": "[encoded data removed]",
            "text/plain": [
              "<Figure size 432x288 with 1 Axes>"
            ]
          },
          "metadata": {
            "tags": [],
            "needs_background": "light"
          }
        }
      ]
    },
    {
      "cell_type": "code",
      "metadata": {
        "id": "Bspikiwtvu9t"
      },
      "source": [
        "#1. 적절한 estimator 클래스를 임포트해서 모델의 클래스 선택\n",
        "from sklearn.linear_model import LinearRegression\n"
      ],
      "execution_count": null,
      "outputs": []
    },
    {
      "cell_type": "code",
      "metadata": {
        "colab": {
          "base_uri": "https://localhost:8080/"
        },
        "id": "KQFCt0fAwH_m",
        "outputId": "0960ff94-86e4-4658-f1e2-36c20370c2ab"
      },
      "source": [
        "#2. 클래스를 원하는 값으로 인스턴스화해서 모델의 하이퍼파라미터 선택\n",
        "model = LinearRegression(\n",
        "    #copy_X=True        -> 입력값을 복사해서 사용\n",
        "    #fit_intercept=True -> 상수를 다루는 값이라고 명시\n",
        "    #n_jobs=True        -> 데이터가 클 때, CPU의 여러 코어를 병렬로 돌릴 수 있음\n",
        "    #normalize=False    -> 정규화여부\n",
        ")\n",
        "model"
      ],
      "execution_count": null,
      "outputs": [
        {
          "output_type": "execute_result",
          "data": {
            "text/plain": [
              "LinearRegression(copy_X=True, fit_intercept=True, n_jobs=None, normalize=False)"
            ]
          },
          "metadata": {
            "tags": []
          },
          "execution_count": 4
        }
      ]
    },
    {
      "cell_type": "code",
      "metadata": {
        "colab": {
          "base_uri": "https://localhost:8080/"
        },
        "id": "PW0TcAeoxVZp",
        "outputId": "0bc0305f-4690-412a-d55f-a718c0c42e29"
      },
      "source": [
        "#3. 데이터를 특징 배열과 대상 벡터로 배치\n",
        "X = x[:, np.newaxis]"
      ],
      "execution_count": null,
      "outputs": [
        {
          "output_type": "execute_result",
          "data": {
            "text/plain": [
              "array([[3.67090003],\n",
              "       [0.15204911],\n",
              "       [9.46995585],\n",
              "       [7.97023637],\n",
              "       [7.28606543],\n",
              "       [2.40021608],\n",
              "       [2.84016512],\n",
              "       [1.88274397],\n",
              "       [7.53357822],\n",
              "       [7.28507389],\n",
              "       [8.46519322],\n",
              "       [4.01758762],\n",
              "       [1.13758267],\n",
              "       [2.76847354],\n",
              "       [5.02769509],\n",
              "       [5.30794788],\n",
              "       [4.11160214],\n",
              "       [0.43940613],\n",
              "       [0.20112142],\n",
              "       [3.32441537],\n",
              "       [7.98220377],\n",
              "       [9.14137433],\n",
              "       [4.92890549],\n",
              "       [0.42367651],\n",
              "       [0.08662756],\n",
              "       [0.61104005],\n",
              "       [1.01464314],\n",
              "       [7.04537289],\n",
              "       [6.06269774],\n",
              "       [7.89145807],\n",
              "       [2.21211534],\n",
              "       [5.02202856],\n",
              "       [6.88180295],\n",
              "       [5.04138528],\n",
              "       [8.8058587 ],\n",
              "       [0.59397328],\n",
              "       [4.62492476],\n",
              "       [3.03997633],\n",
              "       [8.67396325],\n",
              "       [4.68596954],\n",
              "       [0.54543567],\n",
              "       [9.2203749 ],\n",
              "       [8.39055692],\n",
              "       [3.78962633],\n",
              "       [0.23722736],\n",
              "       [8.25272795],\n",
              "       [2.50144158],\n",
              "       [7.46666788],\n",
              "       [7.86228429],\n",
              "       [4.63899673]])"
            ]
          },
          "metadata": {
            "tags": []
          },
          "execution_count": 8
        }
      ]
    },
    {
      "cell_type": "code",
      "metadata": {
        "colab": {
          "base_uri": "https://localhost:8080/"
        },
        "id": "WHYysFLzxr6G",
        "outputId": "bf5d4760-47b5-4528-9847-36625622cfeb"
      },
      "source": [
        "#4. 모델 인스턴스의 fit() 매서드를 호출해 모델을 데이터에 적합\n",
        "#여기서 X는 2차원으로 변형된 배열\n",
        "model.fit(X,y)"
      ],
      "execution_count": null,
      "outputs": [
        {
          "output_type": "execute_result",
          "data": {
            "text/plain": [
              "LinearRegression(copy_X=True, fit_intercept=True, n_jobs=None, normalize=False)"
            ]
          },
          "metadata": {
            "tags": []
          },
          "execution_count": 9
        }
      ]
    },
    {
      "cell_type": "code",
      "metadata": {
        "colab": {
          "base_uri": "https://localhost:8080/"
        },
        "id": "9btpJbakx6pB",
        "outputId": "9962b926-efd9-4ea4-acf1-c1c6002a2fb5"
      },
      "source": [
        "model.coef_"
      ],
      "execution_count": null,
      "outputs": [
        {
          "output_type": "execute_result",
          "data": {
            "text/plain": [
              "array([1.99123157])"
            ]
          },
          "metadata": {
            "tags": []
          },
          "execution_count": 10
        }
      ]
    },
    {
      "cell_type": "code",
      "metadata": {
        "colab": {
          "base_uri": "https://localhost:8080/"
        },
        "id": "sc1RffSKx9aX",
        "outputId": "0d927b57-956f-4008-a471-141878b3d409"
      },
      "source": [
        "model.intercept_"
      ],
      "execution_count": null,
      "outputs": [
        {
          "output_type": "execute_result",
          "data": {
            "text/plain": [
              "0.5413977050430478"
            ]
          },
          "metadata": {
            "tags": []
          },
          "execution_count": 11
        }
      ]
    },
    {
      "cell_type": "code",
      "metadata": {
        "colab": {
          "base_uri": "https://localhost:8080/"
        },
        "id": "T9uLA8msx_oV",
        "outputId": "748c399a-9533-4be7-9fab-892a396eb69d"
      },
      "source": [
        "#5. 모델을 새 데이터에 적용\n",
        "xfit = np.linspace(-1,11)\n",
        "Xfit = xfit[:,np.newaxis]\n",
        "yfit = model.predict(Xfit)"
      ],
      "execution_count": null,
      "outputs": [
        {
          "output_type": "execute_result",
          "data": {
            "text/plain": [
              "array([-1.44983387e+00, -9.62185319e-01, -4.74536771e-01,  1.31117776e-02,\n",
              "        5.00760326e-01,  9.88408874e-01,  1.47605742e+00,  1.96370597e+00,\n",
              "        2.45135452e+00,  2.93900307e+00,  3.42665162e+00,  3.91430016e+00,\n",
              "        4.40194871e+00,  4.88959726e+00,  5.37724581e+00,  5.86489436e+00,\n",
              "        6.35254291e+00,  6.84019146e+00,  7.32784000e+00,  7.81548855e+00,\n",
              "        8.30313710e+00,  8.79078565e+00,  9.27843420e+00,  9.76608275e+00,\n",
              "        1.02537313e+01,  1.07413798e+01,  1.12290284e+01,  1.17166769e+01,\n",
              "        1.22043255e+01,  1.26919740e+01,  1.31796226e+01,  1.36672711e+01,\n",
              "        1.41549197e+01,  1.46425682e+01,  1.51302168e+01,  1.56178653e+01,\n",
              "        1.61055139e+01,  1.65931624e+01,  1.70808110e+01,  1.75684595e+01,\n",
              "        1.80561081e+01,  1.85437566e+01,  1.90314052e+01,  1.95190537e+01,\n",
              "        2.00067023e+01,  2.04943508e+01,  2.09819994e+01,  2.14696479e+01,\n",
              "        2.19572965e+01,  2.24449450e+01])"
            ]
          },
          "metadata": {
            "tags": []
          },
          "execution_count": 14
        }
      ]
    },
    {
      "cell_type": "code",
      "metadata": {
        "colab": {
          "base_uri": "https://localhost:8080/"
        },
        "id": "SZMXqOt1yevr",
        "outputId": "2c97bd40-7559-4b46-ffc6-f36692a8fa3f"
      },
      "source": [
        "print(xfit)"
      ],
      "execution_count": null,
      "outputs": [
        {
          "output_type": "stream",
          "text": [
            "[-1.         -0.75510204 -0.51020408 -0.26530612 -0.02040816  0.2244898\n",
            "  0.46938776  0.71428571  0.95918367  1.20408163  1.44897959  1.69387755\n",
            "  1.93877551  2.18367347  2.42857143  2.67346939  2.91836735  3.16326531\n",
            "  3.40816327  3.65306122  3.89795918  4.14285714  4.3877551   4.63265306\n",
            "  4.87755102  5.12244898  5.36734694  5.6122449   5.85714286  6.10204082\n",
            "  6.34693878  6.59183673  6.83673469  7.08163265  7.32653061  7.57142857\n",
            "  7.81632653  8.06122449  8.30612245  8.55102041  8.79591837  9.04081633\n",
            "  9.28571429  9.53061224  9.7755102  10.02040816 10.26530612 10.51020408\n",
            " 10.75510204 11.        ]\n"
          ],
          "name": "stdout"
        }
      ]
    },
    {
      "cell_type": "code",
      "metadata": {
        "colab": {
          "base_uri": "https://localhost:8080/"
        },
        "id": "ihoDbPd0ye5y",
        "outputId": "cd36f6b6-9a05-4e9b-9ce0-b3ee9b2a131c"
      },
      "source": [
        "print(Xfit)"
      ],
      "execution_count": null,
      "outputs": [
        {
          "output_type": "stream",
          "text": [
            "[[-1.        ]\n",
            " [-0.75510204]\n",
            " [-0.51020408]\n",
            " [-0.26530612]\n",
            " [-0.02040816]\n",
            " [ 0.2244898 ]\n",
            " [ 0.46938776]\n",
            " [ 0.71428571]\n",
            " [ 0.95918367]\n",
            " [ 1.20408163]\n",
            " [ 1.44897959]\n",
            " [ 1.69387755]\n",
            " [ 1.93877551]\n",
            " [ 2.18367347]\n",
            " [ 2.42857143]\n",
            " [ 2.67346939]\n",
            " [ 2.91836735]\n",
            " [ 3.16326531]\n",
            " [ 3.40816327]\n",
            " [ 3.65306122]\n",
            " [ 3.89795918]\n",
            " [ 4.14285714]\n",
            " [ 4.3877551 ]\n",
            " [ 4.63265306]\n",
            " [ 4.87755102]\n",
            " [ 5.12244898]\n",
            " [ 5.36734694]\n",
            " [ 5.6122449 ]\n",
            " [ 5.85714286]\n",
            " [ 6.10204082]\n",
            " [ 6.34693878]\n",
            " [ 6.59183673]\n",
            " [ 6.83673469]\n",
            " [ 7.08163265]\n",
            " [ 7.32653061]\n",
            " [ 7.57142857]\n",
            " [ 7.81632653]\n",
            " [ 8.06122449]\n",
            " [ 8.30612245]\n",
            " [ 8.55102041]\n",
            " [ 8.79591837]\n",
            " [ 9.04081633]\n",
            " [ 9.28571429]\n",
            " [ 9.53061224]\n",
            " [ 9.7755102 ]\n",
            " [10.02040816]\n",
            " [10.26530612]\n",
            " [10.51020408]\n",
            " [10.75510204]\n",
            " [11.        ]]\n"
          ],
          "name": "stdout"
        }
      ]
    },
    {
      "cell_type": "code",
      "metadata": {
        "colab": {
          "base_uri": "https://localhost:8080/"
        },
        "id": "6inCMV0myfTF",
        "outputId": "d069c58b-24f0-435f-a3e0-c8dbdb27b71a"
      },
      "source": [
        "print(yfit)"
      ],
      "execution_count": null,
      "outputs": [
        {
          "output_type": "stream",
          "text": [
            "[-1.44983387e+00 -9.62185319e-01 -4.74536771e-01  1.31117776e-02\n",
            "  5.00760326e-01  9.88408874e-01  1.47605742e+00  1.96370597e+00\n",
            "  2.45135452e+00  2.93900307e+00  3.42665162e+00  3.91430016e+00\n",
            "  4.40194871e+00  4.88959726e+00  5.37724581e+00  5.86489436e+00\n",
            "  6.35254291e+00  6.84019146e+00  7.32784000e+00  7.81548855e+00\n",
            "  8.30313710e+00  8.79078565e+00  9.27843420e+00  9.76608275e+00\n",
            "  1.02537313e+01  1.07413798e+01  1.12290284e+01  1.17166769e+01\n",
            "  1.22043255e+01  1.26919740e+01  1.31796226e+01  1.36672711e+01\n",
            "  1.41549197e+01  1.46425682e+01  1.51302168e+01  1.56178653e+01\n",
            "  1.61055139e+01  1.65931624e+01  1.70808110e+01  1.75684595e+01\n",
            "  1.80561081e+01  1.85437566e+01  1.90314052e+01  1.95190537e+01\n",
            "  2.00067023e+01  2.04943508e+01  2.09819994e+01  2.14696479e+01\n",
            "  2.19572965e+01  2.24449450e+01]\n"
          ],
          "name": "stdout"
        }
      ]
    },
    {
      "cell_type": "code",
      "metadata": {
        "colab": {
          "base_uri": "https://localhost:8080/",
          "height": 280
        },
        "id": "xg1_xlYUym3l",
        "outputId": "4109ccde-b1a5-49a1-c37e-68da0de52d10"
      },
      "source": [
        "plt.scatter(x,y)\n",
        "plt.plot(xfit, yfit, '--r')"
      ],
      "execution_count": null,
      "outputs": [
        {
          "output_type": "execute_result",
          "data": {
            "text/plain": [
              "[<matplotlib.lines.Line2D at 0x7f1c2489bc50>]"
            ]
          },
          "metadata": {
            "tags": []
          },
          "execution_count": 18
        },
        {
          "output_type": "display_data",
          "data": {
            "image/png": "[encoded data removed]",
            "text/plain": [
              "<Figure size 432x288 with 1 Axes>"
            ]
          },
          "metadata": {
            "tags": [],
            "needs_background": "light"
          }
        }
      ]
    },
    {
      "cell_type": "code",
      "metadata": {
        "colab": {
          "base_uri": "https://localhost:8080/"
        },
        "id": "67esHU8Hz523",
        "outputId": "6ccbdf24-be75-4872-c2fe-a6dde5c5eea0"
      },
      "source": [
        "from sklearn.datasets import load_diabetes\n",
        "\n",
        "diabetes = load_diabetes()\n",
        "print(diabetes.keys())"
      ],
      "execution_count": null,
      "outputs": [
        {
          "output_type": "stream",
          "text": [
            "dict_keys(['data', 'target', 'DESCR', 'feature_names', 'data_filename', 'target_filename'])\n"
          ],
          "name": "stdout"
        }
      ]
    },
    {
      "cell_type": "code",
      "metadata": {
        "colab": {
          "base_uri": "https://localhost:8080/"
        },
        "id": "OcjnGdMT0ICS",
        "outputId": "6bd434c7-a546-4b37-84e1-d62d450fa883"
      },
      "source": [
        "print(diabetes.data)"
      ],
      "execution_count": null,
      "outputs": [
        {
          "output_type": "stream",
          "text": [
            "[[ 0.03807591  0.05068012  0.06169621 ... -0.00259226  0.01990842\n",
            "  -0.01764613]\n",
            " [-0.00188202 -0.04464164 -0.05147406 ... -0.03949338 -0.06832974\n",
            "  -0.09220405]\n",
            " [ 0.08529891  0.05068012  0.04445121 ... -0.00259226  0.00286377\n",
            "  -0.02593034]\n",
            " ...\n",
            " [ 0.04170844  0.05068012 -0.01590626 ... -0.01107952 -0.04687948\n",
            "   0.01549073]\n",
            " [-0.04547248 -0.04464164  0.03906215 ...  0.02655962  0.04452837\n",
            "  -0.02593034]\n",
            " [-0.04547248 -0.04464164 -0.0730303  ... -0.03949338 -0.00421986\n",
            "   0.00306441]]\n"
          ],
          "name": "stdout"
        }
      ]
    },
    {
      "cell_type": "code",
      "metadata": {
        "colab": {
          "base_uri": "https://localhost:8080/"
        },
        "id": "ShoWyo160MOK",
        "outputId": "da08ea78-c286-4ef3-e0bc-353cb22fdbda"
      },
      "source": [
        "print(diabetes.target)"
      ],
      "execution_count": null,
      "outputs": [
        {
          "output_type": "stream",
          "text": [
            "[151.  75. 141. 206. 135.  97. 138.  63. 110. 310. 101.  69. 179. 185.\n",
            " 118. 171. 166. 144.  97. 168.  68.  49.  68. 245. 184. 202. 137.  85.\n",
            " 131. 283. 129.  59. 341.  87.  65. 102. 265. 276. 252.  90. 100.  55.\n",
            "  61.  92. 259.  53. 190. 142.  75. 142. 155. 225.  59. 104. 182. 128.\n",
            "  52.  37. 170. 170.  61. 144.  52. 128.  71. 163. 150.  97. 160. 178.\n",
            "  48. 270. 202. 111.  85.  42. 170. 200. 252. 113. 143.  51.  52. 210.\n",
            "  65. 141.  55. 134.  42. 111.  98. 164.  48.  96.  90. 162. 150. 279.\n",
            "  92.  83. 128. 102. 302. 198.  95.  53. 134. 144. 232.  81. 104.  59.\n",
            " 246. 297. 258. 229. 275. 281. 179. 200. 200. 173. 180.  84. 121. 161.\n",
            "  99. 109. 115. 268. 274. 158. 107.  83. 103. 272.  85. 280. 336. 281.\n",
            " 118. 317. 235.  60. 174. 259. 178. 128.  96. 126. 288.  88. 292.  71.\n",
            " 197. 186.  25.  84.  96. 195.  53. 217. 172. 131. 214.  59.  70. 220.\n",
            " 268. 152.  47.  74. 295. 101. 151. 127. 237. 225.  81. 151. 107.  64.\n",
            " 138. 185. 265. 101. 137. 143. 141.  79. 292. 178.  91. 116.  86. 122.\n",
            "  72. 129. 142.  90. 158.  39. 196. 222. 277.  99. 196. 202. 155.  77.\n",
            " 191.  70.  73.  49.  65. 263. 248. 296. 214. 185.  78.  93. 252. 150.\n",
            "  77. 208.  77. 108. 160.  53. 220. 154. 259.  90. 246. 124.  67.  72.\n",
            " 257. 262. 275. 177.  71.  47. 187. 125.  78.  51. 258. 215. 303. 243.\n",
            "  91. 150. 310. 153. 346.  63.  89.  50.  39. 103. 308. 116. 145.  74.\n",
            "  45. 115. 264.  87. 202. 127. 182. 241.  66.  94. 283.  64. 102. 200.\n",
            " 265.  94. 230. 181. 156. 233.  60. 219.  80.  68. 332. 248.  84. 200.\n",
            "  55.  85.  89.  31. 129.  83. 275.  65. 198. 236. 253. 124.  44. 172.\n",
            " 114. 142. 109. 180. 144. 163. 147.  97. 220. 190. 109. 191. 122. 230.\n",
            " 242. 248. 249. 192. 131. 237.  78. 135. 244. 199. 270. 164.  72.  96.\n",
            " 306.  91. 214.  95. 216. 263. 178. 113. 200. 139. 139.  88. 148.  88.\n",
            " 243.  71.  77. 109. 272.  60.  54. 221.  90. 311. 281. 182. 321.  58.\n",
            " 262. 206. 233. 242. 123. 167.  63. 197.  71. 168. 140. 217. 121. 235.\n",
            " 245.  40.  52. 104. 132.  88.  69. 219.  72. 201. 110.  51. 277.  63.\n",
            " 118.  69. 273. 258.  43. 198. 242. 232. 175.  93. 168. 275. 293. 281.\n",
            "  72. 140. 189. 181. 209. 136. 261. 113. 131. 174. 257.  55.  84.  42.\n",
            " 146. 212. 233.  91. 111. 152. 120.  67. 310.  94. 183.  66. 173.  72.\n",
            "  49.  64.  48. 178. 104. 132. 220.  57.]\n"
          ],
          "name": "stdout"
        }
      ]
    },
    {
      "cell_type": "code",
      "metadata": {
        "colab": {
          "base_uri": "https://localhost:8080/"
        },
        "id": "XqjBR1DX0OoY",
        "outputId": "77ea4f12-7a15-4474-f363-b7f4ef26e08e"
      },
      "source": [
        "print(diabetes.DESCR)"
      ],
      "execution_count": null,
      "outputs": [
        {
          "output_type": "stream",
          "text": [
            ".. _diabetes_dataset:\n",
            "\n",
            "Diabetes dataset\n",
            "----------------\n",
            "\n",
            "Ten baseline variables, age, sex, body mass index, average blood\n",
            "pressure, and six blood serum measurements were obtained for each of n =\n",
            "442 diabetes patients, as well as the response of interest, a\n",
            "quantitative measure of disease progression one year after baseline.\n",
            "\n",
            "**Data Set Characteristics:**\n",
            "\n",
            "  :Number of Instances: 442\n",
            "\n",
            "  :Number of Attributes: First 10 columns are numeric predictive values\n",
            "\n",
            "  :Target: Column 11 is a quantitative measure of disease progression one year after baseline\n",
            "\n",
            "  :Attribute Information:\n",
            "      - Age\n",
            "      - Sex\n",
            "      - Body mass index\n",
            "      - Average blood pressure\n",
            "      - S1\n",
            "      - S2\n",
            "      - S3\n",
            "      - S4\n",
            "      - S5\n",
            "      - S6\n",
            "\n",
            "Note: Each of these 10 feature variables have been mean centered and scaled by the standard deviation times `n_samples` (i.e. the sum of squares of each column totals 1).\n",
            "\n",
            "Source URL:\n",
            "https://www4.stat.ncsu.edu/~boos/var.select/diabetes.html\n",
            "\n",
            "For more information see:\n",
            "Bradley Efron, Trevor Hastie, Iain Johnstone and Robert Tibshirani (2004) \"Least Angle Regression,\" Annals of Statistics (with discussion), 407-499.\n",
            "(https://web.stanford.edu/~hastie/Papers/LARS/LeastAngle_2002.pdf)\n"
          ],
          "name": "stdout"
        }
      ]
    },
    {
      "cell_type": "code",
      "metadata": {
        "colab": {
          "base_uri": "https://localhost:8080/"
        },
        "id": "BZry0kjw01tJ",
        "outputId": "aaa70a4d-f576-443d-cfa0-13c1539f6560"
      },
      "source": [
        "print(diabetes.feature_names)"
      ],
      "execution_count": null,
      "outputs": [
        {
          "output_type": "stream",
          "text": [
            "['age', 'sex', 'bmi', 'bp', 's1', 's2', 's3', 's4', 's5', 's6']\n"
          ],
          "name": "stdout"
        }
      ]
    },
    {
      "cell_type": "code",
      "metadata": {
        "colab": {
          "base_uri": "https://localhost:8080/"
        },
        "id": "mmsOn6qi04z7",
        "outputId": "de62b0ef-93df-4ca0-d1e4-8ac6e949a356"
      },
      "source": [
        "print(diabetes.data_filename)\n",
        "print(diabetes.target_filename)"
      ],
      "execution_count": null,
      "outputs": [
        {
          "output_type": "stream",
          "text": [
            "/usr/local/lib/python3.7/dist-packages/sklearn/datasets/data/diabetes_data.csv.gz\n",
            "/usr/local/lib/python3.7/dist-packages/sklearn/datasets/data/diabetes_target.csv.gz\n"
          ],
          "name": "stdout"
        }
      ]
    },
    {
      "cell_type": "code",
      "metadata": {
        "colab": {
          "base_uri": "https://localhost:8080/"
        },
        "id": "MpNdrbUd1CMg",
        "outputId": "9c1de4a7-5cc2-4fb7-82c5-fa1a78547a9a"
      },
      "source": [
        "#학습용/테스트 데이터 세트 분리\n",
        "from sklearn.linear_model import LinearRegression\n",
        "from sklearn.model_selection import train_test_split\n",
        "from sklearn.datasets import load_diabetes\n",
        "\n",
        "diabetes = load_diabetes()\n",
        "X_train, X_test, y_train, y_test = train_test_split(diabetes.data, diabetes.target, test_size=0.3)\n",
        "model = LinearRegression()\n",
        "model.fit(X_train, y_train)\n",
        "\n",
        "print(\"학습 데이터 점수: {}\".format(model.score(X_train, y_train)))\n",
        "print(\"평가 데이터 점수: {}\".format(model.score(X_test, y_test)))"
      ],
      "execution_count": null,
      "outputs": [
        {
          "output_type": "stream",
          "text": [
            "학습 데이터 점수: 0.52492800496302\n",
            "평가 데이터 점수: 0.4907723315349651\n"
          ],
          "name": "stdout"
        }
      ]
    },
    {
      "cell_type": "code",
      "metadata": {
        "colab": {
          "base_uri": "https://localhost:8080/",
          "height": 297
        },
        "id": "IG_C0UrrjoqZ",
        "outputId": "3ba69a73-5d0a-4384-d5aa-9972bb82af38"
      },
      "source": [
        "import matplotlib.pyplot as plt\n",
        "\n",
        "predicted = model.predict(X_test)\n",
        "expected = y_test\n",
        "plt.figure(figsize=(8,4))\n",
        "plt.scatter(expected, predicted)\n",
        "plt.plot([30,350],[30,350], '--r')\n",
        "plt.tight_layout()"
      ],
      "execution_count": null,
      "outputs": [
        {
          "output_type": "display_data",
          "data": {
            "image/png": "[encoded data removed]",
            "text/plain": [
              "<Figure size 576x288 with 1 Axes>"
            ]
          },
          "metadata": {
            "tags": [],
            "needs_background": "light"
          }
        }
      ]
    },
    {
      "cell_type": "code",
      "metadata": {
        "colab": {
          "base_uri": "https://localhost:8080/"
        },
        "id": "1d30BSYzkxiw",
        "outputId": "ff7e112a-c68a-416f-fba0-2574564baabd"
      },
      "source": [
        "from sklearn.model_selection import cross_val_score, cross_validate\n",
        "\n",
        "scores = cross_val_score(model, diabetes.data, diabetes.target, cv=5)\n",
        "print(\"교차 검증 정확도 {}\".format(scores))\n",
        "print(\"교차 검증 정확도 {} +/- {}\".format(np.mean(scores), np.std(scores)))\n"
      ],
      "execution_count": null,
      "outputs": [
        {
          "output_type": "stream",
          "text": [
            "교차 검증 정확도 [0.42955643 0.52259828 0.4826784  0.42650827 0.55024923]\n",
            "교차 검증 정확도 0.48231812211149394 +/- 0.049266197765632194\n"
          ],
          "name": "stdout"
        }
      ]
    },
    {
      "cell_type": "code",
      "metadata": {
        "colab": {
          "base_uri": "https://localhost:8080/",
          "height": 473
        },
        "id": "jLKUORgElf0B",
        "outputId": "08fa7784-72c0-4f77-bae1-d0f5264f4f86"
      },
      "source": [
        "from sklearn.model_selection import GridSearchCV\n",
        "from sklearn.linear_model import Ridge\n",
        "import pandas as pd\n",
        "\n",
        "alpha = [0.001, 0.01, 0.1, 1, 10, 100, 1000]\n",
        "param_grid = dict(alpha=alpha)\n",
        "\n",
        "gs = GridSearchCV(estimator=Ridge(), param_grid=param_grid, cv=10)\n",
        "result = gs.fit(diabetes.data, diabetes.target)\n",
        "\n",
        "print(\"최적 점수: {}\".format(result.best_score_))\n",
        "print(\"최적 파라미터: {}\".format(result.best_params_))\n",
        "print(gs.best_estimator_)\n",
        "pd.DataFrame(result.cv_results_)"
      ],
      "execution_count": null,
      "outputs": [
        {
          "output_type": "stream",
          "text": [
            "최적 점수: 0.4633240541517593\n",
            "최적 파라미터: {'alpha': 0.1}\n",
            "Ridge(alpha=0.1, copy_X=True, fit_intercept=True, max_iter=None,\n",
            "      normalize=False, random_state=None, solver='auto', tol=0.001)\n"
          ],
          "name": "stdout"
        },
        {
          "output_type": "execute_result",
          "data": {
            "text/html": [
              "<div>\n",
              "<style scoped>\n",
              "    .dataframe tbody tr th:only-of-type {\n",
              "        vertical-align: middle;\n",
              "    }\n",
              "\n",
              "    .dataframe tbody tr th {\n",
              "        vertical-align: top;\n",
              "    }\n",
              "\n",
              "    .dataframe thead th {\n",
              "        text-align: right;\n",
              "    }\n",
              "</style>\n",
              "<table border=\"1\" class=\"dataframe\">\n",
              "  <thead>\n",
              "    <tr style=\"text-align: right;\">\n",
              "      <th></th>\n",
              "      <th>mean_fit_time</th>\n",
              "      <th>std_fit_time</th>\n",
              "      <th>mean_score_time</th>\n",
              "      <th>std_score_time</th>\n",
              "      <th>param_alpha</th>\n",
              "      <th>params</th>\n",
              "      <th>split0_test_score</th>\n",
              "      <th>split1_test_score</th>\n",
              "      <th>split2_test_score</th>\n",
              "      <th>split3_test_score</th>\n",
              "      <th>split4_test_score</th>\n",
              "      <th>split5_test_score</th>\n",
              "      <th>split6_test_score</th>\n",
              "      <th>split7_test_score</th>\n",
              "      <th>split8_test_score</th>\n",
              "      <th>split9_test_score</th>\n",
              "      <th>mean_test_score</th>\n",
              "      <th>std_test_score</th>\n",
              "      <th>rank_test_score</th>\n",
              "    </tr>\n",
              "  </thead>\n",
              "  <tbody>\n",
              "    <tr>\n",
              "      <th>0</th>\n",
              "      <td>0.000985</td>\n",
              "      <td>0.000535</td>\n",
              "      <td>0.001279</td>\n",
              "      <td>0.001655</td>\n",
              "      <td>0.001</td>\n",
              "      <td>{'alpha': 0.001}</td>\n",
              "      <td>0.554415</td>\n",
              "      <td>0.233686</td>\n",
              "      <td>0.356799</td>\n",
              "      <td>0.620259</td>\n",
              "      <td>0.267033</td>\n",
              "      <td>0.619397</td>\n",
              "      <td>0.419907</td>\n",
              "      <td>0.433019</td>\n",
              "      <td>0.433431</td>\n",
              "      <td>0.684984</td>\n",
              "      <td>0.462293</td>\n",
              "      <td>0.145848</td>\n",
              "      <td>3</td>\n",
              "    </tr>\n",
              "    <tr>\n",
              "      <th>1</th>\n",
              "      <td>0.000737</td>\n",
              "      <td>0.000012</td>\n",
              "      <td>0.000716</td>\n",
              "      <td>0.000007</td>\n",
              "      <td>0.01</td>\n",
              "      <td>{'alpha': 0.01}</td>\n",
              "      <td>0.546297</td>\n",
              "      <td>0.244132</td>\n",
              "      <td>0.368901</td>\n",
              "      <td>0.613732</td>\n",
              "      <td>0.271717</td>\n",
              "      <td>0.623089</td>\n",
              "      <td>0.426074</td>\n",
              "      <td>0.424759</td>\n",
              "      <td>0.429484</td>\n",
              "      <td>0.680912</td>\n",
              "      <td>0.462910</td>\n",
              "      <td>0.141446</td>\n",
              "      <td>2</td>\n",
              "    </tr>\n",
              "    <tr>\n",
              "      <th>2</th>\n",
              "      <td>0.000747</td>\n",
              "      <td>0.000023</td>\n",
              "      <td>0.000712</td>\n",
              "      <td>0.000018</td>\n",
              "      <td>0.1</td>\n",
              "      <td>{'alpha': 0.1}</td>\n",
              "      <td>0.526550</td>\n",
              "      <td>0.244987</td>\n",
              "      <td>0.383530</td>\n",
              "      <td>0.606594</td>\n",
              "      <td>0.286094</td>\n",
              "      <td>0.618033</td>\n",
              "      <td>0.431230</td>\n",
              "      <td>0.441788</td>\n",
              "      <td>0.431968</td>\n",
              "      <td>0.662466</td>\n",
              "      <td>0.463324</td>\n",
              "      <td>0.132681</td>\n",
              "      <td>1</td>\n",
              "    </tr>\n",
              "    <tr>\n",
              "      <th>3</th>\n",
              "      <td>0.000744</td>\n",
              "      <td>0.000015</td>\n",
              "      <td>0.000722</td>\n",
              "      <td>0.000010</td>\n",
              "      <td>1</td>\n",
              "      <td>{'alpha': 1}</td>\n",
              "      <td>0.421593</td>\n",
              "      <td>0.168442</td>\n",
              "      <td>0.358004</td>\n",
              "      <td>0.512608</td>\n",
              "      <td>0.284928</td>\n",
              "      <td>0.514264</td>\n",
              "      <td>0.388246</td>\n",
              "      <td>0.484448</td>\n",
              "      <td>0.396502</td>\n",
              "      <td>0.525132</td>\n",
              "      <td>0.405417</td>\n",
              "      <td>0.108385</td>\n",
              "      <td>4</td>\n",
              "    </tr>\n",
              "    <tr>\n",
              "      <th>4</th>\n",
              "      <td>0.000736</td>\n",
              "      <td>0.000010</td>\n",
              "      <td>0.000712</td>\n",
              "      <td>0.000010</td>\n",
              "      <td>10</td>\n",
              "      <td>{'alpha': 10}</td>\n",
              "      <td>0.159386</td>\n",
              "      <td>-0.081177</td>\n",
              "      <td>0.152190</td>\n",
              "      <td>0.165690</td>\n",
              "      <td>0.119349</td>\n",
              "      <td>0.186933</td>\n",
              "      <td>0.158147</td>\n",
              "      <td>0.203748</td>\n",
              "      <td>0.153627</td>\n",
              "      <td>0.189440</td>\n",
              "      <td>0.140733</td>\n",
              "      <td>0.077298</td>\n",
              "      <td>5</td>\n",
              "    </tr>\n",
              "    <tr>\n",
              "      <th>5</th>\n",
              "      <td>0.000858</td>\n",
              "      <td>0.000354</td>\n",
              "      <td>0.000725</td>\n",
              "      <td>0.000029</td>\n",
              "      <td>100</td>\n",
              "      <td>{'alpha': 100}</td>\n",
              "      <td>0.012468</td>\n",
              "      <td>-0.234480</td>\n",
              "      <td>0.013522</td>\n",
              "      <td>-0.012820</td>\n",
              "      <td>0.004838</td>\n",
              "      <td>0.022647</td>\n",
              "      <td>0.022028</td>\n",
              "      <td>-0.009908</td>\n",
              "      <td>0.015589</td>\n",
              "      <td>0.026427</td>\n",
              "      <td>-0.013969</td>\n",
              "      <td>0.074561</td>\n",
              "      <td>6</td>\n",
              "    </tr>\n",
              "    <tr>\n",
              "      <th>6</th>\n",
              "      <td>0.000746</td>\n",
              "      <td>0.000019</td>\n",
              "      <td>0.000712</td>\n",
              "      <td>0.000012</td>\n",
              "      <td>1000</td>\n",
              "      <td>{'alpha': 1000}</td>\n",
              "      <td>-0.009602</td>\n",
              "      <td>-0.258118</td>\n",
              "      <td>-0.007849</td>\n",
              "      <td>-0.038479</td>\n",
              "      <td>-0.012933</td>\n",
              "      <td>-0.000932</td>\n",
              "      <td>0.001768</td>\n",
              "      <td>-0.042679</td>\n",
              "      <td>-0.004652</td>\n",
              "      <td>0.002744</td>\n",
              "      <td>-0.037073</td>\n",
              "      <td>0.075191</td>\n",
              "      <td>7</td>\n",
              "    </tr>\n",
              "  </tbody>\n",
              "</table>\n",
              "</div>"
            ],
            "text/plain": [
              "   mean_fit_time  std_fit_time  ...  std_test_score  rank_test_score\n",
              "0       0.000985      0.000535  ...        0.145848                3\n",
              "1       0.000737      0.000012  ...        0.141446                2\n",
              "2       0.000747      0.000023  ...        0.132681                1\n",
              "3       0.000744      0.000015  ...        0.108385                4\n",
              "4       0.000736      0.000010  ...        0.077298                5\n",
              "5       0.000858      0.000354  ...        0.074561                6\n",
              "6       0.000746      0.000019  ...        0.075191                7\n",
              "\n",
              "[7 rows x 19 columns]"
            ]
          },
          "metadata": {
            "tags": []
          },
          "execution_count": 14
        }
      ]
    },
    {
      "cell_type": "code",
      "metadata": {
        "colab": {
          "base_uri": "https://localhost:8080/",
          "height": 977
        },
        "id": "qyTdKm3Hm6M0",
        "outputId": "e698d01d-0686-47f2-9034-4c59f5ee754c"
      },
      "source": [
        "import multiprocessing\n",
        "from sklearn.datasets import load_iris\n",
        "from sklearn.linear_model import LogisticRegression\n",
        "\n",
        "iris = load_iris()\n",
        "\n",
        "param_grid = [\n",
        "              {\n",
        "                  'penalty': ['l1','l2'],\n",
        "                  'C': [1.5,2.0,2.5,3.0,3.5]\n",
        "              }\n",
        "]\n",
        "\n",
        "gs = GridSearchCV(estimator=LogisticRegression(), param_grid=param_grid,\n",
        "                  scoring='accuracy',\n",
        "                  cv=10,\n",
        "                  n_jobs=multiprocessing.cpu_count())\n",
        "result = gs.fit(iris.data, iris.target)\n",
        "\n",
        "\n",
        "print(\"최적 점수: {}\".format(result.best_score_))\n",
        "print(\"최적 파라미터: {}\".format(result.best_params_))\n",
        "print(gs.best_estimator_)\n",
        "pd.DataFrame(result.cv_results_)\n"
      ],
      "execution_count": null,
      "outputs": [
        {
          "output_type": "stream",
          "text": [
            "최적 점수: 0.9800000000000001\n",
            "최적 파라미터: {'C': 2.5, 'penalty': 'l2'}\n",
            "LogisticRegression(C=2.5, class_weight=None, dual=False, fit_intercept=True,\n",
            "                   intercept_scaling=1, l1_ratio=None, max_iter=100,\n",
            "                   multi_class='auto', n_jobs=None, penalty='l2',\n",
            "                   random_state=None, solver='lbfgs', tol=0.0001, verbose=0,\n",
            "                   warm_start=False)\n"
          ],
          "name": "stdout"
        },
        {
          "output_type": "stream",
          "text": [
            "/usr/local/lib/python3.7/dist-packages/sklearn/linear_model/_logistic.py:940: ConvergenceWarning: lbfgs failed to converge (status=1):\n",
            "STOP: TOTAL NO. of ITERATIONS REACHED LIMIT.\n",
            "\n",
            "Increase the number of iterations (max_iter) or scale the data as shown in:\n",
            "    https://scikit-learn.org/stable/modules/preprocessing.html\n",
            "Please also refer to the documentation for alternative solver options:\n",
            "    https://scikit-learn.org/stable/modules/linear_model.html#logistic-regression\n",
            "  extra_warning_msg=_LOGISTIC_SOLVER_CONVERGENCE_MSG)\n"
          ],
          "name": "stderr"
        },
        {
          "output_type": "execute_result",
          "data": {
            "text/html": [
              "<div>\n",
              "<style scoped>\n",
              "    .dataframe tbody tr th:only-of-type {\n",
              "        vertical-align: middle;\n",
              "    }\n",
              "\n",
              "    .dataframe tbody tr th {\n",
              "        vertical-align: top;\n",
              "    }\n",
              "\n",
              "    .dataframe thead th {\n",
              "        text-align: right;\n",
              "    }\n",
              "</style>\n",
              "<table border=\"1\" class=\"dataframe\">\n",
              "  <thead>\n",
              "    <tr style=\"text-align: right;\">\n",
              "      <th></th>\n",
              "      <th>mean_fit_time</th>\n",
              "      <th>std_fit_time</th>\n",
              "      <th>mean_score_time</th>\n",
              "      <th>std_score_time</th>\n",
              "      <th>param_C</th>\n",
              "      <th>param_penalty</th>\n",
              "      <th>params</th>\n",
              "      <th>split0_test_score</th>\n",
              "      <th>split1_test_score</th>\n",
              "      <th>split2_test_score</th>\n",
              "      <th>split3_test_score</th>\n",
              "      <th>split4_test_score</th>\n",
              "      <th>split5_test_score</th>\n",
              "      <th>split6_test_score</th>\n",
              "      <th>split7_test_score</th>\n",
              "      <th>split8_test_score</th>\n",
              "      <th>split9_test_score</th>\n",
              "      <th>mean_test_score</th>\n",
              "      <th>std_test_score</th>\n",
              "      <th>rank_test_score</th>\n",
              "    </tr>\n",
              "  </thead>\n",
              "  <tbody>\n",
              "    <tr>\n",
              "      <th>0</th>\n",
              "      <td>0.000069</td>\n",
              "      <td>0.000021</td>\n",
              "      <td>0.000000</td>\n",
              "      <td>0.000000</td>\n",
              "      <td>1.5</td>\n",
              "      <td>l1</td>\n",
              "      <td>{'C': 1.5, 'penalty': 'l1'}</td>\n",
              "      <td>NaN</td>\n",
              "      <td>NaN</td>\n",
              "      <td>NaN</td>\n",
              "      <td>NaN</td>\n",
              "      <td>NaN</td>\n",
              "      <td>NaN</td>\n",
              "      <td>NaN</td>\n",
              "      <td>NaN</td>\n",
              "      <td>NaN</td>\n",
              "      <td>NaN</td>\n",
              "      <td>NaN</td>\n",
              "      <td>NaN</td>\n",
              "      <td>6</td>\n",
              "    </tr>\n",
              "    <tr>\n",
              "      <th>1</th>\n",
              "      <td>0.049809</td>\n",
              "      <td>0.003600</td>\n",
              "      <td>0.000520</td>\n",
              "      <td>0.000016</td>\n",
              "      <td>1.5</td>\n",
              "      <td>l2</td>\n",
              "      <td>{'C': 1.5, 'penalty': 'l2'}</td>\n",
              "      <td>1.0</td>\n",
              "      <td>0.933333</td>\n",
              "      <td>1.0</td>\n",
              "      <td>1.0</td>\n",
              "      <td>0.933333</td>\n",
              "      <td>0.933333</td>\n",
              "      <td>0.933333</td>\n",
              "      <td>1.0</td>\n",
              "      <td>1.0</td>\n",
              "      <td>1.0</td>\n",
              "      <td>0.973333</td>\n",
              "      <td>0.032660</td>\n",
              "      <td>4</td>\n",
              "    </tr>\n",
              "    <tr>\n",
              "      <th>2</th>\n",
              "      <td>0.000071</td>\n",
              "      <td>0.000009</td>\n",
              "      <td>0.000000</td>\n",
              "      <td>0.000000</td>\n",
              "      <td>2</td>\n",
              "      <td>l1</td>\n",
              "      <td>{'C': 2.0, 'penalty': 'l1'}</td>\n",
              "      <td>NaN</td>\n",
              "      <td>NaN</td>\n",
              "      <td>NaN</td>\n",
              "      <td>NaN</td>\n",
              "      <td>NaN</td>\n",
              "      <td>NaN</td>\n",
              "      <td>NaN</td>\n",
              "      <td>NaN</td>\n",
              "      <td>NaN</td>\n",
              "      <td>NaN</td>\n",
              "      <td>NaN</td>\n",
              "      <td>NaN</td>\n",
              "      <td>7</td>\n",
              "    </tr>\n",
              "    <tr>\n",
              "      <th>3</th>\n",
              "      <td>0.055139</td>\n",
              "      <td>0.007137</td>\n",
              "      <td>0.000543</td>\n",
              "      <td>0.000027</td>\n",
              "      <td>2</td>\n",
              "      <td>l2</td>\n",
              "      <td>{'C': 2.0, 'penalty': 'l2'}</td>\n",
              "      <td>1.0</td>\n",
              "      <td>0.933333</td>\n",
              "      <td>1.0</td>\n",
              "      <td>1.0</td>\n",
              "      <td>0.933333</td>\n",
              "      <td>0.933333</td>\n",
              "      <td>0.933333</td>\n",
              "      <td>1.0</td>\n",
              "      <td>1.0</td>\n",
              "      <td>1.0</td>\n",
              "      <td>0.973333</td>\n",
              "      <td>0.032660</td>\n",
              "      <td>4</td>\n",
              "    </tr>\n",
              "    <tr>\n",
              "      <th>4</th>\n",
              "      <td>0.000063</td>\n",
              "      <td>0.000014</td>\n",
              "      <td>0.000000</td>\n",
              "      <td>0.000000</td>\n",
              "      <td>2.5</td>\n",
              "      <td>l1</td>\n",
              "      <td>{'C': 2.5, 'penalty': 'l1'}</td>\n",
              "      <td>NaN</td>\n",
              "      <td>NaN</td>\n",
              "      <td>NaN</td>\n",
              "      <td>NaN</td>\n",
              "      <td>NaN</td>\n",
              "      <td>NaN</td>\n",
              "      <td>NaN</td>\n",
              "      <td>NaN</td>\n",
              "      <td>NaN</td>\n",
              "      <td>NaN</td>\n",
              "      <td>NaN</td>\n",
              "      <td>NaN</td>\n",
              "      <td>8</td>\n",
              "    </tr>\n",
              "    <tr>\n",
              "      <th>5</th>\n",
              "      <td>0.050491</td>\n",
              "      <td>0.005055</td>\n",
              "      <td>0.000524</td>\n",
              "      <td>0.000034</td>\n",
              "      <td>2.5</td>\n",
              "      <td>l2</td>\n",
              "      <td>{'C': 2.5, 'penalty': 'l2'}</td>\n",
              "      <td>1.0</td>\n",
              "      <td>0.933333</td>\n",
              "      <td>1.0</td>\n",
              "      <td>1.0</td>\n",
              "      <td>0.933333</td>\n",
              "      <td>1.000000</td>\n",
              "      <td>0.933333</td>\n",
              "      <td>1.0</td>\n",
              "      <td>1.0</td>\n",
              "      <td>1.0</td>\n",
              "      <td>0.980000</td>\n",
              "      <td>0.030551</td>\n",
              "      <td>1</td>\n",
              "    </tr>\n",
              "    <tr>\n",
              "      <th>6</th>\n",
              "      <td>0.000658</td>\n",
              "      <td>0.001748</td>\n",
              "      <td>0.000000</td>\n",
              "      <td>0.000000</td>\n",
              "      <td>3</td>\n",
              "      <td>l1</td>\n",
              "      <td>{'C': 3.0, 'penalty': 'l1'}</td>\n",
              "      <td>NaN</td>\n",
              "      <td>NaN</td>\n",
              "      <td>NaN</td>\n",
              "      <td>NaN</td>\n",
              "      <td>NaN</td>\n",
              "      <td>NaN</td>\n",
              "      <td>NaN</td>\n",
              "      <td>NaN</td>\n",
              "      <td>NaN</td>\n",
              "      <td>NaN</td>\n",
              "      <td>NaN</td>\n",
              "      <td>NaN</td>\n",
              "      <td>9</td>\n",
              "    </tr>\n",
              "    <tr>\n",
              "      <th>7</th>\n",
              "      <td>0.051031</td>\n",
              "      <td>0.004731</td>\n",
              "      <td>0.000524</td>\n",
              "      <td>0.000015</td>\n",
              "      <td>3</td>\n",
              "      <td>l2</td>\n",
              "      <td>{'C': 3.0, 'penalty': 'l2'}</td>\n",
              "      <td>1.0</td>\n",
              "      <td>0.933333</td>\n",
              "      <td>1.0</td>\n",
              "      <td>1.0</td>\n",
              "      <td>0.933333</td>\n",
              "      <td>1.000000</td>\n",
              "      <td>0.933333</td>\n",
              "      <td>1.0</td>\n",
              "      <td>1.0</td>\n",
              "      <td>1.0</td>\n",
              "      <td>0.980000</td>\n",
              "      <td>0.030551</td>\n",
              "      <td>1</td>\n",
              "    </tr>\n",
              "    <tr>\n",
              "      <th>8</th>\n",
              "      <td>0.000063</td>\n",
              "      <td>0.000010</td>\n",
              "      <td>0.000000</td>\n",
              "      <td>0.000000</td>\n",
              "      <td>3.5</td>\n",
              "      <td>l1</td>\n",
              "      <td>{'C': 3.5, 'penalty': 'l1'}</td>\n",
              "      <td>NaN</td>\n",
              "      <td>NaN</td>\n",
              "      <td>NaN</td>\n",
              "      <td>NaN</td>\n",
              "      <td>NaN</td>\n",
              "      <td>NaN</td>\n",
              "      <td>NaN</td>\n",
              "      <td>NaN</td>\n",
              "      <td>NaN</td>\n",
              "      <td>NaN</td>\n",
              "      <td>NaN</td>\n",
              "      <td>NaN</td>\n",
              "      <td>10</td>\n",
              "    </tr>\n",
              "    <tr>\n",
              "      <th>9</th>\n",
              "      <td>0.050334</td>\n",
              "      <td>0.002774</td>\n",
              "      <td>0.000543</td>\n",
              "      <td>0.000038</td>\n",
              "      <td>3.5</td>\n",
              "      <td>l2</td>\n",
              "      <td>{'C': 3.5, 'penalty': 'l2'}</td>\n",
              "      <td>1.0</td>\n",
              "      <td>0.933333</td>\n",
              "      <td>1.0</td>\n",
              "      <td>1.0</td>\n",
              "      <td>0.933333</td>\n",
              "      <td>1.000000</td>\n",
              "      <td>0.933333</td>\n",
              "      <td>1.0</td>\n",
              "      <td>1.0</td>\n",
              "      <td>1.0</td>\n",
              "      <td>0.980000</td>\n",
              "      <td>0.030551</td>\n",
              "      <td>1</td>\n",
              "    </tr>\n",
              "  </tbody>\n",
              "</table>\n",
              "</div>"
            ],
            "text/plain": [
              "   mean_fit_time  std_fit_time  ...  std_test_score  rank_test_score\n",
              "0       0.000069      0.000021  ...             NaN                6\n",
              "1       0.049809      0.003600  ...        0.032660                4\n",
              "2       0.000071      0.000009  ...             NaN                7\n",
              "3       0.055139      0.007137  ...        0.032660                4\n",
              "4       0.000063      0.000014  ...             NaN                8\n",
              "5       0.050491      0.005055  ...        0.030551                1\n",
              "6       0.000658      0.001748  ...             NaN                9\n",
              "7       0.051031      0.004731  ...        0.030551                1\n",
              "8       0.000063      0.000010  ...             NaN               10\n",
              "9       0.050334      0.002774  ...        0.030551                1\n",
              "\n",
              "[10 rows x 20 columns]"
            ]
          },
          "metadata": {
            "tags": []
          },
          "execution_count": 17
        }
      ]
    },
    {
      "cell_type": "code",
      "metadata": {
        "colab": {
          "base_uri": "https://localhost:8080/",
          "height": 295
        },
        "id": "h70NrGWzEXcx",
        "outputId": "fd3e0280-6342-4e44-e205-15c4949d70cb"
      },
      "source": [
        "iris = load_iris()\n",
        "iris_df = pd.DataFrame(data=iris.data, columns=iris.feature_names)\n",
        "iris_df.describe()"
      ],
      "execution_count": null,
      "outputs": [
        {
          "output_type": "execute_result",
          "data": {
            "text/html": [
              "<div>\n",
              "<style scoped>\n",
              "    .dataframe tbody tr th:only-of-type {\n",
              "        vertical-align: middle;\n",
              "    }\n",
              "\n",
              "    .dataframe tbody tr th {\n",
              "        vertical-align: top;\n",
              "    }\n",
              "\n",
              "    .dataframe thead th {\n",
              "        text-align: right;\n",
              "    }\n",
              "</style>\n",
              "<table border=\"1\" class=\"dataframe\">\n",
              "  <thead>\n",
              "    <tr style=\"text-align: right;\">\n",
              "      <th></th>\n",
              "      <th>sepal length (cm)</th>\n",
              "      <th>sepal width (cm)</th>\n",
              "      <th>petal length (cm)</th>\n",
              "      <th>petal width (cm)</th>\n",
              "    </tr>\n",
              "  </thead>\n",
              "  <tbody>\n",
              "    <tr>\n",
              "      <th>count</th>\n",
              "      <td>150.000000</td>\n",
              "      <td>150.000000</td>\n",
              "      <td>150.000000</td>\n",
              "      <td>150.000000</td>\n",
              "    </tr>\n",
              "    <tr>\n",
              "      <th>mean</th>\n",
              "      <td>5.843333</td>\n",
              "      <td>3.057333</td>\n",
              "      <td>3.758000</td>\n",
              "      <td>1.199333</td>\n",
              "    </tr>\n",
              "    <tr>\n",
              "      <th>std</th>\n",
              "      <td>0.828066</td>\n",
              "      <td>0.435866</td>\n",
              "      <td>1.765298</td>\n",
              "      <td>0.762238</td>\n",
              "    </tr>\n",
              "    <tr>\n",
              "      <th>min</th>\n",
              "      <td>4.300000</td>\n",
              "      <td>2.000000</td>\n",
              "      <td>1.000000</td>\n",
              "      <td>0.100000</td>\n",
              "    </tr>\n",
              "    <tr>\n",
              "      <th>25%</th>\n",
              "      <td>5.100000</td>\n",
              "      <td>2.800000</td>\n",
              "      <td>1.600000</td>\n",
              "      <td>0.300000</td>\n",
              "    </tr>\n",
              "    <tr>\n",
              "      <th>50%</th>\n",
              "      <td>5.800000</td>\n",
              "      <td>3.000000</td>\n",
              "      <td>4.350000</td>\n",
              "      <td>1.300000</td>\n",
              "    </tr>\n",
              "    <tr>\n",
              "      <th>75%</th>\n",
              "      <td>6.400000</td>\n",
              "      <td>3.300000</td>\n",
              "      <td>5.100000</td>\n",
              "      <td>1.800000</td>\n",
              "    </tr>\n",
              "    <tr>\n",
              "      <th>max</th>\n",
              "      <td>7.900000</td>\n",
              "      <td>4.400000</td>\n",
              "      <td>6.900000</td>\n",
              "      <td>2.500000</td>\n",
              "    </tr>\n",
              "  </tbody>\n",
              "</table>\n",
              "</div>"
            ],
            "text/plain": [
              "       sepal length (cm)  sepal width (cm)  petal length (cm)  petal width (cm)\n",
              "count         150.000000        150.000000         150.000000        150.000000\n",
              "mean            5.843333          3.057333           3.758000          1.199333\n",
              "std             0.828066          0.435866           1.765298          0.762238\n",
              "min             4.300000          2.000000           1.000000          0.100000\n",
              "25%             5.100000          2.800000           1.600000          0.300000\n",
              "50%             5.800000          3.000000           4.350000          1.300000\n",
              "75%             6.400000          3.300000           5.100000          1.800000\n",
              "max             7.900000          4.400000           6.900000          2.500000"
            ]
          },
          "metadata": {
            "tags": []
          },
          "execution_count": 19
        }
      ]
    },
    {
      "cell_type": "code",
      "metadata": {
        "colab": {
          "base_uri": "https://localhost:8080/",
          "height": 295
        },
        "id": "42w8wOAsEkyX",
        "outputId": "22cd4e57-34df-47ea-c267-488b229e4dbd"
      },
      "source": [
        "from sklearn.preprocessing import StandardScaler\n",
        "scaler = StandardScaler()\n",
        "iris_scaled = scaler.fit_transform(iris_df)\n",
        "iris_df_scaled = pd.DataFrame(data=iris_scaled, columns=iris.feature_names)\n",
        "iris_df_scaled.describe()\n"
      ],
      "execution_count": null,
      "outputs": [
        {
          "output_type": "execute_result",
          "data": {
            "text/html": [
              "<div>\n",
              "<style scoped>\n",
              "    .dataframe tbody tr th:only-of-type {\n",
              "        vertical-align: middle;\n",
              "    }\n",
              "\n",
              "    .dataframe tbody tr th {\n",
              "        vertical-align: top;\n",
              "    }\n",
              "\n",
              "    .dataframe thead th {\n",
              "        text-align: right;\n",
              "    }\n",
              "</style>\n",
              "<table border=\"1\" class=\"dataframe\">\n",
              "  <thead>\n",
              "    <tr style=\"text-align: right;\">\n",
              "      <th></th>\n",
              "      <th>sepal length (cm)</th>\n",
              "      <th>sepal width (cm)</th>\n",
              "      <th>petal length (cm)</th>\n",
              "      <th>petal width (cm)</th>\n",
              "    </tr>\n",
              "  </thead>\n",
              "  <tbody>\n",
              "    <tr>\n",
              "      <th>count</th>\n",
              "      <td>1.500000e+02</td>\n",
              "      <td>1.500000e+02</td>\n",
              "      <td>1.500000e+02</td>\n",
              "      <td>1.500000e+02</td>\n",
              "    </tr>\n",
              "    <tr>\n",
              "      <th>mean</th>\n",
              "      <td>-1.690315e-15</td>\n",
              "      <td>-1.842970e-15</td>\n",
              "      <td>-1.698641e-15</td>\n",
              "      <td>-1.409243e-15</td>\n",
              "    </tr>\n",
              "    <tr>\n",
              "      <th>std</th>\n",
              "      <td>1.003350e+00</td>\n",
              "      <td>1.003350e+00</td>\n",
              "      <td>1.003350e+00</td>\n",
              "      <td>1.003350e+00</td>\n",
              "    </tr>\n",
              "    <tr>\n",
              "      <th>min</th>\n",
              "      <td>-1.870024e+00</td>\n",
              "      <td>-2.433947e+00</td>\n",
              "      <td>-1.567576e+00</td>\n",
              "      <td>-1.447076e+00</td>\n",
              "    </tr>\n",
              "    <tr>\n",
              "      <th>25%</th>\n",
              "      <td>-9.006812e-01</td>\n",
              "      <td>-5.923730e-01</td>\n",
              "      <td>-1.226552e+00</td>\n",
              "      <td>-1.183812e+00</td>\n",
              "    </tr>\n",
              "    <tr>\n",
              "      <th>50%</th>\n",
              "      <td>-5.250608e-02</td>\n",
              "      <td>-1.319795e-01</td>\n",
              "      <td>3.364776e-01</td>\n",
              "      <td>1.325097e-01</td>\n",
              "    </tr>\n",
              "    <tr>\n",
              "      <th>75%</th>\n",
              "      <td>6.745011e-01</td>\n",
              "      <td>5.586108e-01</td>\n",
              "      <td>7.627583e-01</td>\n",
              "      <td>7.906707e-01</td>\n",
              "    </tr>\n",
              "    <tr>\n",
              "      <th>max</th>\n",
              "      <td>2.492019e+00</td>\n",
              "      <td>3.090775e+00</td>\n",
              "      <td>1.785832e+00</td>\n",
              "      <td>1.712096e+00</td>\n",
              "    </tr>\n",
              "  </tbody>\n",
              "</table>\n",
              "</div>"
            ],
            "text/plain": [
              "       sepal length (cm)  sepal width (cm)  petal length (cm)  petal width (cm)\n",
              "count       1.500000e+02      1.500000e+02       1.500000e+02      1.500000e+02\n",
              "mean       -1.690315e-15     -1.842970e-15      -1.698641e-15     -1.409243e-15\n",
              "std         1.003350e+00      1.003350e+00       1.003350e+00      1.003350e+00\n",
              "min        -1.870024e+00     -2.433947e+00      -1.567576e+00     -1.447076e+00\n",
              "25%        -9.006812e-01     -5.923730e-01      -1.226552e+00     -1.183812e+00\n",
              "50%        -5.250608e-02     -1.319795e-01       3.364776e-01      1.325097e-01\n",
              "75%         6.745011e-01      5.586108e-01       7.627583e-01      7.906707e-01\n",
              "max         2.492019e+00      3.090775e+00       1.785832e+00      1.712096e+00"
            ]
          },
          "metadata": {
            "tags": []
          },
          "execution_count": 21
        }
      ]
    },
    {
      "cell_type": "code",
      "metadata": {
        "colab": {
          "base_uri": "https://localhost:8080/"
        },
        "id": "c-Rp4UlQIO4t",
        "outputId": "3b1108d6-2ad7-4963-d7f1-1de348477ea7"
      },
      "source": [
        "X_train, X_test, y_train, y_test = train_test_split(iris_df_scaled, iris.target, test_size=0.3)\n",
        "model = LogisticRegression()\n",
        "model.fit(X_train, y_train)\n",
        "print(\"훈련 데이터 점수: {}\".format(model.score(X_train,y_train)))\n",
        "print(\"평가 데이터 점수: {}\".format(model.score(X_test,y_test)))"
      ],
      "execution_count": null,
      "outputs": [
        {
          "output_type": "stream",
          "text": [
            "훈련 데이터 점수: 0.9619047619047619\n",
            "평가 데이터 점수: 0.9555555555555556\n"
          ],
          "name": "stdout"
        }
      ]
    },
    {
      "cell_type": "code",
      "metadata": {
        "colab": {
          "base_uri": "https://localhost:8080/",
          "height": 295
        },
        "id": "1Iz2tsPnItJC",
        "outputId": "e797f5a6-cc3f-444f-c4b7-9e041ec55951"
      },
      "source": [
        "from sklearn.preprocessing import MinMaxScaler\n",
        "scaler = MinMaxScaler()\n",
        "iris_scaled = scaler.fit_transform(iris_df)\n",
        "iris_df_scaled = pd.DataFrame(data=iris_scaled, columns=iris.feature_names)\n",
        "iris_df_scaled.describe()"
      ],
      "execution_count": null,
      "outputs": [
        {
          "output_type": "execute_result",
          "data": {
            "text/html": [
              "<div>\n",
              "<style scoped>\n",
              "    .dataframe tbody tr th:only-of-type {\n",
              "        vertical-align: middle;\n",
              "    }\n",
              "\n",
              "    .dataframe tbody tr th {\n",
              "        vertical-align: top;\n",
              "    }\n",
              "\n",
              "    .dataframe thead th {\n",
              "        text-align: right;\n",
              "    }\n",
              "</style>\n",
              "<table border=\"1\" class=\"dataframe\">\n",
              "  <thead>\n",
              "    <tr style=\"text-align: right;\">\n",
              "      <th></th>\n",
              "      <th>sepal length (cm)</th>\n",
              "      <th>sepal width (cm)</th>\n",
              "      <th>petal length (cm)</th>\n",
              "      <th>petal width (cm)</th>\n",
              "    </tr>\n",
              "  </thead>\n",
              "  <tbody>\n",
              "    <tr>\n",
              "      <th>count</th>\n",
              "      <td>150.000000</td>\n",
              "      <td>150.000000</td>\n",
              "      <td>150.000000</td>\n",
              "      <td>150.000000</td>\n",
              "    </tr>\n",
              "    <tr>\n",
              "      <th>mean</th>\n",
              "      <td>0.428704</td>\n",
              "      <td>0.440556</td>\n",
              "      <td>0.467458</td>\n",
              "      <td>0.458056</td>\n",
              "    </tr>\n",
              "    <tr>\n",
              "      <th>std</th>\n",
              "      <td>0.230018</td>\n",
              "      <td>0.181611</td>\n",
              "      <td>0.299203</td>\n",
              "      <td>0.317599</td>\n",
              "    </tr>\n",
              "    <tr>\n",
              "      <th>min</th>\n",
              "      <td>0.000000</td>\n",
              "      <td>0.000000</td>\n",
              "      <td>0.000000</td>\n",
              "      <td>0.000000</td>\n",
              "    </tr>\n",
              "    <tr>\n",
              "      <th>25%</th>\n",
              "      <td>0.222222</td>\n",
              "      <td>0.333333</td>\n",
              "      <td>0.101695</td>\n",
              "      <td>0.083333</td>\n",
              "    </tr>\n",
              "    <tr>\n",
              "      <th>50%</th>\n",
              "      <td>0.416667</td>\n",
              "      <td>0.416667</td>\n",
              "      <td>0.567797</td>\n",
              "      <td>0.500000</td>\n",
              "    </tr>\n",
              "    <tr>\n",
              "      <th>75%</th>\n",
              "      <td>0.583333</td>\n",
              "      <td>0.541667</td>\n",
              "      <td>0.694915</td>\n",
              "      <td>0.708333</td>\n",
              "    </tr>\n",
              "    <tr>\n",
              "      <th>max</th>\n",
              "      <td>1.000000</td>\n",
              "      <td>1.000000</td>\n",
              "      <td>1.000000</td>\n",
              "      <td>1.000000</td>\n",
              "    </tr>\n",
              "  </tbody>\n",
              "</table>\n",
              "</div>"
            ],
            "text/plain": [
              "       sepal length (cm)  sepal width (cm)  petal length (cm)  petal width (cm)\n",
              "count         150.000000        150.000000         150.000000        150.000000\n",
              "mean            0.428704          0.440556           0.467458          0.458056\n",
              "std             0.230018          0.181611           0.299203          0.317599\n",
              "min             0.000000          0.000000           0.000000          0.000000\n",
              "25%             0.222222          0.333333           0.101695          0.083333\n",
              "50%             0.416667          0.416667           0.567797          0.500000\n",
              "75%             0.583333          0.541667           0.694915          0.708333\n",
              "max             1.000000          1.000000           1.000000          1.000000"
            ]
          },
          "metadata": {
            "tags": []
          },
          "execution_count": 23
        }
      ]
    },
    {
      "cell_type": "code",
      "metadata": {
        "colab": {
          "base_uri": "https://localhost:8080/"
        },
        "id": "VKzwaNlOJGGY",
        "outputId": "baae1670-eb2b-4b44-9b94-4cc3d93552ea"
      },
      "source": [
        "X_train, X_test, y_train, y_test = train_test_split(iris_df_scaled, iris.target, test_size=0.3)\n",
        "\n",
        "model = LogisticRegression()\n",
        "model.fit(X_train,y_train)ㅠ\n",
        "\n",
        "print(\"훈련 데이터 점수: {}\".format(model.score(X_train, y_train)))\n",
        "print(\"평가 데이터 점수: {}\".format(model.score(X_test, y_test)))"
      ],
      "execution_count": null,
      "outputs": [
        {
          "output_type": "stream",
          "text": [
            "훈련 데이터 점수: 0.9428571428571428\n",
            "평가 데이터 점수: 0.9555555555555556\n"
          ],
          "name": "stdout"
        }
      ]
    },
    {
      "cell_type": "code",
      "metadata": {
        "colab": {
          "base_uri": "https://localhost:8080/"
        },
        "id": "B7qDI300LMxj",
        "outputId": "f54f1498-c914-499c-ad6e-8f7b4f1ce022"
      },
      "source": [
        "from sklearn.datasets import make_classification\n",
        "from sklearn.linear_model import LogisticRegression\n",
        "from sklearn.metrics import accuracy_score\n",
        "\n",
        "X,y = make_classification(n_samples=1000, n_features=2, n_informative=2,\n",
        "                          n_redundant=0, n_clusters_per_class=1)\n",
        "\n",
        "X_train, X_test, y_train, y_test = train_test_split(X,y, test_size=0.3)\n",
        "model = LogisticRegression()\n",
        "model.fit(X_train, y_train)\n",
        "\n",
        "print(\"훈련 데이터 점수: {}\".format(model.score(X_train, y_train)))\n",
        "print(\"평가 데이터 점수: {}\".format(model.score(X_test, y_test)) )\n",
        "\n",
        "predict = model.predict(X_test)\n",
        "print(\"정확도: {}\".format(accuracy_score(y_test, predict)))"
      ],
      "execution_count": null,
      "outputs": [
        {
          "output_type": "stream",
          "text": [
            "훈련 데이터 점수: 0.94\n",
            "평가 데이터 점수: 0.9533333333333334\n",
            "정확도: 0.9533333333333334\n"
          ],
          "name": "stdout"
        }
      ]
    },
    {
      "cell_type": "code",
      "metadata": {
        "colab": {
          "base_uri": "https://localhost:8080/"
        },
        "id": "6tcI8q6hNRez",
        "outputId": "27d2a30c-1fc9-47e3-ea85-bf97e67de850"
      },
      "source": [
        "from sklearn.metrics import confusion_matrix\n",
        "\n",
        "confmat = confusion_matrix(y_true=y_test, y_pred=predict)\n",
        "print(confmat)"
      ],
      "execution_count": null,
      "outputs": [
        {
          "output_type": "stream",
          "text": [
            "[[157   4]\n",
            " [ 10 129]]\n"
          ],
          "name": "stdout"
        }
      ]
    },
    {
      "cell_type": "code",
      "metadata": {
        "colab": {
          "base_uri": "https://localhost:8080/",
          "height": 189
        },
        "id": "wUy5JgmHOX9g",
        "outputId": "3d079975-584e-4341-c066-d5aef921d72b"
      },
      "source": [
        "fig, ax = plt.subplots(figsize=(2.5,2.5))\n",
        "ax.matshow(confmat, cmap=plt.cm.Blues, alpha=0.3)\n",
        "for i in range(confmat.shape[0]):\n",
        "  for j in range(confmat.shape[1]):\n",
        "    ax.text(x=j, y=i, s=confmat[i,j], va='center', ha='center')\n",
        "plt.xlabel('Predicted label')\n",
        "plt.ylabel('True label')\n",
        "plt.tight_layout()\n",
        "plt.show()\n",
        "#TN FP\n",
        "#FN TP\n"
      ],
      "execution_count": null,
      "outputs": [
        {
          "output_type": "display_data",
          "data": {
            "image/png": "[encoded data removed]",
            "text/plain": [
              "<Figure size 180x180 with 1 Axes>"
            ]
          },
          "metadata": {
            "tags": []
          }
        }
      ]
    },
    {
      "cell_type": "code",
      "metadata": {
        "colab": {
          "base_uri": "https://localhost:8080/"
        },
        "id": "XryKrqyyQHVk",
        "outputId": "c2cd093f-fbe6-44d5-d619-be5d3b7351c8"
      },
      "source": [
        "from sklearn.metrics import precision_score, recall_score\n",
        "precision = precision_score(y_test, predict)\n",
        "recall = recall_score(y_test, predict)\n",
        "\n",
        "print(\"정밀도: {}\".format(precision))\n",
        "print(\"재현율: {}\".format(recall))"
      ],
      "execution_count": null,
      "outputs": [
        {
          "output_type": "stream",
          "text": [
            "정밀도: 0.9699248120300752\n",
            "재현율: 0.9280575539568345\n"
          ],
          "name": "stdout"
        }
      ]
    },
    {
      "cell_type": "code",
      "metadata": {
        "colab": {
          "base_uri": "https://localhost:8080/"
        },
        "id": "IzLmiMimbYYk",
        "outputId": "64f91d36-2536-44b9-947a-d250a84f1267"
      },
      "source": [
        "from sklearn.metrics import f1_score\n",
        "f1 = f1_score(y_test, predict)\n",
        "\n",
        "print(\"F1 Score: {}\".format(f1))"
      ],
      "execution_count": null,
      "outputs": [
        {
          "output_type": "stream",
          "text": [
            "F1 Score: 0.9485294117647058\n"
          ],
          "name": "stdout"
        }
      ]
    },
    {
      "cell_type": "code",
      "metadata": {
        "colab": {
          "base_uri": "https://localhost:8080/",
          "height": 298
        },
        "id": "XNVsXVnZbhlS",
        "outputId": "c70df97a-38df-4fa4-e3ab-4b682fa7a0cb"
      },
      "source": [
        "from sklearn.metrics import roc_curve\n",
        "pred_proba_class1 = model.predict_proba(X_test)[:,1]\n",
        "fprs, tprs, threshold = roc_curve(y_test, pred_proba_class1)\n",
        "\n",
        "plt.plot(fprs, tprs, label='ROC')\n",
        "plt.plot([0,1], [0,1], '--k', label='Random')\n",
        "start, end = plt.xlim()\n",
        "plt.xticks(np.round(np.arange(start, end, 0.1),2))\n",
        "plt.xlim(0,1)\n",
        "plt.ylim(0,1)\n",
        "plt.xlabel('FPR(1-TNR)(Sensitivity)')\n",
        "plt.ylabel('TPR(Recall)')\n",
        "plt.legend()"
      ],
      "execution_count": null,
      "outputs": [
        {
          "output_type": "execute_result",
          "data": {
            "text/plain": [
              "<matplotlib.legend.Legend at 0x7fb0f1379f10>"
            ]
          },
          "metadata": {
            "tags": []
          },
          "execution_count": 38
        },
        {
          "output_type": "display_data",
          "data": {
            "image/png": "[encoded data removed]",
            "text/plain": [
              "<Figure size 432x288 with 1 Axes>"
            ]
          },
          "metadata": {
            "tags": []
          }
        }
      ]
    },
    {
      "cell_type": "code",
      "metadata": {
        "colab": {
          "base_uri": "https://localhost:8080/"
        },
        "id": "Z3Q05GyMdORf",
        "outputId": "df187ae1-8d22-4a47-9d3d-eff8f15517da"
      },
      "source": [
        "from sklearn.metrics import roc_auc_score\n",
        "roc_auc = roc_auc_score(y_test, predict)\n",
        "print(\"ROC AUC Score: {}\".format(roc_auc))"
      ],
      "execution_count": null,
      "outputs": [
        {
          "output_type": "stream",
          "text": [
            "ROC AUC Score: 0.95160641672997\n"
          ],
          "name": "stdout"
        }
      ]
    }
  ]
}